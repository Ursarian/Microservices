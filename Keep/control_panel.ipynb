{
 "cells": [
  {
   "cell_type": "markdown",
   "id": "fdda6239",
   "metadata": {},
   "source": [
    "# **I. KUBERNETES RESOURCE**"
   ]
  },
  {
   "cell_type": "markdown",
   "id": "bf167768",
   "metadata": {},
   "source": [
    "## **1. Resource Inspection**"
   ]
  },
  {
   "cell_type": "markdown",
   "id": "46353267",
   "metadata": {},
   "source": [
    "### *1.1. Default*"
   ]
  },
  {
   "cell_type": "code",
   "execution_count": 133,
   "id": "dad6afab",
   "metadata": {
    "vscode": {
     "languageId": "bat"
    }
   },
   "outputs": [
    {
     "name": "stdout",
     "output_type": "stream",
     "text": [
      "---Pods---\n"
     ]
    },
    {
     "name": "stdout",
     "output_type": "stream",
     "text": [
      "NAME                                                     READY   STATUS    RESTARTS       AGE   IP           NODE             NOMINATED NODE   READINESS GATES\n",
      "alertmanager-monitoring-kube-prometheus-alertmanager-0   2/2     Running   9 (71m ago)    21h   10.1.0.190   docker-desktop   <none>           <none>\n",
      "monitoring-grafana-944547fdc-5c2cd                       3/3     Running   13 (71m ago)   19h   10.1.0.186   docker-desktop   <none>           <none>\n",
      "monitoring-kube-prometheus-operator-74b5f54dbf-2kj7g     1/1     Running   10 (69m ago)   21h   10.1.0.175   docker-desktop   <none>           <none>\n",
      "monitoring-kube-state-metrics-585b45df98-lf89j           1/1     Running   8 (71m ago)    21h   10.1.0.178   docker-desktop   <none>           <none>\n",
      "prometheus-monitoring-kube-prometheus-prometheus-0       2/2     Running   9 (71m ago)    21h   10.1.0.189   docker-desktop   <none>           <none>\n",
      "---Services---\n",
      "NAME                                      TYPE        CLUSTER-IP       EXTERNAL-IP   PORT(S)                      AGE   SELECTOR\n",
      "alertmanager-operated                     ClusterIP   None             <none>        9093/TCP,9094/TCP,9094/UDP   21h   app.kubernetes.io/name=alertmanager\n",
      "kubernetes                                ClusterIP   10.96.0.1        <none>        443/TCP                      45h   <none>\n",
      "monitoring-grafana                        ClusterIP   10.97.102.3      <none>        80/TCP                       21h   app.kubernetes.io/instance=monitoring,app.kubernetes.io/name=grafana\n",
      "monitoring-kube-prometheus-alertmanager   ClusterIP   10.96.148.136    <none>        9093/TCP,8080/TCP            21h   alertmanager=monitoring-kube-prometheus-alertmanager,app.kubernetes.io/name=alertmanager\n",
      "monitoring-kube-prometheus-operator       ClusterIP   10.101.137.204   <none>        443/TCP                      21h   app=kube-prometheus-stack-operator,release=monitoring\n",
      "monitoring-kube-prometheus-prometheus     ClusterIP   10.108.115.180   <none>        9090/TCP,8080/TCP            21h   app.kubernetes.io/name=prometheus,operator.prometheus.io/name=monitoring-kube-prometheus-prometheus\n",
      "monitoring-kube-state-metrics             ClusterIP   10.101.153.177   <none>        8080/TCP                     21h   app.kubernetes.io/instance=monitoring,app.kubernetes.io/name=kube-state-metrics\n",
      "prometheus-operated                       ClusterIP   None             <none>        9090/TCP                     21h   app.kubernetes.io/name=prometheus\n",
      "---PVC---\n"
     ]
    },
    {
     "name": "stderr",
     "output_type": "stream",
     "text": [
      "No resources found in default namespace.\n"
     ]
    }
   ],
   "source": [
    "# Display all Kubernetes resources in the default namespace\n",
    "namespace = \"default\"\n",
    "!echo ---Pods---\n",
    "!kubectl get pods -o wide -n {namespace}\n",
    "!echo ---Services---\n",
    "!kubectl get svc -o wide -n {namespace}\n",
    "!echo ---PVC---\n",
    "!kubectl get pvc -o wide -n {namespace}"
   ]
  },
  {
   "cell_type": "code",
   "execution_count": 84,
   "id": "5c5f7c3c",
   "metadata": {
    "vscode": {
     "languageId": "bat"
    }
   },
   "outputs": [
    {
     "name": "stdout",
     "output_type": "stream",
     "text": [
      "---Config Maps---\n"
     ]
    },
    {
     "name": "stdout",
     "output_type": "stream",
     "text": [
      "NAME                                                           DATA   AGE\n",
      "kube-root-ca.crt                                               1      44h\n",
      "monitoring-grafana                                             1      20h\n",
      "monitoring-grafana-config-dashboards                           1      20h\n",
      "monitoring-kube-prometheus-alertmanager-overview               1      20h\n",
      "monitoring-kube-prometheus-apiserver                           1      20h\n",
      "monitoring-kube-prometheus-cluster-total                       1      20h\n",
      "monitoring-kube-prometheus-controller-manager                  1      20h\n",
      "monitoring-kube-prometheus-etcd                                1      20h\n",
      "monitoring-kube-prometheus-grafana-datasource                  1      20h\n",
      "monitoring-kube-prometheus-grafana-overview                    1      20h\n",
      "monitoring-kube-prometheus-k8s-coredns                         1      20h\n",
      "monitoring-kube-prometheus-k8s-resources-cluster               1      20h\n",
      "monitoring-kube-prometheus-k8s-resources-multicluster          1      20h\n",
      "monitoring-kube-prometheus-k8s-resources-namespace             1      20h\n",
      "monitoring-kube-prometheus-k8s-resources-node                  1      20h\n",
      "monitoring-kube-prometheus-k8s-resources-pod                   1      20h\n",
      "monitoring-kube-prometheus-k8s-resources-workload              1      20h\n",
      "monitoring-kube-prometheus-k8s-resources-workloads-namespace   1      20h\n",
      "monitoring-kube-prometheus-kubelet                             1      20h\n",
      "monitoring-kube-prometheus-namespace-by-pod                    1      20h\n",
      "monitoring-kube-prometheus-namespace-by-workload               1      20h\n",
      "monitoring-kube-prometheus-persistentvolumesusage              1      20h\n",
      "monitoring-kube-prometheus-pod-total                           1      20h\n",
      "monitoring-kube-prometheus-prometheus                          1      20h\n",
      "monitoring-kube-prometheus-proxy                               1      20h\n",
      "monitoring-kube-prometheus-scheduler                           1      20h\n",
      "monitoring-kube-prometheus-workload-total                      1      20h\n",
      "prometheus-monitoring-kube-prometheus-prometheus-rulefiles-0   35     20h\n",
      "---Secrets---\n",
      "NAME                                                                                  TYPE                 DATA   AGE\n",
      "alertmanager-monitoring-kube-prometheus-alertmanager                                  Opaque               1      20h\n",
      "alertmanager-monitoring-kube-prometheus-alertmanager-cluster-tls-config               Opaque               1      20h\n",
      "alertmanager-monitoring-kube-prometheus-alertmanager-generated                        Opaque               1      20h\n",
      "alertmanager-monitoring-kube-prometheus-alertmanager-tls-assets-0                     Opaque               0      20h\n",
      "alertmanager-monitoring-kube-prometheus-alertmanager-web-config                       Opaque               1      20h\n",
      "monitoring-grafana                                                                    Opaque               3      20h\n",
      "monitoring-kube-prometheus-admission                                                  Opaque               3      20h\n",
      "prometheus-monitoring-kube-prometheus-prometheus                                      Opaque               1      20h\n",
      "prometheus-monitoring-kube-prometheus-prometheus-thanos-prometheus-http-client-file   Opaque               1      20h\n",
      "prometheus-monitoring-kube-prometheus-prometheus-tls-assets-0                         Opaque               1      20h\n",
      "prometheus-monitoring-kube-prometheus-prometheus-web-config                           Opaque               1      20h\n",
      "sh.helm.release.v1.monitoring.v1                                                      helm.sh/release.v1   1      20h\n"
     ]
    }
   ],
   "source": [
    "# Display all config maps and secrets in the default namespace\n",
    "namespace = \"default\"\n",
    "!echo ---Config Maps---\n",
    "!kubectl get configmap -n {namespace}\n",
    "!echo ---Secrets---\n",
    "!kubectl get secret -n {namespace}"
   ]
  },
  {
   "cell_type": "markdown",
   "id": "ae57fc64",
   "metadata": {},
   "source": [
    "### *1.2. My Services*"
   ]
  },
  {
   "cell_type": "code",
   "execution_count": 194,
   "id": "66ad2970",
   "metadata": {
    "vscode": {
     "languageId": "bat"
    }
   },
   "outputs": [
    {
     "name": "stdout",
     "output_type": "stream",
     "text": [
      "---Pods---\n",
      "NAME                                 READY   STATUS    RESTARTS   AGE    IP           NODE             NOMINATED NODE   READINESS GATES\n",
      "product-service-7bddd5f79c-88r6v     1/1     Running   0          4m7s   10.1.0.216   docker-desktop   <none>           <none>\n",
      "product-service-db-98d6fb46d-xx97n   1/1     Running   0          4m7s   10.1.0.215   docker-desktop   <none>           <none>\n",
      "user-service-bd464cd9d-9bnq8         1/1     Running   0          32s    10.1.0.219   docker-desktop   <none>           <none>\n",
      "user-service-db-6c74f9b896-d5c4m     1/1     Running   0          33s    10.1.0.218   docker-desktop   <none>           <none>\n",
      "web-interface-7c494cc897-ftrqg       1/1     Running   0          54s    10.1.0.217   docker-desktop   <none>           <none>\n",
      "---Services---\n",
      "NAME                 TYPE        CLUSTER-IP       EXTERNAL-IP   PORT(S)           AGE    SELECTOR\n",
      "product-service      ClusterIP   10.101.185.128   <none>        3001/TCP          4m7s   app.kubernetes.io/name=product-service\n",
      "product-service-db   NodePort    10.104.176.254   <none>        27017:32018/TCP   4m7s   app.kubernetes.io/name=product-service-db\n",
      "user-service         ClusterIP   10.107.164.15    <none>        3000/TCP          32s    app.kubernetes.io/name=user-service\n",
      "user-service-db      NodePort    10.106.96.101    <none>        27017:32017/TCP   33s    app.kubernetes.io/name=user-service-db\n",
      "web-interface        ClusterIP   10.105.202.161   <none>        80/TCP            58s    app.kubernetes.io/name=web-interface\n",
      "---PVC---\n",
      "NAME                     STATUS   VOLUME                                     CAPACITY   ACCESS MODES   STORAGECLASS   VOLUMEATTRIBUTESCLASS   AGE   VOLUMEMODE\n",
      "product-service-db-pvc   Bound    pvc-6468e0db-5d34-4139-aae6-66e15c670830   100Mi      RWO            hostpath       <unset>                 11h   Filesystem\n",
      "user-service-db-pvc      Bound    pvc-5af0d55a-eb31-4ca5-8db4-ac47e9c0c939   100Mi      RWO            hostpath       <unset>                 11h   Filesystem\n"
     ]
    }
   ],
   "source": [
    "# Display Kubernetes resources in the my-services namespace\n",
    "namespace = \"my-services\"\n",
    "!echo ---Pods---\n",
    "!kubectl get pods -o wide -n {namespace}\n",
    "!echo ---Services---\n",
    "!kubectl get svc -o wide -n {namespace}\n",
    "!echo ---PVC---\n",
    "!kubectl get pvc -o wide -n {namespace}"
   ]
  },
  {
   "cell_type": "code",
   "execution_count": 85,
   "id": "419008b6",
   "metadata": {
    "vscode": {
     "languageId": "bat"
    }
   },
   "outputs": [
    {
     "name": "stdout",
     "output_type": "stream",
     "text": [
      "---Config Maps---\n",
      "NAME                     DATA   AGE\n",
      "error-codes              22     3m10s\n",
      "kube-root-ca.crt         1      6h1m\n",
      "product-service-config   2      3m10s\n",
      "user-service-config      3      3m10s\n",
      "web-interface-config     3      3m10s\n",
      "---Secrets---\n",
      "NAME                     TYPE     DATA   AGE\n",
      "product-service-secret   Opaque   0      25m\n",
      "user-service-secret      Opaque   1      25m\n",
      "web-interface-secret     Opaque   0      25m\n"
     ]
    }
   ],
   "source": [
    "# Display all config maps and secrets in the my-services namespace\n",
    "namespace = \"my-services\"\n",
    "!echo ---Config Maps---\n",
    "!kubectl get configmap -n {namespace}\n",
    "!echo ---Secrets---\n",
    "!kubectl get secret -n {namespace}"
   ]
  },
  {
   "cell_type": "code",
   "execution_count": 86,
   "id": "07caa1fb",
   "metadata": {
    "vscode": {
     "languageId": "bat"
    }
   },
   "outputs": [
    {
     "name": "stdout",
     "output_type": "stream",
     "text": [
      "---Ingress Configuration Details---\n"
     ]
    },
    {
     "name": "stderr",
     "output_type": "stream",
     "text": [
      "Error from server (NotFound): ingresses.networking.k8s.io \"ingress-configuration\" not found\n"
     ]
    }
   ],
   "source": [
    "# Display Ingress configuration details in the my-services namespace\n",
    "namespace = \"my-services\"\n",
    "!echo ---Ingress Configuration Details---\n",
    "!kubectl describe ingress ingress-configuration -n {namespace}"
   ]
  },
  {
   "cell_type": "markdown",
   "id": "3623c065",
   "metadata": {
    "vscode": {
     "languageId": "bat"
    }
   },
   "source": [
    "#### *Logs and Debug*"
   ]
  },
  {
   "cell_type": "code",
   "execution_count": 195,
   "id": "82f2de5f",
   "metadata": {
    "vscode": {
     "languageId": "bat"
    }
   },
   "outputs": [
    {
     "name": "stdout",
     "output_type": "stream",
     "text": [
      "---Logs for user-service-bd464cd9d-9bnq8---\n",
      "\n",
      "> user-service@1.0.0 start\n",
      "> node src/index.js\n",
      "\n",
      "[dotenv@17.2.0] injecting env (0) from .env (tip: ⚙️  specify custom .env file path with { path: '/custom/path/.env' })\n",
      "{\"level\":\"info\",\"service\":\"user-service\",\"message\":\"Connected to MongoDB\",\"timestamp\":\"2025-07-24T02:09:56.899Z\"}\n",
      "User service running on port 3000\n",
      "---Previous logs for user-service-bd464cd9d-9bnq8---\n"
     ]
    },
    {
     "name": "stderr",
     "output_type": "stream",
     "text": [
      "Error from server (BadRequest): previous terminated container \"user-service\" in pod \"user-service-bd464cd9d-9bnq8\" not found\n"
     ]
    }
   ],
   "source": [
    "# Display logs for user-service pods in the my-services namespace\n",
    "import subprocess\n",
    "\n",
    "label = \"user-service\"\n",
    "namespace = \"my-services\"\n",
    "command = f\"kubectl get pods -l app.kubernetes.io/name={label} -n {namespace} -o custom-columns=NAME:.metadata.name --no-headers\"\n",
    "\n",
    "pod = subprocess.check_output(command, shell=True, text=True).strip()\n",
    "\n",
    "!echo ---Logs for {pod}---\n",
    "!kubectl logs {pod} -n {namespace}\n",
    "!echo ---Previous logs for {pod}---\n",
    "!kubectl logs {pod} -n {namespace} --previous"
   ]
  },
  {
   "cell_type": "code",
   "execution_count": null,
   "id": "a5269ca8",
   "metadata": {
    "vscode": {
     "languageId": "bat"
    }
   },
   "outputs": [],
   "source": [
    "# Display logs for user-service-db pods in the my-services namespace\n",
    "import subprocess\n",
    "\n",
    "label = \"user-service-db\"\n",
    "namespace = \"my-services\"\n",
    "command = f\"kubectl get pods -l app.kubernetes.io/name={label} -n {namespace} -o custom-columns=NAME:.metadata.name --no-headers\"\n",
    "\n",
    "pod = subprocess.check_output(command, shell=True, text=True).strip()\n",
    "\n",
    "!echo ---Logs for {pod}---\n",
    "!kubectl logs {pod} -n {namespace}\n",
    "!echo ---Previous logs for {pod}---\n",
    "!kubectl logs {pod} -n {namespace} --previous"
   ]
  },
  {
   "cell_type": "code",
   "execution_count": 214,
   "id": "cfc893e7",
   "metadata": {
    "vscode": {
     "languageId": "bat"
    }
   },
   "outputs": [
    {
     "name": "stdout",
     "output_type": "stream",
     "text": [
      "---Logs for product-service-7bddd5f79c-cm57r---\n",
      "\n",
      "> product-service@1.0.0 start\n",
      "> node src/index.js\n",
      "\n",
      "[dotenv@17.2.0] injecting env (0) from .env (tip: 🔐 prevent building .env in docker: https://dotenvx.com/prebuild)\n",
      "{\"level\":\"info\",\"service\":\"product-service\",\"message\":\"Connected to MongoDB\",\"timestamp\":\"2025-07-24T02:21:27.700Z\"}\n",
      "Product service running on port 3001\n",
      "{\"level\":\"info\",\"service\":\"product-service\",\"message\":\"Fetched all products\",\"timestamp\":\"2025-07-24T02:22:05.830Z\",\"count\":5}\n",
      "{\"level\":\"info\",\"service\":\"product-service\",\"message\":\"Product updated\",\"timestamp\":\"2025-07-24T02:22:11.156Z\",\"productId\":\"6880fd7c2704b53b4402ccbc\"}\n",
      "---Previous logs for product-service-7bddd5f79c-cm57r---\n"
     ]
    },
    {
     "name": "stderr",
     "output_type": "stream",
     "text": [
      "Error from server (BadRequest): previous terminated container \"product-service\" in pod \"product-service-7bddd5f79c-cm57r\" not found\n"
     ]
    }
   ],
   "source": [
    "# Display logs for product-service pods in the my-services namespace\n",
    "import subprocess\n",
    "\n",
    "label = \"product-service\"\n",
    "namespace = \"my-services\"\n",
    "command = f\"kubectl get pods -l app.kubernetes.io/name={label} -n {namespace} -o custom-columns=NAME:.metadata.name --no-headers\"\n",
    "\n",
    "pod = subprocess.check_output(command, shell=True, text=True).strip()\n",
    "\n",
    "!echo ---Logs for {pod}---\n",
    "!kubectl logs {pod} -n {namespace}\n",
    "!echo ---Previous logs for {pod}---\n",
    "!kubectl logs {pod} -n {namespace} --previous"
   ]
  },
  {
   "cell_type": "code",
   "execution_count": 205,
   "id": "06c3b5ed",
   "metadata": {
    "vscode": {
     "languageId": "bat"
    }
   },
   "outputs": [
    {
     "name": "stdout",
     "output_type": "stream",
     "text": [
      "---Logs for product-service-db-98d6fb46d-xx97n---\n",
      "{\"t\":{\"$date\":\"2025-07-24T02:05:53.183+00:00\"},\"s\":\"I\",  \"c\":\"CONTROL\",  \"id\":23285,   \"ctx\":\"main\",\"msg\":\"Automatically disabling TLS 1.0, to force-enable TLS 1.0 specify --sslDisabledProtocols 'none'\"}\n",
      "{\"t\":{\"$date\":\"2025-07-24T02:05:53.251+00:00\"},\"s\":\"I\",  \"c\":\"CONTROL\",  \"id\":5945603, \"ctx\":\"main\",\"msg\":\"Multi threading initialized\"}\n",
      "{\"t\":{\"$date\":\"2025-07-24T02:05:53.278+00:00\"},\"s\":\"I\",  \"c\":\"NETWORK\",  \"id\":4648601, \"ctx\":\"main\",\"msg\":\"Implicit TCP FastOpen unavailable. If TCP FastOpen is required, set at least one of the related parameters\",\"attr\":{\"relatedParameters\":[\"tcpFastOpenServer\",\"tcpFastOpenClient\",\"tcpFastOpenQueueSize\"]}}\n",
      "{\"t\":{\"$date\":\"2025-07-24T02:05:53.356+00:00\"},\"s\":\"I\",  \"c\":\"NETWORK\",  \"id\":4915701, \"ctx\":\"main\",\"msg\":\"Initialized wire specification\",\"attr\":{\"spec\":{\"incomingExternalClient\":{\"minWireVersion\":0,\"maxWireVersion\":25},\"incomingInternalClient\":{\"minWireVersion\":0,\"maxWireVersion\":25},\"outgoing\":{\"minWireVersion\":6,\"maxWireVersion\":25},\"isInternalClient\":true}}}\n",
      "{\"t\":{\"$date\":\"2025-07-24T02:05:53.408+00:00\"},\"s\":\"I\",  \"c\":\"TENANT_M\", \"id\":7091600, \"ctx\":\"main\",\"msg\":\"Starting TenantMigrationAccessBlockerRegistry\"}\n",
      "{\"t\":{\"$date\":\"2025-07-24T02:05:53.410+00:00\"},\"s\":\"I\",  \"c\":\"CONTROL\",  \"id\":4615611, \"ctx\":\"initandlisten\",\"msg\":\"MongoDB starting\",\"attr\":{\"pid\":1,\"port\":27017,\"dbPath\":\"/data/db\",\"architecture\":\"64-bit\",\"host\":\"product-service-db-98d6fb46d-xx97n\"}}\n",
      "{\"t\":{\"$date\":\"2025-07-24T02:05:53.410+00:00\"},\"s\":\"I\",  \"c\":\"CONTROL\",  \"id\":23403,   \"ctx\":\"initandlisten\",\"msg\":\"Build Info\",\"attr\":{\"buildInfo\":{\"version\":\"8.0.12\",\"gitVersion\":\"b60fc6875b5fb4b63cc0dbbd8dda0d6d6277921a\",\"openSSLVersion\":\"OpenSSL 3.0.13 30 Jan 2024\",\"modules\":[],\"allocator\":\"tcmalloc-google\",\"environment\":{\"distmod\":\"ubuntu2404\",\"distarch\":\"x86_64\",\"target_arch\":\"x86_64\"}}}}\n",
      "{\"t\":{\"$date\":\"2025-07-24T02:05:53.410+00:00\"},\"s\":\"I\",  \"c\":\"CONTROL\",  \"id\":51765,   \"ctx\":\"initandlisten\",\"msg\":\"Operating System\",\"attr\":{\"os\":{\"name\":\"Ubuntu\",\"version\":\"24.04\"}}}\n",
      "{\"t\":{\"$date\":\"2025-07-24T02:05:53.410+00:00\"},\"s\":\"I\",  \"c\":\"CONTROL\",  \"id\":21951,   \"ctx\":\"initandlisten\",\"msg\":\"Options set by command line\",\"attr\":{\"options\":{\"net\":{\"bindIp\":\"*\"}}}}\n",
      "{\"t\":{\"$date\":\"2025-07-24T02:05:53.977+00:00\"},\"s\":\"I\",  \"c\":\"STORAGE\",  \"id\":22270,   \"ctx\":\"initandlisten\",\"msg\":\"Storage engine to use detected by data files\",\"attr\":{\"dbpath\":\"/data/db\",\"storageEngine\":\"wiredTiger\"}}\n",
      "{\"t\":{\"$date\":\"2025-07-24T02:05:53.981+00:00\"},\"s\":\"I\",  \"c\":\"STORAGE\",  \"id\":22297,   \"ctx\":\"initandlisten\",\"msg\":\"Using the XFS filesystem is strongly recommended with the WiredTiger storage engine. See http://dochub.mongodb.org/core/prodnotes-filesystem\",\"tags\":[\"startupWarnings\"]}\n",
      "{\"t\":{\"$date\":\"2025-07-24T02:05:54.003+00:00\"},\"s\":\"I\",  \"c\":\"STORAGE\",  \"id\":22315,   \"ctx\":\"initandlisten\",\"msg\":\"Opening WiredTiger\",\"attr\":{\"config\":\"create,cache_size=1445M,session_max=33000,eviction=(threads_min=4,threads_max=4),config_base=false,statistics=(fast),log=(enabled=true,remove=true,path=journal,compressor=snappy),builtin_extension_config=(zstd=(compression_level=6)),file_manager=(close_idle_time=600,close_scan_interval=10,close_handle_minimum=2000),statistics_log=(wait=0),json_output=(error,message),verbose=[recovery_progress:1,checkpoint_progress:1,compact_progress:1,backup:0,checkpoint:0,compact:0,evict:0,history_store:0,recovery:0,rts:0,salvage:0,tiered:0,timestamp:0,transaction:0,verify:0,log:0],prefetch=(available=true,default=false),\"}}\n",
      "{\"t\":{\"$date\":\"2025-07-24T02:05:58.974+00:00\"},\"s\":\"I\",  \"c\":\"WTRECOV\",  \"id\":22430,   \"ctx\":\"initandlisten\",\"msg\":\"WiredTiger message\",\"attr\":{\"message\":{\"ts_sec\":1753322758,\"ts_usec\":963968,\"thread\":\"1:0x78ad637d3680\",\"session_name\":\"txn-recover\",\"category\":\"WT_VERB_RECOVERY_PROGRESS\",\"category_id\":34,\"verbose_level\":\"DEBUG_1\",\"verbose_level_id\":1,\"msg\":\"Recovering log 7 through 8\"}}}\n",
      "{\"t\":{\"$date\":\"2025-07-24T02:06:15.675+00:00\"},\"s\":\"I\",  \"c\":\"WTRECOV\",  \"id\":22430,   \"ctx\":\"initandlisten\",\"msg\":\"WiredTiger message\",\"attr\":{\"message\":{\"ts_sec\":1753322775,\"ts_usec\":667608,\"thread\":\"1:0x78ad637d3680\",\"session_name\":\"txn-recover\",\"category\":\"WT_VERB_RECOVERY_PROGRESS\",\"category_id\":34,\"verbose_level\":\"DEBUG_1\",\"verbose_level_id\":1,\"msg\":\"Recovering log 8 through 8\"}}}\n",
      "{\"t\":{\"$date\":\"2025-07-24T02:06:28.968+00:00\"},\"s\":\"I\",  \"c\":\"WTRECOV\",  \"id\":22430,   \"ctx\":\"initandlisten\",\"msg\":\"WiredTiger message\",\"attr\":{\"message\":{\"ts_sec\":1753322788,\"ts_usec\":953814,\"thread\":\"1:0x78ad637d3680\",\"session_name\":\"txn-recover\",\"category\":\"WT_VERB_RECOVERY_PROGRESS\",\"category_id\":34,\"verbose_level\":\"DEBUG_1\",\"verbose_level_id\":1,\"msg\":\"Main recovery loop: starting at 7/6144 to 8/256\"}}}\n",
      "{\"t\":{\"$date\":\"2025-07-24T02:06:31.118+00:00\"},\"s\":\"I\",  \"c\":\"WTRECOV\",  \"id\":22430,   \"ctx\":\"initandlisten\",\"msg\":\"WiredTiger message\",\"attr\":{\"message\":{\"ts_sec\":1753322791,\"ts_usec\":118174,\"thread\":\"1:0x78ad637d3680\",\"session_name\":\"txn-recover\",\"category\":\"WT_VERB_RECOVERY_PROGRESS\",\"category_id\":34,\"verbose_level\":\"DEBUG_1\",\"verbose_level_id\":1,\"msg\":\"Recovering log 7 through 8\"}}}\n",
      "{\"t\":{\"$date\":\"2025-07-24T02:06:31.368+00:00\"},\"s\":\"I\",  \"c\":\"WTRECOV\",  \"id\":22430,   \"ctx\":\"initandlisten\",\"msg\":\"WiredTiger message\",\"attr\":{\"message\":{\"ts_sec\":1753322791,\"ts_usec\":367896,\"thread\":\"1:0x78ad637d3680\",\"session_name\":\"txn-recover\",\"category\":\"WT_VERB_RECOVERY_PROGRESS\",\"category_id\":34,\"verbose_level\":\"DEBUG_1\",\"verbose_level_id\":1,\"msg\":\"Recovering log 8 through 8\"}}}\n",
      "{\"t\":{\"$date\":\"2025-07-24T02:06:31.520+00:00\"},\"s\":\"I\",  \"c\":\"WTRECOV\",  \"id\":22430,   \"ctx\":\"initandlisten\",\"msg\":\"WiredTiger message\",\"attr\":{\"message\":{\"ts_sec\":1753322791,\"ts_usec\":520066,\"thread\":\"1:0x78ad637d3680\",\"session_name\":\"txn-recover\",\"category\":\"WT_VERB_RECOVERY_PROGRESS\",\"category_id\":34,\"verbose_level\":\"DEBUG_1\",\"verbose_level_id\":1,\"msg\":\"recovery log replay has successfully finished and ran for 32562 milliseconds\"}}}\n",
      "{\"t\":{\"$date\":\"2025-07-24T02:06:31.520+00:00\"},\"s\":\"I\",  \"c\":\"WTRECOV\",  \"id\":22430,   \"ctx\":\"initandlisten\",\"msg\":\"WiredTiger message\",\"attr\":{\"message\":{\"ts_sec\":1753322791,\"ts_usec\":520604,\"thread\":\"1:0x78ad637d3680\",\"session_name\":\"txn-recover\",\"category\":\"WT_VERB_RECOVERY_PROGRESS\",\"category_id\":34,\"verbose_level\":\"DEBUG_1\",\"verbose_level_id\":1,\"msg\":\"Set global recovery timestamp: (0, 0)\"}}}\n",
      "{\"t\":{\"$date\":\"2025-07-24T02:06:31.520+00:00\"},\"s\":\"I\",  \"c\":\"WTRECOV\",  \"id\":22430,   \"ctx\":\"initandlisten\",\"msg\":\"WiredTiger message\",\"attr\":{\"message\":{\"ts_sec\":1753322791,\"ts_usec\":520696,\"thread\":\"1:0x78ad637d3680\",\"session_name\":\"txn-recover\",\"category\":\"WT_VERB_RECOVERY_PROGRESS\",\"category_id\":34,\"verbose_level\":\"DEBUG_1\",\"verbose_level_id\":1,\"msg\":\"Set global oldest timestamp: (0, 0)\"}}}\n",
      "{\"t\":{\"$date\":\"2025-07-24T02:06:31.557+00:00\"},\"s\":\"I\",  \"c\":\"WTRECOV\",  \"id\":22430,   \"ctx\":\"initandlisten\",\"msg\":\"WiredTiger message\",\"attr\":{\"message\":{\"ts_sec\":1753322791,\"ts_usec\":557121,\"thread\":\"1:0x78ad637d3680\",\"session_name\":\"txn-recover\",\"category\":\"WT_VERB_RECOVERY_PROGRESS\",\"category_id\":34,\"verbose_level\":\"DEBUG_1\",\"verbose_level_id\":1,\"msg\":\"recovery rollback to stable has successfully finished and ran for 36 milliseconds\"}}}\n",
      "{\"t\":{\"$date\":\"2025-07-24T02:06:31.635+00:00\"},\"s\":\"I\",  \"c\":\"WTCHKPT\",  \"id\":22430,   \"ctx\":\"initandlisten\",\"msg\":\"WiredTiger message\",\"attr\":{\"message\":{\"ts_sec\":1753322791,\"ts_usec\":635669,\"thread\":\"1:0x78ad637d3680\",\"session_name\":\"WT_SESSION.checkpoint\",\"category\":\"WT_VERB_CHECKPOINT_PROGRESS\",\"category_id\":7,\"verbose_level\":\"DEBUG_1\",\"verbose_level_id\":1,\"msg\":\"saving checkpoint snapshot min: 1, snapshot max: 1 snapshot count: 0, oldest timestamp: (0, 0) , meta checkpoint timestamp: (0, 0) base write gen: 1995\"}}}\n",
      "{\"t\":{\"$date\":\"2025-07-24T02:06:31.757+00:00\"},\"s\":\"I\",  \"c\":\"WTRECOV\",  \"id\":22430,   \"ctx\":\"initandlisten\",\"msg\":\"WiredTiger message\",\"attr\":{\"message\":{\"ts_sec\":1753322791,\"ts_usec\":757357,\"thread\":\"1:0x78ad637d3680\",\"session_name\":\"txn-recover\",\"category\":\"WT_VERB_RECOVERY_PROGRESS\",\"category_id\":34,\"verbose_level\":\"DEBUG_1\",\"verbose_level_id\":1,\"msg\":\"recovery checkpoint has successfully finished and ran for 172 milliseconds\"}}}\n",
      "{\"t\":{\"$date\":\"2025-07-24T02:06:31.759+00:00\"},\"s\":\"I\",  \"c\":\"WTRECOV\",  \"id\":22430,   \"ctx\":\"initandlisten\",\"msg\":\"WiredTiger message\",\"attr\":{\"message\":{\"ts_sec\":1753322791,\"ts_usec\":758862,\"thread\":\"1:0x78ad637d3680\",\"session_name\":\"txn-recover\",\"category\":\"WT_VERB_RECOVERY_PROGRESS\",\"category_id\":34,\"verbose_level\":\"DEBUG_1\",\"verbose_level_id\":1,\"msg\":\"recovery was completed successfully and took 32801ms, including 32562ms for the log replay, 36ms for the rollback to stable, and 172ms for the checkpoint.\"}}}\n",
      "{\"t\":{\"$date\":\"2025-07-24T02:06:31.851+00:00\"},\"s\":\"I\",  \"c\":\"STORAGE\",  \"id\":4795906, \"ctx\":\"initandlisten\",\"msg\":\"WiredTiger opened\",\"attr\":{\"durationMillis\":37847}}\n",
      "{\"t\":{\"$date\":\"2025-07-24T02:06:31.858+00:00\"},\"s\":\"I\",  \"c\":\"RECOVERY\", \"id\":23987,   \"ctx\":\"initandlisten\",\"msg\":\"WiredTiger recoveryTimestamp\",\"attr\":{\"recoveryTimestamp\":{\"$timestamp\":{\"t\":0,\"i\":0}}}}\n",
      "{\"t\":{\"$date\":\"2025-07-24T02:06:31.937+00:00\"},\"s\":\"I\",  \"c\":\"STORAGE\",  \"id\":9529901, \"ctx\":\"initandlisten\",\"msg\":\"Initializing durable catalog\",\"attr\":{\"numRecords\":4}}\n",
      "{\"t\":{\"$date\":\"2025-07-24T02:06:31.977+00:00\"},\"s\":\"I\",  \"c\":\"STORAGE\",  \"id\":9529902, \"ctx\":\"initandlisten\",\"msg\":\"Retrieving all idents from storage engine\"}\n",
      "{\"t\":{\"$date\":\"2025-07-24T02:06:31.987+00:00\"},\"s\":\"I\",  \"c\":\"STORAGE\",  \"id\":9529903, \"ctx\":\"initandlisten\",\"msg\":\"Initializing all collections in durable catalog\",\"attr\":{\"numEntries\":4}}\n",
      "{\"t\":{\"$date\":\"2025-07-24T02:06:32.045+00:00\"},\"s\":\"W\",  \"c\":\"CONTROL\",  \"id\":22120,   \"ctx\":\"initandlisten\",\"msg\":\"Access control is not enabled for the database. Read and write access to data and configuration is unrestricted\",\"tags\":[\"startupWarnings\"]}\n",
      "{\"t\":{\"$date\":\"2025-07-24T02:06:32.052+00:00\"},\"s\":\"W\",  \"c\":\"CONTROL\",  \"id\":9068900, \"ctx\":\"initandlisten\",\"msg\":\"For customers running the current memory allocator, we suggest changing the contents of the following sysfsFile\",\"attr\":{\"allocator\":\"tcmalloc-google\",\"sysfsFile\":\"/sys/kernel/mm/transparent_hugepage/enabled\",\"currentValue\":\"never\",\"desiredValue\":\"always\"},\"tags\":[\"startupWarnings\"]}\n",
      "{\"t\":{\"$date\":\"2025-07-24T02:06:32.053+00:00\"},\"s\":\"W\",  \"c\":\"CONTROL\",  \"id\":9068900, \"ctx\":\"initandlisten\",\"msg\":\"For customers running the current memory allocator, we suggest changing the contents of the following sysfsFile\",\"attr\":{\"allocator\":\"tcmalloc-google\",\"sysfsFile\":\"/sys/kernel/mm/transparent_hugepage/defrag\",\"currentValue\":\"madvise\",\"desiredValue\":\"defer+madvise\"},\"tags\":[\"startupWarnings\"]}\n",
      "{\"t\":{\"$date\":\"2025-07-24T02:06:32.053+00:00\"},\"s\":\"W\",  \"c\":\"CONTROL\",  \"id\":8640302, \"ctx\":\"initandlisten\",\"msg\":\"We suggest setting the contents of sysfsFile to 0.\",\"attr\":{\"sysfsFile\":\"/sys/kernel/mm/transparent_hugepage/khugepaged/max_ptes_none\",\"currentValue\":511},\"tags\":[\"startupWarnings\"]}\n",
      "{\"t\":{\"$date\":\"2025-07-24T02:06:32.053+00:00\"},\"s\":\"W\",  \"c\":\"NETWORK\",  \"id\":5123300, \"ctx\":\"initandlisten\",\"msg\":\"vm.max_map_count is too low\",\"attr\":{\"currentValue\":262144,\"recommendedMinimum\":1677720,\"maxConns\":838860},\"tags\":[\"startupWarnings\"]}\n",
      "{\"t\":{\"$date\":\"2025-07-24T02:06:32.053+00:00\"},\"s\":\"W\",  \"c\":\"CONTROL\",  \"id\":8386700, \"ctx\":\"initandlisten\",\"msg\":\"We suggest setting swappiness to 0 or 1, as swapping can cause performance problems.\",\"attr\":{\"sysfsFile\":\"/proc/sys/vm/swappiness\",\"currentValue\":60},\"tags\":[\"startupWarnings\"]}\n",
      "{\"t\":{\"$date\":\"2025-07-24T02:06:32.177+00:00\"},\"s\":\"I\",  \"c\":\"NETWORK\",  \"id\":4915702, \"ctx\":\"initandlisten\",\"msg\":\"Updated wire specification\",\"attr\":{\"oldSpec\":{\"incomingExternalClient\":{\"minWireVersion\":0,\"maxWireVersion\":25},\"incomingInternalClient\":{\"minWireVersion\":0,\"maxWireVersion\":25},\"outgoing\":{\"minWireVersion\":6,\"maxWireVersion\":25},\"isInternalClient\":true},\"newSpec\":{\"incomingExternalClient\":{\"minWireVersion\":0,\"maxWireVersion\":25},\"incomingInternalClient\":{\"minWireVersion\":25,\"maxWireVersion\":25},\"outgoing\":{\"minWireVersion\":25,\"maxWireVersion\":25},\"isInternalClient\":true}}}\n",
      "{\"t\":{\"$date\":\"2025-07-24T02:06:32.177+00:00\"},\"s\":\"I\",  \"c\":\"REPL\",     \"id\":5853300, \"ctx\":\"initandlisten\",\"msg\":\"current featureCompatibilityVersion value\",\"attr\":{\"featureCompatibilityVersion\":\"8.0\",\"context\":\"startup\"}}\n",
      "{\"t\":{\"$date\":\"2025-07-24T02:06:32.181+00:00\"},\"s\":\"I\",  \"c\":\"STORAGE\",  \"id\":5071100, \"ctx\":\"initandlisten\",\"msg\":\"Clearing temp directory\"}\n",
      "{\"t\":{\"$date\":\"2025-07-24T02:06:32.205+00:00\"},\"s\":\"I\",  \"c\":\"CONTROL\",  \"id\":6608200, \"ctx\":\"initandlisten\",\"msg\":\"Initializing cluster server parameters from disk\"}\n",
      "{\"t\":{\"$date\":\"2025-07-24T02:06:32.205+00:00\"},\"s\":\"I\",  \"c\":\"CONTROL\",  \"id\":20536,   \"ctx\":\"initandlisten\",\"msg\":\"Flow Control is enabled on this deployment\"}\n",
      "{\"t\":{\"$date\":\"2025-07-24T02:06:32.253+00:00\"},\"s\":\"I\",  \"c\":\"FTDC\",     \"id\":20625,   \"ctx\":\"initandlisten\",\"msg\":\"Initializing full-time diagnostic data capture\",\"attr\":{\"dataDirectory\":\"/data/db/diagnostic.data\"}}\n",
      "{\"t\":{\"$date\":\"2025-07-24T02:06:32.439+00:00\"},\"s\":\"I\",  \"c\":\"REPL\",     \"id\":6015317, \"ctx\":\"initandlisten\",\"msg\":\"Setting new configuration state\",\"attr\":{\"newState\":\"ConfigReplicationDisabled\",\"oldState\":\"ConfigPreStart\"}}\n",
      "{\"t\":{\"$date\":\"2025-07-24T02:06:32.439+00:00\"},\"s\":\"I\",  \"c\":\"STORAGE\",  \"id\":22262,   \"ctx\":\"initandlisten\",\"msg\":\"Timestamp monitor starting\"}\n",
      "{\"t\":{\"$date\":\"2025-07-24T02:06:32.441+00:00\"},\"s\":\"I\",  \"c\":\"STORAGE\",  \"id\":7333401, \"ctx\":\"initandlisten\",\"msg\":\"Starting the DiskSpaceMonitor\"}\n",
      "{\"t\":{\"$date\":\"2025-07-24T02:06:32.491+00:00\"},\"s\":\"I\",  \"c\":\"NETWORK\",  \"id\":23015,   \"ctx\":\"listener\",\"msg\":\"Listening on\",\"attr\":{\"address\":\"/tmp/mongodb-27017.sock\"}}\n",
      "{\"t\":{\"$date\":\"2025-07-24T02:06:32.492+00:00\"},\"s\":\"I\",  \"c\":\"NETWORK\",  \"id\":23015,   \"ctx\":\"listener\",\"msg\":\"Listening on\",\"attr\":{\"address\":\"0.0.0.0:27017\"}}\n",
      "{\"t\":{\"$date\":\"2025-07-24T02:06:32.492+00:00\"},\"s\":\"I\",  \"c\":\"NETWORK\",  \"id\":23016,   \"ctx\":\"listener\",\"msg\":\"Waiting for connections\",\"attr\":{\"port\":27017,\"ssl\":\"off\"}}\n",
      "{\"t\":{\"$date\":\"2025-07-24T02:06:32.492+00:00\"},\"s\":\"I\",  \"c\":\"CONTROL\",  \"id\":8423403, \"ctx\":\"initandlisten\",\"msg\":\"mongod startup complete\",\"attr\":{\"Summary of time elapsed\":{\"Startup from clean shutdown?\":true,\"Statistics\":{\"Set up periodic runner\":\"0 ms\",\"Set up online certificate status protocol manager\":\"0 ms\",\"Transport layer setup\":\"57 ms\",\"Run initial syncer crash recovery\":\"0 ms\",\"Create storage engine lock file in the data directory\":\"0 ms\",\"Get metadata describing storage engine\":\"0 ms\",\"Validate options in metadata against current startup options\":\"0 ms\",\"Create storage engine\":\"38022 ms\",\"Write current PID to file\":\"34 ms\",\"Initialize FCV before rebuilding indexes\":\"117 ms\",\"Drop abandoned idents and get back indexes that need to be rebuilt or builds that need to be restarted\":\"0 ms\",\"Rebuild indexes for collections\":\"0 ms\",\"Load cluster parameters from disk for a standalone\":\"0 ms\",\"Build user and roles graph\":\"1 ms\",\"Set up the background thread pool responsible for waiting for opTimes to be majority committed\":\"3 ms\",\"Start up the replication coordinator\":\"1 ms\",\"Ensure the change stream collections on startup contain consistent data\":\"0 ms\",\"Write startup options to the audit log\":\"0 ms\",\"Start transport layer\":\"17 ms\",\"_initAndListen total elapsed time\":\"39083 ms\"}}}}\n",
      "{\"t\":{\"$date\":\"2025-07-24T02:06:32.510+00:00\"},\"s\":\"I\",  \"c\":\"NETWORK\",  \"id\":22943,   \"ctx\":\"listener\",\"msg\":\"Connection accepted\",\"attr\":{\"remote\":\"10.1.0.216:38322\",\"isLoadBalanced\":false,\"uuid\":{\"uuid\":{\"$uuid\":\"30be194b-4b9c-4ca5-8049-ac64a303f63d\"}},\"connectionId\":1,\"connectionCount\":1}}\n",
      "{\"t\":{\"$date\":\"2025-07-24T02:06:32.698+00:00\"},\"s\":\"I\",  \"c\":\"NETWORK\",  \"id\":51800,   \"ctx\":\"conn1\",\"msg\":\"client metadata\",\"attr\":{\"remote\":\"10.1.0.216:38322\",\"client\":\"conn1\",\"negotiatedCompressors\":[],\"doc\":{\"driver\":{\"name\":\"nodejs|Mongoose\",\"version\":\"6.17.0|8.16.3\"},\"platform\":\"Node.js v18.20.8, LE\",\"os\":{\"name\":\"linux\",\"architecture\":\"x64\",\"version\":\"6.6.87.2-microsoft-standard-WSL2\",\"type\":\"Linux\"},\"env\":{\"container\":{\"runtime\":\"docker\",\"orchestrator\":\"kubernetes\"}}}}}\n",
      "{\"t\":{\"$date\":\"2025-07-24T02:06:33.102+00:00\"},\"s\":\"I\",  \"c\":\"NETWORK\",  \"id\":22943,   \"ctx\":\"listener\",\"msg\":\"Connection accepted\",\"attr\":{\"remote\":\"10.1.0.216:38330\",\"isLoadBalanced\":false,\"uuid\":{\"uuid\":{\"$uuid\":\"883ba989-fc98-451f-974f-9504b617e26f\"}},\"connectionId\":2,\"connectionCount\":2}}\n",
      "{\"t\":{\"$date\":\"2025-07-24T02:06:33.108+00:00\"},\"s\":\"I\",  \"c\":\"NETWORK\",  \"id\":51800,   \"ctx\":\"conn2\",\"msg\":\"client metadata\",\"attr\":{\"remote\":\"10.1.0.216:38330\",\"client\":\"conn2\",\"negotiatedCompressors\":[],\"doc\":{\"driver\":{\"name\":\"nodejs|Mongoose\",\"version\":\"6.17.0|8.16.3\"},\"platform\":\"Node.js v18.20.8, LE\",\"os\":{\"name\":\"linux\",\"architecture\":\"x64\",\"version\":\"6.6.87.2-microsoft-standard-WSL2\",\"type\":\"Linux\"},\"env\":{\"container\":{\"runtime\":\"docker\",\"orchestrator\":\"kubernetes\"}}}}}\n",
      "{\"t\":{\"$date\":\"2025-07-24T02:06:33.135+00:00\"},\"s\":\"W\",  \"c\":\"CONTROL\",  \"id\":636300,  \"ctx\":\"ftdc\",\"msg\":\"Use of deprecated server parameter name\",\"attr\":{\"deprecatedName\":\"internalQueryCacheSize\",\"canonicalName\":\"internalQueryCacheMaxEntriesPerCollection\"}}\n",
      "{\"t\":{\"$date\":\"2025-07-24T02:06:33.136+00:00\"},\"s\":\"W\",  \"c\":\"CONTROL\",  \"id\":636300,  \"ctx\":\"ftdc\",\"msg\":\"Use of deprecated server parameter name\",\"attr\":{\"deprecatedName\":\"oplogSamplingLogIntervalSeconds\",\"canonicalName\":\"collectionSamplingLogIntervalSeconds\"}}\n",
      "{\"t\":{\"$date\":\"2025-07-24T02:06:33.137+00:00\"},\"s\":\"W\",  \"c\":\"NETWORK\",  \"id\":23803,   \"ctx\":\"ftdc\",\"msg\":\"Use of deprecated server parameter 'sslMode', please use 'tlsMode' instead.\"}\n",
      "{\"t\":{\"$date\":\"2025-07-24T02:06:33.137+00:00\"},\"s\":\"W\",  \"c\":\"CONTROL\",  \"id\":636300,  \"ctx\":\"ftdc\",\"msg\":\"Use of deprecated server parameter name\",\"attr\":{\"deprecatedName\":\"wiredTigerConcurrentReadTransactions\",\"canonicalName\":\"storageEngineConcurrentReadTransactions\"}}\n",
      "{\"t\":{\"$date\":\"2025-07-24T02:06:33.137+00:00\"},\"s\":\"W\",  \"c\":\"CONTROL\",  \"id\":636300,  \"ctx\":\"ftdc\",\"msg\":\"Use of deprecated server parameter name\",\"attr\":{\"deprecatedName\":\"wiredTigerConcurrentWriteTransactions\",\"canonicalName\":\"storageEngineConcurrentWriteTransactions\"}}\n",
      "{\"t\":{\"$date\":\"2025-07-24T02:06:33.142+00:00\"},\"s\":\"I\",  \"c\":\"NETWORK\",  \"id\":6788700, \"ctx\":\"conn2\",\"msg\":\"Received first command on ingress connection since session start or auth handshake\",\"attr\":{\"elapsedMillis\":34}}\n",
      "{\"t\":{\"$date\":\"2025-07-24T02:06:33.496+00:00\"},\"s\":\"I\",  \"c\":\"NETWORK\",  \"id\":22943,   \"ctx\":\"listener\",\"msg\":\"Connection accepted\",\"attr\":{\"remote\":\"192.168.65.3:55210\",\"isLoadBalanced\":false,\"uuid\":{\"uuid\":{\"$uuid\":\"3d22265c-4940-4ab4-8766-1e74d87aeda7\"}},\"connectionId\":3,\"connectionCount\":3}}\n",
      "{\"t\":{\"$date\":\"2025-07-24T02:06:33.501+00:00\"},\"s\":\"I\",  \"c\":\"NETWORK\",  \"id\":51800,   \"ctx\":\"conn3\",\"msg\":\"client metadata\",\"attr\":{\"remote\":\"192.168.65.3:55210\",\"client\":\"conn3\",\"negotiatedCompressors\":[],\"doc\":{\"application\":{\"name\":\"MongoDB Compass\"},\"driver\":{\"name\":\"nodejs\",\"version\":\"6.17.0\"},\"platform\":\"Node.js v22.17.0, LE\",\"os\":{\"name\":\"win32\",\"architecture\":\"x64\",\"version\":\"10.0.26100\",\"type\":\"Windows_NT\"}}}}\n",
      "{\"t\":{\"$date\":\"2025-07-24T02:06:43.303+00:00\"},\"s\":\"I\",  \"c\":\"COMMAND\",  \"id\":20499,   \"ctx\":\"ftdc\",\"msg\":\"serverStatus was very slow\",\"attr\":{\"timeStats\":{\"after basic\":1,\"after asserts\":1,\"after batchedDeletes\":1,\"after bucketCatalog\":1,\"after catalogStats\":1,\"after changeCollections\":1,\"after changeStreamPreImages\":1,\"after collectionCatalog\":1,\"after connections\":1,\"after electionMetrics\":16,\"after extra_info\":31,\"after featureCompatibilityVersion\":31,\"after flowControl\":31,\"after globalLock\":31,\"after indexBuilds\":31,\"after indexBulkBuilder\":41,\"after indexStats\":82,\"after internalTransactions\":82,\"after locks\":87,\"after logicalSessionRecordCache\":87,\"after mirroredReads\":87,\"after network\":87,\"after opLatencies\":87,\"after opWorkingTime\":87,\"after opcounters\":87,\"after opcountersRepl\":87,\"after oplog\":94,\"after oplogTruncation\":94,\"after profiler\":94,\"after querySettings\":94,\"after queues\":104,\"after readConcernCounters\":104,\"after readPreferenceCounters\":104,\"after recoveryOplogApplier\":392,\"after repl\":392,\"after scramCache\":392,\"after security\":392,\"after shardSplits\":392,\"after storageEngine\":392,\"after tcmalloc\":476,\"after tenantMigrations\":476,\"after trafficRecording\":476,\"after transactions\":496,\"after transportSecurity\":496,\"after twoPhaseCommitCoordinator\":496,\"after wiredTiger\":809,\"at end\":1191}}}\n",
      "{\"t\":{\"$date\":\"2025-07-24T02:06:44.506+00:00\"},\"s\":\"I\",  \"c\":\"NETWORK\",  \"id\":22943,   \"ctx\":\"listener\",\"msg\":\"Connection accepted\",\"attr\":{\"remote\":\"192.168.65.3:49300\",\"isLoadBalanced\":false,\"uuid\":{\"uuid\":{\"$uuid\":\"bcf98311-642d-4f92-bdad-2fea1c406b1e\"}},\"connectionId\":4,\"connectionCount\":4}}\n",
      "{\"t\":{\"$date\":\"2025-07-24T02:06:44.622+00:00\"},\"s\":\"I\",  \"c\":\"NETWORK\",  \"id\":51800,   \"ctx\":\"conn4\",\"msg\":\"client metadata\",\"attr\":{\"remote\":\"192.168.65.3:49300\",\"client\":\"conn4\",\"negotiatedCompressors\":[],\"doc\":{\"application\":{\"name\":\"MongoDB Compass\"},\"driver\":{\"name\":\"nodejs\",\"version\":\"6.17.0\"},\"platform\":\"Node.js v22.17.0, LE\",\"os\":{\"name\":\"win32\",\"architecture\":\"x64\",\"version\":\"10.0.26100\",\"type\":\"Windows_NT\"}}}}\n",
      "{\"t\":{\"$date\":\"2025-07-24T02:06:44.655+00:00\"},\"s\":\"I\",  \"c\":\"NETWORK\",  \"id\":22943,   \"ctx\":\"listener\",\"msg\":\"Connection accepted\",\"attr\":{\"remote\":\"10.1.0.216:47474\",\"isLoadBalanced\":false,\"uuid\":{\"uuid\":{\"$uuid\":\"3884e219-e908-4909-bd80-e67cabe081ae\"}},\"connectionId\":5,\"connectionCount\":5}}\n",
      "{\"t\":{\"$date\":\"2025-07-24T02:06:44.925+00:00\"},\"s\":\"I\",  \"c\":\"NETWORK\",  \"id\":51800,   \"ctx\":\"conn5\",\"msg\":\"client metadata\",\"attr\":{\"remote\":\"10.1.0.216:47474\",\"client\":\"conn5\",\"negotiatedCompressors\":[],\"doc\":{\"driver\":{\"name\":\"nodejs|Mongoose\",\"version\":\"6.17.0|8.16.3\"},\"platform\":\"Node.js v18.20.8, LE\",\"os\":{\"name\":\"linux\",\"architecture\":\"x64\",\"version\":\"6.6.87.2-microsoft-standard-WSL2\",\"type\":\"Linux\"},\"env\":{\"container\":{\"runtime\":\"docker\",\"orchestrator\":\"kubernetes\"}}}}}\n",
      "{\"t\":{\"$date\":\"2025-07-24T02:07:32.098+00:00\"},\"s\":\"I\",  \"c\":\"WTCHKPT\",  \"id\":22430,   \"ctx\":\"Checkpointer\",\"msg\":\"WiredTiger message\",\"attr\":{\"message\":{\"ts_sec\":1753322852,\"ts_usec\":85439,\"thread\":\"1:0x78ad54f926c0\",\"session_name\":\"WT_SESSION.checkpoint\",\"category\":\"WT_VERB_CHECKPOINT_PROGRESS\",\"category_id\":7,\"verbose_level\":\"DEBUG_1\",\"verbose_level_id\":1,\"msg\":\"saving checkpoint snapshot min: 4, snapshot max: 4 snapshot count: 0, oldest timestamp: (0, 0) , meta checkpoint timestamp: (0, 0) base write gen: 1995\"}}}\n",
      "{\"t\":{\"$date\":\"2025-07-24T02:08:32.166+00:00\"},\"s\":\"I\",  \"c\":\"WTCHKPT\",  \"id\":22430,   \"ctx\":\"Checkpointer\",\"msg\":\"WiredTiger message\",\"attr\":{\"message\":{\"ts_sec\":1753322912,\"ts_usec\":161442,\"thread\":\"1:0x78ad54f926c0\",\"session_name\":\"WT_SESSION.checkpoint\",\"category\":\"WT_VERB_CHECKPOINT_PROGRESS\",\"category_id\":7,\"verbose_level\":\"DEBUG_1\",\"verbose_level_id\":1,\"msg\":\"saving checkpoint snapshot min: 5, snapshot max: 5 snapshot count: 0, oldest timestamp: (0, 0) , meta checkpoint timestamp: (0, 0) base write gen: 1995\"}}}\n",
      "{\"t\":{\"$date\":\"2025-07-24T02:08:45.088+00:00\"},\"s\":\"I\",  \"c\":\"COMMAND\",  \"id\":51803,   \"ctx\":\"conn1\",\"msg\":\"Slow query\",\"attr\":{\"type\":\"command\",\"isFromUserConnection\":true,\"ns\":\"admin.$cmd\",\"collectionType\":\"admin\",\"command\":{\"hello\":1,\"maxAwaitTimeMS\":10000,\"topologyVersion\":{\"processId\":{\"$oid\":\"68819501e7d04e711c9a3397\"},\"counter\":0},\"$db\":\"admin\"},\"numYields\":0,\"reslen\":313,\"locks\":{},\"cpuNanos\":17893900,\"remote\":\"10.1.0.216:38322\",\"protocol\":\"op_msg\",\"queues\":{\"ingress\":{\"admissions\":1},\"execution\":{}},\"workingMillis\":1239,\"durationMillis\":1239}}\n",
      "{\"t\":{\"$date\":\"2025-07-24T02:08:47.324+00:00\"},\"s\":\"I\",  \"c\":\"COMMAND\",  \"id\":51803,   \"ctx\":\"conn3\",\"msg\":\"Slow query\",\"attr\":{\"type\":\"command\",\"isFromUserConnection\":true,\"ns\":\"admin.$cmd\",\"collectionType\":\"admin\",\"appName\":\"MongoDB Compass\",\"command\":{\"hello\":1,\"maxAwaitTimeMS\":10000,\"topologyVersion\":{\"processId\":{\"$oid\":\"68819501e7d04e711c9a3397\"},\"counter\":0},\"$db\":\"admin\"},\"numYields\":0,\"reslen\":313,\"locks\":{},\"cpuNanos\":22082600,\"remote\":\"192.168.65.3:55210\",\"protocol\":\"op_msg\",\"queues\":{\"ingress\":{\"admissions\":1},\"execution\":{}},\"workingMillis\":664,\"durationMillis\":664}}\n",
      "{\"t\":{\"$date\":\"2025-07-24T02:08:53.610+00:00\"},\"s\":\"I\",  \"c\":\"COMMAND\",  \"id\":20499,   \"ctx\":\"ftdc\",\"msg\":\"serverStatus was very slow\",\"attr\":{\"timeStats\":{\"after basic\":0,\"after asserts\":0,\"after batchedDeletes\":0,\"after bucketCatalog\":0,\"after catalogStats\":0,\"after changeCollections\":0,\"after changeStreamPreImages\":30,\"after collectionCatalog\":30,\"after connections\":30,\"after electionMetrics\":30,\"after extra_info\":43,\"after featureCompatibilityVersion\":43,\"after flowControl\":58,\"after globalLock\":58,\"after indexBuilds\":58,\"after indexBulkBuilder\":58,\"after indexStats\":100,\"after internalTransactions\":100,\"after locks\":100,\"after logicalSessionRecordCache\":110,\"after mirroredReads\":110,\"after network\":110,\"after opLatencies\":110,\"after opWorkingTime\":110,\"after opcounters\":275,\"after opcountersRepl\":275,\"after oplog\":275,\"after oplogTruncation\":275,\"after profiler\":459,\"after querySettings\":469,\"after queues\":497,\"after readConcernCounters\":497,\"after readPreferenceCounters\":497,\"after recoveryOplogApplier\":497,\"after repl\":497,\"after scramCache\":497,\"after security\":497,\"after shardSplits\":497,\"after storageEngine\":508,\"after tcmalloc\":536,\"after tenantMigrations\":880,\"after trafficRecording\":880,\"after transactions\":880,\"after transportSecurity\":880,\"after twoPhaseCommitCoordinator\":880,\"after wiredTiger\":1954,\"at end\":2106}}}\n",
      "{\"t\":{\"$date\":\"2025-07-24T02:08:56.548+00:00\"},\"s\":\"I\",  \"c\":\"COMMAND\",  \"id\":20499,   \"ctx\":\"ftdc\",\"msg\":\"serverStatus was very slow\",\"attr\":{\"timeStats\":{\"after basic\":7,\"after asserts\":7,\"after batchedDeletes\":7,\"after bucketCatalog\":7,\"after catalogStats\":292,\"after changeCollections\":292,\"after changeStreamPreImages\":292,\"after collectionCatalog\":292,\"after connections\":292,\"after electionMetrics\":292,\"after extra_info\":292,\"after featureCompatibilityVersion\":292,\"after flowControl\":292,\"after globalLock\":292,\"after indexBuilds\":292,\"after indexBulkBuilder\":292,\"after indexStats\":292,\"after internalTransactions\":292,\"after locks\":292,\"after logicalSessionRecordCache\":292,\"after mirroredReads\":292,\"after network\":292,\"after opLatencies\":292,\"after opWorkingTime\":292,\"after opcounters\":292,\"after opcountersRepl\":292,\"after oplog\":292,\"after oplogTruncation\":292,\"after profiler\":292,\"after querySettings\":292,\"after queues\":292,\"after readConcernCounters\":292,\"after readPreferenceCounters\":292,\"after recoveryOplogApplier\":292,\"after repl\":292,\"after scramCache\":292,\"after security\":292,\"after shardSplits\":292,\"after storageEngine\":292,\"after tcmalloc\":292,\"after tenantMigrations\":292,\"after trafficRecording\":292,\"after transactions\":292,\"after transportSecurity\":292,\"after twoPhaseCommitCoordinator\":292,\"after wiredTiger\":736,\"at end\":1449}}}\n",
      "{\"t\":{\"$date\":\"2025-07-24T02:09:00.915+00:00\"},\"s\":\"I\",  \"c\":\"COMMAND\",  \"id\":51803,   \"ctx\":\"conn3\",\"msg\":\"Slow query\",\"attr\":{\"type\":\"command\",\"isFromUserConnection\":true,\"ns\":\"admin.$cmd\",\"collectionType\":\"admin\",\"appName\":\"MongoDB Compass\",\"command\":{\"hello\":1,\"maxAwaitTimeMS\":10000,\"topologyVersion\":{\"processId\":{\"$oid\":\"68819501e7d04e711c9a3397\"},\"counter\":0},\"$db\":\"admin\"},\"numYields\":0,\"reslen\":313,\"locks\":{},\"cpuNanos\":8133300,\"remote\":\"192.168.65.3:55210\",\"protocol\":\"op_msg\",\"queues\":{\"ingress\":{\"admissions\":1},\"execution\":{}},\"workingMillis\":266,\"durationMillis\":266}}\n",
      "{\"t\":{\"$date\":\"2025-07-24T02:09:11.695+00:00\"},\"s\":\"I\",  \"c\":\"COMMAND\",  \"id\":51803,   \"ctx\":\"conn3\",\"msg\":\"Slow query\",\"attr\":{\"type\":\"command\",\"isFromUserConnection\":true,\"ns\":\"admin.$cmd\",\"collectionType\":\"admin\",\"appName\":\"MongoDB Compass\",\"command\":{\"hello\":1,\"maxAwaitTimeMS\":10000,\"topologyVersion\":{\"processId\":{\"$oid\":\"68819501e7d04e711c9a3397\"},\"counter\":0},\"$db\":\"admin\"},\"numYields\":0,\"reslen\":313,\"locks\":{},\"cpuNanos\":21073800,\"remote\":\"192.168.65.3:55210\",\"protocol\":\"op_msg\",\"queues\":{\"ingress\":{\"admissions\":1},\"execution\":{}},\"workingMillis\":579,\"durationMillis\":579}}\n",
      "{\"t\":{\"$date\":\"2025-07-24T02:09:32.226+00:00\"},\"s\":\"I\",  \"c\":\"WTCHKPT\",  \"id\":22430,   \"ctx\":\"Checkpointer\",\"msg\":\"WiredTiger message\",\"attr\":{\"message\":{\"ts_sec\":1753322972,\"ts_usec\":219533,\"thread\":\"1:0x78ad54f926c0\",\"session_name\":\"WT_SESSION.checkpoint\",\"category\":\"WT_VERB_CHECKPOINT_PROGRESS\",\"category_id\":7,\"verbose_level\":\"DEBUG_1\",\"verbose_level_id\":1,\"msg\":\"saving checkpoint snapshot min: 6, snapshot max: 6 snapshot count: 0, oldest timestamp: (0, 0) , meta checkpoint timestamp: (0, 0) base write gen: 1995\"}}}\n",
      "{\"t\":{\"$date\":\"2025-07-24T02:09:46.883+00:00\"},\"s\":\"I\",  \"c\":\"COMMAND\",  \"id\":51803,   \"ctx\":\"conn2\",\"msg\":\"Slow query\",\"attr\":{\"type\":\"command\",\"isFromUserConnection\":true,\"ns\":\"productdb.products\",\"collectionType\":\"normal\",\"queryShapeHash\":\"DED0B57D430E6C1F7CE693BE3F2DE06EA8AC73A579F9F5880672D8DABE79D4DF\",\"command\":{\"find\":\"products\",\"filter\":{},\"lsid\":{\"id\":{\"$uuid\":\"2efae30f-2ec0-4fae-90fc-25bd998d25c1\"}},\"$db\":\"productdb\"},\"planSummary\":\"COLLSCAN\",\"planningTimeMicros\":71845,\"keysExamined\":0,\"docsExamined\":5,\"nBatches\":1,\"cursorExhausted\":true,\"numYields\":1,\"nreturned\":5,\"planCacheShapeHash\":\"8F2383EE\",\"queryHash\":\"8F2383EE\",\"planCacheKey\":\"7DF350EE\",\"queryFramework\":\"classic\",\"reslen\":681,\"locks\":{\"Global\":{\"acquireCount\":{\"r\":2}}},\"storage\":{\"data\":{\"bytesRead\":1290,\"timeReadingMicros\":39},\"timeWaitingMicros\":{\"schemaLock\":1}},\"cpuNanos\":90391700,\"remote\":\"10.1.0.216:38330\",\"protocol\":\"op_msg\",\"queues\":{\"ingress\":{\"admissions\":1},\"execution\":{\"admissions\":3}},\"workingMillis\":125,\"durationMillis\":125}}\n",
      "{\"t\":{\"$date\":\"2025-07-24T02:10:32.282+00:00\"},\"s\":\"I\",  \"c\":\"WTCHKPT\",  \"id\":22430,   \"ctx\":\"Checkpointer\",\"msg\":\"WiredTiger message\",\"attr\":{\"message\":{\"ts_sec\":1753323032,\"ts_usec\":281783,\"thread\":\"1:0x78ad54f926c0\",\"session_name\":\"WT_SESSION.checkpoint\",\"category\":\"WT_VERB_CHECKPOINT_PROGRESS\",\"category_id\":7,\"verbose_level\":\"DEBUG_1\",\"verbose_level_id\":1,\"msg\":\"saving checkpoint snapshot min: 8, snapshot max: 8 snapshot count: 0, oldest timestamp: (0, 0) , meta checkpoint timestamp: (0, 0) base write gen: 1995\"}}}\n",
      "{\"t\":{\"$date\":\"2025-07-24T02:11:10.087+00:00\"},\"s\":\"I\",  \"c\":\"COMMAND\",  \"id\":20499,   \"ctx\":\"ftdc\",\"msg\":\"serverStatus was very slow\",\"attr\":{\"timeStats\":{\"after basic\":1,\"after asserts\":1,\"after batchedDeletes\":1,\"after bucketCatalog\":1,\"after catalogStats\":1,\"after changeCollections\":1,\"after changeStreamPreImages\":1,\"after collectionCatalog\":1,\"after connections\":1,\"after electionMetrics\":1,\"after extra_info\":75,\"after featureCompatibilityVersion\":75,\"after flowControl\":75,\"after globalLock\":75,\"after indexBuilds\":75,\"after indexBulkBuilder\":75,\"after indexStats\":75,\"after internalTransactions\":75,\"after locks\":75,\"after logicalSessionRecordCache\":75,\"after mirroredReads\":75,\"after network\":75,\"after opLatencies\":75,\"after opWorkingTime\":75,\"after opcounters\":75,\"after opcountersRepl\":75,\"after oplog\":75,\"after oplogTruncation\":75,\"after profiler\":75,\"after querySettings\":75,\"after queues\":75,\"after readConcernCounters\":75,\"after readPreferenceCounters\":75,\"after recoveryOplogApplier\":75,\"after repl\":75,\"after scramCache\":75,\"after security\":75,\"after shardSplits\":75,\"after storageEngine\":75,\"after tcmalloc\":75,\"after tenantMigrations\":75,\"after trafficRecording\":223,\"after transactions\":223,\"after transportSecurity\":223,\"after twoPhaseCommitCoordinator\":223,\"after wiredTiger\":1041,\"at end\":1081}}}\n",
      "{\"t\":{\"$date\":\"2025-07-24T02:11:25.458+00:00\"},\"s\":\"I\",  \"c\":\"NETWORK\",  \"id\":22943,   \"ctx\":\"listener\",\"msg\":\"Connection accepted\",\"attr\":{\"remote\":\"192.168.65.3:51910\",\"isLoadBalanced\":false,\"uuid\":{\"uuid\":{\"$uuid\":\"2d2afbc1-a56c-40e7-a603-52e3fc4bb935\"}},\"connectionId\":6,\"connectionCount\":6}}\n",
      "{\"t\":{\"$date\":\"2025-07-24T02:11:25.465+00:00\"},\"s\":\"I\",  \"c\":\"NETWORK\",  \"id\":22943,   \"ctx\":\"listener\",\"msg\":\"Connection accepted\",\"attr\":{\"remote\":\"192.168.65.3:51924\",\"isLoadBalanced\":false,\"uuid\":{\"uuid\":{\"$uuid\":\"74f53c62-cb64-45a8-ad7d-3de08f697d27\"}},\"connectionId\":7,\"connectionCount\":7}}\n",
      "{\"t\":{\"$date\":\"2025-07-24T02:11:25.469+00:00\"},\"s\":\"I\",  \"c\":\"NETWORK\",  \"id\":51800,   \"ctx\":\"conn6\",\"msg\":\"client metadata\",\"attr\":{\"remote\":\"192.168.65.3:51910\",\"client\":\"conn6\",\"negotiatedCompressors\":[],\"doc\":{\"application\":{\"name\":\"MongoDB Compass\"},\"driver\":{\"name\":\"nodejs\",\"version\":\"6.17.0\"},\"platform\":\"Node.js v22.17.0, LE\",\"os\":{\"name\":\"win32\",\"architecture\":\"x64\",\"version\":\"10.0.26100\",\"type\":\"Windows_NT\"}}}}\n",
      "{\"t\":{\"$date\":\"2025-07-24T02:11:25.469+00:00\"},\"s\":\"I\",  \"c\":\"NETWORK\",  \"id\":51800,   \"ctx\":\"conn7\",\"msg\":\"client metadata\",\"attr\":{\"remote\":\"192.168.65.3:51924\",\"client\":\"conn7\",\"negotiatedCompressors\":[],\"doc\":{\"application\":{\"name\":\"MongoDB Compass\"},\"driver\":{\"name\":\"nodejs\",\"version\":\"6.17.0\"},\"platform\":\"Node.js v22.17.0, LE\",\"os\":{\"name\":\"win32\",\"architecture\":\"x64\",\"version\":\"10.0.26100\",\"type\":\"Windows_NT\"}}}}\n",
      "{\"t\":{\"$date\":\"2025-07-24T02:11:25.480+00:00\"},\"s\":\"I\",  \"c\":\"NETWORK\",  \"id\":6788700, \"ctx\":\"conn7\",\"msg\":\"Received first command on ingress connection since session start or auth handshake\",\"attr\":{\"elapsedMillis\":10}}\n",
      "{\"t\":{\"$date\":\"2025-07-24T02:11:25.488+00:00\"},\"s\":\"I\",  \"c\":\"NETWORK\",  \"id\":22943,   \"ctx\":\"listener\",\"msg\":\"Connection accepted\",\"attr\":{\"remote\":\"192.168.65.3:51930\",\"isLoadBalanced\":false,\"uuid\":{\"uuid\":{\"$uuid\":\"0f14c066-37b1-4a43-93b0-69905e8f9a5c\"}},\"connectionId\":8,\"connectionCount\":8}}\n",
      "{\"t\":{\"$date\":\"2025-07-24T02:11:25.492+00:00\"},\"s\":\"I\",  \"c\":\"NETWORK\",  \"id\":51800,   \"ctx\":\"conn8\",\"msg\":\"client metadata\",\"attr\":{\"remote\":\"192.168.65.3:51930\",\"client\":\"conn8\",\"negotiatedCompressors\":[],\"doc\":{\"application\":{\"name\":\"MongoDB Compass\"},\"driver\":{\"name\":\"nodejs\",\"version\":\"6.17.0\"},\"platform\":\"Node.js v22.17.0, LE\",\"os\":{\"name\":\"win32\",\"architecture\":\"x64\",\"version\":\"10.0.26100\",\"type\":\"Windows_NT\"}}}}\n",
      "{\"t\":{\"$date\":\"2025-07-24T02:11:25.500+00:00\"},\"s\":\"I\",  \"c\":\"NETWORK\",  \"id\":6788700, \"ctx\":\"conn6\",\"msg\":\"Received first command on ingress connection since session start or auth handshake\",\"attr\":{\"elapsedMillis\":31}}\n",
      "{\"t\":{\"$date\":\"2025-07-24T02:11:25.503+00:00\"},\"s\":\"I\",  \"c\":\"NETWORK\",  \"id\":6788700, \"ctx\":\"conn8\",\"msg\":\"Received first command on ingress connection since session start or auth handshake\",\"attr\":{\"elapsedMillis\":11}}\n",
      "{\"t\":{\"$date\":\"2025-07-24T02:11:25.808+00:00\"},\"s\":\"I\",  \"c\":\"COMMAND\",  \"id\":51803,   \"ctx\":\"conn6\",\"msg\":\"Slow query\",\"attr\":{\"type\":\"command\",\"isFromUserConnection\":true,\"ns\":\"productdb.products\",\"collectionType\":\"normal\",\"appName\":\"MongoDB Compass\",\"queryShapeHash\":\"D101BBA47FA243CFE646A60A58BD894864840531A9AC4ABDF08540131E893749\",\"command\":{\"aggregate\":\"products\",\"pipeline\":[{\"$match\":{}},{\"$count\":\"count\"}],\"hint\":\"_id_\",\"cursor\":{},\"maxTimeMS\":5000,\"lsid\":{\"id\":{\"$uuid\":\"75392859-653d-4ea6-9b40-c5fd2e92ffa3\"}},\"$db\":\"productdb\"},\"planSummary\":\"COUNT_SCAN { _id: 1 }\",\"planningTimeMicros\":208280,\"keysExamined\":5,\"docsExamined\":0,\"cursorExhausted\":true,\"numYields\":1,\"nreturned\":1,\"planCacheShapeHash\":\"B3956D95\",\"queryHash\":\"B3956D95\",\"planCacheKey\":\"E66D7B71\",\"queryFramework\":\"sbe\",\"reslen\":126,\"locks\":{\"Global\":{\"acquireCount\":{\"r\":3}}},\"storage\":{},\"cpuNanos\":246772000,\"remote\":\"192.168.65.3:51910\",\"protocol\":\"op_msg\",\"queues\":{\"ingress\":{\"admissions\":1},\"execution\":{\"admissions\":4}},\"workingMillis\":307,\"durationMillis\":307}}\n",
      "{\"t\":{\"$date\":\"2025-07-24T02:11:32.337+00:00\"},\"s\":\"I\",  \"c\":\"WTCHKPT\",  \"id\":22430,   \"ctx\":\"Checkpointer\",\"msg\":\"WiredTiger message\",\"attr\":{\"message\":{\"ts_sec\":1753323092,\"ts_usec\":335775,\"thread\":\"1:0x78ad54f926c0\",\"session_name\":\"WT_SESSION.checkpoint\",\"category\":\"WT_VERB_CHECKPOINT_PROGRESS\",\"category_id\":7,\"verbose_level\":\"DEBUG_1\",\"verbose_level_id\":1,\"msg\":\"saving checkpoint snapshot min: 11, snapshot max: 11 snapshot count: 0, oldest timestamp: (0, 0) , meta checkpoint timestamp: (0, 0) base write gen: 1995\"}}}\n",
      "{\"t\":{\"$date\":\"2025-07-24T02:12:32.402+00:00\"},\"s\":\"I\",  \"c\":\"WTCHKPT\",  \"id\":22430,   \"ctx\":\"Checkpointer\",\"msg\":\"WiredTiger message\",\"attr\":{\"message\":{\"ts_sec\":1753323152,\"ts_usec\":401991,\"thread\":\"1:0x78ad54f926c0\",\"session_name\":\"WT_SESSION.checkpoint\",\"category\":\"WT_VERB_CHECKPOINT_PROGRESS\",\"category_id\":7,\"verbose_level\":\"DEBUG_1\",\"verbose_level_id\":1,\"msg\":\"saving checkpoint snapshot min: 17, snapshot max: 17 snapshot count: 0, oldest timestamp: (0, 0) , meta checkpoint timestamp: (0, 0) base write gen: 1995\"}}}\n",
      "{\"t\":{\"$date\":\"2025-07-24T02:13:32.451+00:00\"},\"s\":\"I\",  \"c\":\"WTCHKPT\",  \"id\":22430,   \"ctx\":\"Checkpointer\",\"msg\":\"WiredTiger message\",\"attr\":{\"message\":{\"ts_sec\":1753323212,\"ts_usec\":449814,\"thread\":\"1:0x78ad54f926c0\",\"session_name\":\"WT_SESSION.checkpoint\",\"category\":\"WT_VERB_CHECKPOINT_PROGRESS\",\"category_id\":7,\"verbose_level\":\"DEBUG_1\",\"verbose_level_id\":1,\"msg\":\"saving checkpoint snapshot min: 18, snapshot max: 18 snapshot count: 0, oldest timestamp: (0, 0) , meta checkpoint timestamp: (0, 0) base write gen: 1995\"}}}\n",
      "{\"t\":{\"$date\":\"2025-07-24T02:13:56.001+00:00\"},\"s\":\"I\",  \"c\":\"COMMAND\",  \"id\":20499,   \"ctx\":\"ftdc\",\"msg\":\"serverStatus was very slow\",\"attr\":{\"timeStats\":{\"after basic\":0,\"after asserts\":0,\"after batchedDeletes\":0,\"after bucketCatalog\":0,\"after catalogStats\":0,\"after changeCollections\":0,\"after changeStreamPreImages\":0,\"after collectionCatalog\":0,\"after connections\":0,\"after electionMetrics\":0,\"after extra_info\":0,\"after featureCompatibilityVersion\":0,\"after flowControl\":0,\"after globalLock\":0,\"after indexBuilds\":0,\"after indexBulkBuilder\":0,\"after indexStats\":0,\"after internalTransactions\":0,\"after locks\":0,\"after logicalSessionRecordCache\":0,\"after mirroredReads\":0,\"after network\":0,\"after opLatencies\":0,\"after opWorkingTime\":0,\"after opcounters\":0,\"after opcountersRepl\":0,\"after oplog\":0,\"after oplogTruncation\":0,\"after profiler\":0,\"after querySettings\":0,\"after queues\":0,\"after readConcernCounters\":0,\"after readPreferenceCounters\":0,\"after recoveryOplogApplier\":0,\"after repl\":0,\"after scramCache\":0,\"after security\":0,\"after shardSplits\":0,\"after storageEngine\":0,\"after tcmalloc\":0,\"after tenantMigrations\":0,\"after trafficRecording\":0,\"after transactions\":0,\"after transportSecurity\":0,\"after twoPhaseCommitCoordinator\":0,\"after wiredTiger\":487,\"at end\":1628}}}\n",
      "{\"t\":{\"$date\":\"2025-07-24T02:14:32.494+00:00\"},\"s\":\"I\",  \"c\":\"WTCHKPT\",  \"id\":22430,   \"ctx\":\"Checkpointer\",\"msg\":\"WiredTiger message\",\"attr\":{\"message\":{\"ts_sec\":1753323272,\"ts_usec\":485061,\"thread\":\"1:0x78ad54f926c0\",\"session_name\":\"WT_SESSION.checkpoint\",\"category\":\"WT_VERB_CHECKPOINT_PROGRESS\",\"category_id\":7,\"verbose_level\":\"DEBUG_1\",\"verbose_level_id\":1,\"msg\":\"saving checkpoint snapshot min: 19, snapshot max: 19 snapshot count: 0, oldest timestamp: (0, 0) , meta checkpoint timestamp: (0, 0) base write gen: 1995\"}}}\n",
      "---Previous logs for product-service-db-98d6fb46d-xx97n---\n"
     ]
    },
    {
     "name": "stderr",
     "output_type": "stream",
     "text": [
      "Error from server (BadRequest): previous terminated container \"product-service-db\" in pod \"product-service-db-98d6fb46d-xx97n\" not found\n"
     ]
    }
   ],
   "source": [
    "# Display logs for product-service-db pods in the my-services namespace\n",
    "import subprocess\n",
    "\n",
    "label = \"product-service-db\"\n",
    "namespace = \"my-services\"\n",
    "command = f\"kubectl get pods -l app.kubernetes.io/name={label} -n {namespace} -o custom-columns=NAME:.metadata.name --no-headers\"\n",
    "\n",
    "pod = subprocess.check_output(command, shell=True, text=True).strip()\n",
    "\n",
    "!echo ---Logs for {pod}---\n",
    "!kubectl logs {pod} -n {namespace}\n",
    "!echo ---Previous logs for {pod}---\n",
    "!kubectl logs {pod} -n {namespace} --previous"
   ]
  },
  {
   "cell_type": "code",
   "execution_count": 196,
   "id": "ba97aac4",
   "metadata": {
    "vscode": {
     "languageId": "bat"
    }
   },
   "outputs": [
    {
     "name": "stdout",
     "output_type": "stream",
     "text": [
      "---Logs for web-interface-7c494cc897-ftrqg---\n",
      "/docker-entrypoint.sh: /docker-entrypoint.d/ is not empty, will attempt to perform configuration\n",
      "/docker-entrypoint.sh: Looking for shell scripts in /docker-entrypoint.d/\n",
      "/docker-entrypoint.sh: Launching /docker-entrypoint.d/10-listen-on-ipv6-by-default.sh\n",
      "10-listen-on-ipv6-by-default.sh: info: Getting the checksum of /etc/nginx/conf.d/default.conf\n",
      "10-listen-on-ipv6-by-default.sh: info: /etc/nginx/conf.d/default.conf differs from the packaged version\n",
      "/docker-entrypoint.sh: Sourcing /docker-entrypoint.d/15-local-resolvers.envsh\n",
      "/docker-entrypoint.sh: Launching /docker-entrypoint.d/20-envsubst-on-templates.sh\n",
      "/docker-entrypoint.sh: Launching /docker-entrypoint.d/30-tune-worker-processes.sh\n",
      "/docker-entrypoint.sh: Configuration complete; ready for start up\n",
      "2025/07/24 02:09:14 [notice] 1#1: using the \"epoll\" event method\n",
      "2025/07/24 02:09:14 [notice] 1#1: nginx/1.29.0\n",
      "2025/07/24 02:09:14 [notice] 1#1: built by gcc 14.2.0 (Alpine 14.2.0) \n",
      "2025/07/24 02:09:14 [notice] 1#1: OS: Linux 6.6.87.2-microsoft-standard-WSL2\n",
      "2025/07/24 02:09:14 [notice] 1#1: getrlimit(RLIMIT_NOFILE): 1048576:1048576\n",
      "2025/07/24 02:09:14 [notice] 1#1: start worker processes\n",
      "2025/07/24 02:09:14 [notice] 1#1: start worker process 28\n",
      "2025/07/24 02:09:14 [notice] 1#1: start worker process 29\n",
      "2025/07/24 02:09:14 [notice] 1#1: start worker process 30\n",
      "2025/07/24 02:09:14 [notice] 1#1: start worker process 31\n",
      "2025/07/24 02:09:14 [notice] 1#1: start worker process 32\n",
      "2025/07/24 02:09:14 [notice] 1#1: start worker process 33\n",
      "2025/07/24 02:09:14 [notice] 1#1: start worker process 34\n",
      "2025/07/24 02:09:14 [notice] 1#1: start worker process 35\n",
      "10.1.0.181 - - [24/Jul/2025:02:09:45 +0000] \"GET /products HTTP/1.1\" 200 644 \"-\" \"Mozilla/5.0 (Windows NT 10.0; Win64; x64) AppleWebKit/537.36 (KHTML, like Gecko) Chrome/138.0.0.0 Safari/537.36 Edg/138.0.0.0\" \"192.168.65.3\"\n",
      "10.1.0.181 - - [24/Jul/2025:02:09:45 +0000] \"GET /static/js/main.10fa86dd.js HTTP/1.1\" 200 266953 \"http://localhost:32000/products\" \"Mozilla/5.0 (Windows NT 10.0; Win64; x64) AppleWebKit/537.36 (KHTML, like Gecko) Chrome/138.0.0.0 Safari/537.36 Edg/138.0.0.0\" \"192.168.65.3\"\n",
      "10.1.0.181 - - [24/Jul/2025:02:11:04 +0000] \"GET /products HTTP/1.1\" 304 0 \"-\" \"Mozilla/5.0 (Windows NT 10.0; Win64; x64) AppleWebKit/537.36 (KHTML, like Gecko) Chrome/138.0.0.0 Safari/537.36 Edg/138.0.0.0\" \"192.168.65.3\"\n",
      "10.1.0.181 - - [24/Jul/2025:02:11:04 +0000] \"GET /static/js/main.10fa86dd.js HTTP/1.1\" 304 0 \"http://localhost:32000/products\" \"Mozilla/5.0 (Windows NT 10.0; Win64; x64) AppleWebKit/537.36 (KHTML, like Gecko) Chrome/138.0.0.0 Safari/537.36 Edg/138.0.0.0\" \"192.168.65.3\"\n",
      "---Previous logs for web-interface-7c494cc897-ftrqg---\n"
     ]
    },
    {
     "name": "stderr",
     "output_type": "stream",
     "text": [
      "Error from server (BadRequest): previous terminated container \"web-interface\" in pod \"web-interface-7c494cc897-ftrqg\" not found\n"
     ]
    }
   ],
   "source": [
    "# Display logs for web-interface pods in the my-services namespace\n",
    "import subprocess\n",
    "\n",
    "label = \"web-interface\"\n",
    "namespace = \"my-services\"\n",
    "command = f\"kubectl get pods -l app.kubernetes.io/name={label} -n {namespace} -o custom-columns=NAME:.metadata.name --no-headers\"\n",
    "\n",
    "pod = subprocess.check_output(command, shell=True, text=True).strip()\n",
    "\n",
    "!echo ---Logs for {pod}---\n",
    "!kubectl logs {pod} -n {namespace}\n",
    "!echo ---Previous logs for {pod}---\n",
    "!kubectl logs {pod} -n {namespace} --previous"
   ]
  },
  {
   "cell_type": "markdown",
   "id": "77144391",
   "metadata": {},
   "source": [
    "### *1.3. Monitoring*"
   ]
  },
  {
   "cell_type": "code",
   "execution_count": 130,
   "id": "c13ccad4",
   "metadata": {
    "vscode": {
     "languageId": "bat"
    }
   },
   "outputs": [
    {
     "name": "stdout",
     "output_type": "stream",
     "text": [
      "---Pods---\n",
      "NAME                        READY   STATUS    RESTARTS      AGE\n",
      "loki-stack-0                1/1     Running   5 (70m ago)   19h\n",
      "loki-stack-promtail-5swr4   1/1     Running   0             10m\n",
      "---Services---\n",
      "NAME                    TYPE        CLUSTER-IP     EXTERNAL-IP   PORT(S)    AGE\n",
      "loki-stack              ClusterIP   10.98.134.12   <none>        3100/TCP   19h\n",
      "loki-stack-headless     ClusterIP   None           <none>        3100/TCP   19h\n",
      "loki-stack-memberlist   ClusterIP   None           <none>        7946/TCP   19h\n"
     ]
    }
   ],
   "source": [
    "# Display all pods and services in the monitoring namespace\n",
    "namespace = \"monitoring\"\n",
    "!echo ---Pods---\n",
    "!kubectl get pods -n {namespace}\n",
    "!echo ---Services---\n",
    "!kubectl get svc -n {namespace}"
   ]
  },
  {
   "cell_type": "code",
   "execution_count": 20,
   "id": "096dd3bb",
   "metadata": {
    "vscode": {
     "languageId": "bat"
    }
   },
   "outputs": [
    {
     "name": "stdout",
     "output_type": "stream",
     "text": [
      "---Config Maps---\n"
     ]
    },
    {
     "name": "stdout",
     "output_type": "stream",
     "text": [
      "NAME               DATA   AGE\n",
      "kube-root-ca.crt   1      18h\n",
      "loki-stack         1      17h\n",
      "loki-stack-test    1      17h\n",
      "---Secrets---\n",
      "NAME                               TYPE                 DATA   AGE\n",
      "loki-stack                         Opaque               1      17h\n",
      "loki-stack-promtail                Opaque               1      17h\n",
      "sh.helm.release.v1.loki-stack.v1   helm.sh/release.v1   1      17h\n"
     ]
    }
   ],
   "source": [
    "# Display all config maps and secrets in the monitoring namespace\n",
    "namespace = \"monitoring\"\n",
    "!echo ---Config Maps---\n",
    "!kubectl get configmap -n {namespace}\n",
    "!echo ---Secrets---\n",
    "!kubectl get secret -n {namespace}"
   ]
  },
  {
   "cell_type": "markdown",
   "id": "630f2733",
   "metadata": {},
   "source": [
    "### *1.4. Universal*"
   ]
  },
  {
   "cell_type": "code",
   "execution_count": 132,
   "id": "c05815d2",
   "metadata": {
    "vscode": {
     "languageId": "bat"
    }
   },
   "outputs": [
    {
     "name": "stdout",
     "output_type": "stream",
     "text": [
      "---Namespaces---\n"
     ]
    },
    {
     "name": "stdout",
     "output_type": "stream",
     "text": [
      "NAME              STATUS   AGE\n",
      "default           Active   45h\n",
      "ingress-nginx     Active   45h\n",
      "kube-node-lease   Active   45h\n",
      "kube-public       Active   45h\n",
      "kube-system       Active   45h\n",
      "monitoring        Active   20h\n",
      "my-services       Active   7h33m\n"
     ]
    }
   ],
   "source": [
    "# Display all namespaces in the cluster\n",
    "!echo ---Namespaces---\n",
    "!kubectl get ns"
   ]
  },
  {
   "cell_type": "code",
   "execution_count": 91,
   "id": "3b0aa93e",
   "metadata": {
    "vscode": {
     "languageId": "bat"
    }
   },
   "outputs": [
    {
     "name": "stdout",
     "output_type": "stream",
     "text": [
      "---Nodes---\n"
     ]
    },
    {
     "name": "stdout",
     "output_type": "stream",
     "text": [
      "NAME             STATUS   ROLES           AGE   VERSION   INTERNAL-IP    EXTERNAL-IP   OS-IMAGE         KERNEL-VERSION                     CONTAINER-RUNTIME\n",
      "docker-desktop   Ready    control-plane   40h   v1.32.2   192.168.65.3   <none>        Docker Desktop   6.6.87.2-microsoft-standard-WSL2   docker://28.3.0\n"
     ]
    }
   ],
   "source": [
    "# Display all nodes in the cluster\n",
    "!echo ---Nodes---\n",
    "!kubectl get nodes -o wide"
   ]
  },
  {
   "cell_type": "code",
   "execution_count": 92,
   "id": "076bdeb5",
   "metadata": {
    "vscode": {
     "languageId": "bat"
    }
   },
   "outputs": [
    {
     "name": "stdout",
     "output_type": "stream",
     "text": [
      "---Storage Classes---\n"
     ]
    },
    {
     "name": "stdout",
     "output_type": "stream",
     "text": [
      "NAME                 PROVISIONER          RECLAIMPOLICY   VOLUMEBINDINGMODE   ALLOWVOLUMEEXPANSION   AGE\n",
      "hostpath (default)   docker.io/hostpath   Delete          Immediate           false                  40h\n"
     ]
    }
   ],
   "source": [
    "# Display all storage classes in the cluster\n",
    "!echo ---Storage Classes---\n",
    "!kubectl get storageclass"
   ]
  },
  {
   "cell_type": "code",
   "execution_count": 3,
   "id": "850e6d69",
   "metadata": {
    "vscode": {
     "languageId": "bat"
    }
   },
   "outputs": [
    {
     "name": "stdout",
     "output_type": "stream",
     "text": [
      "---Ingress Controller Pods---\n",
      "NAME                                       READY   STATUS    RESTARTS       AGE\n",
      "ingress-nginx-controller-675c4bf49-dk2kj   1/1     Running   17 (91m ago)   41h\n",
      "---Ingress Controller Services---\n",
      "NAME                                 TYPE        CLUSTER-IP     EXTERNAL-IP   PORT(S)        AGE\n",
      "ingress-nginx-controller             NodePort    10.96.60.73    <none>        80:32000/TCP   145m\n",
      "ingress-nginx-controller-admission   ClusterIP   10.111.71.82   <none>        443/TCP        41h\n",
      "---All Ingress Resources---\n",
      "NAMESPACE     NAME                    CLASS   HOSTS   ADDRESS       PORTS   AGE\n",
      "my-services   ingress-configuration   nginx   *       10.96.60.73   80      145m\n"
     ]
    }
   ],
   "source": [
    "# Display Ingress controller details and Ingress resources\n",
    "namespace = \"ingress-nginx\"\n",
    "!echo ---Ingress Controller Pods---\n",
    "!kubectl get pods -n {namespace}\n",
    "!echo ---Ingress Controller Services---\n",
    "!kubectl get svc -n {namespace}\n",
    "!echo ---All Ingress Resources---\n",
    "!kubectl get ingress --all-namespaces"
   ]
  },
  {
   "cell_type": "markdown",
   "id": "56bcbaa6",
   "metadata": {},
   "source": [
    "## **2. Logs**"
   ]
  },
  {
   "cell_type": "code",
   "execution_count": null,
   "id": "e005b1e3",
   "metadata": {
    "vscode": {
     "languageId": "bat"
    }
   },
   "outputs": [],
   "source": [
    "pod = \"product-service-7bddd5f79c-thtnp\""
   ]
  },
  {
   "cell_type": "code",
   "execution_count": 2,
   "id": "9233f9e2",
   "metadata": {
    "vscode": {
     "languageId": "bat"
    }
   },
   "outputs": [
    {
     "name": "stdout",
     "output_type": "stream",
     "text": [
      "---Logs for product-service-7bddd5f79c-thtnp---\n",
      "^C\n"
     ]
    },
    {
     "name": "stdout",
     "output_type": "stream",
     "text": [
      "\n",
      "> product-service@1.0.0 start\n",
      "> node src/index.js\n",
      "\n",
      "[dotenv@17.2.0] injecting env (0) from .env (tip: ⚙️  suppress all logs with { quiet: true })\n",
      "Connected to MongoDB\n",
      "Product service running on port 3001\n"
     ]
    }
   ],
   "source": [
    "!echo ---Logs for {pod}---\n",
    "!kubectl logs {pod} -n my-services"
   ]
  },
  {
   "cell_type": "code",
   "execution_count": null,
   "id": "80d31d14",
   "metadata": {
    "vscode": {
     "languageId": "bat"
    }
   },
   "outputs": [
    {
     "name": "stdout",
     "output_type": "stream",
     "text": [
      "---Previous logs for product-service-7bddd5f79c-thtnp---\n"
     ]
    },
    {
     "name": "stderr",
     "output_type": "stream",
     "text": [
      "error: error from server (NotFound): pods \"product-service-7bddd5f79c-thtnp\" not found in namespace \"default\"\n"
     ]
    }
   ],
   "source": [
    "!echo ---Previous logs for {pod}---\n",
    "!kubectl logs {pod} --previous"
   ]
  },
  {
   "cell_type": "markdown",
   "id": "07421c1d",
   "metadata": {},
   "source": [
    "# **II. FRONTEND**"
   ]
  },
  {
   "cell_type": "markdown",
   "id": "693256b2",
   "metadata": {},
   "source": [
    "## **Web Interface**"
   ]
  },
  {
   "cell_type": "code",
   "execution_count": 215,
   "id": "d4b13ebb",
   "metadata": {
    "vscode": {
     "languageId": "bat"
    }
   },
   "outputs": [
    {
     "name": "stdout",
     "output_type": "stream",
     "text": [
      "---Shutting down web-interface---\n",
      "service \"web-interface\" deleted\n",
      "deployment.apps \"web-interface\" deleted\n"
     ]
    }
   ],
   "source": [
    "# Shutdown Web Interface Service\n",
    "service = \"web-interface\"\n",
    "namespace = \"my-services\"\n",
    "!echo ---Shutting down {service}---\n",
    "!kubectl delete service {service} -n {namespace}\n",
    "!kubectl delete deployment {service} -n {namespace}"
   ]
  },
  {
   "cell_type": "code",
   "execution_count": 216,
   "id": "bcf31296",
   "metadata": {
    "vscode": {
     "languageId": "bat"
    }
   },
   "outputs": [
    {
     "name": "stdout",
     "output_type": "stream",
     "text": [
      "---Building web-interface---\n"
     ]
    },
    {
     "name": "stderr",
     "output_type": "stream",
     "text": [
      "#0 building with \"desktop-linux\" instance using docker driver\n",
      "\n",
      "#1 [internal] load build definition from Dockerfile\n",
      "#1 transferring dockerfile:\n",
      "#1 transferring dockerfile: 516B 0.4s done\n",
      "#1 DONE 0.6s\n",
      "\n",
      "#2 [internal] load metadata for docker.io/library/node:18-alpine\n",
      "#2 ...\n",
      "\n",
      "#3 [auth] library/nginx:pull token for registry-1.docker.io\n",
      "#3 DONE 0.0s\n",
      "\n",
      "#4 [auth] library/node:pull token for registry-1.docker.io\n",
      "#4 DONE 0.0s\n",
      "\n",
      "#5 [internal] load metadata for docker.io/library/nginx:alpine\n",
      "#5 ...\n",
      "\n",
      "#2 [internal] load metadata for docker.io/library/node:18-alpine\n",
      "#2 DONE 1.5s\n",
      "\n",
      "#5 [internal] load metadata for docker.io/library/nginx:alpine\n",
      "#5 DONE 1.6s\n",
      "\n",
      "#6 [internal] load .dockerignore\n",
      "#6 transferring context: 32B 0.0s\n",
      "#6 transferring context: 80B 0.1s done\n",
      "#6 DONE 0.2s\n",
      "\n",
      "#7 [internal] load build context\n",
      "#7 DONE 0.0s\n",
      "\n",
      "#8 [build 1/6] FROM docker.io/library/node:18-alpine@sha256:8d6421d663b4c28fd3ebc498332f249011d118945588d0a35cb9bc4b8ca09d9e\n",
      "#8 resolve docker.io/library/node:18-alpine@sha256:8d6421d663b4c28fd3ebc498332f249011d118945588d0a35cb9bc4b8ca09d9e\n",
      "#8 ...\n",
      "\n",
      "#9 [stage-1 1/3] FROM docker.io/library/nginx:alpine@sha256:d67ea0d64d518b1bb04acde3b00f722ac3e9764b3209a9b0a98924ba35e4b779\n",
      "#9 resolve docker.io/library/nginx:alpine@sha256:d67ea0d64d518b1bb04acde3b00f722ac3e9764b3209a9b0a98924ba35e4b779 0.4s done\n",
      "#9 DONE 0.5s\n",
      "\n",
      "#8 [build 1/6] FROM docker.io/library/node:18-alpine@sha256:8d6421d663b4c28fd3ebc498332f249011d118945588d0a35cb9bc4b8ca09d9e\n",
      "#8 resolve docker.io/library/node:18-alpine@sha256:8d6421d663b4c28fd3ebc498332f249011d118945588d0a35cb9bc4b8ca09d9e 0.5s done\n",
      "#8 DONE 0.6s\n",
      "\n",
      "#7 [internal] load build context\n",
      "#7 transferring context: 3.26kB 0.3s done\n",
      "#7 DONE 0.4s\n",
      "\n",
      "#10 [build 2/6] WORKDIR /app\n",
      "#10 CACHED\n",
      "\n",
      "#11 [build 3/6] COPY package*.json ./\n",
      "#11 CACHED\n",
      "\n",
      "#12 [build 4/6] RUN npm install\n",
      "#12 CACHED\n",
      "\n",
      "#13 [build 5/6] COPY . .\n",
      "#13 DONE 0.4s\n",
      "\n",
      "#14 [build 6/6] RUN npm run build\n",
      "#14 9.524 \n",
      "#14 9.524 > web-interface@0.1.0 build\n",
      "#14 9.524 > react-scripts build\n",
      "#14 9.524 \n",
      "#14 42.80 Creating an optimized production build...\n",
      "#14 185.5 Compiled with warnings.\n",
      "#14 185.5 \n",
      "#14 185.5 [eslint] \n",
      "#14 185.5 src/App.js\n",
      "#14 185.5   Line 2:8:  'Navbar' is defined but never used  no-unused-vars\n",
      "#14 185.5 \n",
      "#14 185.5 src/pages/Profile.js\n",
      "#14 185.5   Line 21:8:  React Hook useEffect has a missing dependency: 'navigate'. Either include it or remove the dependency array  react-hooks/exhaustive-deps\n",
      "#14 185.5 \n",
      "#14 185.5 Search for the keywords to learn more about each warning.\n",
      "#14 185.5 To ignore, add // eslint-disable-next-line to the line before.\n",
      "#14 185.5 \n",
      "#14 185.5 File sizes after gzip:\n",
      "#14 185.5 \n",
      "#14 185.5   86.4 kB  build/static/js/main.82eba1c8.js\n",
      "#14 185.5   1.77 kB  build/static/js/453.71002c84.chunk.js\n",
      "#14 185.5   513 B    build/static/css/main.f855e6bc.css\n",
      "#14 185.5 \n",
      "#14 185.5 The project was built assuming it is hosted at /.\n",
      "#14 185.5 You can control this with the homepage field in your package.json.\n",
      "#14 185.5 \n",
      "#14 185.5 The build folder is ready to be deployed.\n",
      "#14 185.5 You may serve it with a static server:\n",
      "#14 185.5 \n",
      "#14 185.5   npm install -g serve\n",
      "#14 185.5   serve -s build\n",
      "#14 185.5 \n",
      "#14 185.5 Find out more about deployment here:\n",
      "#14 185.5 \n",
      "#14 185.5   https://cra.link/deployment\n",
      "#14 185.5 \n",
      "#14 DONE 187.1s\n",
      "\n",
      "#15 [stage-1 2/3] COPY nginx.conf /etc/nginx/conf.d/default.conf\n",
      "#15 CACHED\n",
      "\n",
      "#16 [stage-1 3/3] COPY --from=build /app/build /usr/share/nginx/html\n",
      "#16 DONE 0.4s\n",
      "\n",
      "#17 exporting to image\n",
      "#17 exporting layers\n",
      "#17 exporting layers 1.0s done\n",
      "#17 exporting manifest sha256:8fbfcd1a6b944450ebc7a53ea094142f0d7a1dacb6bde579f2901df10c97ce70 0.1s done\n",
      "#17 exporting config sha256:a4c51a71eaf3b9f1269f588d16c9fa4293eb09ad454b59b8274ae4bfa1fb808c\n",
      "#17 exporting config sha256:a4c51a71eaf3b9f1269f588d16c9fa4293eb09ad454b59b8274ae4bfa1fb808c 0.1s done\n",
      "#17 exporting attestation manifest sha256:f25cd55b92f1c2d16f8b8d0433b044d1dc594d2aaf43a795aea051081a6cc1b4\n",
      "#17 exporting attestation manifest sha256:f25cd55b92f1c2d16f8b8d0433b044d1dc594d2aaf43a795aea051081a6cc1b4 0.4s done\n",
      "#17 exporting manifest list sha256:366aee60bc94174b29d45f2f4c62f9aa284e776c2ed98ad83c1aa16ad681356e 0.2s done\n",
      "#17 naming to docker.io/library/web-interface:latest\n",
      "#17 naming to docker.io/library/web-interface:latest 0.3s done\n",
      "#17 unpacking to docker.io/library/web-interface:latest\n",
      "#17 unpacking to docker.io/library/web-interface:latest 1.0s done\n",
      "#17 DONE 3.8s\n",
      "\n",
      "View build details: docker-desktop://dashboard/build/desktop-linux/desktop-linux/xz77r0sqoamd1trmpykfsa5jy\n"
     ]
    }
   ],
   "source": [
    "# Build Web Interface Service\n",
    "service = \"web-interface\"\n",
    "!echo ---Building {service}---\n",
    "!docker build -t {service} C:\\\\Services\\\\{service}\\\\"
   ]
  },
  {
   "cell_type": "code",
   "execution_count": 217,
   "id": "b73d6442",
   "metadata": {
    "vscode": {
     "languageId": "bat"
    }
   },
   "outputs": [
    {
     "name": "stdout",
     "output_type": "stream",
     "text": [
      "---Deploying web-interface---\n",
      "deployment.apps/web-interface created\n",
      "service/web-interface created\n"
     ]
    }
   ],
   "source": [
    "# Deploy Web Interface Service\n",
    "service = \"web-interface\"\n",
    "!echo ---Deploying {service}---\n",
    "!kubectl apply -f C:\\\\Services\\\\{service}\\\\k8s\\\\"
   ]
  },
  {
   "cell_type": "markdown",
   "id": "454e88c7",
   "metadata": {},
   "source": [
    "# **III. BACKEND**"
   ]
  },
  {
   "cell_type": "markdown",
   "id": "ea32684c",
   "metadata": {},
   "source": [
    "## **1. User Service**"
   ]
  },
  {
   "cell_type": "code",
   "execution_count": 187,
   "id": "fb4de299",
   "metadata": {
    "vscode": {
     "languageId": "bat"
    }
   },
   "outputs": [
    {
     "name": "stdout",
     "output_type": "stream",
     "text": [
      "---Shutting down user-service---\n",
      "service \"user-service\" deleted\n",
      "deployment.apps \"user-service\" deleted\n",
      "service \"user-service-db\" deleted\n",
      "deployment.apps \"user-service-db\" deleted\n"
     ]
    }
   ],
   "source": [
    "# Shutdown User Service\n",
    "service = \"user-service\"\n",
    "service_db = f\"{service}-db\"\n",
    "namespace = \"my-services\"\n",
    "!echo ---Shutting down {service}---\n",
    "!kubectl delete service {service} -n {namespace}\n",
    "!kubectl delete deployment {service} -n {namespace}\n",
    "!kubectl delete service {service_db} -n {namespace}\n",
    "!kubectl delete deployment {service_db} -n {namespace}"
   ]
  },
  {
   "cell_type": "code",
   "execution_count": 188,
   "id": "7823d9d2",
   "metadata": {
    "vscode": {
     "languageId": "bat"
    }
   },
   "outputs": [
    {
     "name": "stdout",
     "output_type": "stream",
     "text": [
      "---Building user-service---\n"
     ]
    },
    {
     "name": "stderr",
     "output_type": "stream",
     "text": [
      "#0 building with \"desktop-linux\" instance using docker driver\n",
      "\n",
      "#1 [internal] load build definition from Dockerfile\n",
      "#1 transferring dockerfile:\n",
      "#1 transferring dockerfile: 335B 0.1s done\n",
      "#1 DONE 0.3s\n",
      "\n",
      "#2 [internal] load metadata for docker.io/library/node:18-alpine\n",
      "#2 ...\n",
      "\n",
      "#3 [auth] library/node:pull token for registry-1.docker.io\n",
      "#3 DONE 0.0s\n",
      "\n",
      "#2 [internal] load metadata for docker.io/library/node:18-alpine\n",
      "#2 DONE 2.1s\n",
      "\n",
      "#4 [internal] load .dockerignore\n",
      "#4 transferring context:\n",
      "#4 transferring context: 80B 0.2s done\n",
      "#4 DONE 0.4s\n",
      "\n",
      "#5 [1/5] FROM docker.io/library/node:18-alpine@sha256:8d6421d663b4c28fd3ebc498332f249011d118945588d0a35cb9bc4b8ca09d9e\n",
      "#5 resolve docker.io/library/node:18-alpine@sha256:8d6421d663b4c28fd3ebc498332f249011d118945588d0a35cb9bc4b8ca09d9e\n",
      "#5 ...\n",
      "\n",
      "#6 [internal] load build context\n",
      "#6 transferring context: 1.15kB 0.1s done\n",
      "#6 DONE 0.3s\n",
      "\n",
      "#5 [1/5] FROM docker.io/library/node:18-alpine@sha256:8d6421d663b4c28fd3ebc498332f249011d118945588d0a35cb9bc4b8ca09d9e\n",
      "#5 resolve docker.io/library/node:18-alpine@sha256:8d6421d663b4c28fd3ebc498332f249011d118945588d0a35cb9bc4b8ca09d9e 0.4s done\n",
      "#5 DONE 0.5s\n",
      "\n",
      "#7 [2/5] WORKDIR /app\n",
      "#7 CACHED\n",
      "\n",
      "#8 [3/5] COPY package*.json ./\n",
      "#8 CACHED\n",
      "\n",
      "#9 [4/5] RUN npm install\n",
      "#9 CACHED\n",
      "\n",
      "#10 [5/5] COPY . .\n",
      "#10 CACHED\n",
      "\n",
      "#11 exporting to image\n",
      "#11 exporting layers 0.0s done\n",
      "#11 exporting manifest sha256:b4dafe47dfaa46a1d0b9180c4318a5836561c460f60f8d3f2e6a8be7a9013c49\n",
      "#11 exporting manifest sha256:b4dafe47dfaa46a1d0b9180c4318a5836561c460f60f8d3f2e6a8be7a9013c49 0.0s done\n",
      "#11 exporting config sha256:0bdeb0d258854b6ecbbfa088303c6f94f7500ed4bd41be596d6efa2551c1a499 0.0s done\n",
      "#11 exporting attestation manifest sha256:fc8e2440de4fd643dea0272b8ee5dd69e8732d75983e5de1938d058fcd070ba5\n",
      "#11 exporting attestation manifest sha256:fc8e2440de4fd643dea0272b8ee5dd69e8732d75983e5de1938d058fcd070ba5 0.2s done\n",
      "#11 exporting manifest list sha256:377f6badeaaf44ccb8ef1ebaaa1eb28cfa07ff14027e3f5284b385fd6b2a317b\n",
      "#11 exporting manifest list sha256:377f6badeaaf44ccb8ef1ebaaa1eb28cfa07ff14027e3f5284b385fd6b2a317b 0.1s done\n",
      "#11 naming to docker.io/library/user-service:latest 0.0s done\n",
      "#11 unpacking to docker.io/library/user-service:latest\n",
      "#11 unpacking to docker.io/library/user-service:latest 0.2s done\n",
      "#11 DONE 1.8s\n",
      "\n",
      "View build details: docker-desktop://dashboard/build/desktop-linux/desktop-linux/f20ugkgqjref4ockw1d01r462\n"
     ]
    }
   ],
   "source": [
    "# Build User Service\n",
    "service = \"user-service\"\n",
    "!echo ---Building {service}---\n",
    "!docker build -t {service} C:\\\\Services\\\\{service}\\\\"
   ]
  },
  {
   "cell_type": "code",
   "execution_count": 189,
   "id": "dadc16a1",
   "metadata": {
    "vscode": {
     "languageId": "bat"
    }
   },
   "outputs": [
    {
     "name": "stdout",
     "output_type": "stream",
     "text": [
      "---Deploying user-service---\n",
      "deployment.apps/user-service-db created\n",
      "service/user-service-db created\n",
      "deployment.apps/user-service created\n",
      "service/user-service created\n"
     ]
    }
   ],
   "source": [
    "# Deploy User Service\n",
    "service = \"user-service\"\n",
    "!echo ---Deploying {service}---\n",
    "!kubectl apply -f C:\\\\Services\\\\{service}\\\\k8s\\\\"
   ]
  },
  {
   "cell_type": "markdown",
   "id": "a35c82a6",
   "metadata": {},
   "source": [
    "## **2. Product Service**"
   ]
  },
  {
   "cell_type": "code",
   "execution_count": 210,
   "id": "fa506d89",
   "metadata": {
    "vscode": {
     "languageId": "bat"
    }
   },
   "outputs": [
    {
     "name": "stdout",
     "output_type": "stream",
     "text": [
      "---Shutting down product-service---\n",
      "service \"product-service\" deleted\n",
      "deployment.apps \"product-service\" deleted\n",
      "service \"product-service-db\" deleted\n",
      "deployment.apps \"product-service-db\" deleted\n"
     ]
    }
   ],
   "source": [
    "# Shutdown Product Service\n",
    "service = \"product-service\"\n",
    "service_db = f\"{service}-db\"\n",
    "namespace = \"my-services\"\n",
    "!echo ---Shutting down {service}---\n",
    "!kubectl delete service {service} -n {namespace}\n",
    "!kubectl delete deployment {service} -n {namespace}\n",
    "!kubectl delete service {service_db} -n {namespace}\n",
    "!kubectl delete deployment {service_db} -n {namespace}"
   ]
  },
  {
   "cell_type": "code",
   "execution_count": 211,
   "id": "2f33470a",
   "metadata": {
    "vscode": {
     "languageId": "bat"
    }
   },
   "outputs": [
    {
     "name": "stdout",
     "output_type": "stream",
     "text": [
      "---Building product-service---\n"
     ]
    },
    {
     "name": "stderr",
     "output_type": "stream",
     "text": [
      "#0 building with \"desktop-linux\" instance using docker driver\n",
      "\n",
      "#1 [internal] load build definition from Dockerfile\n",
      "#1 transferring dockerfile:\n",
      "#1 transferring dockerfile: 337B 0.2s done\n",
      "#1 DONE 0.6s\n",
      "\n",
      "#2 [internal] load metadata for docker.io/library/node:18-alpine\n",
      "#2 ...\n",
      "\n",
      "#3 [auth] library/node:pull token for registry-1.docker.io\n",
      "#3 DONE 0.0s\n",
      "\n",
      "#2 [internal] load metadata for docker.io/library/node:18-alpine\n",
      "#2 DONE 2.7s\n",
      "\n",
      "#4 [internal] load .dockerignore\n",
      "#4 transferring context: 80B 0.1s done\n",
      "#4 DONE 0.2s\n",
      "\n",
      "#5 [internal] load build context\n",
      "#5 transferring context: 1.04kB 0.2s done\n",
      "#5 DONE 0.3s\n",
      "\n",
      "#6 [1/5] FROM docker.io/library/node:18-alpine@sha256:8d6421d663b4c28fd3ebc498332f249011d118945588d0a35cb9bc4b8ca09d9e\n",
      "#6 resolve docker.io/library/node:18-alpine@sha256:8d6421d663b4c28fd3ebc498332f249011d118945588d0a35cb9bc4b8ca09d9e\n",
      "#6 resolve docker.io/library/node:18-alpine@sha256:8d6421d663b4c28fd3ebc498332f249011d118945588d0a35cb9bc4b8ca09d9e 0.4s done\n",
      "#6 DONE 1.0s\n",
      "\n",
      "#7 [2/5] WORKDIR /app\n",
      "#7 CACHED\n",
      "\n",
      "#8 [3/5] COPY package*.json ./\n",
      "#8 CACHED\n",
      "\n",
      "#9 [4/5] RUN npm install\n",
      "#9 CACHED\n",
      "\n",
      "#10 [5/5] COPY . .\n",
      "#10 CACHED\n",
      "\n",
      "#11 exporting to image\n",
      "#11 exporting layers 0.1s done\n",
      "#11 exporting manifest sha256:1d1c06ea3ab9ba324e1b2fbe9e6458c51b70fc208f56fc55e1629fed76b556c0 0.0s done\n",
      "#11 exporting config sha256:51f2f4727e0a4bff5299c2780206b8e201381784b1b97ee04b5e9bdda0830b91 0.0s done\n",
      "#11 exporting attestation manifest sha256:262c91d5b780c39ab6ae8bfac4cdb0d800003f1f125cf62403882fbc0c6a2414\n",
      "#11 exporting attestation manifest sha256:262c91d5b780c39ab6ae8bfac4cdb0d800003f1f125cf62403882fbc0c6a2414 0.3s done\n",
      "#11 exporting manifest list sha256:193690cb747ec5061e695ecc28384fd746f2fc28a5983f076979541105b4fadc\n",
      "#11 exporting manifest list sha256:193690cb747ec5061e695ecc28384fd746f2fc28a5983f076979541105b4fadc 0.2s done\n",
      "#11 naming to docker.io/library/product-service:latest\n",
      "#11 naming to docker.io/library/product-service:latest 0.1s done\n",
      "#11 unpacking to docker.io/library/product-service:latest 0.1s done\n",
      "#11 DONE 2.8s\n",
      "\n",
      "View build details: docker-desktop://dashboard/build/desktop-linux/desktop-linux/aw8ojpj5qzbwd87kt6zo4odp8\n"
     ]
    }
   ],
   "source": [
    "# Build Product Service\n",
    "service = \"product-service\"\n",
    "!echo ---Building {service}---\n",
    "!docker build -t {service} C:\\\\Services\\\\{service}\\\\"
   ]
  },
  {
   "cell_type": "code",
   "execution_count": 212,
   "id": "68309b39",
   "metadata": {
    "vscode": {
     "languageId": "bat"
    }
   },
   "outputs": [
    {
     "name": "stdout",
     "output_type": "stream",
     "text": [
      "---Deploying product-service---\n",
      "deployment.apps/product-service-db created\n",
      "service/product-service-db created\n",
      "deployment.apps/product-service created\n",
      "service/product-service created\n"
     ]
    }
   ],
   "source": [
    "# Deploy Product Service\n",
    "service = \"product-service\"\n",
    "!echo ---Deploying {service}---\n",
    "!kubectl apply -f C:\\\\Services\\\\{service}\\\\k8s\\\\"
   ]
  },
  {
   "cell_type": "markdown",
   "id": "c832fe94",
   "metadata": {},
   "source": [
    "# **IV. PVC**"
   ]
  },
  {
   "cell_type": "markdown",
   "id": "4716ac07",
   "metadata": {},
   "source": [
    "### **1. User Service**"
   ]
  },
  {
   "cell_type": "code",
   "execution_count": null,
   "id": "1ffaa438",
   "metadata": {
    "vscode": {
     "languageId": "bat"
    }
   },
   "outputs": [
    {
     "name": "stdout",
     "output_type": "stream",
     "text": [
      "---Shutting down user-service-db-pvc---\n"
     ]
    },
    {
     "name": "stderr",
     "output_type": "stream",
     "text": [
      "Error from server (NotFound): persistentvolumeclaims \"user-service-db-pvc\" not found\n"
     ]
    }
   ],
   "source": [
    "# Shutdown PVC for User Service\n",
    "service = \"user-service\"\n",
    "service_pvc = f\"{service}-db-pvc\"\n",
    "namespace = \"my-services\"\n",
    "!echo ---Shutting down {service_pvc}---\n",
    "!kubectl delete pvc {service_pvc} -n {namespace}"
   ]
  },
  {
   "cell_type": "code",
   "execution_count": 25,
   "id": "060bf429",
   "metadata": {
    "vscode": {
     "languageId": "bat"
    }
   },
   "outputs": [
    {
     "name": "stdout",
     "output_type": "stream",
     "text": [
      "---Deploying PVC for user-service---\n",
      "persistentvolumeclaim/user-service-db-pvc created\n"
     ]
    }
   ],
   "source": [
    "# Deploy PVC for User Service\n",
    "service = \"user-service\"\n",
    "!echo ---Deploying PVC for {service}---\n",
    "!kubectl apply -f C:\\\\Services\\\\{service}\\\\k8s\\\\pvc"
   ]
  },
  {
   "cell_type": "markdown",
   "id": "cf2acb8f",
   "metadata": {},
   "source": [
    "### **2. Product Service**"
   ]
  },
  {
   "cell_type": "code",
   "execution_count": null,
   "id": "efef4e7c",
   "metadata": {
    "vscode": {
     "languageId": "bat"
    }
   },
   "outputs": [
    {
     "name": "stdout",
     "output_type": "stream",
     "text": [
      "---Shutting down product-service-db-pvc---\n"
     ]
    },
    {
     "name": "stderr",
     "output_type": "stream",
     "text": [
      "Error from server (NotFound): persistentvolumeclaims \"product-service-db-pvc\" not found\n"
     ]
    }
   ],
   "source": [
    "# Shutdown PVC for Product Service\n",
    "service = \"product-service\"\n",
    "service_pvc = f\"{service}-db-pvc\"\n",
    "namespace = \"my-services\"\n",
    "!echo ---Shutting down {service_pvc}---\n",
    "!kubectl delete pvc {service_pvc} -n {namespace}"
   ]
  },
  {
   "cell_type": "code",
   "execution_count": 27,
   "id": "8602b3af",
   "metadata": {
    "vscode": {
     "languageId": "bat"
    }
   },
   "outputs": [
    {
     "name": "stdout",
     "output_type": "stream",
     "text": [
      "---Deploying PVC---\n",
      "persistentvolumeclaim/product-service-db-pvc created\n"
     ]
    }
   ],
   "source": [
    "# Deploy PVC for Product Service\n",
    "service = \"product-service\"\n",
    "!echo ---Deploying PVC---\n",
    "!kubectl apply -f C:\\\\Services\\\\{service}\\\\k8s\\\\pvc"
   ]
  },
  {
   "cell_type": "markdown",
   "id": "697567e1",
   "metadata": {},
   "source": [
    "# **V. CONFIGURATION**"
   ]
  },
  {
   "cell_type": "markdown",
   "id": "5b5ff277",
   "metadata": {},
   "source": [
    "## **1. Namespaces**"
   ]
  },
  {
   "cell_type": "code",
   "execution_count": 2,
   "id": "09da97c7",
   "metadata": {
    "vscode": {
     "languageId": "bat"
    }
   },
   "outputs": [
    {
     "name": "stdout",
     "output_type": "stream",
     "text": [
      "---Creating namespace my-services---\n"
     ]
    },
    {
     "name": "stderr",
     "output_type": "stream",
     "text": [
      "Error from server (AlreadyExists): namespaces \"my-services\" already exists\n"
     ]
    }
   ],
   "source": [
    "# Create a namespace for services\n",
    "namespace = \"my-services\"\n",
    "!echo ---Creating namespace {namespace}---\n",
    "!kubectl create namespace {namespace}"
   ]
  },
  {
   "cell_type": "markdown",
   "id": "602774bf",
   "metadata": {},
   "source": [
    "## **2. ConfigMaps**"
   ]
  },
  {
   "cell_type": "code",
   "execution_count": 198,
   "id": "fede3f56",
   "metadata": {
    "vscode": {
     "languageId": "bat"
    }
   },
   "outputs": [
    {
     "name": "stdout",
     "output_type": "stream",
     "text": [
      "---Deleting configmaps---\n",
      "configmap \"error-codes\" deleted\n",
      "configmap \"user-service-config\" deleted\n",
      "configmap \"product-service-config\" deleted\n",
      "configmap \"web-interface-config\" deleted\n"
     ]
    }
   ],
   "source": [
    "# Delete ConfigMaps\n",
    "folder = \"configmaps\"\n",
    "!echo ---Deleting {folder}---\n",
    "!kubectl delete -f C:\\\\Services\\\\{folder}\\\\"
   ]
  },
  {
   "cell_type": "code",
   "execution_count": 199,
   "id": "cfed7cba",
   "metadata": {
    "vscode": {
     "languageId": "bat"
    }
   },
   "outputs": [
    {
     "name": "stdout",
     "output_type": "stream",
     "text": [
      "---Applying configmaps---\n",
      "configmap/error-codes created\n",
      "configmap/user-service-config created\n",
      "configmap/product-service-config created\n",
      "configmap/web-interface-config created\n"
     ]
    }
   ],
   "source": [
    "# Apply ConfigMaps\n",
    "folder = \"configmaps\"\n",
    "!echo ---Applying {folder}---\n",
    "!kubectl apply -f C:\\\\Services\\\\{folder}\\\\"
   ]
  },
  {
   "cell_type": "markdown",
   "id": "472265c9",
   "metadata": {},
   "source": [
    "## **3. Secrets**"
   ]
  },
  {
   "cell_type": "code",
   "execution_count": 200,
   "id": "d73ca3ef",
   "metadata": {
    "vscode": {
     "languageId": "bat"
    }
   },
   "outputs": [
    {
     "name": "stdout",
     "output_type": "stream",
     "text": [
      "---Deleting secrets---\n",
      "secret \"user-service-secret\" deleted\n",
      "secret \"product-service-secret\" deleted\n",
      "secret \"web-interface-secret\" deleted\n"
     ]
    }
   ],
   "source": [
    "# Delete Secrets\n",
    "folder = \"secrets\"\n",
    "!echo ---Deleting {folder}---\n",
    "!kubectl delete -f C:\\\\Services\\\\{folder}\\\\"
   ]
  },
  {
   "cell_type": "code",
   "execution_count": 201,
   "id": "3eddfb1d",
   "metadata": {
    "vscode": {
     "languageId": "bat"
    }
   },
   "outputs": [
    {
     "name": "stdout",
     "output_type": "stream",
     "text": [
      "---Applying secrets---\n"
     ]
    },
    {
     "name": "stdout",
     "output_type": "stream",
     "text": [
      "secret/user-service-secret created\n",
      "secret/product-service-secret created\n",
      "secret/web-interface-secret created\n"
     ]
    }
   ],
   "source": [
    "# Apply Secrets\n",
    "folder = \"secrets\"\n",
    "!echo ---Applying {folder}---\n",
    "!kubectl apply -f C:\\\\Services\\\\{folder}\\\\"
   ]
  },
  {
   "cell_type": "markdown",
   "id": "ec526888",
   "metadata": {},
   "source": [
    "## **4. Ingress**"
   ]
  },
  {
   "cell_type": "code",
   "execution_count": 202,
   "id": "04923ee3",
   "metadata": {
    "vscode": {
     "languageId": "bat"
    }
   },
   "outputs": [
    {
     "name": "stdout",
     "output_type": "stream",
     "text": [
      "---Deleting ingress configuration---\n"
     ]
    },
    {
     "name": "stdout",
     "output_type": "stream",
     "text": [
      "ingress.networking.k8s.io \"ingress-configuration\" deleted\n",
      "service \"ingress-nginx-controller\" deleted\n"
     ]
    }
   ],
   "source": [
    "# Delete Ingress Configuration\n",
    "folder = \"ingress\"\n",
    "!echo ---Deleting {folder} configuration---\n",
    "!kubectl delete -f C:\\\\Services\\\\{folder}\\\\"
   ]
  },
  {
   "cell_type": "code",
   "execution_count": 203,
   "id": "6f2d3f16",
   "metadata": {
    "vscode": {
     "languageId": "bat"
    }
   },
   "outputs": [
    {
     "name": "stdout",
     "output_type": "stream",
     "text": [
      "---Applying ingress configuration---\n"
     ]
    },
    {
     "name": "stdout",
     "output_type": "stream",
     "text": [
      "ingress.networking.k8s.io/ingress-configuration created\n",
      "service/ingress-nginx-controller created\n"
     ]
    }
   ],
   "source": [
    "# Apply Ingress Configuration\n",
    "folder = \"ingress\"\n",
    "!echo ---Applying {folder} configuration---\n",
    "!kubectl apply -f C:\\\\Services\\\\{folder}\\\\"
   ]
  },
  {
   "cell_type": "code",
   "execution_count": 8,
   "id": "5e9f6ecf",
   "metadata": {
    "vscode": {
     "languageId": "bat"
    }
   },
   "outputs": [
    {
     "name": "stdout",
     "output_type": "stream",
     "text": [
      "---Deploying Ingress Controller---\n",
      "namespace/ingress-nginx created\n",
      "serviceaccount/ingress-nginx created\n",
      "serviceaccount/ingress-nginx-admission created\n",
      "role.rbac.authorization.k8s.io/ingress-nginx created\n",
      "role.rbac.authorization.k8s.io/ingress-nginx-admission created\n",
      "clusterrole.rbac.authorization.k8s.io/ingress-nginx created\n",
      "clusterrole.rbac.authorization.k8s.io/ingress-nginx-admission created\n",
      "rolebinding.rbac.authorization.k8s.io/ingress-nginx created\n",
      "rolebinding.rbac.authorization.k8s.io/ingress-nginx-admission created\n",
      "clusterrolebinding.rbac.authorization.k8s.io/ingress-nginx created\n",
      "clusterrolebinding.rbac.authorization.k8s.io/ingress-nginx-admission created\n",
      "configmap/ingress-nginx-controller created\n",
      "service/ingress-nginx-controller created\n",
      "service/ingress-nginx-controller-admission created\n",
      "deployment.apps/ingress-nginx-controller created\n",
      "job.batch/ingress-nginx-admission-create created\n",
      "job.batch/ingress-nginx-admission-patch created\n",
      "ingressclass.networking.k8s.io/nginx created\n",
      "validatingwebhookconfiguration.admissionregistration.k8s.io/ingress-nginx-admission created\n"
     ]
    }
   ],
   "source": [
    "# Deploy Ingress Controller\n",
    "!echo ---Deploying Ingress Controller---\n",
    "!kubectl apply -f https://raw.githubusercontent.com/kubernetes/ingress-nginx/main/deploy/static/provider/cloud/deploy.yaml"
   ]
  },
  {
   "cell_type": "markdown",
   "id": "0e46e005",
   "metadata": {},
   "source": [
    "## **5. Custom**"
   ]
  },
  {
   "cell_type": "markdown",
   "id": "1e766fd7",
   "metadata": {},
   "source": [
    "### *5.1. Promtail*"
   ]
  },
  {
   "cell_type": "code",
   "execution_count": null,
   "id": "7f7b8b97",
   "metadata": {
    "vscode": {
     "languageId": "bat"
    }
   },
   "outputs": [
    {
     "name": "stdout",
     "output_type": "stream",
     "text": [
      "---Loki Stack Values---\n"
     ]
    },
    {
     "name": "stdout",
     "output_type": "stream",
     "text": [
      "USER-SUPPLIED VALUES:\n",
      "promtail:\n",
      "  config:\n",
      "    snippets:\n",
      "      pipelineStages:\n",
      "      - docker: {}\n",
      "      - json:\n",
      "          expressions:\n",
      "            level: level\n",
      "            message: message\n",
      "            service: service\n",
      "            timestamp: timestamp\n",
      "      - timestamp:\n",
      "          format: RFC3339\n",
      "          source: timestamp\n",
      "      - labels:\n",
      "          level: level\n",
      "          service: service\n",
      "  enabled: true\n"
     ]
    }
   ],
   "source": [
    "# Display Promtail Values\n",
    "service = \"loki-stack\"\n",
    "namespace = \"monitoring\"\n",
    "!echo ---Promtail Values---\n",
    "!helm get values {service} -n {namespace}"
   ]
  },
  {
   "cell_type": "code",
   "execution_count": 135,
   "id": "590f6bad",
   "metadata": {
    "vscode": {
     "languageId": "bat"
    }
   },
   "outputs": [
    {
     "name": "stdout",
     "output_type": "stream",
     "text": [
      "---Applying promtail-values.yaml configuration---\n"
     ]
    },
    {
     "name": "stdout",
     "output_type": "stream",
     "text": [
      "Release \"loki-stack\" has been upgraded. Happy Helming!\n",
      "NAME: loki-stack\n",
      "LAST DEPLOYED: Wed Jul 23 18:03:05 2025\n",
      "NAMESPACE: monitoring\n",
      "STATUS: deployed\n",
      "REVISION: 10\n",
      "NOTES:\n",
      "The Loki stack has been deployed to your cluster. Loki can now be added as a datasource in Grafana.\n",
      "\n",
      "See http://docs.grafana.org/features/datasources/loki/ for more detail.\n",
      "daemonset.apps/loki-stack-promtail restarted\n"
     ]
    }
   ],
   "source": [
    "# Apply Promtail Configuration\n",
    "folder = \"custom\"\n",
    "file = \"promtail-values.yaml\"\n",
    "!echo ---Applying {file} configuration---\n",
    "!helm upgrade loki-stack grafana/loki-stack -n monitoring -f C:\\\\Services\\\\{folder}\\\\{file}\n",
    "!kubectl rollout restart daemonset loki-stack-promtail -n monitoring"
   ]
  },
  {
   "cell_type": "raw",
   "id": "a7b51ffd",
   "metadata": {
    "vscode": {
     "languageId": "raw"
    }
   },
   "source": [
    "# Default values for Promtail\n",
    "\n",
    "promtail:\n",
    "  enabled: true"
   ]
  }
 ],
 "metadata": {
  "kernelspec": {
   "display_name": "Python 3",
   "language": "python",
   "name": "python3"
  },
  "language_info": {
   "codemirror_mode": {
    "name": "ipython",
    "version": 3
   },
   "file_extension": ".py",
   "mimetype": "text/x-python",
   "name": "python",
   "nbconvert_exporter": "python",
   "pygments_lexer": "ipython3",
   "version": "3.13.5"
  }
 },
 "nbformat": 4,
 "nbformat_minor": 5
}
