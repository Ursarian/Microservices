{
 "cells": [
  {
   "cell_type": "markdown",
   "id": "fdda6239",
   "metadata": {},
   "source": [
    "# **I. KUBERNETES INFOS**"
   ]
  },
  {
   "cell_type": "code",
   "execution_count": 30,
   "id": "bd727816",
   "metadata": {
    "vscode": {
     "languageId": "bat"
    }
   },
   "outputs": [
    {
     "name": "stdout",
     "output_type": "stream",
     "text": [
      "---Namespaces---\n",
      "NAME              STATUS   AGE\n",
      "default           Active   11h\n",
      "ingress-nginx     Active   11h\n",
      "kube-node-lease   Active   11h\n",
      "kube-public       Active   11h\n",
      "kube-system       Active   11h\n"
     ]
    }
   ],
   "source": [
    "# Display all namespaces in the cluster\n",
    "!echo ---Namespaces---\n",
    "!kubectl get ns"
   ]
  },
  {
   "cell_type": "code",
   "execution_count": null,
   "id": "df80c317",
   "metadata": {
    "vscode": {
     "languageId": "bat"
    }
   },
   "outputs": [],
   "source": [
    "# Display all nodes in the cluster\n",
    "!echo ---Nodes---\n",
    "!kubectl get nodes"
   ]
  },
  {
   "cell_type": "code",
   "execution_count": null,
   "id": "dad6afab",
   "metadata": {
    "vscode": {
     "languageId": "bat"
    }
   },
   "outputs": [
    {
     "name": "stdout",
     "output_type": "stream",
     "text": [
      "---Pods---\n",
      "NAME                                 READY   STATUS    RESTARTS   AGE   IP          NODE             NOMINATED NODE   READINESS GATES\n",
      "product-service-7bddd5f79c-v7p8x     1/1     Running   0          58m   10.1.0.45   docker-desktop   <none>           <none>\n",
      "product-service-db-98d6fb46d-lbbrv   1/1     Running   0          58m   10.1.0.44   docker-desktop   <none>           <none>\n",
      "user-service-bd464cd9d-mlnw9         1/1     Running   0          58m   10.1.0.46   docker-desktop   <none>           <none>\n",
      "user-service-db-6c74f9b896-59rfb     1/1     Running   0          58m   10.1.0.49   docker-desktop   <none>           <none>\n",
      "web-interface-7c494cc897-g2gpv       1/1     Running   0          20m   10.1.0.48   docker-desktop   <none>           <none>\n",
      "---Services---\n",
      "NAME                 TYPE        CLUSTER-IP       EXTERNAL-IP   PORT(S)           AGE\n",
      "kubernetes           ClusterIP   10.96.0.1        <none>        443/TCP           6h30m\n",
      "product-service      ClusterIP   10.97.224.250    <none>        3001/TCP          58m\n",
      "product-service-db   NodePort    10.111.72.88     <none>        27017:32018/TCP   58m\n",
      "user-service         ClusterIP   10.110.158.59    <none>        3000/TCP          58m\n",
      "user-service-db      NodePort    10.106.138.234   <none>        27017:32017/TCP   58m\n",
      "web-interface        ClusterIP   10.99.87.28      <none>        80/TCP            20m\n",
      "---PVC---\n",
      "NAME                     STATUS   VOLUME                                     CAPACITY   ACCESS MODES   STORAGECLASS   VOLUMEATTRIBUTESCLASS   AGE\n",
      "product-service-db-pvc   Bound    pvc-e4b73123-c431-4da4-b986-c591c8a351d7   100Mi      RWO            hostpath       <unset>                 5h49m\n",
      "user-service-db-pvc      Bound    pvc-07d54536-7f1c-4839-8624-36d67fc8cd50   100Mi      RWO            hostpath       <unset>                 16m\n"
     ]
    }
   ],
   "source": [
    "# Display all pods and services in the cluster\n",
    "!echo ---Pods---\n",
    "!kubectl get pods -o wide\n",
    "!echo ---Services---\n",
    "!kubectl get svc\n",
    "!echo ---PVC---\n",
    "!kubectl get pvc"
   ]
  },
  {
   "cell_type": "code",
   "execution_count": 17,
   "id": "1db2277a",
   "metadata": {
    "vscode": {
     "languageId": "bat"
    }
   },
   "outputs": [
    {
     "name": "stdout",
     "output_type": "stream",
     "text": [
      "---Storage Classes---\n",
      "NAME                 PROVISIONER          RECLAIMPOLICY   VOLUMEBINDINGMODE   ALLOWVOLUMEEXPANSION   AGE\n",
      "hostpath (default)   docker.io/hostpath   Delete          Immediate           false                  41m\n"
     ]
    }
   ],
   "source": [
    "# Display all storage classes in the cluster\n",
    "!echo ---Storage Classes---\n",
    "!kubectl get storageclass"
   ]
  },
  {
   "cell_type": "code",
   "execution_count": 18,
   "id": "419008b6",
   "metadata": {
    "vscode": {
     "languageId": "bat"
    }
   },
   "outputs": [
    {
     "name": "stdout",
     "output_type": "stream",
     "text": [
      "---Config Maps---\n",
      "NAME                     DATA   AGE\n",
      "auth-messages            2      86s\n",
      "kube-root-ca.crt         1      41m\n",
      "product-service-config   2      85s\n",
      "user-service-config      2      85s\n",
      "web-interface-config     2      85s\n"
     ]
    }
   ],
   "source": [
    "# Display all config maps in the cluster\n",
    "!echo ---Config Maps---\n",
    "!kubectl get configmap"
   ]
  },
  {
   "cell_type": "code",
   "execution_count": 19,
   "id": "d457dac4",
   "metadata": {
    "vscode": {
     "languageId": "bat"
    }
   },
   "outputs": [
    {
     "name": "stdout",
     "output_type": "stream",
     "text": [
      "---Secrets---\n",
      "NAME                     TYPE     DATA   AGE\n",
      "product-service-secret   Opaque   0      89s\n",
      "user-service-secret      Opaque   1      89s\n",
      "web-interface-secret     Opaque   0      89s\n"
     ]
    }
   ],
   "source": [
    "# Display all secrets in the cluster\n",
    "!echo ---Secrets---\n",
    "!kubectl get secret"
   ]
  },
  {
   "cell_type": "code",
   "execution_count": 57,
   "id": "d7bf17ec",
   "metadata": {
    "vscode": {
     "languageId": "bat"
    }
   },
   "outputs": [
    {
     "name": "stdout",
     "output_type": "stream",
     "text": [
      "---Ingress Controller Pods---\n"
     ]
    },
    {
     "name": "stdout",
     "output_type": "stream",
     "text": [
      "NAME                                       READY   STATUS    RESTARTS      AGE\n",
      "ingress-nginx-controller-675c4bf49-dk2kj   1/1     Running   9 (51s ago)   5h46m\n",
      "---Ingress Services---\n",
      "NAME                                 TYPE        CLUSTER-IP     EXTERNAL-IP   PORT(S)        AGE\n",
      "ingress-nginx-controller             NodePort    10.99.7.203    <none>        80:32000/TCP   5h46m\n",
      "ingress-nginx-controller-admission   ClusterIP   10.111.71.82   <none>        443/TCP        5h46m\n",
      "---Ingress---\n",
      "NAMESPACE   NAME                    CLASS   HOSTS   ADDRESS       PORTS   AGE\n",
      "default     ingress-configuration   nginx   *       10.99.7.203   80      5h44m\n"
     ]
    }
   ],
   "source": [
    "# Display Ingress controller details and Ingress resources\n",
    "!echo ---Ingress Controller Pods---\n",
    "!kubectl get pods -n ingress-nginx\n",
    "!echo ---Ingress Services---\n",
    "!kubectl get svc -n ingress-nginx\n",
    "!echo ---Ingress---\n",
    "!kubectl get ingress --all-namespaces"
   ]
  },
  {
   "cell_type": "markdown",
   "id": "56bcbaa6",
   "metadata": {},
   "source": [
    "### *DEBUG*"
   ]
  },
  {
   "cell_type": "code",
   "execution_count": 62,
   "id": "8ea1a4de",
   "metadata": {
    "vscode": {
     "languageId": "bat"
    }
   },
   "outputs": [
    {
     "name": "stdout",
     "output_type": "stream",
     "text": [
      "Name:             ingress-configuration\n",
      "Labels:           <none>\n",
      "Namespace:        default\n",
      "Address:          10.99.7.203\n",
      "Ingress Class:    nginx\n",
      "Default backend:  <default>\n",
      "Rules:\n",
      "  Host        Path  Backends\n",
      "  ----        ----  --------\n",
      "  *           \n",
      "              /api/users      user-service:3000 (10.1.0.46:3000)\n",
      "              /api/products   product-service:3001 (10.1.0.45:3001)\n",
      "              /               web-interface:80 (10.1.0.48:80)\n",
      "Annotations:  kubernetes.io/ingress.class: nginx\n",
      "Events:\n",
      "  Type    Reason  Age                    From                      Message\n",
      "  ----    ------  ----                   ----                      -------\n",
      "  Normal  Sync    3h25m (x2 over 3h25m)  nginx-ingress-controller  Scheduled for sync\n",
      "  Normal  Sync    3h2m                   nginx-ingress-controller  Scheduled for sync\n",
      "  Normal  Sync    148m                   nginx-ingress-controller  Scheduled for sync\n",
      "  Normal  Sync    120m                   nginx-ingress-controller  Scheduled for sync\n",
      "  Normal  Sync    104m (x2 over 104m)    nginx-ingress-controller  Scheduled for sync\n",
      "  Normal  Sync    59m (x2 over 59m)      nginx-ingress-controller  Scheduled for sync\n",
      "  Normal  Sync    11m (x2 over 17m)      nginx-ingress-controller  Scheduled for sync\n",
      "  Normal  Sync    95s                    nginx-ingress-controller  Scheduled for sync\n"
     ]
    }
   ],
   "source": [
    "!kubectl describe ingress ingress-configuration"
   ]
  },
  {
   "cell_type": "code",
   "execution_count": null,
   "id": "e005b1e3",
   "metadata": {
    "vscode": {
     "languageId": "bat"
    }
   },
   "outputs": [],
   "source": [
    "!kubectl logs product-service-db-78878c664b-s68zz"
   ]
  },
  {
   "cell_type": "code",
   "execution_count": null,
   "id": "5d8c677b",
   "metadata": {
    "vscode": {
     "languageId": "bat"
    }
   },
   "outputs": [],
   "source": [
    "!kubectl logs product-service-76558f8d4c-dlmr2 --previous"
   ]
  },
  {
   "cell_type": "markdown",
   "id": "07421c1d",
   "metadata": {},
   "source": [
    "# **II. Frontend**"
   ]
  },
  {
   "cell_type": "markdown",
   "id": "693256b2",
   "metadata": {},
   "source": [
    "### ***WEB INTERFACE***"
   ]
  },
  {
   "cell_type": "code",
   "execution_count": null,
   "id": "b73d6442",
   "metadata": {
    "vscode": {
     "languageId": "bat"
    }
   },
   "outputs": [
    {
     "name": "stdout",
     "output_type": "stream",
     "text": [
      "---Deploying web-interface---\n",
      "deployment.apps/web-interface created\n",
      "service/web-interface created\n"
     ]
    }
   ],
   "source": [
    "# Deploy Web Interface Service\n",
    "service = \"web-interface\"\n",
    "!echo ---Deploying {service}---\n",
    "!kubectl apply -f C:\\\\Services\\\\{service}\\\\k8s\\\\"
   ]
  },
  {
   "cell_type": "code",
   "execution_count": 64,
   "id": "d4b13ebb",
   "metadata": {
    "vscode": {
     "languageId": "bat"
    }
   },
   "outputs": [
    {
     "name": "stdout",
     "output_type": "stream",
     "text": [
      "---Shutting down web-interface---\n"
     ]
    },
    {
     "name": "stdout",
     "output_type": "stream",
     "text": [
      "service \"web-interface\" deleted\n"
     ]
    },
    {
     "name": "stderr",
     "output_type": "stream",
     "text": [
      "Unable to connect to the server: EOF\n",
      "Unable to connect to the server: EOF\n"
     ]
    }
   ],
   "source": [
    "# Shutdown Web Interface Service\n",
    "service = \"web-interface\"\n",
    "!echo ---Shutting down {service}---\n",
    "!kubectl delete service {service}\n",
    "!kubectl delete deployment {service}"
   ]
  },
  {
   "cell_type": "code",
   "execution_count": null,
   "id": "bcf31296",
   "metadata": {
    "vscode": {
     "languageId": "bat"
    }
   },
   "outputs": [
    {
     "name": "stdout",
     "output_type": "stream",
     "text": [
      "---Building web-interface---\n"
     ]
    }
   ],
   "source": [
    "# Build Web Interface Service\n",
    "service = \"web-interface\"\n",
    "!echo ---Building {service}---\n",
    "!docker build -t {service} C:\\\\Services\\\\{service}\\\\"
   ]
  },
  {
   "cell_type": "markdown",
   "id": "454e88c7",
   "metadata": {},
   "source": [
    "# **III. BACKEND**"
   ]
  },
  {
   "cell_type": "markdown",
   "id": "ea32684c",
   "metadata": {},
   "source": [
    "## ***User Service***"
   ]
  },
  {
   "cell_type": "code",
   "execution_count": null,
   "id": "dadc16a1",
   "metadata": {
    "vscode": {
     "languageId": "bat"
    }
   },
   "outputs": [
    {
     "name": "stdout",
     "output_type": "stream",
     "text": [
      "---Deploying user-service---\n",
      "deployment.apps/user-service-db unchanged\n",
      "service/user-service-db unchanged\n",
      "deployment.apps/user-service unchanged\n",
      "service/user-service unchanged\n"
     ]
    }
   ],
   "source": [
    "# Deploy User Service\n",
    "service = \"user-service\"\n",
    "!echo ---Deploying {service}---\n",
    "!kubectl apply -f C:\\\\Services\\\\{service}\\\\k8s\\\\"
   ]
  },
  {
   "cell_type": "code",
   "execution_count": null,
   "id": "fb4de299",
   "metadata": {
    "vscode": {
     "languageId": "bat"
    }
   },
   "outputs": [
    {
     "name": "stdout",
     "output_type": "stream",
     "text": [
      "---Shutting down user-service---\n"
     ]
    },
    {
     "name": "stderr",
     "output_type": "stream",
     "text": [
      "Unable to connect to the server: EOF\n",
      "Unable to connect to the server: EOF\n",
      "Unable to connect to the server: EOF\n",
      "Unable to connect to the server: EOF\n"
     ]
    }
   ],
   "source": [
    "# Shutdown User Service\n",
    "service = \"user-service\"\n",
    "service_db = f\"{service}-db\"\n",
    "!echo ---Shutting down {service}---\n",
    "!kubectl delete service {service}\n",
    "!kubectl delete deployment {service}\n",
    "!kubectl delete service {service_db}\n",
    "!kubectl delete deployment {service_db}"
   ]
  },
  {
   "cell_type": "code",
   "execution_count": null,
   "id": "7823d9d2",
   "metadata": {
    "vscode": {
     "languageId": "bat"
    }
   },
   "outputs": [
    {
     "name": "stdout",
     "output_type": "stream",
     "text": [
      "---Building user-service---\n"
     ]
    },
    {
     "name": "stderr",
     "output_type": "stream",
     "text": [
      "#0 building with \"desktop-linux\" instance using docker driver\n",
      "\n",
      "#1 [internal] load build definition from Dockerfile\n",
      "#1 transferring dockerfile: 335B 0.1s done\n",
      "#1 DONE 0.1s\n",
      "\n",
      "#2 [internal] load metadata for docker.io/library/node:18-alpine\n",
      "#2 DONE 0.6s\n",
      "\n",
      "#3 [internal] load .dockerignore\n",
      "#3 transferring context: 79B 0.0s done\n",
      "#3 DONE 0.1s\n",
      "\n",
      "#4 [internal] load build context\n",
      "#4 transferring context: 851B 0.0s done\n",
      "#4 DONE 0.1s\n",
      "\n",
      "#5 [1/5] FROM docker.io/library/node:18-alpine@sha256:8d6421d663b4c28fd3ebc498332f249011d118945588d0a35cb9bc4b8ca09d9e\n",
      "#5 resolve docker.io/library/node:18-alpine@sha256:8d6421d663b4c28fd3ebc498332f249011d118945588d0a35cb9bc4b8ca09d9e\n",
      "#5 resolve docker.io/library/node:18-alpine@sha256:8d6421d663b4c28fd3ebc498332f249011d118945588d0a35cb9bc4b8ca09d9e 0.2s done\n",
      "#5 DONE 0.2s\n",
      "\n",
      "#6 [3/5] COPY package*.json ./\n",
      "#6 CACHED\n",
      "\n",
      "#7 [4/5] RUN npm install\n",
      "#7 CACHED\n",
      "\n",
      "#8 [2/5] WORKDIR /app\n",
      "#8 CACHED\n",
      "\n",
      "#9 [5/5] COPY . .\n",
      "#9 CACHED\n",
      "\n",
      "#10 exporting to image\n",
      "#10 exporting layers 0.1s done\n",
      "#10 exporting manifest sha256:38693d7882e6bdb17065e2bacfa6abd90c99ceaf70cdcd7e5e71abc2344c6ca0 0.0s done\n",
      "#10 exporting config sha256:4d29be281906352d88c9cb14635fbe54b54b0e304553b436e8f5b1413f367cf2 0.0s done\n",
      "#10 exporting attestation manifest sha256:95c3f7db0e5bc4c2b71e1e660904b4010b2695a55618677d9c58dd999594f0bf\n",
      "#10 exporting attestation manifest sha256:95c3f7db0e5bc4c2b71e1e660904b4010b2695a55618677d9c58dd999594f0bf 0.2s done\n",
      "#10 exporting manifest list sha256:8498e90af98c75716532de139c04fda4288302aa485c68d2ffe7ee66a837c2a3\n",
      "#10 exporting manifest list sha256:8498e90af98c75716532de139c04fda4288302aa485c68d2ffe7ee66a837c2a3 0.1s done\n",
      "#10 naming to docker.io/library/user-service:latest 0.0s done\n",
      "#10 unpacking to docker.io/library/user-service:latest\n",
      "#10 unpacking to docker.io/library/user-service:latest 0.1s done\n",
      "#10 DONE 1.2s\n",
      "\n",
      "View build details: docker-desktop://dashboard/build/desktop-linux/desktop-linux/hittqv4cdw4ulnkn3b87tlkb5\n"
     ]
    }
   ],
   "source": [
    "# Build User Service\n",
    "service = \"user-service\"\n",
    "!echo ---Building {service}---\n",
    "!docker build -t {service} C:\\\\Services\\\\{service}\\\\"
   ]
  },
  {
   "cell_type": "markdown",
   "id": "18bd97ca",
   "metadata": {},
   "source": [
    "### *PVC (User Service)*"
   ]
  },
  {
   "cell_type": "code",
   "execution_count": 48,
   "id": "060bf429",
   "metadata": {
    "vscode": {
     "languageId": "bat"
    }
   },
   "outputs": [
    {
     "name": "stdout",
     "output_type": "stream",
     "text": [
      "---Deploying PVC for user-service---\n"
     ]
    },
    {
     "name": "stdout",
     "output_type": "stream",
     "text": [
      "persistentvolumeclaim/user-service-db-pvc created\n"
     ]
    }
   ],
   "source": [
    "# Deploy PVC for User Service\n",
    "service = \"user-service\"\n",
    "!echo ---Deploying PVC for {service}---\n",
    "!kubectl apply -f C:\\\\Services\\\\{service}\\\\k8s\\\\pvc"
   ]
  },
  {
   "cell_type": "code",
   "execution_count": null,
   "id": "1ffaa438",
   "metadata": {
    "vscode": {
     "languageId": "bat"
    }
   },
   "outputs": [
    {
     "name": "stdout",
     "output_type": "stream",
     "text": [
      "---Shutting down PVC for user-service---\n",
      "persistentvolumeclaim \"user-service-db-pvc\" deleted\n"
     ]
    }
   ],
   "source": [
    "# Shutdown PVC for User Service\n",
    "service = \"user-service\"\n",
    "service_pvc = f\"{service}-db-pvc\"\n",
    "!echo ---Shutting down PVC for {service}---\n",
    "!kubectl delete pvc {service_pvc}"
   ]
  },
  {
   "cell_type": "markdown",
   "id": "a35c82a6",
   "metadata": {},
   "source": [
    "## ***Product Service***"
   ]
  },
  {
   "cell_type": "code",
   "execution_count": null,
   "id": "68309b39",
   "metadata": {
    "vscode": {
     "languageId": "bat"
    }
   },
   "outputs": [
    {
     "name": "stdout",
     "output_type": "stream",
     "text": [
      "---Deploying product-service---\n"
     ]
    },
    {
     "name": "stdout",
     "output_type": "stream",
     "text": [
      "deployment.apps/product-service-db unchanged\n",
      "service/product-service-db unchanged\n",
      "deployment.apps/product-service unchanged\n",
      "service/product-service unchanged\n"
     ]
    }
   ],
   "source": [
    "# Deploy Product Service\n",
    "service = \"product-service\"\n",
    "!echo ---Deploying {service}---\n",
    "!kubectl apply -f C:\\\\Services\\\\{service}\\\\k8s\\\\"
   ]
  },
  {
   "cell_type": "code",
   "execution_count": null,
   "id": "fa506d89",
   "metadata": {
    "vscode": {
     "languageId": "bat"
    }
   },
   "outputs": [
    {
     "name": "stdout",
     "output_type": "stream",
     "text": [
      "---Shutting down product-service---\n"
     ]
    },
    {
     "name": "stderr",
     "output_type": "stream",
     "text": [
      "Unable to connect to the server: EOF\n",
      "Unable to connect to the server: EOF\n",
      "Unable to connect to the server: EOF\n",
      "Unable to connect to the server: EOF\n"
     ]
    }
   ],
   "source": [
    "# Shutdown Product Service\n",
    "service = \"product-service\"\n",
    "service_db = f\"{service}-db\"\n",
    "!echo ---Shutting down {service}---\n",
    "!kubectl delete service {service}\n",
    "!kubectl delete deployment {service}\n",
    "!kubectl delete service {service_db}\n",
    "!kubectl delete deployment {service_db}"
   ]
  },
  {
   "cell_type": "code",
   "execution_count": null,
   "id": "2f33470a",
   "metadata": {
    "vscode": {
     "languageId": "bat"
    }
   },
   "outputs": [
    {
     "name": "stdout",
     "output_type": "stream",
     "text": [
      "---Building product-service---\n"
     ]
    },
    {
     "name": "stderr",
     "output_type": "stream",
     "text": [
      "#0 building with \"desktop-linux\" instance using docker driver\n",
      "\n",
      "#1 [internal] load build definition from Dockerfile\n",
      "#1 transferring dockerfile: 337B 0.0s done\n",
      "#1 DONE 0.1s\n",
      "\n",
      "#2 [internal] load metadata for docker.io/library/node:18-alpine\n",
      "#2 DONE 0.5s\n",
      "\n",
      "#3 [internal] load .dockerignore\n",
      "#3 transferring context: 79B 0.0s done\n",
      "#3 DONE 0.1s\n",
      "\n",
      "#4 [internal] load build context\n",
      "#4 transferring context: 867B 0.0s done\n",
      "#4 DONE 0.1s\n",
      "\n",
      "#5 [1/5] FROM docker.io/library/node:18-alpine@sha256:8d6421d663b4c28fd3ebc498332f249011d118945588d0a35cb9bc4b8ca09d9e\n",
      "#5 resolve docker.io/library/node:18-alpine@sha256:8d6421d663b4c28fd3ebc498332f249011d118945588d0a35cb9bc4b8ca09d9e 0.2s done\n",
      "#5 DONE 0.2s\n",
      "\n",
      "#6 [3/5] COPY package*.json ./\n",
      "#6 CACHED\n",
      "\n",
      "#7 [4/5] RUN npm install\n",
      "#7 CACHED\n",
      "\n",
      "#8 [2/5] WORKDIR /app\n",
      "#8 CACHED\n",
      "\n",
      "#9 [5/5] COPY . .\n",
      "#9 CACHED\n",
      "\n",
      "#10 exporting to image\n",
      "#10 exporting layers 0.0s done\n",
      "#10 exporting manifest sha256:68e8e42eaab5cb6b09167ffc7a0959925c218c871799c15b57d5eb3c4b090144 0.0s done\n",
      "#10 exporting config sha256:84af1460cf4a0377e36d9c03599e0728c917fecd9f3d13d547cdba0e06b46f94 0.0s done\n",
      "#10 exporting attestation manifest sha256:70389f356ca6687edd11284d5cb4e8fa7bea9b8a2659e96eeca5996038787f1e\n",
      "#10 exporting attestation manifest sha256:70389f356ca6687edd11284d5cb4e8fa7bea9b8a2659e96eeca5996038787f1e 0.2s done\n",
      "#10 exporting manifest list sha256:4c1d5de92448bc8cfe241b840b09821fdc0774eddee1cfab7c7694dc026c633a\n",
      "#10 exporting manifest list sha256:4c1d5de92448bc8cfe241b840b09821fdc0774eddee1cfab7c7694dc026c633a 0.1s done\n",
      "#10 naming to docker.io/library/product-service:latest\n",
      "#10 naming to docker.io/library/product-service:latest 0.0s done\n",
      "#10 unpacking to docker.io/library/product-service:latest 0.1s done\n",
      "#10 DONE 1.0s\n",
      "\n",
      "View build details: docker-desktop://dashboard/build/desktop-linux/desktop-linux/dr7bwb4yewvmigyl10ua8tgt1\n"
     ]
    }
   ],
   "source": [
    "# Build Product Service\n",
    "service = \"product-service\"\n",
    "!echo ---Building {service}---\n",
    "!docker build -t {service} C:\\\\Services\\\\{service}\\\\"
   ]
  },
  {
   "cell_type": "markdown",
   "id": "c832fe94",
   "metadata": {},
   "source": [
    "### *PVC (Product Service)*"
   ]
  },
  {
   "cell_type": "code",
   "execution_count": 12,
   "id": "8602b3af",
   "metadata": {
    "vscode": {
     "languageId": "bat"
    }
   },
   "outputs": [
    {
     "name": "stdout",
     "output_type": "stream",
     "text": [
      "---Deploying PVC---\n",
      "persistentvolumeclaim/product-service-db-pvc created\n"
     ]
    }
   ],
   "source": [
    "# Deploy PVC for Product Service\n",
    "service = \"product-service\"\n",
    "!echo ---Deploying PVC---\n",
    "!kubectl apply -f C:\\\\Services\\\\{service}\\\\k8s\\\\pvc"
   ]
  },
  {
   "cell_type": "code",
   "execution_count": null,
   "id": "efef4e7c",
   "metadata": {
    "vscode": {
     "languageId": "bat"
    }
   },
   "outputs": [
    {
     "name": "stdout",
     "output_type": "stream",
     "text": [
      "---Shutting down PVC---\n",
      "persistentvolumeclaim \"product-service-db-pvc\" deleted\n"
     ]
    }
   ],
   "source": [
    "# Shutdown PVC for Product Service\n",
    "service = \"product-service\"\n",
    "service_pvc = f\"{service}-db-pvc\"\n",
    "!echo ---Shutting down PVC---\n",
    "!kubectl delete pvc {service_pvc}"
   ]
  },
  {
   "cell_type": "markdown",
   "id": "697567e1",
   "metadata": {},
   "source": [
    "# **IV. Configuration**"
   ]
  },
  {
   "cell_type": "markdown",
   "id": "602774bf",
   "metadata": {},
   "source": [
    "## ***ConfigMaps***"
   ]
  },
  {
   "cell_type": "code",
   "execution_count": null,
   "id": "fede3f56",
   "metadata": {
    "vscode": {
     "languageId": "bat"
    }
   },
   "outputs": [
    {
     "name": "stdout",
     "output_type": "stream",
     "text": [
      "---Applying configmaps---\n",
      "configmap/auth-messages unchanged\n",
      "configmap/user-service-config unchanged\n",
      "configmap/product-service-config unchanged\n",
      "configmap/web-interface-config configured\n"
     ]
    }
   ],
   "source": [
    "# Apply ConfigMaps\n",
    "folder = \"configmaps\"\n",
    "!echo ---Applying {folder}---\n",
    "!kubectl apply -f C:\\\\Services\\\\{folder}\\\\"
   ]
  },
  {
   "cell_type": "markdown",
   "id": "472265c9",
   "metadata": {},
   "source": [
    "## ***Secrets***"
   ]
  },
  {
   "cell_type": "code",
   "execution_count": null,
   "id": "d73ca3ef",
   "metadata": {
    "vscode": {
     "languageId": "bat"
    }
   },
   "outputs": [
    {
     "name": "stdout",
     "output_type": "stream",
     "text": [
      "---Applying secrets---\n",
      "secret/user-service-secret configured\n",
      "secret/product-service-secret configured\n",
      "secret/web-interface-secret configured\n"
     ]
    }
   ],
   "source": [
    "# Apply Secrets\n",
    "folder = \"secrets\"\n",
    "!echo ---Applying {folder}---\n",
    "!kubectl apply -f C:\\\\Services\\\\{folder}\\\\"
   ]
  },
  {
   "cell_type": "markdown",
   "id": "ec526888",
   "metadata": {},
   "source": [
    "## ***Ingress***"
   ]
  },
  {
   "cell_type": "code",
   "execution_count": null,
   "id": "04923ee3",
   "metadata": {
    "vscode": {
     "languageId": "bat"
    }
   },
   "outputs": [
    {
     "name": "stdout",
     "output_type": "stream",
     "text": [
      "---Applying ingress configuration---\n",
      "ingress.networking.k8s.io/ingress-configuration configured\n",
      "service/ingress-nginx-controller unchanged\n"
     ]
    }
   ],
   "source": [
    "# Apply Ingress Configuration\n",
    "folder = \"ingress\"\n",
    "!echo ---Applying {folder} configuration---\n",
    "!kubectl apply -f C:\\\\Services\\\\{folder}\\\\"
   ]
  },
  {
   "cell_type": "code",
   "execution_count": 8,
   "id": "5e9f6ecf",
   "metadata": {
    "vscode": {
     "languageId": "bat"
    }
   },
   "outputs": [
    {
     "name": "stdout",
     "output_type": "stream",
     "text": [
      "---Deploying Ingress Controller---\n",
      "namespace/ingress-nginx created\n",
      "serviceaccount/ingress-nginx created\n",
      "serviceaccount/ingress-nginx-admission created\n",
      "role.rbac.authorization.k8s.io/ingress-nginx created\n",
      "role.rbac.authorization.k8s.io/ingress-nginx-admission created\n",
      "clusterrole.rbac.authorization.k8s.io/ingress-nginx created\n",
      "clusterrole.rbac.authorization.k8s.io/ingress-nginx-admission created\n",
      "rolebinding.rbac.authorization.k8s.io/ingress-nginx created\n",
      "rolebinding.rbac.authorization.k8s.io/ingress-nginx-admission created\n",
      "clusterrolebinding.rbac.authorization.k8s.io/ingress-nginx created\n",
      "clusterrolebinding.rbac.authorization.k8s.io/ingress-nginx-admission created\n",
      "configmap/ingress-nginx-controller created\n",
      "service/ingress-nginx-controller created\n",
      "service/ingress-nginx-controller-admission created\n",
      "deployment.apps/ingress-nginx-controller created\n",
      "job.batch/ingress-nginx-admission-create created\n",
      "job.batch/ingress-nginx-admission-patch created\n",
      "ingressclass.networking.k8s.io/nginx created\n",
      "validatingwebhookconfiguration.admissionregistration.k8s.io/ingress-nginx-admission created\n"
     ]
    }
   ],
   "source": [
    "# Deploy Ingress Controller\n",
    "!echo ---Deploying Ingress Controller---\n",
    "!kubectl apply -f https://raw.githubusercontent.com/kubernetes/ingress-nginx/main/deploy/static/provider/cloud/deploy.yaml"
   ]
  },
  {
   "cell_type": "markdown",
   "id": "acd44afc",
   "metadata": {},
   "source": [
    "## ***Portforward***"
   ]
  },
  {
   "cell_type": "code",
   "execution_count": 5,
   "id": "b9e80886",
   "metadata": {
    "vscode": {
     "languageId": "bat"
    }
   },
   "outputs": [
    {
     "name": "stderr",
     "output_type": "stream",
     "text": [
      "System error 5 has occurred.\n",
      "\n",
      "Access is denied.\n",
      "\n"
     ]
    }
   ],
   "source": [
    "# Shutdown Local MongoDB\n",
    "!net stop MongoDB"
   ]
  },
  {
   "cell_type": "code",
   "execution_count": null,
   "id": "267d3131",
   "metadata": {
    "vscode": {
     "languageId": "bat"
    }
   },
   "outputs": [
    {
     "name": "stdout",
     "output_type": "stream",
     "text": [
      "---Portforwarding MongoDB---\n",
      "^C\n"
     ]
    }
   ],
   "source": [
    "# Portforwarding MongoDB\n",
    "!echo ---Portforwarding MongoDB---\n",
    "!kubectl port-forward svc/user-service-db 27017:27017\n",
    "!kubectl port-forward svc/product-service-db 27018:27017"
   ]
  }
 ],
 "metadata": {
  "kernelspec": {
   "display_name": "Python 3",
   "language": "python",
   "name": "python3"
  },
  "language_info": {
   "codemirror_mode": {
    "name": "ipython",
    "version": 3
   },
   "file_extension": ".py",
   "mimetype": "text/x-python",
   "name": "python",
   "nbconvert_exporter": "python",
   "pygments_lexer": "ipython3",
   "version": "3.13.5"
  }
 },
 "nbformat": 4,
 "nbformat_minor": 5
}
