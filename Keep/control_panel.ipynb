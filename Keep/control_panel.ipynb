{
 "cells": [
  {
   "cell_type": "markdown",
   "id": "fdda6239",
   "metadata": {},
   "source": [
    "# **I. KUBERNETES RESOURCE**"
   ]
  },
  {
   "cell_type": "markdown",
   "id": "bf167768",
   "metadata": {},
   "source": [
    "## **1. Resource Inspection**"
   ]
  },
  {
   "cell_type": "markdown",
   "id": "46353267",
   "metadata": {},
   "source": [
    "### *1.1. Default*"
   ]
  },
  {
   "cell_type": "code",
   "execution_count": 97,
   "id": "dad6afab",
   "metadata": {
    "vscode": {
     "languageId": "bat"
    }
   },
   "outputs": [
    {
     "name": "stdout",
     "output_type": "stream",
     "text": [
      "---Pods---\n",
      "NAME                                                     READY   STATUS    RESTARTS       AGE   IP           NODE             NOMINATED NODE   READINESS GATES\n",
      "alertmanager-monitoring-kube-prometheus-alertmanager-0   2/2     Running   7 (33m ago)    16h   10.1.0.159   docker-desktop   <none>           <none>\n",
      "monitoring-grafana-944547fdc-5c2cd                       3/3     Running   10 (33m ago)   13h   10.1.0.155   docker-desktop   <none>           <none>\n",
      "monitoring-kube-prometheus-operator-74b5f54dbf-2kj7g     1/1     Running   7 (31m ago)    16h   10.1.0.153   docker-desktop   <none>           <none>\n",
      "monitoring-kube-state-metrics-585b45df98-lf89j           1/1     Running   7 (31m ago)    16h   10.1.0.154   docker-desktop   <none>           <none>\n",
      "prometheus-monitoring-kube-prometheus-prometheus-0       2/2     Running   7 (33m ago)    16h   10.1.0.160   docker-desktop   <none>           <none>\n",
      "---Services---\n",
      "NAME                                      TYPE        CLUSTER-IP       EXTERNAL-IP   PORT(S)                      AGE   SELECTOR\n",
      "alertmanager-operated                     ClusterIP   None             <none>        9093/TCP,9094/TCP,9094/UDP   16h   app.kubernetes.io/name=alertmanager\n",
      "kubernetes                                ClusterIP   10.96.0.1        <none>        443/TCP                      40h   <none>\n",
      "monitoring-grafana                        ClusterIP   10.97.102.3      <none>        80/TCP                       16h   app.kubernetes.io/instance=monitoring,app.kubernetes.io/name=grafana\n",
      "monitoring-kube-prometheus-alertmanager   ClusterIP   10.96.148.136    <none>        9093/TCP,8080/TCP            16h   alertmanager=monitoring-kube-prometheus-alertmanager,app.kubernetes.io/name=alertmanager\n",
      "monitoring-kube-prometheus-operator       ClusterIP   10.101.137.204   <none>        443/TCP                      16h   app=kube-prometheus-stack-operator,release=monitoring\n",
      "monitoring-kube-prometheus-prometheus     ClusterIP   10.108.115.180   <none>        9090/TCP,8080/TCP            16h   app.kubernetes.io/name=prometheus,operator.prometheus.io/name=monitoring-kube-prometheus-prometheus\n",
      "monitoring-kube-state-metrics             ClusterIP   10.101.153.177   <none>        8080/TCP                     16h   app.kubernetes.io/instance=monitoring,app.kubernetes.io/name=kube-state-metrics\n",
      "prometheus-operated                       ClusterIP   None             <none>        9090/TCP                     16h   app.kubernetes.io/name=prometheus\n",
      "---PVC---\n"
     ]
    },
    {
     "name": "stderr",
     "output_type": "stream",
     "text": [
      "No resources found in default namespace.\n"
     ]
    }
   ],
   "source": [
    "# Display all Kubernetes resources in the default namespace\n",
    "namespace = \"default\"\n",
    "!echo ---Pods---\n",
    "!kubectl get pods -o wide -n {namespace}\n",
    "!echo ---Services---\n",
    "!kubectl get svc -o wide -n {namespace}\n",
    "!echo ---PVC---\n",
    "!kubectl get pvc -o wide -n {namespace}"
   ]
  },
  {
   "cell_type": "code",
   "execution_count": 98,
   "id": "5c5f7c3c",
   "metadata": {
    "vscode": {
     "languageId": "bat"
    }
   },
   "outputs": [
    {
     "name": "stdout",
     "output_type": "stream",
     "text": [
      "---Config Maps---\n"
     ]
    },
    {
     "name": "stdout",
     "output_type": "stream",
     "text": [
      "NAME                                                           DATA   AGE\n",
      "auth-messages                                                  2      40h\n",
      "kube-root-ca.crt                                               1      40h\n",
      "monitoring-grafana                                             1      16h\n",
      "monitoring-grafana-config-dashboards                           1      16h\n",
      "monitoring-kube-prometheus-alertmanager-overview               1      16h\n",
      "monitoring-kube-prometheus-apiserver                           1      16h\n",
      "monitoring-kube-prometheus-cluster-total                       1      16h\n",
      "monitoring-kube-prometheus-controller-manager                  1      16h\n",
      "monitoring-kube-prometheus-etcd                                1      16h\n",
      "monitoring-kube-prometheus-grafana-datasource                  1      16h\n",
      "monitoring-kube-prometheus-grafana-overview                    1      16h\n",
      "monitoring-kube-prometheus-k8s-coredns                         1      16h\n",
      "monitoring-kube-prometheus-k8s-resources-cluster               1      16h\n",
      "monitoring-kube-prometheus-k8s-resources-multicluster          1      16h\n",
      "monitoring-kube-prometheus-k8s-resources-namespace             1      16h\n",
      "monitoring-kube-prometheus-k8s-resources-node                  1      16h\n",
      "monitoring-kube-prometheus-k8s-resources-pod                   1      16h\n",
      "monitoring-kube-prometheus-k8s-resources-workload              1      16h\n",
      "monitoring-kube-prometheus-k8s-resources-workloads-namespace   1      16h\n",
      "monitoring-kube-prometheus-kubelet                             1      16h\n",
      "monitoring-kube-prometheus-namespace-by-pod                    1      16h\n",
      "monitoring-kube-prometheus-namespace-by-workload               1      16h\n",
      "monitoring-kube-prometheus-persistentvolumesusage              1      16h\n",
      "monitoring-kube-prometheus-pod-total                           1      16h\n",
      "monitoring-kube-prometheus-prometheus                          1      16h\n",
      "monitoring-kube-prometheus-proxy                               1      16h\n",
      "monitoring-kube-prometheus-scheduler                           1      16h\n",
      "monitoring-kube-prometheus-workload-total                      1      16h\n",
      "prometheus-monitoring-kube-prometheus-prometheus-rulefiles-0   35     16h\n",
      "---Secrets---\n",
      "NAME                                                                                  TYPE                 DATA   AGE\n",
      "alertmanager-monitoring-kube-prometheus-alertmanager                                  Opaque               1      16h\n",
      "alertmanager-monitoring-kube-prometheus-alertmanager-cluster-tls-config               Opaque               1      16h\n",
      "alertmanager-monitoring-kube-prometheus-alertmanager-generated                        Opaque               1      16h\n",
      "alertmanager-monitoring-kube-prometheus-alertmanager-tls-assets-0                     Opaque               0      16h\n",
      "alertmanager-monitoring-kube-prometheus-alertmanager-web-config                       Opaque               1      16h\n",
      "monitoring-grafana                                                                    Opaque               3      16h\n",
      "monitoring-kube-prometheus-admission                                                  Opaque               3      16h\n",
      "prometheus-monitoring-kube-prometheus-prometheus                                      Opaque               1      16h\n",
      "prometheus-monitoring-kube-prometheus-prometheus-thanos-prometheus-http-client-file   Opaque               1      16h\n",
      "prometheus-monitoring-kube-prometheus-prometheus-tls-assets-0                         Opaque               1      16h\n",
      "prometheus-monitoring-kube-prometheus-prometheus-web-config                           Opaque               1      16h\n",
      "sh.helm.release.v1.monitoring.v1                                                      helm.sh/release.v1   1      16h\n"
     ]
    }
   ],
   "source": [
    "# Display all config maps and secrets in the default namespace\n",
    "namespace = \"default\"\n",
    "!echo ---Config Maps---\n",
    "!kubectl get configmap -n {namespace}\n",
    "!echo ---Secrets---\n",
    "!kubectl get secret -n {namespace}"
   ]
  },
  {
   "cell_type": "markdown",
   "id": "ae57fc64",
   "metadata": {},
   "source": [
    "### *1.2. My Services*"
   ]
  },
  {
   "cell_type": "code",
   "execution_count": 116,
   "id": "66ad2970",
   "metadata": {
    "vscode": {
     "languageId": "bat"
    }
   },
   "outputs": [
    {
     "name": "stdout",
     "output_type": "stream",
     "text": [
      "---Pods---\n",
      "NAME                                 READY   STATUS    RESTARTS      AGE    IP           NODE             NOMINATED NODE   READINESS GATES\n",
      "product-service-7bddd5f79c-thtnp     1/1     Running   1 (64m ago)   144m   10.1.0.158   docker-desktop   <none>           <none>\n",
      "product-service-db-98d6fb46d-gct5z   1/1     Running   1 (64m ago)   144m   10.1.0.152   docker-desktop   <none>           <none>\n",
      "user-service-bd464cd9d-66ghp         1/1     Running   3 (46m ago)   144m   10.1.0.144   docker-desktop   <none>           <none>\n",
      "user-service-db-6c74f9b896-9ff5m     1/1     Running   1 (64m ago)   144m   10.1.0.157   docker-desktop   <none>           <none>\n",
      "web-interface-7c494cc897-5shj4       1/1     Running   1 (64m ago)   142m   10.1.0.145   docker-desktop   <none>           <none>\n",
      "---Services---\n",
      "NAME                 TYPE        CLUSTER-IP       EXTERNAL-IP   PORT(S)           AGE    SELECTOR\n",
      "product-service      ClusterIP   10.104.150.181   <none>        3001/TCP          144m   app.kubernetes.io/name=product-service\n",
      "product-service-db   NodePort    10.107.167.217   <none>        27017:32018/TCP   144m   app.kubernetes.io/name=product-service-db\n",
      "user-service         ClusterIP   10.98.23.134     <none>        3000/TCP          144m   app.kubernetes.io/name=user-service\n",
      "user-service-db      NodePort    10.107.202.225   <none>        27017:32017/TCP   144m   app.kubernetes.io/name=user-service-db\n",
      "web-interface        ClusterIP   10.107.11.111    <none>        80/TCP            142m   app.kubernetes.io/name=web-interface\n",
      "---PVC---\n",
      "NAME                     STATUS   VOLUME                                     CAPACITY   ACCESS MODES   STORAGECLASS   VOLUMEATTRIBUTESCLASS   AGE    VOLUMEMODE\n",
      "product-service-db-pvc   Bound    pvc-6468e0db-5d34-4139-aae6-66e15c670830   100Mi      RWO            hostpath       <unset>                 141m   Filesystem\n",
      "user-service-db-pvc      Bound    pvc-5af0d55a-eb31-4ca5-8db4-ac47e9c0c939   100Mi      RWO            hostpath       <unset>                 141m   Filesystem\n"
     ]
    }
   ],
   "source": [
    "# Display Kubernetes resources in the my-services namespace\n",
    "namespace = \"my-services\"\n",
    "!echo ---Pods---\n",
    "!kubectl get pods -o wide -n {namespace}\n",
    "!echo ---Services---\n",
    "!kubectl get svc -o wide -n {namespace}\n",
    "!echo ---PVC---\n",
    "!kubectl get pvc -o wide -n {namespace}"
   ]
  },
  {
   "cell_type": "code",
   "execution_count": 101,
   "id": "419008b6",
   "metadata": {
    "vscode": {
     "languageId": "bat"
    }
   },
   "outputs": [
    {
     "name": "stdout",
     "output_type": "stream",
     "text": [
      "---Config Maps---\n"
     ]
    },
    {
     "name": "stdout",
     "output_type": "stream",
     "text": [
      "NAME                     DATA   AGE\n",
      "error-codes              22     80m\n",
      "kube-root-ca.crt         1      142m\n",
      "product-service-config   2      80m\n",
      "user-service-config      2      80m\n",
      "web-interface-config     3      80m\n",
      "---Secrets---\n",
      "NAME                     TYPE     DATA   AGE\n",
      "product-service-secret   Opaque   0      88m\n",
      "user-service-secret      Opaque   1      88m\n",
      "web-interface-secret     Opaque   0      88m\n"
     ]
    }
   ],
   "source": [
    "# Display all config maps and secrets in the my-services namespace\n",
    "namespace = \"my-services\"\n",
    "!echo ---Config Maps---\n",
    "!kubectl get configmap -n {namespace}\n",
    "!echo ---Secrets---\n",
    "!kubectl get secret -n {namespace}"
   ]
  },
  {
   "cell_type": "code",
   "execution_count": 114,
   "id": "07caa1fb",
   "metadata": {
    "vscode": {
     "languageId": "bat"
    }
   },
   "outputs": [
    {
     "name": "stdout",
     "output_type": "stream",
     "text": [
      "---Ingress Configuration Details---\n",
      "Name:             ingress-configuration\n",
      "Labels:           <none>\n",
      "Namespace:        my-services\n",
      "Address:          10.96.60.73\n",
      "Ingress Class:    nginx\n",
      "Default backend:  <default>\n",
      "Rules:\n",
      "  Host        Path  Backends\n",
      "  ----        ----  --------\n",
      "  *           \n",
      "              /api/users      user-service:3000 (10.1.0.144:3000)\n",
      "              /api/products   product-service:3001 (10.1.0.158:3001)\n",
      "              /               web-interface:80 (10.1.0.145:80)\n",
      "Annotations:  kubernetes.io/ingress.class: nginx\n",
      "Events:\n",
      "  Type    Reason  Age                  From                      Message\n",
      "  ----    ------  ----                 ----                      -------\n",
      "  Normal  Sync    110m (x2 over 110m)  nginx-ingress-controller  Scheduled for sync\n",
      "  Normal  Sync    73m                  nginx-ingress-controller  Scheduled for sync\n",
      "  Normal  Sync    54m                  nginx-ingress-controller  Scheduled for sync\n"
     ]
    }
   ],
   "source": [
    "# Display Ingress configuration details in the my-services namespace\n",
    "namespace = \"my-services\"\n",
    "!echo ---Ingress Configuration Details---\n",
    "!kubectl describe ingress ingress-configuration -n {namespace}"
   ]
  },
  {
   "cell_type": "markdown",
   "id": "3623c065",
   "metadata": {
    "vscode": {
     "languageId": "bat"
    }
   },
   "source": [
    "#### *Logs and Debug*"
   ]
  },
  {
   "cell_type": "code",
   "execution_count": null,
   "id": "82f2de5f",
   "metadata": {
    "vscode": {
     "languageId": "bat"
    }
   },
   "outputs": [
    {
     "name": "stdout",
     "output_type": "stream",
     "text": [
      "---Logs for user-service-bd464cd9d-66ghp---\n",
      "\n",
      "> user-service@1.0.0 start\n",
      "> node src/index.js\n",
      "\n",
      "[dotenv@17.2.0] injecting env (0) from .env (tip: 🔐 encrypt with dotenvx: https://dotenvx.com)\n",
      "Connected to MongoDB\n",
      "Product service running on port 3000\n",
      "---Previous logs for user-service-bd464cd9d-66ghp---\n",
      "\n",
      "> user-service@1.0.0 start\n",
      "> node src/index.js\n",
      "\n",
      "[dotenv@17.2.0] injecting env (0) from .env (tip: ⚙️  enable debug logging with { debug: true })\n",
      "MongoDB connection error: MongooseServerSelectionError: connect ECONNREFUSED 10.107.202.225:27017\n",
      "    at _handleConnectionErrors (/app/node_modules/mongoose/lib/connection.js:1165:11)\n",
      "    at NativeConnection.openUri (/app/node_modules/mongoose/lib/connection.js:1096:11) {\n",
      "  errorLabelSet: Set(0) {},\n",
      "  reason: TopologyDescription {\n",
      "    type: 'Unknown',\n",
      "    servers: Map(1) { 'user-service-db:27017' => [ServerDescription] },\n",
      "    stale: false,\n",
      "    compatible: true,\n",
      "    heartbeatFrequencyMS: 10000,\n",
      "    localThresholdMS: 15,\n",
      "    setName: null,\n",
      "    maxElectionId: null,\n",
      "    maxSetVersion: null,\n",
      "    commonWireVersion: 0,\n",
      "    logicalSessionTimeoutMinutes: null\n",
      "  },\n",
      "  code: undefined,\n",
      "  cause: TopologyDescription {\n",
      "    type: 'Unknown',\n",
      "    servers: Map(1) { 'user-service-db:27017' => [ServerDescription] },\n",
      "    stale: false,\n",
      "    compatible: true,\n",
      "    heartbeatFrequencyMS: 10000,\n",
      "    localThresholdMS: 15,\n",
      "    setName: null,\n",
      "    maxElectionId: null,\n",
      "    maxSetVersion: null,\n",
      "    commonWireVersion: 0,\n",
      "    logicalSessionTimeoutMinutes: null\n",
      "  }\n",
      "}\n",
      "Product service running on port 3000\n",
      "/app/node_modules/mongoose/lib/drivers/node-mongodb-native/collection.js:187\n",
      "          const err = new MongooseError(message);\n",
      "                      ^\n",
      "\n",
      "MongooseError: Operation `users.findOne()` buffering timed out after 10000ms\n",
      "    at Timeout.<anonymous> (/app/node_modules/mongoose/lib/drivers/node-mongodb-native/collection.js:187:23)\n",
      "    at listOnTimeout (node:internal/timers:569:17)\n",
      "    at process.processTimers (node:internal/timers:512:7)\n",
      "\n",
      "Node.js v18.20.8\n"
     ]
    }
   ],
   "source": [
    "# Display logs for user-service pods in the my-services namespace\n",
    "import subprocess\n",
    "\n",
    "label = \"user-service\"\n",
    "namespace = \"my-services\"\n",
    "command = f\"kubectl get pods -l app.kubernetes.io/name={label} -n {namespace} -o custom-columns=NAME:.metadata.name --no-headers\"\n",
    "\n",
    "pod = subprocess.check_output(command, shell=True, text=True).strip()\n",
    "\n",
    "!echo ---Logs for {pod}---\n",
    "!kubectl logs {pod} -n my-services\n",
    "!echo ---Previous logs for {pod}---\n",
    "!kubectl logs {pod} -n my-services --previous"
   ]
  },
  {
   "cell_type": "code",
   "execution_count": 122,
   "id": "cfc893e7",
   "metadata": {
    "vscode": {
     "languageId": "bat"
    }
   },
   "outputs": [
    {
     "name": "stdout",
     "output_type": "stream",
     "text": [
      "---Logs for product-service-7bddd5f79c-thtnp---\n",
      "\n",
      "> product-service@1.0.0 start\n",
      "> node src/index.js\n",
      "\n",
      "[dotenv@17.2.0] injecting env (0) from .env (tip: ⚙️  suppress all logs with { quiet: true })\n",
      "Connected to MongoDB\n",
      "Product service running on port 3001\n",
      "---Previous logs for product-service-7bddd5f79c-thtnp---\n",
      "failed to try resolving symlinks in path \"/var/log/pods/my-services_product-service-7bddd5f79c-thtnp_69c7d1a6-3a21-4ce0-b81a-0dcd57a60d08/product-service/0.log\": lstat /var/log/pods/my-services_product-service-7bddd5f79c-thtnp_69c7d1a6-3a21-4ce0-b81a-0dcd57a60d08/product-service/0.log: no such file or directory\n"
     ]
    }
   ],
   "source": [
    "# Display logs for product-service pods in the my-services namespace\n",
    "import subprocess\n",
    "\n",
    "label = \"product-service\"\n",
    "namespace = \"my-services\"\n",
    "command = f\"kubectl get pods -l app.kubernetes.io/name={label} -n {namespace} -o custom-columns=NAME:.metadata.name --no-headers\"\n",
    "\n",
    "pod = subprocess.check_output(command, shell=True, text=True).strip()\n",
    "\n",
    "!echo ---Logs for {pod}---\n",
    "!kubectl logs {pod} -n my-services\n",
    "!echo ---Previous logs for {pod}---\n",
    "!kubectl logs {pod} -n my-services --previous"
   ]
  },
  {
   "cell_type": "code",
   "execution_count": 123,
   "id": "ba97aac4",
   "metadata": {
    "vscode": {
     "languageId": "bat"
    }
   },
   "outputs": [
    {
     "name": "stdout",
     "output_type": "stream",
     "text": [
      "---Logs for web-interface-7c494cc897-5shj4---\n",
      "/docker-entrypoint.sh: /docker-entrypoint.d/ is not empty, will attempt to perform configuration\n",
      "/docker-entrypoint.sh: Looking for shell scripts in /docker-entrypoint.d/\n",
      "/docker-entrypoint.sh: Launching /docker-entrypoint.d/10-listen-on-ipv6-by-default.sh\n",
      "10-listen-on-ipv6-by-default.sh: info: Getting the checksum of /etc/nginx/conf.d/default.conf\n",
      "10-listen-on-ipv6-by-default.sh: info: /etc/nginx/conf.d/default.conf differs from the packaged version\n",
      "/docker-entrypoint.sh: Sourcing /docker-entrypoint.d/15-local-resolvers.envsh\n",
      "/docker-entrypoint.sh: Launching /docker-entrypoint.d/20-envsubst-on-templates.sh\n",
      "/docker-entrypoint.sh: Launching /docker-entrypoint.d/30-tune-worker-processes.sh\n",
      "/docker-entrypoint.sh: Configuration complete; ready for start up\n",
      "2025/07/23 16:07:35 [notice] 1#1: using the \"epoll\" event method\n",
      "2025/07/23 16:07:35 [notice] 1#1: nginx/1.29.0\n",
      "2025/07/23 16:07:35 [notice] 1#1: built by gcc 14.2.0 (Alpine 14.2.0) \n",
      "2025/07/23 16:07:35 [notice] 1#1: OS: Linux 6.6.87.2-microsoft-standard-WSL2\n",
      "2025/07/23 16:07:35 [notice] 1#1: getrlimit(RLIMIT_NOFILE): 1048576:1048576\n",
      "2025/07/23 16:07:35 [notice] 1#1: start worker processes\n",
      "2025/07/23 16:07:35 [notice] 1#1: start worker process 30\n",
      "2025/07/23 16:07:35 [notice] 1#1: start worker process 31\n",
      "2025/07/23 16:07:35 [notice] 1#1: start worker process 32\n",
      "2025/07/23 16:07:35 [notice] 1#1: start worker process 33\n",
      "2025/07/23 16:07:35 [notice] 1#1: start worker process 34\n",
      "2025/07/23 16:07:35 [notice] 1#1: start worker process 35\n",
      "2025/07/23 16:07:35 [notice] 1#1: start worker process 36\n",
      "2025/07/23 16:07:35 [notice] 1#1: start worker process 37\n",
      "10.1.0.147 - - [23/Jul/2025:16:23:53 +0000] \"GET /login HTTP/1.1\" 304 0 \"-\" \"Mozilla/5.0 (Windows NT 10.0; Win64; x64) AppleWebKit/537.36 (KHTML, like Gecko) Chrome/138.0.0.0 Safari/537.36 Edg/138.0.0.0\" \"192.168.65.3\"\n",
      "10.1.0.147 - - [23/Jul/2025:16:26:01 +0000] \"GET /login HTTP/1.1\" 304 0 \"-\" \"Mozilla/5.0 (Windows NT 10.0; Win64; x64) AppleWebKit/537.36 (KHTML, like Gecko) Chrome/138.0.0.0 Safari/537.36 Edg/138.0.0.0\" \"192.168.65.3\"\n",
      "10.1.0.147 - - [23/Jul/2025:16:26:02 +0000] \"GET /login HTTP/1.1\" 304 0 \"-\" \"Mozilla/5.0 (Windows NT 10.0; Win64; x64) AppleWebKit/537.36 (KHTML, like Gecko) Chrome/138.0.0.0 Safari/537.36 Edg/138.0.0.0\" \"192.168.65.3\"\n",
      "10.1.0.147 - - [23/Jul/2025:16:26:03 +0000] \"GET /login HTTP/1.1\" 304 0 \"-\" \"Mozilla/5.0 (Windows NT 10.0; Win64; x64) AppleWebKit/537.36 (KHTML, like Gecko) Chrome/138.0.0.0 Safari/537.36 Edg/138.0.0.0\" \"192.168.65.3\"\n",
      "10.1.0.147 - - [23/Jul/2025:16:26:03 +0000] \"GET /login HTTP/1.1\" 304 0 \"-\" \"Mozilla/5.0 (Windows NT 10.0; Win64; x64) AppleWebKit/537.36 (KHTML, like Gecko) Chrome/138.0.0.0 Safari/537.36 Edg/138.0.0.0\" \"192.168.65.3\"\n",
      "---Previous logs for web-interface-7c494cc897-5shj4---\n",
      "failed to try resolving symlinks in path \"/var/log/pods/my-services_web-interface-7c494cc897-5shj4_a1b23678-9c19-4fd2-8922-d31a248fae41/web-interface/0.log\": lstat /var/log/pods/my-services_web-interface-7c494cc897-5shj4_a1b23678-9c19-4fd2-8922-d31a248fae41/web-interface/0.log: no such file or directory\n"
     ]
    }
   ],
   "source": [
    "# Display logs for web-interface pods in the my-services namespace\n",
    "import subprocess\n",
    "\n",
    "label = \"web-interface\"\n",
    "namespace = \"my-services\"\n",
    "command = f\"kubectl get pods -l app.kubernetes.io/name={label} -n {namespace} -o custom-columns=NAME:.metadata.name --no-headers\"\n",
    "\n",
    "pod = subprocess.check_output(command, shell=True, text=True).strip()\n",
    "\n",
    "!echo ---Logs for {pod}---\n",
    "!kubectl logs {pod} -n my-services\n",
    "!echo ---Previous logs for {pod}---\n",
    "!kubectl logs {pod} -n my-services --previous"
   ]
  },
  {
   "cell_type": "markdown",
   "id": "77144391",
   "metadata": {},
   "source": [
    "### *1.3. Monitoring*"
   ]
  },
  {
   "cell_type": "code",
   "execution_count": 102,
   "id": "c13ccad4",
   "metadata": {
    "vscode": {
     "languageId": "bat"
    }
   },
   "outputs": [
    {
     "name": "stdout",
     "output_type": "stream",
     "text": [
      "---Pods---\n",
      "NAME                        READY   STATUS    RESTARTS      AGE\n",
      "loki-stack-0                1/1     Running   4 (35m ago)   14h\n",
      "loki-stack-promtail-ttrkt   1/1     Running   3 (35m ago)   14h\n",
      "---Services---\n",
      "NAME                    TYPE        CLUSTER-IP     EXTERNAL-IP   PORT(S)    AGE\n",
      "loki-stack              ClusterIP   10.98.134.12   <none>        3100/TCP   14h\n",
      "loki-stack-headless     ClusterIP   None           <none>        3100/TCP   14h\n",
      "loki-stack-memberlist   ClusterIP   None           <none>        7946/TCP   14h\n"
     ]
    }
   ],
   "source": [
    "# Display all pods and services in the monitoring namespace\n",
    "namespace = \"monitoring\"\n",
    "!echo ---Pods---\n",
    "!kubectl get pods -n {namespace}\n",
    "!echo ---Services---\n",
    "!kubectl get svc -n {namespace}"
   ]
  },
  {
   "cell_type": "code",
   "execution_count": null,
   "id": "096dd3bb",
   "metadata": {
    "vscode": {
     "languageId": "bat"
    }
   },
   "outputs": [
    {
     "name": "stdout",
     "output_type": "stream",
     "text": [
      "---Config Maps---\n"
     ]
    },
    {
     "name": "stdout",
     "output_type": "stream",
     "text": [
      "NAME               DATA   AGE\n",
      "kube-root-ca.crt   1      15h\n",
      "loki-stack         1      14h\n",
      "loki-stack-test    1      14h\n",
      "---Secrets---\n",
      "NAME                               TYPE                 DATA   AGE\n",
      "loki-stack                         Opaque               1      14h\n",
      "loki-stack-promtail                Opaque               1      14h\n",
      "sh.helm.release.v1.loki-stack.v1   helm.sh/release.v1   1      14h\n"
     ]
    }
   ],
   "source": [
    "# Display all config maps and secrets in the monitoring namespace\n",
    "namespace = \"monitoring\"\n",
    "!echo ---Config Maps---\n",
    "!kubectl get configmap -n {namespace}\n",
    "!echo ---Secrets---\n",
    "!kubectl get secret -n {namespace}"
   ]
  },
  {
   "cell_type": "markdown",
   "id": "630f2733",
   "metadata": {},
   "source": [
    "### *1.4. Universal*"
   ]
  },
  {
   "cell_type": "code",
   "execution_count": null,
   "id": "c05815d2",
   "metadata": {
    "vscode": {
     "languageId": "bat"
    }
   },
   "outputs": [
    {
     "name": "stdout",
     "output_type": "stream",
     "text": [
      "---Namespaces---\n",
      "NAME              STATUS   AGE\n",
      "default           Active   40h\n",
      "ingress-nginx     Active   39h\n",
      "kube-node-lease   Active   40h\n",
      "kube-public       Active   40h\n",
      "kube-system       Active   40h\n",
      "monitoring        Active   15h\n",
      "my-services       Active   136m\n"
     ]
    }
   ],
   "source": [
    "# Display all namespaces in the cluster\n",
    "!echo ---Namespaces---\n",
    "!kubectl get ns"
   ]
  },
  {
   "cell_type": "code",
   "execution_count": 91,
   "id": "3b0aa93e",
   "metadata": {
    "vscode": {
     "languageId": "bat"
    }
   },
   "outputs": [
    {
     "name": "stdout",
     "output_type": "stream",
     "text": [
      "---Nodes---\n"
     ]
    },
    {
     "name": "stdout",
     "output_type": "stream",
     "text": [
      "NAME             STATUS   ROLES           AGE   VERSION   INTERNAL-IP    EXTERNAL-IP   OS-IMAGE         KERNEL-VERSION                     CONTAINER-RUNTIME\n",
      "docker-desktop   Ready    control-plane   40h   v1.32.2   192.168.65.3   <none>        Docker Desktop   6.6.87.2-microsoft-standard-WSL2   docker://28.3.0\n"
     ]
    }
   ],
   "source": [
    "# Display all nodes in the cluster\n",
    "!echo ---Nodes---\n",
    "!kubectl get nodes -o wide"
   ]
  },
  {
   "cell_type": "code",
   "execution_count": 92,
   "id": "076bdeb5",
   "metadata": {
    "vscode": {
     "languageId": "bat"
    }
   },
   "outputs": [
    {
     "name": "stdout",
     "output_type": "stream",
     "text": [
      "---Storage Classes---\n"
     ]
    },
    {
     "name": "stdout",
     "output_type": "stream",
     "text": [
      "NAME                 PROVISIONER          RECLAIMPOLICY   VOLUMEBINDINGMODE   ALLOWVOLUMEEXPANSION   AGE\n",
      "hostpath (default)   docker.io/hostpath   Delete          Immediate           false                  40h\n"
     ]
    }
   ],
   "source": [
    "# Display all storage classes in the cluster\n",
    "!echo ---Storage Classes---\n",
    "!kubectl get storageclass"
   ]
  },
  {
   "cell_type": "code",
   "execution_count": 3,
   "id": "850e6d69",
   "metadata": {
    "vscode": {
     "languageId": "bat"
    }
   },
   "outputs": [
    {
     "name": "stdout",
     "output_type": "stream",
     "text": [
      "---Ingress Controller Pods---\n",
      "NAME                                       READY   STATUS    RESTARTS       AGE\n",
      "ingress-nginx-controller-675c4bf49-dk2kj   1/1     Running   17 (91m ago)   41h\n",
      "---Ingress Controller Services---\n",
      "NAME                                 TYPE        CLUSTER-IP     EXTERNAL-IP   PORT(S)        AGE\n",
      "ingress-nginx-controller             NodePort    10.96.60.73    <none>        80:32000/TCP   145m\n",
      "ingress-nginx-controller-admission   ClusterIP   10.111.71.82   <none>        443/TCP        41h\n",
      "---All Ingress Resources---\n",
      "NAMESPACE     NAME                    CLASS   HOSTS   ADDRESS       PORTS   AGE\n",
      "my-services   ingress-configuration   nginx   *       10.96.60.73   80      145m\n"
     ]
    }
   ],
   "source": [
    "# Display Ingress controller details and Ingress resources\n",
    "namespace = \"ingress-nginx\"\n",
    "!echo ---Ingress Controller Pods---\n",
    "!kubectl get pods -n {namespace}\n",
    "!echo ---Ingress Controller Services---\n",
    "!kubectl get svc -n {namespace}\n",
    "!echo ---All Ingress Resources---\n",
    "!kubectl get ingress --all-namespaces"
   ]
  },
  {
   "cell_type": "markdown",
   "id": "56bcbaa6",
   "metadata": {},
   "source": [
    "## **2. Logs**"
   ]
  },
  {
   "cell_type": "code",
   "execution_count": null,
   "id": "e005b1e3",
   "metadata": {
    "vscode": {
     "languageId": "bat"
    }
   },
   "outputs": [],
   "source": [
    "pod = \"product-service-7bddd5f79c-thtnp\""
   ]
  },
  {
   "cell_type": "code",
   "execution_count": 2,
   "id": "9233f9e2",
   "metadata": {
    "vscode": {
     "languageId": "bat"
    }
   },
   "outputs": [
    {
     "name": "stdout",
     "output_type": "stream",
     "text": [
      "---Logs for product-service-7bddd5f79c-thtnp---\n",
      "^C\n"
     ]
    },
    {
     "name": "stdout",
     "output_type": "stream",
     "text": [
      "\n",
      "> product-service@1.0.0 start\n",
      "> node src/index.js\n",
      "\n",
      "[dotenv@17.2.0] injecting env (0) from .env (tip: ⚙️  suppress all logs with { quiet: true })\n",
      "Connected to MongoDB\n",
      "Product service running on port 3001\n"
     ]
    }
   ],
   "source": [
    "!echo ---Logs for {pod}---\n",
    "!kubectl logs {pod} -n my-services"
   ]
  },
  {
   "cell_type": "code",
   "execution_count": null,
   "id": "80d31d14",
   "metadata": {
    "vscode": {
     "languageId": "bat"
    }
   },
   "outputs": [
    {
     "name": "stdout",
     "output_type": "stream",
     "text": [
      "---Previous logs for product-service-7bddd5f79c-thtnp---\n"
     ]
    },
    {
     "name": "stderr",
     "output_type": "stream",
     "text": [
      "error: error from server (NotFound): pods \"product-service-7bddd5f79c-thtnp\" not found in namespace \"default\"\n"
     ]
    }
   ],
   "source": [
    "!echo ---Previous logs for {pod}---\n",
    "!kubectl logs {pod} --previous"
   ]
  },
  {
   "cell_type": "markdown",
   "id": "07421c1d",
   "metadata": {},
   "source": [
    "# **II. FRONTEND**"
   ]
  },
  {
   "cell_type": "markdown",
   "id": "693256b2",
   "metadata": {},
   "source": [
    "## **Web Interface**"
   ]
  },
  {
   "cell_type": "code",
   "execution_count": 61,
   "id": "d4b13ebb",
   "metadata": {
    "vscode": {
     "languageId": "bat"
    }
   },
   "outputs": [
    {
     "name": "stdout",
     "output_type": "stream",
     "text": [
      "---Shutting down web-interface---\n"
     ]
    },
    {
     "name": "stderr",
     "output_type": "stream",
     "text": [
      "Error from server (NotFound): services \"web-interface\" not found\n",
      "Error from server (NotFound): deployments.apps \"web-interface\" not found\n"
     ]
    }
   ],
   "source": [
    "# Shutdown Web Interface Service\n",
    "service = \"web-interface\"\n",
    "!echo ---Shutting down {service}---\n",
    "!kubectl delete service {service}\n",
    "!kubectl delete deployment {service}"
   ]
  },
  {
   "cell_type": "code",
   "execution_count": 62,
   "id": "bcf31296",
   "metadata": {
    "vscode": {
     "languageId": "bat"
    }
   },
   "outputs": [
    {
     "name": "stdout",
     "output_type": "stream",
     "text": [
      "---Building web-interface---\n"
     ]
    },
    {
     "name": "stderr",
     "output_type": "stream",
     "text": [
      "#0 building with \"desktop-linux\" instance using docker driver\n",
      "\n",
      "#1 [internal] load build definition from Dockerfile\n",
      "#1 transferring dockerfile: 30B 0.0s\n",
      "#1 transferring dockerfile: 516B 0.1s done\n",
      "#1 DONE 0.2s\n",
      "\n",
      "#2 [internal] load metadata for docker.io/library/nginx:alpine\n",
      "#2 ...\n",
      "\n",
      "#3 [auth] library/node:pull token for registry-1.docker.io\n",
      "#3 DONE 0.0s\n",
      "\n",
      "#4 [auth] library/nginx:pull token for registry-1.docker.io\n",
      "#4 DONE 0.0s\n",
      "\n",
      "#5 [internal] load metadata for docker.io/library/node:18-alpine\n",
      "#5 DONE 1.3s\n",
      "\n",
      "#2 [internal] load metadata for docker.io/library/nginx:alpine\n",
      "#2 DONE 1.3s\n",
      "\n",
      "#6 [internal] load .dockerignore\n",
      "#6 transferring context: 80B 0.0s done\n",
      "#6 DONE 0.1s\n",
      "\n",
      "#7 [internal] load build context\n",
      "#7 DONE 0.0s\n",
      "\n",
      "#8 [build 1/6] FROM docker.io/library/node:18-alpine@sha256:8d6421d663b4c28fd3ebc498332f249011d118945588d0a35cb9bc4b8ca09d9e\n",
      "#8 resolve docker.io/library/node:18-alpine@sha256:8d6421d663b4c28fd3ebc498332f249011d118945588d0a35cb9bc4b8ca09d9e\n",
      "#8 ...\n",
      "\n",
      "#9 [stage-1 1/3] FROM docker.io/library/nginx:alpine@sha256:d67ea0d64d518b1bb04acde3b00f722ac3e9764b3209a9b0a98924ba35e4b779\n",
      "#9 resolve docker.io/library/nginx:alpine@sha256:d67ea0d64d518b1bb04acde3b00f722ac3e9764b3209a9b0a98924ba35e4b779 0.2s done\n",
      "#9 DONE 1.1s\n",
      "\n",
      "#8 [build 1/6] FROM docker.io/library/node:18-alpine@sha256:8d6421d663b4c28fd3ebc498332f249011d118945588d0a35cb9bc4b8ca09d9e\n",
      "#8 resolve docker.io/library/node:18-alpine@sha256:8d6421d663b4c28fd3ebc498332f249011d118945588d0a35cb9bc4b8ca09d9e 0.2s done\n",
      "#8 DONE 1.1s\n",
      "\n",
      "#7 [internal] load build context\n",
      "#7 transferring context: 3.64kB 0.3s done\n",
      "#7 DONE 0.4s\n",
      "\n",
      "#10 [build 2/6] WORKDIR /app\n",
      "#10 CACHED\n",
      "\n",
      "#11 [build 3/6] COPY package*.json ./\n",
      "#11 CACHED\n",
      "\n",
      "#12 [build 4/6] RUN npm install\n",
      "#12 CACHED\n",
      "\n",
      "#13 [build 5/6] COPY . .\n",
      "#13 DONE 0.2s\n",
      "\n",
      "#14 [build 6/6] RUN npm run build\n",
      "#14 9.260 \n",
      "#14 9.260 > web-interface@0.1.0 build\n",
      "#14 9.260 > react-scripts build\n",
      "#14 9.260 \n",
      "#14 21.24 Creating an optimized production build...\n",
      "#14 38.08 Failed to compile.\n",
      "#14 38.08 \n",
      "#14 38.08 Module not found: Error: Can't resolve './api/userAPI' in '/app/src/pages'\n",
      "#14 38.08 \n",
      "#14 38.09 \n",
      "#14 ERROR: process \"/bin/sh -c npm run build\" did not complete successfully: exit code: 1\n",
      "------\n",
      " > [build 6/6] RUN npm run build:\n",
      "9.260 \n",
      "9.260 > web-interface@0.1.0 build\n",
      "9.260 > react-scripts build\n",
      "9.260 \n",
      "21.24 Creating an optimized production build...\n",
      "38.08 Failed to compile.\n",
      "38.08 \n",
      "38.08 Module not found: Error: Can't resolve './api/userAPI' in '/app/src/pages'\n",
      "38.08 \n",
      "38.09 \n",
      "------\n",
      "Dockerfile:9\n",
      "--------------------\n",
      "   7 |     RUN npm install\n",
      "   8 |     COPY . .\n",
      "   9 | >>> RUN npm run build\n",
      "  10 |     \n",
      "  11 |     # --- Run stage ---\n",
      "--------------------\n",
      "ERROR: failed to build: failed to solve: process \"/bin/sh -c npm run build\" did not complete successfully: exit code: 1\n",
      "\n",
      "View build details: docker-desktop://dashboard/build/desktop-linux/desktop-linux/1837sm2mb5297v1yzx81ct8i4\n"
     ]
    }
   ],
   "source": [
    "# Build Web Interface Service\n",
    "service = \"web-interface\"\n",
    "!echo ---Building {service}---\n",
    "!docker build -t {service} C:\\\\Services\\\\{service}\\\\"
   ]
  },
  {
   "cell_type": "code",
   "execution_count": 63,
   "id": "b73d6442",
   "metadata": {
    "vscode": {
     "languageId": "bat"
    }
   },
   "outputs": [
    {
     "name": "stdout",
     "output_type": "stream",
     "text": [
      "---Deploying web-interface---\n",
      "deployment.apps/web-interface unchanged\n",
      "service/web-interface unchanged\n"
     ]
    }
   ],
   "source": [
    "# Deploy Web Interface Service\n",
    "service = \"web-interface\"\n",
    "!echo ---Deploying {service}---\n",
    "!kubectl apply -f C:\\\\Services\\\\{service}\\\\k8s\\\\"
   ]
  },
  {
   "cell_type": "markdown",
   "id": "454e88c7",
   "metadata": {},
   "source": [
    "# **III. BACKEND**"
   ]
  },
  {
   "cell_type": "markdown",
   "id": "ea32684c",
   "metadata": {},
   "source": [
    "## **1. User Service**"
   ]
  },
  {
   "cell_type": "code",
   "execution_count": 54,
   "id": "fb4de299",
   "metadata": {
    "vscode": {
     "languageId": "bat"
    }
   },
   "outputs": [
    {
     "name": "stdout",
     "output_type": "stream",
     "text": [
      "---Shutting down user-service---\n"
     ]
    },
    {
     "name": "stderr",
     "output_type": "stream",
     "text": [
      "Error from server (NotFound): services \"user-service\" not found\n",
      "Error from server (NotFound): deployments.apps \"user-service\" not found\n",
      "Error from server (NotFound): services \"user-service-db\" not found\n",
      "Error from server (NotFound): deployments.apps \"user-service-db\" not found\n"
     ]
    }
   ],
   "source": [
    "# Shutdown User Service\n",
    "service = \"user-service\"\n",
    "service_db = f\"{service}-db\"\n",
    "!echo ---Shutting down {service}---\n",
    "!kubectl delete service {service}\n",
    "!kubectl delete deployment {service}\n",
    "!kubectl delete service {service_db}\n",
    "!kubectl delete deployment {service_db}"
   ]
  },
  {
   "cell_type": "code",
   "execution_count": 55,
   "id": "7823d9d2",
   "metadata": {
    "vscode": {
     "languageId": "bat"
    }
   },
   "outputs": [
    {
     "name": "stdout",
     "output_type": "stream",
     "text": [
      "---Building user-service---\n"
     ]
    },
    {
     "name": "stderr",
     "output_type": "stream",
     "text": [
      "#0 building with \"desktop-linux\" instance using docker driver\n",
      "\n",
      "#1 [internal] load build definition from Dockerfile\n",
      "#1 transferring dockerfile:\n",
      "#1 transferring dockerfile: 335B 0.1s done\n",
      "#1 DONE 0.3s\n",
      "\n",
      "#2 [internal] load metadata for docker.io/library/node:18-alpine\n",
      "#2 ...\n",
      "\n",
      "#3 [auth] library/node:pull token for registry-1.docker.io\n",
      "#3 DONE 0.0s\n",
      "\n",
      "#2 [internal] load metadata for docker.io/library/node:18-alpine\n",
      "#2 DONE 1.3s\n",
      "\n",
      "#4 [internal] load .dockerignore\n",
      "#4 transferring context: 80B 0.0s done\n",
      "#4 DONE 0.1s\n",
      "\n",
      "#5 [internal] load build context\n",
      "#5 ...\n",
      "\n",
      "#6 [1/5] FROM docker.io/library/node:18-alpine@sha256:8d6421d663b4c28fd3ebc498332f249011d118945588d0a35cb9bc4b8ca09d9e\n",
      "#6 resolve docker.io/library/node:18-alpine@sha256:8d6421d663b4c28fd3ebc498332f249011d118945588d0a35cb9bc4b8ca09d9e 0.3s done\n",
      "#6 DONE 0.3s\n",
      "\n",
      "#5 [internal] load build context\n",
      "#5 transferring context: 326.94kB 0.5s done\n",
      "#5 DONE 0.5s\n",
      "\n",
      "#7 [2/5] WORKDIR /app\n",
      "#7 CACHED\n",
      "\n",
      "#8 [3/5] COPY package*.json ./\n",
      "#8 DONE 0.2s\n",
      "\n",
      "#9 [4/5] RUN npm install\n",
      "#9 32.67 npm warn deprecated inflight@1.0.6: This module is not supported, and leaks memory. Do not use it. Check out lru-cache if you want a good and tested way to coalesce async requests by a key value, which is much more comprehensive and powerful.\n",
      "#9 40.31 npm warn deprecated glob@7.2.3: Glob versions prior to v9 are no longer supported\n",
      "#9 50.17 \n",
      "#9 50.17 added 426 packages, and audited 427 packages in 42s\n",
      "#9 50.17 \n",
      "#9 50.17 64 packages are looking for funding\n",
      "#9 50.17   run `npm fund` for details\n",
      "#9 50.17 \n",
      "#9 50.17 found 0 vulnerabilities\n",
      "#9 50.18 npm notice\n",
      "#9 50.18 npm notice New major version of npm available! 10.8.2 -> 11.4.2\n",
      "#9 50.18 npm notice Changelog: https://github.com/npm/cli/releases/tag/v11.4.2\n",
      "#9 50.18 npm notice To update run: npm install -g npm@11.4.2\n",
      "#9 50.18 npm notice\n",
      "#9 DONE 50.5s\n",
      "\n",
      "#10 [5/5] COPY . .\n",
      "#10 DONE 0.5s\n",
      "\n",
      "#11 exporting to image\n",
      "#11 exporting layers\n",
      "#11 exporting layers 9.4s done\n",
      "#11 exporting manifest sha256:7e5c877d01607105ad19a731d6a09b7bb8210a4c0a88de27087f5e043760a829 0.0s done\n",
      "#11 exporting config sha256:4e304fa2ba9a646e3807a17cc284a55278bc94b0f1243088ceae0139875e3991 0.1s done\n",
      "#11 exporting attestation manifest sha256:5a8370db70cc9ca883416fb3f77b394ab05ff1ecd18940a4fb41397a6ae2ac70\n",
      "#11 exporting attestation manifest sha256:5a8370db70cc9ca883416fb3f77b394ab05ff1ecd18940a4fb41397a6ae2ac70 0.1s done\n",
      "#11 exporting manifest list sha256:106298271146823af0cc291c5b286546f551d40dd2bc198c6c37f681cbce1e8f 0.0s done\n",
      "#11 naming to docker.io/library/user-service:latest\n",
      "#11 naming to docker.io/library/user-service:latest done\n",
      "#11 unpacking to docker.io/library/user-service:latest\n",
      "#11 unpacking to docker.io/library/user-service:latest 7.6s done\n",
      "#11 DONE 17.5s\n",
      "\n",
      "View build details: docker-desktop://dashboard/build/desktop-linux/desktop-linux/knw7w8df2pknvd7fy7eslllkw\n"
     ]
    }
   ],
   "source": [
    "# Build User Service\n",
    "service = \"user-service\"\n",
    "!echo ---Building {service}---\n",
    "!docker build -t {service} C:\\\\Services\\\\{service}\\\\"
   ]
  },
  {
   "cell_type": "code",
   "execution_count": 56,
   "id": "dadc16a1",
   "metadata": {
    "vscode": {
     "languageId": "bat"
    }
   },
   "outputs": [
    {
     "name": "stdout",
     "output_type": "stream",
     "text": [
      "---Deploying user-service---\n",
      "deployment.apps/user-service-db unchanged\n",
      "service/user-service-db unchanged\n",
      "deployment.apps/user-service unchanged\n",
      "service/user-service unchanged\n"
     ]
    }
   ],
   "source": [
    "# Deploy User Service\n",
    "service = \"user-service\"\n",
    "!echo ---Deploying {service}---\n",
    "!kubectl apply -f C:\\\\Services\\\\{service}\\\\k8s\\\\"
   ]
  },
  {
   "cell_type": "markdown",
   "id": "a35c82a6",
   "metadata": {},
   "source": [
    "## **2. Product Service**"
   ]
  },
  {
   "cell_type": "code",
   "execution_count": 76,
   "id": "fa506d89",
   "metadata": {
    "vscode": {
     "languageId": "bat"
    }
   },
   "outputs": [
    {
     "name": "stdout",
     "output_type": "stream",
     "text": [
      "---Shutting down product-service---\n"
     ]
    },
    {
     "name": "stderr",
     "output_type": "stream",
     "text": [
      "Error from server (NotFound): services \"product-service\" not found\n",
      "Error from server (NotFound): deployments.apps \"product-service\" not found\n",
      "Error from server (NotFound): services \"product-service-db\" not found\n",
      "Error from server (NotFound): deployments.apps \"product-service-db\" not found\n"
     ]
    }
   ],
   "source": [
    "# Shutdown Product Service\n",
    "service = \"product-service\"\n",
    "service_db = f\"{service}-db\"\n",
    "!echo ---Shutting down {service}---\n",
    "!kubectl delete service {service}\n",
    "!kubectl delete deployment {service}\n",
    "!kubectl delete service {service_db}\n",
    "!kubectl delete deployment {service_db}"
   ]
  },
  {
   "cell_type": "code",
   "execution_count": 77,
   "id": "2f33470a",
   "metadata": {
    "vscode": {
     "languageId": "bat"
    }
   },
   "outputs": [
    {
     "name": "stdout",
     "output_type": "stream",
     "text": [
      "---Building product-service---\n"
     ]
    },
    {
     "name": "stderr",
     "output_type": "stream",
     "text": [
      "#0 building with \"desktop-linux\" instance using docker driver\n",
      "\n",
      "#1 [internal] load build definition from Dockerfile\n",
      "#1 transferring dockerfile:\n",
      "#1 transferring dockerfile: 337B 0.1s done\n",
      "#1 DONE 0.3s\n",
      "\n",
      "#2 [internal] load metadata for docker.io/library/node:18-alpine\n",
      "#2 ...\n",
      "\n",
      "#3 [auth] library/node:pull token for registry-1.docker.io\n",
      "#3 DONE 0.0s\n",
      "\n",
      "#2 [internal] load metadata for docker.io/library/node:18-alpine\n",
      "#2 DONE 1.9s\n",
      "\n",
      "#4 [internal] load .dockerignore\n",
      "#4 transferring context: 80B 0.0s done\n",
      "#4 DONE 0.1s\n",
      "\n",
      "#5 [internal] load build context\n",
      "#5 transferring context: 2.17kB 0.0s done\n",
      "#5 DONE 0.1s\n",
      "\n",
      "#6 [1/5] FROM docker.io/library/node:18-alpine@sha256:8d6421d663b4c28fd3ebc498332f249011d118945588d0a35cb9bc4b8ca09d9e\n",
      "#6 resolve docker.io/library/node:18-alpine@sha256:8d6421d663b4c28fd3ebc498332f249011d118945588d0a35cb9bc4b8ca09d9e\n",
      "#6 resolve docker.io/library/node:18-alpine@sha256:8d6421d663b4c28fd3ebc498332f249011d118945588d0a35cb9bc4b8ca09d9e 0.2s done\n",
      "#6 DONE 0.3s\n",
      "\n",
      "#7 [2/5] WORKDIR /app\n",
      "#7 CACHED\n",
      "\n",
      "#8 [3/5] COPY package*.json ./\n",
      "#8 CACHED\n",
      "\n",
      "#9 [4/5] RUN npm install\n",
      "#9 CACHED\n",
      "\n",
      "#10 [5/5] COPY . .\n",
      "#10 CACHED\n",
      "\n",
      "#11 exporting to image\n",
      "#11 exporting layers 0.0s done\n",
      "#11 exporting manifest sha256:9a0c32aa4a9083fe2b0d1ba383c27d8ed6f416cadbfced68c0ee6dfa8b8323a6 0.0s done\n",
      "#11 exporting config sha256:17739e6c0a9cf7a6d6b4e884afa4e3206fccfed536111e8895eadb13856be848\n",
      "#11 exporting config sha256:17739e6c0a9cf7a6d6b4e884afa4e3206fccfed536111e8895eadb13856be848 0.0s done\n",
      "#11 exporting attestation manifest sha256:3a297458a187455442d97cc84361217ba178ce8fb2bca34fbd2b5af2b50b1c84\n",
      "#11 exporting attestation manifest sha256:3a297458a187455442d97cc84361217ba178ce8fb2bca34fbd2b5af2b50b1c84 0.5s done\n",
      "#11 exporting manifest list sha256:9fb650edf763277a1efb5bbbf683a14dde1e348ce8c09bc88f8704ac5a038fea\n",
      "#11 exporting manifest list sha256:9fb650edf763277a1efb5bbbf683a14dde1e348ce8c09bc88f8704ac5a038fea 0.1s done\n",
      "#11 naming to docker.io/library/product-service:latest\n",
      "#11 naming to docker.io/library/product-service:latest 0.1s done\n",
      "#11 unpacking to docker.io/library/product-service:latest 0.1s done\n",
      "#11 DONE 1.6s\n",
      "\n",
      "View build details: docker-desktop://dashboard/build/desktop-linux/desktop-linux/tm854eb5dejhic3rh7hwpqu4f\n"
     ]
    }
   ],
   "source": [
    "# Build Product Service\n",
    "service = \"product-service\"\n",
    "!echo ---Building {service}---\n",
    "!docker build -t {service} C:\\\\Services\\\\{service}\\\\"
   ]
  },
  {
   "cell_type": "code",
   "execution_count": 78,
   "id": "68309b39",
   "metadata": {
    "vscode": {
     "languageId": "bat"
    }
   },
   "outputs": [
    {
     "name": "stdout",
     "output_type": "stream",
     "text": [
      "---Deploying product-service---\n",
      "deployment.apps/product-service-db unchanged\n",
      "service/product-service-db unchanged\n",
      "deployment.apps/product-service unchanged\n",
      "service/product-service unchanged\n"
     ]
    }
   ],
   "source": [
    "# Deploy Product Service\n",
    "service = \"product-service\"\n",
    "!echo ---Deploying {service}---\n",
    "!kubectl apply -f C:\\\\Services\\\\{service}\\\\k8s\\\\"
   ]
  },
  {
   "cell_type": "markdown",
   "id": "c832fe94",
   "metadata": {},
   "source": [
    "# **IV. PVC**"
   ]
  },
  {
   "cell_type": "markdown",
   "id": "4716ac07",
   "metadata": {},
   "source": [
    "### **1. User Service**"
   ]
  },
  {
   "cell_type": "code",
   "execution_count": 24,
   "id": "1ffaa438",
   "metadata": {
    "vscode": {
     "languageId": "bat"
    }
   },
   "outputs": [
    {
     "name": "stdout",
     "output_type": "stream",
     "text": [
      "---Shutting down user-service-db-pvc---\n",
      "persistentvolumeclaim \"user-service-db-pvc\" deleted\n"
     ]
    }
   ],
   "source": [
    "# Shutdown PVC for User Service\n",
    "service = \"user-service\"\n",
    "service_pvc = f\"{service}-db-pvc\"\n",
    "!echo ---Shutting down {service_pvc}---\n",
    "!kubectl delete pvc {service_pvc}"
   ]
  },
  {
   "cell_type": "code",
   "execution_count": 25,
   "id": "060bf429",
   "metadata": {
    "vscode": {
     "languageId": "bat"
    }
   },
   "outputs": [
    {
     "name": "stdout",
     "output_type": "stream",
     "text": [
      "---Deploying PVC for user-service---\n",
      "persistentvolumeclaim/user-service-db-pvc created\n"
     ]
    }
   ],
   "source": [
    "# Deploy PVC for User Service\n",
    "service = \"user-service\"\n",
    "!echo ---Deploying PVC for {service}---\n",
    "!kubectl apply -f C:\\\\Services\\\\{service}\\\\k8s\\\\pvc"
   ]
  },
  {
   "cell_type": "markdown",
   "id": "cf2acb8f",
   "metadata": {},
   "source": [
    "### **2. Product Service**"
   ]
  },
  {
   "cell_type": "code",
   "execution_count": 26,
   "id": "efef4e7c",
   "metadata": {
    "vscode": {
     "languageId": "bat"
    }
   },
   "outputs": [
    {
     "name": "stdout",
     "output_type": "stream",
     "text": [
      "---Shutting down product-service-db-pvc---\n"
     ]
    },
    {
     "name": "stderr",
     "output_type": "stream",
     "text": [
      "Error from server (NotFound): persistentvolumeclaims \"product-service-db-pvc\" not found\n"
     ]
    }
   ],
   "source": [
    "# Shutdown PVC for Product Service\n",
    "service = \"product-service\"\n",
    "service_pvc = f\"{service}-db-pvc\"\n",
    "!echo ---Shutting down {service_pvc}---\n",
    "!kubectl delete pvc {service_pvc}"
   ]
  },
  {
   "cell_type": "code",
   "execution_count": 27,
   "id": "8602b3af",
   "metadata": {
    "vscode": {
     "languageId": "bat"
    }
   },
   "outputs": [
    {
     "name": "stdout",
     "output_type": "stream",
     "text": [
      "---Deploying PVC---\n",
      "persistentvolumeclaim/product-service-db-pvc created\n"
     ]
    }
   ],
   "source": [
    "# Deploy PVC for Product Service\n",
    "service = \"product-service\"\n",
    "!echo ---Deploying PVC---\n",
    "!kubectl apply -f C:\\\\Services\\\\{service}\\\\k8s\\\\pvc"
   ]
  },
  {
   "cell_type": "markdown",
   "id": "697567e1",
   "metadata": {},
   "source": [
    "# **V. CONFIGURATION**"
   ]
  },
  {
   "cell_type": "markdown",
   "id": "5b5ff277",
   "metadata": {},
   "source": [
    "## **1. Namespaces**"
   ]
  },
  {
   "cell_type": "code",
   "execution_count": 2,
   "id": "09da97c7",
   "metadata": {
    "vscode": {
     "languageId": "bat"
    }
   },
   "outputs": [
    {
     "name": "stdout",
     "output_type": "stream",
     "text": [
      "---Creating namespace my-services---\n"
     ]
    },
    {
     "name": "stderr",
     "output_type": "stream",
     "text": [
      "Error from server (AlreadyExists): namespaces \"my-services\" already exists\n"
     ]
    }
   ],
   "source": [
    "# Create a namespace for services\n",
    "namespace = \"my-services\"\n",
    "!echo ---Creating namespace {namespace}---\n",
    "!kubectl create namespace {namespace}"
   ]
  },
  {
   "cell_type": "markdown",
   "id": "602774bf",
   "metadata": {},
   "source": [
    "## **2. ConfigMaps**"
   ]
  },
  {
   "cell_type": "code",
   "execution_count": 52,
   "id": "fede3f56",
   "metadata": {
    "vscode": {
     "languageId": "bat"
    }
   },
   "outputs": [
    {
     "name": "stdout",
     "output_type": "stream",
     "text": [
      "---Deleting configmaps---\n",
      "configmap \"error-codes\" deleted\n",
      "configmap \"user-service-config\" deleted\n",
      "configmap \"product-service-config\" deleted\n",
      "configmap \"web-interface-config\" deleted\n"
     ]
    }
   ],
   "source": [
    "# Delete ConfigMaps\n",
    "folder = \"configmaps\"\n",
    "!echo ---Deleting {folder}---\n",
    "!kubectl delete -f C:\\\\Services\\\\{folder}\\\\"
   ]
  },
  {
   "cell_type": "code",
   "execution_count": 53,
   "id": "cfed7cba",
   "metadata": {
    "vscode": {
     "languageId": "bat"
    }
   },
   "outputs": [
    {
     "name": "stdout",
     "output_type": "stream",
     "text": [
      "---Applying configmaps---\n"
     ]
    },
    {
     "name": "stdout",
     "output_type": "stream",
     "text": [
      "configmap/error-codes created\n",
      "configmap/user-service-config created\n",
      "configmap/product-service-config created\n",
      "configmap/web-interface-config created\n"
     ]
    }
   ],
   "source": [
    "# Apply ConfigMaps\n",
    "folder = \"configmaps\"\n",
    "!echo ---Applying {folder}---\n",
    "!kubectl apply -f C:\\\\Services\\\\{folder}\\\\"
   ]
  },
  {
   "cell_type": "markdown",
   "id": "472265c9",
   "metadata": {},
   "source": [
    "## **3. Secrets**"
   ]
  },
  {
   "cell_type": "code",
   "execution_count": 49,
   "id": "d73ca3ef",
   "metadata": {
    "vscode": {
     "languageId": "bat"
    }
   },
   "outputs": [
    {
     "name": "stdout",
     "output_type": "stream",
     "text": [
      "---Deleting secrets---\n",
      "secret \"user-service-secret\" deleted\n",
      "secret \"product-service-secret\" deleted\n",
      "secret \"web-interface-secret\" deleted\n"
     ]
    }
   ],
   "source": [
    "# Delete Secrets\n",
    "folder = \"secrets\"\n",
    "!echo ---Deleting {folder}---\n",
    "!kubectl delete -f C:\\\\Services\\\\{folder}\\\\"
   ]
  },
  {
   "cell_type": "code",
   "execution_count": 50,
   "id": "3eddfb1d",
   "metadata": {
    "vscode": {
     "languageId": "bat"
    }
   },
   "outputs": [
    {
     "name": "stdout",
     "output_type": "stream",
     "text": [
      "---Applying secrets---\n",
      "secret/user-service-secret created\n",
      "secret/product-service-secret created\n",
      "secret/web-interface-secret created\n"
     ]
    }
   ],
   "source": [
    "# Apply Secrets\n",
    "folder = \"secrets\"\n",
    "!echo ---Applying {folder}---\n",
    "!kubectl apply -f C:\\\\Services\\\\{folder}\\\\"
   ]
  },
  {
   "cell_type": "markdown",
   "id": "ec526888",
   "metadata": {},
   "source": [
    "## **4. Ingress**"
   ]
  },
  {
   "cell_type": "code",
   "execution_count": 43,
   "id": "04923ee3",
   "metadata": {
    "vscode": {
     "languageId": "bat"
    }
   },
   "outputs": [
    {
     "name": "stdout",
     "output_type": "stream",
     "text": [
      "---Deleting ingress configuration---\n"
     ]
    },
    {
     "name": "stdout",
     "output_type": "stream",
     "text": [
      "ingress.networking.k8s.io \"ingress-configuration\" deleted\n",
      "service \"ingress-nginx-controller\" deleted\n"
     ]
    }
   ],
   "source": [
    "# Delete Ingress Configuration\n",
    "folder = \"ingress\"\n",
    "!echo ---Deleting {folder} configuration---\n",
    "!kubectl delete -f C:\\\\Services\\\\{folder}\\\\"
   ]
  },
  {
   "cell_type": "code",
   "execution_count": 44,
   "id": "6f2d3f16",
   "metadata": {
    "vscode": {
     "languageId": "bat"
    }
   },
   "outputs": [
    {
     "name": "stdout",
     "output_type": "stream",
     "text": [
      "---Applying ingress configuration---\n"
     ]
    },
    {
     "name": "stdout",
     "output_type": "stream",
     "text": [
      "ingress.networking.k8s.io/ingress-configuration created\n",
      "service/ingress-nginx-controller created\n"
     ]
    }
   ],
   "source": [
    "# Apply Ingress Configuration\n",
    "folder = \"ingress\"\n",
    "!echo ---Applying {folder} configuration---\n",
    "!kubectl apply -f C:\\\\Services\\\\{folder}\\\\"
   ]
  },
  {
   "cell_type": "code",
   "execution_count": 8,
   "id": "5e9f6ecf",
   "metadata": {
    "vscode": {
     "languageId": "bat"
    }
   },
   "outputs": [
    {
     "name": "stdout",
     "output_type": "stream",
     "text": [
      "---Deploying Ingress Controller---\n",
      "namespace/ingress-nginx created\n",
      "serviceaccount/ingress-nginx created\n",
      "serviceaccount/ingress-nginx-admission created\n",
      "role.rbac.authorization.k8s.io/ingress-nginx created\n",
      "role.rbac.authorization.k8s.io/ingress-nginx-admission created\n",
      "clusterrole.rbac.authorization.k8s.io/ingress-nginx created\n",
      "clusterrole.rbac.authorization.k8s.io/ingress-nginx-admission created\n",
      "rolebinding.rbac.authorization.k8s.io/ingress-nginx created\n",
      "rolebinding.rbac.authorization.k8s.io/ingress-nginx-admission created\n",
      "clusterrolebinding.rbac.authorization.k8s.io/ingress-nginx created\n",
      "clusterrolebinding.rbac.authorization.k8s.io/ingress-nginx-admission created\n",
      "configmap/ingress-nginx-controller created\n",
      "service/ingress-nginx-controller created\n",
      "service/ingress-nginx-controller-admission created\n",
      "deployment.apps/ingress-nginx-controller created\n",
      "job.batch/ingress-nginx-admission-create created\n",
      "job.batch/ingress-nginx-admission-patch created\n",
      "ingressclass.networking.k8s.io/nginx created\n",
      "validatingwebhookconfiguration.admissionregistration.k8s.io/ingress-nginx-admission created\n"
     ]
    }
   ],
   "source": [
    "# Deploy Ingress Controller\n",
    "!echo ---Deploying Ingress Controller---\n",
    "!kubectl apply -f https://raw.githubusercontent.com/kubernetes/ingress-nginx/main/deploy/static/provider/cloud/deploy.yaml"
   ]
  }
 ],
 "metadata": {
  "kernelspec": {
   "display_name": "Python 3",
   "language": "python",
   "name": "python3"
  },
  "language_info": {
   "codemirror_mode": {
    "name": "ipython",
    "version": 3
   },
   "file_extension": ".py",
   "mimetype": "text/x-python",
   "name": "python",
   "nbconvert_exporter": "python",
   "pygments_lexer": "ipython3",
   "version": "3.13.5"
  }
 },
 "nbformat": 4,
 "nbformat_minor": 5
}
