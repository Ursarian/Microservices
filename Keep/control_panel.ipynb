{
 "cells": [
  {
   "cell_type": "markdown",
   "id": "fdda6239",
   "metadata": {},
   "source": [
    "# **KUBERNETES INFOS**"
   ]
  },
  {
   "cell_type": "code",
   "execution_count": null,
   "id": "df80c317",
   "metadata": {
    "vscode": {
     "languageId": "bat"
    }
   },
   "outputs": [],
   "source": [
    "# Display all nodes in the cluster\n",
    "!echo ---Nodes---\n",
    "!kubectl get nodes"
   ]
  },
  {
   "cell_type": "code",
   "execution_count": null,
   "id": "d7bf17ec",
   "metadata": {
    "vscode": {
     "languageId": "bat"
    }
   },
   "outputs": [],
   "source": [
    "# Display Ingress controller pods\n",
    "!echo ---Ingress---\n",
    "!kubectl get pods -n ingress-nginx"
   ]
  },
  {
   "cell_type": "code",
   "execution_count": null,
   "id": "1db2277a",
   "metadata": {
    "vscode": {
     "languageId": "bat"
    }
   },
   "outputs": [],
   "source": [
    "# Display all storage classes in the cluster\n",
    "!kubectl get storageclass"
   ]
  },
  {
   "cell_type": "code",
   "execution_count": 7,
   "id": "dad6afab",
   "metadata": {
    "vscode": {
     "languageId": "bat"
    }
   },
   "outputs": [
    {
     "name": "stdout",
     "output_type": "stream",
     "text": [
      "---Pods---\n",
      "NAME                                  READY   STATUS    RESTARTS       AGE    IP          NODE             NOMINATED NODE   READINESS GATES\n",
      "product-service-75c5fbfbb7-7k59x      1/1     Running   0              14m    10.1.1.19   docker-desktop   <none>           <none>\n",
      "product-service-db-78878c664b-7w6gc   1/1     Running   0              14m    10.1.1.21   docker-desktop   <none>           <none>\n",
      "user-service-6575cbc976-bglbs         1/1     Running   0              14m    10.1.1.18   docker-desktop   <none>           <none>\n",
      "user-service-db-9c7c5d6c4-6lf78       1/1     Running   0              14m    10.1.1.20   docker-desktop   <none>           <none>\n",
      "web-interface-558f8f4b47-9tfxx        1/1     Running   1 (124m ago)   4h6m   10.1.1.3    docker-desktop   <none>           <none>\n",
      "---Services---\n",
      "NAME                 TYPE        CLUSTER-IP       EXTERNAL-IP   PORT(S)          AGE\n",
      "kubernetes           ClusterIP   10.96.0.1        <none>        443/TCP          28h\n",
      "product-service      NodePort    10.106.163.200   <none>        3001:31001/TCP   14m\n",
      "product-service-db   ClusterIP   10.111.251.177   <none>        27017/TCP        14m\n",
      "user-service         NodePort    10.111.97.136    <none>        3000:31000/TCP   14m\n",
      "user-service-db      ClusterIP   10.109.218.17    <none>        27017/TCP        14m\n",
      "web-interface        NodePort    10.108.205.120   <none>        80:32000/TCP     4h6m\n",
      "---PVC---\n",
      "NAME                     STATUS   VOLUME                                     CAPACITY   ACCESS MODES   STORAGECLASS   VOLUMEATTRIBUTESCLASS   AGE\n",
      "product-service-db-pvc   Bound    pvc-8a81b782-2964-4b69-a88b-25a234feb78c   100Mi      RWO            hostpath       <unset>                 33m\n",
      "user-service-db-pvc      Bound    pvc-235a1f2a-c1ff-4a59-967c-9aa43a7dd048   100Mi      RWO            hostpath       <unset>                 44m\n"
     ]
    }
   ],
   "source": [
    "# Display all pods and services in the cluster\n",
    "!echo ---Pods---\n",
    "!kubectl get pods -o wide\n",
    "!echo ---Services---\n",
    "!kubectl get svc\n",
    "!echo ---PVC---\n",
    "!kubectl get pvc"
   ]
  },
  {
   "cell_type": "code",
   "execution_count": null,
   "id": "8ea1a4de",
   "metadata": {
    "vscode": {
     "languageId": "bat"
    }
   },
   "outputs": [],
   "source": [
    "!kubectl describe pvc user-service-db-pvc"
   ]
  },
  {
   "cell_type": "code",
   "execution_count": null,
   "id": "f1b9e16a",
   "metadata": {
    "vscode": {
     "languageId": "bat"
    }
   },
   "outputs": [],
   "source": [
    "!kubectl describe pvc product-service-db-pvc"
   ]
  },
  {
   "cell_type": "code",
   "execution_count": 59,
   "id": "e005b1e3",
   "metadata": {
    "vscode": {
     "languageId": "bat"
    }
   },
   "outputs": [],
   "source": [
    "!kubectl logs product-service-75c5fbfbb7-mgnc7"
   ]
  },
  {
   "cell_type": "code",
   "execution_count": null,
   "id": "5d8c677b",
   "metadata": {
    "vscode": {
     "languageId": "bat"
    }
   },
   "outputs": [],
   "source": [
    "!kubectl logs user-service-6575cbc976-4sljw --previous"
   ]
  },
  {
   "cell_type": "markdown",
   "id": "07421c1d",
   "metadata": {},
   "source": [
    "# **WEB INTERFACE**"
   ]
  },
  {
   "cell_type": "code",
   "execution_count": 39,
   "id": "bcf31296",
   "metadata": {
    "vscode": {
     "languageId": "bat"
    }
   },
   "outputs": [
    {
     "name": "stdout",
     "output_type": "stream",
     "text": [
      "---Building web-interface---\n"
     ]
    },
    {
     "name": "stderr",
     "output_type": "stream",
     "text": [
      "#0 building with \"desktop-linux\" instance using docker driver\n",
      "\n",
      "#1 [internal] load build definition from Dockerfile\n",
      "#1 DONE 0.1s\n",
      "\n",
      "#1 [internal] load build definition from Dockerfile\n",
      "#1 transferring dockerfile: 30B 0.0s\n",
      "#1 transferring dockerfile: 522B 0.2s done\n",
      "#1 DONE 0.4s\n",
      "\n",
      "#2 [internal] load metadata for docker.io/library/node:18-alpine\n",
      "#2 ...\n",
      "\n",
      "#3 [auth] library/node:pull token for registry-1.docker.io\n",
      "#3 DONE 0.0s\n",
      "\n",
      "#4 [internal] load metadata for docker.io/library/nginx:alpine\n",
      "#4 ...\n",
      "\n",
      "#5 [auth] library/nginx:pull token for registry-1.docker.io\n",
      "#5 DONE 0.0s\n",
      "\n",
      "#2 [internal] load metadata for docker.io/library/node:18-alpine\n",
      "#2 DONE 5.0s\n",
      "\n",
      "#4 [internal] load metadata for docker.io/library/nginx:alpine\n",
      "#4 DONE 6.5s\n",
      "\n",
      "#6 [internal] load .dockerignore\n",
      "#6 transferring context:\n",
      "#6 transferring context: 81B 0.2s done\n",
      "#6 DONE 0.5s\n",
      "\n",
      "#7 [build 1/6] FROM docker.io/library/node:18-alpine@sha256:8d6421d663b4c28fd3ebc498332f249011d118945588d0a35cb9bc4b8ca09d9e\n",
      "#7 ...\n",
      "\n",
      "#8 [internal] load build context\n",
      "#8 DONE 0.0s\n",
      "\n",
      "#7 [build 1/6] FROM docker.io/library/node:18-alpine@sha256:8d6421d663b4c28fd3ebc498332f249011d118945588d0a35cb9bc4b8ca09d9e\n",
      "#7 resolve docker.io/library/node:18-alpine@sha256:8d6421d663b4c28fd3ebc498332f249011d118945588d0a35cb9bc4b8ca09d9e\n",
      "#7 resolve docker.io/library/node:18-alpine@sha256:8d6421d663b4c28fd3ebc498332f249011d118945588d0a35cb9bc4b8ca09d9e 1.0s done\n",
      "#7 DONE 1.1s\n",
      "\n",
      "#9 [stage-1 1/2] FROM docker.io/library/nginx:alpine@sha256:d67ea0d64d518b1bb04acde3b00f722ac3e9764b3209a9b0a98924ba35e4b779\n",
      "#9 resolve docker.io/library/nginx:alpine@sha256:d67ea0d64d518b1bb04acde3b00f722ac3e9764b3209a9b0a98924ba35e4b779 0.8s done\n",
      "#9 DONE 1.0s\n",
      "\n",
      "#8 [internal] load build context\n",
      "#8 transferring context: 2.96kB 0.4s done\n",
      "#8 DONE 0.5s\n",
      "\n",
      "#10 [build 3/6] COPY package*.json ./\n",
      "#10 CACHED\n",
      "\n",
      "#11 [build 2/6] WORKDIR /app\n",
      "#11 CACHED\n",
      "\n",
      "#12 [build 4/6] RUN npm install\n",
      "#12 CACHED\n",
      "\n",
      "#13 [build 5/6] COPY . .\n",
      "#13 DONE 1.5s\n",
      "\n",
      "#14 [build 6/6] RUN npm run build\n",
      "#14 28.95 \n",
      "#14 28.95 > web-interface@0.1.0 build\n",
      "#14 28.95 > react-scripts build\n",
      "#14 28.95 \n",
      "#14 53.57 Creating an optimized production build...\n",
      "#14 170.4 Compiled with warnings.\n",
      "#14 170.4 \n",
      "#14 170.4 [eslint] \n",
      "#14 170.4 src/Profile.js\n",
      "#14 170.4   Line 17:8:  React Hook useEffect has a missing dependency: 'navigate'. Either include it or remove the dependency array  react-hooks/exhaustive-deps\n",
      "#14 170.4 \n",
      "#14 170.4 Search for the keywords to learn more about each warning.\n",
      "#14 170.4 To ignore, add // eslint-disable-next-line to the line before.\n",
      "#14 170.4 \n",
      "#14 170.4 File sizes after gzip:\n",
      "#14 170.4 \n",
      "#14 170.4   86.15 kB  build/static/js/main.922fb6dd.js\n",
      "#14 170.4   1.77 kB   build/static/js/453.71002c84.chunk.js\n",
      "#14 170.4   513 B     build/static/css/main.f855e6bc.css\n",
      "#14 170.4 \n",
      "#14 170.4 The project was built assuming it is hosted at /.\n",
      "#14 170.4 You can control this with the homepage field in your package.json.\n",
      "#14 170.4 \n",
      "#14 170.4 The build folder is ready to be deployed.\n",
      "#14 170.4 You may serve it with a static server:\n",
      "#14 170.4 \n",
      "#14 170.4   npm install -g serve\n",
      "#14 170.4   serve -s build\n",
      "#14 170.4 \n",
      "#14 170.4 Find out more about deployment here:\n",
      "#14 170.4 \n",
      "#14 170.4   https://cra.link/deployment\n",
      "#14 170.4 \n",
      "#14 DONE 173.1s\n",
      "\n",
      "#9 [stage-1 1/2] FROM docker.io/library/nginx:alpine@sha256:d67ea0d64d518b1bb04acde3b00f722ac3e9764b3209a9b0a98924ba35e4b779\n",
      "#9 CACHED\n",
      "\n",
      "#15 [stage-1 2/2] COPY --from=build /app/build /usr/share/nginx/html\n",
      "#15 DONE 0.5s\n",
      "\n",
      "#16 exporting to image\n",
      "#16 exporting layers\n",
      "#16 exporting layers 0.8s done\n",
      "#16 exporting manifest sha256:9a83450209d2594bf83eaaab0bac69b2a9e767c2a6944407aa8e4cb39fcc1268 0.1s done\n",
      "#16 exporting config sha256:727b5dac72afcdffff65957e761fbc3c63ab22194bc6aec85e112a7db2f95a38\n",
      "#16 exporting config sha256:727b5dac72afcdffff65957e761fbc3c63ab22194bc6aec85e112a7db2f95a38 0.0s done\n",
      "#16 exporting attestation manifest sha256:167336706547274230df6e7a2e17ecd7b1f0a8d4aabd22e42638713869e4f81b\n",
      "#16 exporting attestation manifest sha256:167336706547274230df6e7a2e17ecd7b1f0a8d4aabd22e42638713869e4f81b 0.1s done\n",
      "#16 exporting manifest list sha256:a436f1c723b5ac97c858a25d388e72a64f2679f534216f5d65c42ba1b37843ee\n",
      "#16 exporting manifest list sha256:a436f1c723b5ac97c858a25d388e72a64f2679f534216f5d65c42ba1b37843ee 0.1s done\n",
      "#16 naming to docker.io/library/web-interface:latest 0.0s done\n",
      "#16 unpacking to docker.io/library/web-interface:latest\n",
      "#16 unpacking to docker.io/library/web-interface:latest 0.3s done\n",
      "#16 DONE 1.9s\n",
      "\n",
      "View build details: docker-desktop://dashboard/build/desktop-linux/desktop-linux/pm50yo69zpcwellr2xee5w82o\n"
     ]
    }
   ],
   "source": [
    "# Build Web Interface Service\n",
    "service = \"web-interface\"\n",
    "!echo ---Building {service}---\n",
    "!docker build -t {service} C:\\\\Services\\\\{service}\\\\"
   ]
  },
  {
   "cell_type": "code",
   "execution_count": 9,
   "id": "b73d6442",
   "metadata": {
    "vscode": {
     "languageId": "bat"
    }
   },
   "outputs": [
    {
     "name": "stdout",
     "output_type": "stream",
     "text": [
      "---Deploying web-interface---\n",
      "deployment.apps/web-interface unchanged\n",
      "service/web-interface unchanged\n"
     ]
    }
   ],
   "source": [
    "# Deploy Web Interface Service\n",
    "service = \"web-interface\"\n",
    "!echo ---Deploying {service}---\n",
    "!kubectl apply -f C:\\\\Services\\\\{service}\\\\k8s\\\\"
   ]
  },
  {
   "cell_type": "code",
   "execution_count": 40,
   "id": "d4b13ebb",
   "metadata": {
    "vscode": {
     "languageId": "bat"
    }
   },
   "outputs": [
    {
     "name": "stdout",
     "output_type": "stream",
     "text": [
      "---Shutting down web-interface---\n",
      "service \"web-interface\" deleted\n",
      "deployment.apps \"web-interface\" deleted\n"
     ]
    }
   ],
   "source": [
    "# Shutdown Web Interface Service\n",
    "service = \"web-interface\"\n",
    "!echo ---Shutting down {service}---\n",
    "!kubectl delete service {service}\n",
    "!kubectl delete deployment {service}"
   ]
  },
  {
   "cell_type": "markdown",
   "id": "454e88c7",
   "metadata": {},
   "source": [
    "# **USER SERVICE**"
   ]
  },
  {
   "cell_type": "code",
   "execution_count": 1,
   "id": "7823d9d2",
   "metadata": {
    "vscode": {
     "languageId": "bat"
    }
   },
   "outputs": [
    {
     "name": "stdout",
     "output_type": "stream",
     "text": [
      "---Building user-service---\n"
     ]
    },
    {
     "name": "stderr",
     "output_type": "stream",
     "text": [
      "#0 building with \"desktop-linux\" instance using docker driver\n",
      "\n",
      "#1 [internal] load build definition from Dockerfile\n",
      "#1 transferring dockerfile:\n",
      "#1 transferring dockerfile: 335B 0.9s done\n",
      "#1 DONE 1.6s\n",
      "\n",
      "#2 [internal] load metadata for docker.io/library/node:18-alpine\n",
      "#2 ...\n",
      "\n",
      "#3 [auth] library/node:pull token for registry-1.docker.io\n",
      "#3 DONE 0.0s\n",
      "\n",
      "#2 [internal] load metadata for docker.io/library/node:18-alpine\n",
      "#2 DONE 7.4s\n",
      "\n",
      "#4 [internal] load .dockerignore\n",
      "#4 transferring context: 79B 0.0s done\n",
      "#4 DONE 0.1s\n",
      "\n",
      "#5 [internal] load build context\n",
      "#5 DONE 0.0s\n",
      "\n",
      "#6 [1/5] FROM docker.io/library/node:18-alpine@sha256:8d6421d663b4c28fd3ebc498332f249011d118945588d0a35cb9bc4b8ca09d9e\n",
      "#6 resolve docker.io/library/node:18-alpine@sha256:8d6421d663b4c28fd3ebc498332f249011d118945588d0a35cb9bc4b8ca09d9e\n",
      "#6 resolve docker.io/library/node:18-alpine@sha256:8d6421d663b4c28fd3ebc498332f249011d118945588d0a35cb9bc4b8ca09d9e 0.3s done\n",
      "#6 DONE 0.5s\n",
      "\n",
      "#5 [internal] load build context\n",
      "#5 transferring context: 782B 0.1s done\n",
      "#5 DONE 0.2s\n",
      "\n",
      "#7 [2/5] WORKDIR /app\n",
      "#7 CACHED\n",
      "\n",
      "#8 [3/5] COPY package*.json ./\n",
      "#8 CACHED\n",
      "\n",
      "#9 [4/5] RUN npm install\n",
      "#9 CACHED\n",
      "\n",
      "#10 [5/5] COPY . .\n",
      "#10 CACHED\n",
      "\n",
      "#11 exporting to image\n",
      "#11 exporting layers 0.0s done\n",
      "#11 exporting manifest sha256:f0128d3838e90b3b18a57b6a7c65d4d90acb4a99f4513be2e7778de716b4f8d6 done\n",
      "#11 exporting config sha256:df8d87d716e506ae4814ad3c4832bfae9e101a1deca4ef3fc02e6a6b41d7518d\n",
      "#11 exporting config sha256:df8d87d716e506ae4814ad3c4832bfae9e101a1deca4ef3fc02e6a6b41d7518d 0.0s done\n",
      "#11 exporting attestation manifest sha256:034ae760be848dd588985abbb207b6aa5314047d5e2659f8d1b29359fdce002e\n",
      "#11 exporting attestation manifest sha256:034ae760be848dd588985abbb207b6aa5314047d5e2659f8d1b29359fdce002e 0.1s done\n",
      "#11 exporting manifest list sha256:bc9a28973bd22c01fbc401d18846271b2ab8dbf925c8929b12b9168aee9f1133\n",
      "#11 exporting manifest list sha256:bc9a28973bd22c01fbc401d18846271b2ab8dbf925c8929b12b9168aee9f1133 0.1s done\n",
      "#11 naming to docker.io/library/user-service:latest 0.0s done\n",
      "#11 unpacking to docker.io/library/user-service:latest\n",
      "#11 unpacking to docker.io/library/user-service:latest 0.1s done\n",
      "#11 DONE 2.0s\n",
      "\n",
      "View build details: docker-desktop://dashboard/build/desktop-linux/desktop-linux/qrf9f2sdm11jn0wqm7vnzd7fl\n"
     ]
    }
   ],
   "source": [
    "# Build User Service\n",
    "service = \"user-service\"\n",
    "!echo ---Building {service}---\n",
    "!docker build -t {service} C:\\\\Services\\\\{service}\\\\"
   ]
  },
  {
   "cell_type": "code",
   "execution_count": 3,
   "id": "dadc16a1",
   "metadata": {
    "vscode": {
     "languageId": "bat"
    }
   },
   "outputs": [
    {
     "name": "stdout",
     "output_type": "stream",
     "text": [
      "---Deploying user-service---\n",
      "deployment.apps/user-service-db created\n",
      "service/user-service-db created\n",
      "deployment.apps/user-service created\n",
      "service/user-service created\n"
     ]
    }
   ],
   "source": [
    "# Deploy User Service\n",
    "service = \"user-service\"\n",
    "!echo ---Deploying {service}---\n",
    "!kubectl apply -f C:\\\\Services\\\\{service}\\\\k8s\\\\"
   ]
  },
  {
   "cell_type": "code",
   "execution_count": 2,
   "id": "fb4de299",
   "metadata": {
    "vscode": {
     "languageId": "bat"
    }
   },
   "outputs": [
    {
     "name": "stdout",
     "output_type": "stream",
     "text": [
      "---Shutting down user-service---\n",
      "service \"user-service\" deleted\n",
      "deployment.apps \"user-service\" deleted\n",
      "service \"user-service-db\" deleted\n",
      "deployment.apps \"user-service-db\" deleted\n"
     ]
    }
   ],
   "source": [
    "# Shutdown User Service\n",
    "service = \"user-service\"\n",
    "service_db = \"user-service-db\"\n",
    "!echo ---Shutting down {service}---\n",
    "!kubectl delete service {service}\n",
    "!kubectl delete deployment {service}\n",
    "!kubectl delete service {service_db}\n",
    "!kubectl delete deployment {service_db}"
   ]
  },
  {
   "cell_type": "code",
   "execution_count": 70,
   "id": "060bf429",
   "metadata": {
    "vscode": {
     "languageId": "bat"
    }
   },
   "outputs": [
    {
     "name": "stdout",
     "output_type": "stream",
     "text": [
      "---Deploying PVC---\n",
      "persistentvolumeclaim/user-service-db-pvc created\n"
     ]
    }
   ],
   "source": [
    "# Deploy PVC for User Service\n",
    "service = \"user-service\"\n",
    "!echo ---Deploying PVC---\n",
    "!kubectl apply -f C:\\\\Services\\\\{service}\\\\k8s\\\\pvc"
   ]
  },
  {
   "cell_type": "code",
   "execution_count": null,
   "id": "1ffaa438",
   "metadata": {
    "vscode": {
     "languageId": "bat"
    }
   },
   "outputs": [
    {
     "name": "stdout",
     "output_type": "stream",
     "text": [
      "---Shutting down PVC---\n",
      "persistentvolumeclaim \"user-service-db-pvc\" deleted\n"
     ]
    }
   ],
   "source": [
    "# Shutdown PVC for User Service\n",
    "service_pvc = \"user-service-db-pvc\"\n",
    "!echo ---Shutting down PVC---\n",
    "!kubectl delete pvc {service_pvc}"
   ]
  },
  {
   "cell_type": "markdown",
   "id": "a35c82a6",
   "metadata": {},
   "source": [
    "# **PRODUCT SERVICE**"
   ]
  },
  {
   "cell_type": "code",
   "execution_count": 2,
   "id": "2f33470a",
   "metadata": {
    "vscode": {
     "languageId": "bat"
    }
   },
   "outputs": [
    {
     "name": "stdout",
     "output_type": "stream",
     "text": [
      "---Building product-service---\n"
     ]
    },
    {
     "name": "stderr",
     "output_type": "stream",
     "text": [
      "#0 building with \"desktop-linux\" instance using docker driver\n",
      "\n",
      "#1 [internal] load build definition from Dockerfile\n",
      "#1 DONE 0.1s\n",
      "\n",
      "#1 [internal] load build definition from Dockerfile\n",
      "#1 transferring dockerfile: 30B 0.1s\n",
      "#1 transferring dockerfile: 337B 0.4s done\n",
      "#1 DONE 0.6s\n",
      "\n",
      "#2 [internal] load metadata for docker.io/library/node:18-alpine\n",
      "#2 DONE 2.3s\n",
      "\n",
      "#3 [internal] load .dockerignore\n",
      "#3 transferring context: 79B 0.1s done\n",
      "#3 DONE 0.3s\n",
      "\n",
      "#4 [1/5] FROM docker.io/library/node:18-alpine@sha256:8d6421d663b4c28fd3ebc498332f249011d118945588d0a35cb9bc4b8ca09d9e\n",
      "#4 resolve docker.io/library/node:18-alpine@sha256:8d6421d663b4c28fd3ebc498332f249011d118945588d0a35cb9bc4b8ca09d9e\n",
      "#4 ...\n",
      "\n",
      "#5 [internal] load build context\n",
      "#5 transferring context: 1.33kB 0.2s done\n",
      "#5 DONE 0.5s\n",
      "\n",
      "#4 [1/5] FROM docker.io/library/node:18-alpine@sha256:8d6421d663b4c28fd3ebc498332f249011d118945588d0a35cb9bc4b8ca09d9e\n",
      "#4 resolve docker.io/library/node:18-alpine@sha256:8d6421d663b4c28fd3ebc498332f249011d118945588d0a35cb9bc4b8ca09d9e 0.9s done\n",
      "#4 DONE 0.9s\n",
      "\n",
      "#6 [2/5] WORKDIR /app\n",
      "#6 CACHED\n",
      "\n",
      "#7 [3/5] COPY package*.json ./\n",
      "#7 CACHED\n",
      "\n",
      "#8 [4/5] RUN npm install\n",
      "#8 CACHED\n",
      "\n",
      "#9 [5/5] COPY . .\n",
      "#9 CACHED\n",
      "\n",
      "#10 exporting to image\n",
      "#10 exporting layers 0.1s done\n",
      "#10 exporting manifest sha256:927f68fefa2eae50c8057707165d5a996027ea714cbc0ca777939402c680da71\n",
      "#10 exporting manifest sha256:927f68fefa2eae50c8057707165d5a996027ea714cbc0ca777939402c680da71 0.0s done\n",
      "#10 exporting config sha256:49a223d1bf8c46a827d84c505a67b97b6955898d189ca5901cc5da3de14c99ee 0.0s done\n",
      "#10 exporting attestation manifest sha256:30398844c073619dc88004cd3730d0b5ee453e5a742764d84b5ef8935b8196e6\n",
      "#10 exporting attestation manifest sha256:30398844c073619dc88004cd3730d0b5ee453e5a742764d84b5ef8935b8196e6 0.3s done\n",
      "#10 exporting manifest list sha256:aa6f6c3fdfb34b5af3b51accaa2f4bc29840b6853e2f48c91c37930e7c468c30\n",
      "#10 exporting manifest list sha256:aa6f6c3fdfb34b5af3b51accaa2f4bc29840b6853e2f48c91c37930e7c468c30 0.2s done\n",
      "#10 naming to docker.io/library/product-service:latest\n",
      "#10 naming to docker.io/library/product-service:latest 0.1s done\n",
      "#10 unpacking to docker.io/library/product-service:latest\n",
      "#10 unpacking to docker.io/library/product-service:latest 0.2s done\n",
      "#10 DONE 2.4s\n",
      "\n",
      "View build details: docker-desktop://dashboard/build/desktop-linux/desktop-linux/12i0fjuawg1g73r8pw9zhu1ot\n"
     ]
    }
   ],
   "source": [
    "# Build Product Service\n",
    "service = \"product-service\"\n",
    "!echo ---Building {service}---\n",
    "!docker build -t {service} C:\\\\Services\\\\{service}\\\\"
   ]
  },
  {
   "cell_type": "code",
   "execution_count": 4,
   "id": "68309b39",
   "metadata": {
    "vscode": {
     "languageId": "bat"
    }
   },
   "outputs": [
    {
     "name": "stdout",
     "output_type": "stream",
     "text": [
      "---Deploying product-service---\n",
      "deployment.apps/product-service-db created\n",
      "service/product-service-db created\n",
      "deployment.apps/product-service created\n",
      "service/product-service created\n"
     ]
    }
   ],
   "source": [
    "# Deploy Product Service\n",
    "service = \"product-service\"\n",
    "!echo ---Deploying {service}---\n",
    "!kubectl apply -f C:\\\\Services\\\\{service}\\\\k8s\\\\"
   ]
  },
  {
   "cell_type": "code",
   "execution_count": 1,
   "id": "fa506d89",
   "metadata": {
    "vscode": {
     "languageId": "bat"
    }
   },
   "outputs": [
    {
     "name": "stdout",
     "output_type": "stream",
     "text": [
      "---Shutting down product-service---\n",
      "service \"product-service\" deleted\n",
      "deployment.apps \"product-service\" deleted\n",
      "service \"product-service-db\" deleted\n",
      "deployment.apps \"product-service-db\" deleted\n"
     ]
    }
   ],
   "source": [
    "# Shutdown Product Service\n",
    "service = \"product-service\"\n",
    "service_db = \"product-service-db\"\n",
    "!echo ---Shutting down {service}---\n",
    "!kubectl delete service {service}\n",
    "!kubectl delete deployment {service}\n",
    "!kubectl delete service {service_db}\n",
    "!kubectl delete deployment {service_db}"
   ]
  },
  {
   "cell_type": "code",
   "execution_count": 80,
   "id": "8602b3af",
   "metadata": {
    "vscode": {
     "languageId": "bat"
    }
   },
   "outputs": [
    {
     "name": "stdout",
     "output_type": "stream",
     "text": [
      "---Deploying PVC---\n",
      "persistentvolumeclaim/product-service-db-pvc created\n"
     ]
    }
   ],
   "source": [
    "# Deploy PVC for Product Service\n",
    "service = \"product-service\"\n",
    "!echo ---Deploying PVC---\n",
    "!kubectl apply -f C:\\\\Services\\\\{service}\\\\k8s\\\\pvc"
   ]
  },
  {
   "cell_type": "code",
   "execution_count": 68,
   "id": "efef4e7c",
   "metadata": {
    "vscode": {
     "languageId": "bat"
    }
   },
   "outputs": [
    {
     "name": "stdout",
     "output_type": "stream",
     "text": [
      "---Shutting down PVC---\n",
      "persistentvolumeclaim \"product-service-db-pvc\" deleted\n"
     ]
    }
   ],
   "source": [
    "# Shutdown PVC for Product Service\n",
    "service_pvc = \"product-service-db-pvc\"\n",
    "!echo ---Shutting down PVC---\n",
    "!kubectl delete pvc {service_pvc}"
   ]
  },
  {
   "cell_type": "markdown",
   "id": "ec526888",
   "metadata": {},
   "source": [
    "# **Ingress**"
   ]
  },
  {
   "cell_type": "code",
   "execution_count": 8,
   "id": "5e9f6ecf",
   "metadata": {
    "vscode": {
     "languageId": "bat"
    }
   },
   "outputs": [
    {
     "name": "stdout",
     "output_type": "stream",
     "text": [
      "---Deploying Ingress Controller---\n",
      "namespace/ingress-nginx unchanged\n",
      "serviceaccount/ingress-nginx unchanged\n",
      "serviceaccount/ingress-nginx-admission unchanged\n",
      "role.rbac.authorization.k8s.io/ingress-nginx unchanged\n",
      "role.rbac.authorization.k8s.io/ingress-nginx-admission unchanged\n",
      "clusterrole.rbac.authorization.k8s.io/ingress-nginx unchanged\n",
      "clusterrole.rbac.authorization.k8s.io/ingress-nginx-admission unchanged\n",
      "rolebinding.rbac.authorization.k8s.io/ingress-nginx unchanged\n",
      "rolebinding.rbac.authorization.k8s.io/ingress-nginx-admission unchanged\n",
      "clusterrolebinding.rbac.authorization.k8s.io/ingress-nginx unchanged\n",
      "clusterrolebinding.rbac.authorization.k8s.io/ingress-nginx-admission unchanged\n",
      "configmap/ingress-nginx-controller configured\n",
      "service/ingress-nginx-controller unchanged\n",
      "service/ingress-nginx-controller-admission unchanged\n",
      "deployment.apps/ingress-nginx-controller configured\n",
      "job.batch/ingress-nginx-admission-create created\n",
      "job.batch/ingress-nginx-admission-patch created\n",
      "ingressclass.networking.k8s.io/nginx unchanged\n",
      "validatingwebhookconfiguration.admissionregistration.k8s.io/ingress-nginx-admission configured\n"
     ]
    }
   ],
   "source": [
    "# Deploy Ingress Controller\n",
    "!echo ---Deploying Ingress Controller---\n",
    "!kubectl apply -f https://raw.githubusercontent.com/kubernetes/ingress-nginx/main/deploy/static/provider/cloud/deploy.yaml"
   ]
  },
  {
   "cell_type": "code",
   "execution_count": 9,
   "id": "04923ee3",
   "metadata": {
    "vscode": {
     "languageId": "bat"
    }
   },
   "outputs": [
    {
     "name": "stdout",
     "output_type": "stream",
     "text": [
      "---Deploying Ingress Configuration---\n",
      "ingress.networking.k8s.io/app-ingress unchanged\n"
     ]
    }
   ],
   "source": [
    "# Deploy Ingress Configuration\n",
    "folder = \"ingress\"\n",
    "!echo ---Deploying Ingress Configuration---\n",
    "!kubectl apply -f C:\\\\Services\\\\{folder}\\\\"
   ]
  },
  {
   "cell_type": "markdown",
   "id": "697567e1",
   "metadata": {},
   "source": [
    "# **Secrets**"
   ]
  },
  {
   "cell_type": "code",
   "execution_count": 38,
   "id": "d73ca3ef",
   "metadata": {
    "vscode": {
     "languageId": "bat"
    }
   },
   "outputs": [
    {
     "name": "stdout",
     "output_type": "stream",
     "text": [
      "---Deploying Secrets---\n",
      "secret/user-service-secret configured\n",
      "secret/product-service-secret configured\n",
      "secret/web-config-secret configured\n"
     ]
    }
   ],
   "source": [
    "# Deploy Secrets\n",
    "folder = \"secrets\"\n",
    "!echo ---Deploying Secrets---\n",
    "!kubectl apply -f C:\\\\Services\\\\{folder}\\\\"
   ]
  },
  {
   "cell_type": "markdown",
   "id": "acd44afc",
   "metadata": {},
   "source": [
    "# **Ports**"
   ]
  },
  {
   "cell_type": "code",
   "execution_count": 5,
   "id": "b9e80886",
   "metadata": {
    "vscode": {
     "languageId": "bat"
    }
   },
   "outputs": [
    {
     "name": "stderr",
     "output_type": "stream",
     "text": [
      "System error 5 has occurred.\n",
      "\n",
      "Access is denied.\n",
      "\n"
     ]
    }
   ],
   "source": [
    "# Shutdown Local MongoDB\n",
    "!net stop MongoDB"
   ]
  },
  {
   "cell_type": "code",
   "execution_count": null,
   "id": "267d3131",
   "metadata": {
    "vscode": {
     "languageId": "bat"
    }
   },
   "outputs": [
    {
     "name": "stdout",
     "output_type": "stream",
     "text": [
      "---Portforwarding MongoDB---\n",
      "^C\n"
     ]
    }
   ],
   "source": [
    "# Portforwarding MongoDB\n",
    "!echo ---Portforwarding MongoDB---\n",
    "!kubectl port-forward svc/user-service-db 27017:27017\n",
    "!kubectl port-forward svc/product-service-db 27018:27017"
   ]
  }
 ],
 "metadata": {
  "kernelspec": {
   "display_name": "Python 3",
   "language": "python",
   "name": "python3"
  },
  "language_info": {
   "codemirror_mode": {
    "name": "ipython",
    "version": 3
   },
   "file_extension": ".py",
   "mimetype": "text/x-python",
   "name": "python",
   "nbconvert_exporter": "python",
   "pygments_lexer": "ipython3",
   "version": "3.13.5"
  }
 },
 "nbformat": 4,
 "nbformat_minor": 5
}
