{
 "cells": [
  {
   "cell_type": "markdown",
   "id": "fdda6239",
   "metadata": {},
   "source": [
    "# **I. KUBERNETES INFO**"
   ]
  },
  {
   "cell_type": "code",
   "execution_count": 131,
   "id": "dad6afab",
   "metadata": {
    "vscode": {
     "languageId": "bat"
    }
   },
   "outputs": [
    {
     "name": "stdout",
     "output_type": "stream",
     "text": [
      "---Pods---\n",
      "NAME                                                     READY   STATUS              RESTARTS      AGE     IP           NODE             NOMINATED NODE   READINESS GATES\n",
      "alertmanager-monitoring-kube-prometheus-alertmanager-0   2/2     Running             2 (86m ago)   4h39m   10.1.0.120   docker-desktop   <none>           <none>\n",
      "monitoring-grafana-944547fdc-5c2cd                       3/3     Running             3 (86m ago)   115m    10.1.0.117   docker-desktop   <none>           <none>\n",
      "monitoring-kube-prometheus-operator-74b5f54dbf-2kj7g     1/1     Running             2 (84m ago)   4h39m   10.1.0.113   docker-desktop   <none>           <none>\n",
      "monitoring-kube-state-metrics-585b45df98-lf89j           1/1     Running             1 (86m ago)   4h39m   10.1.0.108   docker-desktop   <none>           <none>\n",
      "product-service-7bddd5f79c-zd9vv                         1/1     Running             1 (86m ago)   10h     10.1.0.104   docker-desktop   <none>           <none>\n",
      "product-service-db-98d6fb46d-kb6pj                       1/1     Running             1 (86m ago)   10h     10.1.0.110   docker-desktop   <none>           <none>\n",
      "prometheus-monitoring-kube-prometheus-prometheus-0       2/2     Running             2 (86m ago)   4h39m   10.1.0.119   docker-desktop   <none>           <none>\n",
      "user-service-bd464cd9d-5mmcd                             1/1     Running             1 (86m ago)   9h      10.1.0.118   docker-desktop   <none>           <none>\n",
      "user-service-db-6c74f9b896-2hl7k                         1/1     Running             1 (86m ago)   9h      10.1.0.107   docker-desktop   <none>           <none>\n",
      "web-interface-7c494cc897-q9jl8                           0/1     ContainerCreating   0             18s     <none>       docker-desktop   <none>           <none>\n",
      "---Services---\n",
      "NAME                                      TYPE        CLUSTER-IP       EXTERNAL-IP   PORT(S)                      AGE\n",
      "alertmanager-operated                     ClusterIP   None             <none>        9093/TCP,9094/TCP,9094/UDP   4h39m\n",
      "kubernetes                                ClusterIP   10.96.0.1        <none>        443/TCP                      28h\n",
      "monitoring-grafana                        ClusterIP   10.97.102.3      <none>        80/TCP                       4h39m\n",
      "monitoring-kube-prometheus-alertmanager   ClusterIP   10.96.148.136    <none>        9093/TCP,8080/TCP            4h39m\n",
      "monitoring-kube-prometheus-operator       ClusterIP   10.101.137.204   <none>        443/TCP                      4h39m\n",
      "monitoring-kube-prometheus-prometheus     ClusterIP   10.108.115.180   <none>        9090/TCP,8080/TCP            4h39m\n",
      "monitoring-kube-state-metrics             ClusterIP   10.101.153.177   <none>        8080/TCP                     4h39m\n",
      "product-service                           ClusterIP   10.96.42.139     <none>        3001/TCP                     10h\n",
      "product-service-db                        NodePort    10.99.119.86     <none>        27017:32018/TCP              10h\n",
      "prometheus-operated                       ClusterIP   None             <none>        9090/TCP                     4h39m\n",
      "user-service                              ClusterIP   10.96.76.191     <none>        3000/TCP                     9h\n",
      "user-service-db                           NodePort    10.111.166.166   <none>        27017:32017/TCP              9h\n",
      "web-interface                             ClusterIP   10.104.109.163   <none>        80/TCP                       21s\n",
      "---PVC---\n",
      "NAME                     STATUS        VOLUME                                     CAPACITY   ACCESS MODES   STORAGECLASS   VOLUMEATTRIBUTESCLASS   AGE\n",
      "product-service-db-pvc   Terminating   pvc-e4b73123-c431-4da4-b986-c591c8a351d7   100Mi      RWO            hostpath       <unset>                 27h\n",
      "user-service-db-pvc      Bound         pvc-07d54536-7f1c-4839-8624-36d67fc8cd50   100Mi      RWO            hostpath       <unset>                 22h\n"
     ]
    }
   ],
   "source": [
    "# Display all pods and services in the cluster\n",
    "!echo ---Pods---\n",
    "!kubectl get pods -o wide\n",
    "!echo ---Services---\n",
    "!kubectl get svc\n",
    "!echo ---PVC---\n",
    "!kubectl get pvc"
   ]
  },
  {
   "cell_type": "code",
   "execution_count": 80,
   "id": "bd727816",
   "metadata": {
    "vscode": {
     "languageId": "bat"
    }
   },
   "outputs": [
    {
     "name": "stdout",
     "output_type": "stream",
     "text": [
      "---Namespaces---\n",
      "NAME              STATUS   AGE\n",
      "default           Active   25h\n",
      "ingress-nginx     Active   24h\n",
      "kube-node-lease   Active   25h\n",
      "kube-public       Active   25h\n",
      "kube-system       Active   25h\n",
      "monitoring        Active   2m47s\n"
     ]
    }
   ],
   "source": [
    "# Display all namespaces in the cluster\n",
    "!echo ---Namespaces---\n",
    "!kubectl get ns"
   ]
  },
  {
   "cell_type": "code",
   "execution_count": null,
   "id": "df80c317",
   "metadata": {
    "vscode": {
     "languageId": "bat"
    }
   },
   "outputs": [],
   "source": [
    "# Display all nodes in the cluster\n",
    "!echo ---Nodes---\n",
    "!kubectl get nodes"
   ]
  },
  {
   "cell_type": "code",
   "execution_count": 17,
   "id": "1db2277a",
   "metadata": {
    "vscode": {
     "languageId": "bat"
    }
   },
   "outputs": [
    {
     "name": "stdout",
     "output_type": "stream",
     "text": [
      "---Storage Classes---\n",
      "NAME                 PROVISIONER          RECLAIMPOLICY   VOLUMEBINDINGMODE   ALLOWVOLUMEEXPANSION   AGE\n",
      "hostpath (default)   docker.io/hostpath   Delete          Immediate           false                  41m\n"
     ]
    }
   ],
   "source": [
    "# Display all storage classes in the cluster\n",
    "!echo ---Storage Classes---\n",
    "!kubectl get storageclass"
   ]
  },
  {
   "cell_type": "code",
   "execution_count": 18,
   "id": "419008b6",
   "metadata": {
    "vscode": {
     "languageId": "bat"
    }
   },
   "outputs": [
    {
     "name": "stdout",
     "output_type": "stream",
     "text": [
      "---Config Maps---\n",
      "NAME                     DATA   AGE\n",
      "auth-messages            2      86s\n",
      "kube-root-ca.crt         1      41m\n",
      "product-service-config   2      85s\n",
      "user-service-config      2      85s\n",
      "web-interface-config     2      85s\n"
     ]
    }
   ],
   "source": [
    "# Display all config maps in the cluster\n",
    "!echo ---Config Maps---\n",
    "!kubectl get configmap"
   ]
  },
  {
   "cell_type": "code",
   "execution_count": 19,
   "id": "d457dac4",
   "metadata": {
    "vscode": {
     "languageId": "bat"
    }
   },
   "outputs": [
    {
     "name": "stdout",
     "output_type": "stream",
     "text": [
      "---Secrets---\n",
      "NAME                     TYPE     DATA   AGE\n",
      "product-service-secret   Opaque   0      89s\n",
      "user-service-secret      Opaque   1      89s\n",
      "web-interface-secret     Opaque   0      89s\n"
     ]
    }
   ],
   "source": [
    "# Display all secrets in the cluster\n",
    "!echo ---Secrets---\n",
    "!kubectl get secret"
   ]
  },
  {
   "cell_type": "code",
   "execution_count": 57,
   "id": "d7bf17ec",
   "metadata": {
    "vscode": {
     "languageId": "bat"
    }
   },
   "outputs": [
    {
     "name": "stdout",
     "output_type": "stream",
     "text": [
      "---Ingress Controller Pods---\n"
     ]
    },
    {
     "name": "stdout",
     "output_type": "stream",
     "text": [
      "NAME                                       READY   STATUS    RESTARTS      AGE\n",
      "ingress-nginx-controller-675c4bf49-dk2kj   1/1     Running   9 (51s ago)   5h46m\n",
      "---Ingress Services---\n",
      "NAME                                 TYPE        CLUSTER-IP     EXTERNAL-IP   PORT(S)        AGE\n",
      "ingress-nginx-controller             NodePort    10.99.7.203    <none>        80:32000/TCP   5h46m\n",
      "ingress-nginx-controller-admission   ClusterIP   10.111.71.82   <none>        443/TCP        5h46m\n",
      "---Ingress---\n",
      "NAMESPACE   NAME                    CLASS   HOSTS   ADDRESS       PORTS   AGE\n",
      "default     ingress-configuration   nginx   *       10.99.7.203   80      5h44m\n"
     ]
    }
   ],
   "source": [
    "# Display Ingress controller details and Ingress resources\n",
    "!echo ---Ingress Controller Pods---\n",
    "!kubectl get pods -n ingress-nginx\n",
    "!echo ---Ingress Services---\n",
    "!kubectl get svc -n ingress-nginx\n",
    "!echo ---Ingress---\n",
    "!kubectl get ingress --all-namespaces"
   ]
  },
  {
   "cell_type": "code",
   "execution_count": 121,
   "id": "c13ccad4",
   "metadata": {
    "vscode": {
     "languageId": "bat"
    }
   },
   "outputs": [
    {
     "name": "stdout",
     "output_type": "stream",
     "text": [
      "---Loki Pods---\n"
     ]
    },
    {
     "name": "stdout",
     "output_type": "stream",
     "text": [
      "NAME                        READY   STATUS    RESTARTS        AGE\n",
      "loki-stack-0                1/1     Running   1 (7m30s ago)   68m\n",
      "loki-stack-promtail-ttrkt   1/1     Running   1 (7m30s ago)   68m\n",
      "---Loki Services---\n",
      "NAME                    TYPE        CLUSTER-IP     EXTERNAL-IP   PORT(S)    AGE\n",
      "loki-stack              ClusterIP   10.98.134.12   <none>        3100/TCP   69m\n",
      "loki-stack-headless     ClusterIP   None           <none>        3100/TCP   69m\n",
      "loki-stack-memberlist   ClusterIP   None           <none>        7946/TCP   69m\n"
     ]
    }
   ],
   "source": [
    "# Display Loki pods and services\n",
    "!echo ---Loki Pods---\n",
    "!kubectl get pods -n monitoring\n",
    "!echo ---Loki Services---\n",
    "!kubectl get svc -n monitoring"
   ]
  },
  {
   "cell_type": "code",
   "execution_count": 62,
   "id": "8ea1a4de",
   "metadata": {
    "vscode": {
     "languageId": "bat"
    }
   },
   "outputs": [
    {
     "name": "stdout",
     "output_type": "stream",
     "text": [
      "Name:             ingress-configuration\n",
      "Labels:           <none>\n",
      "Namespace:        default\n",
      "Address:          10.99.7.203\n",
      "Ingress Class:    nginx\n",
      "Default backend:  <default>\n",
      "Rules:\n",
      "  Host        Path  Backends\n",
      "  ----        ----  --------\n",
      "  *           \n",
      "              /api/users      user-service:3000 (10.1.0.46:3000)\n",
      "              /api/products   product-service:3001 (10.1.0.45:3001)\n",
      "              /               web-interface:80 (10.1.0.48:80)\n",
      "Annotations:  kubernetes.io/ingress.class: nginx\n",
      "Events:\n",
      "  Type    Reason  Age                    From                      Message\n",
      "  ----    ------  ----                   ----                      -------\n",
      "  Normal  Sync    3h25m (x2 over 3h25m)  nginx-ingress-controller  Scheduled for sync\n",
      "  Normal  Sync    3h2m                   nginx-ingress-controller  Scheduled for sync\n",
      "  Normal  Sync    148m                   nginx-ingress-controller  Scheduled for sync\n",
      "  Normal  Sync    120m                   nginx-ingress-controller  Scheduled for sync\n",
      "  Normal  Sync    104m (x2 over 104m)    nginx-ingress-controller  Scheduled for sync\n",
      "  Normal  Sync    59m (x2 over 59m)      nginx-ingress-controller  Scheduled for sync\n",
      "  Normal  Sync    11m (x2 over 17m)      nginx-ingress-controller  Scheduled for sync\n",
      "  Normal  Sync    95s                    nginx-ingress-controller  Scheduled for sync\n"
     ]
    }
   ],
   "source": [
    "!kubectl describe ingress ingress-configuration"
   ]
  },
  {
   "cell_type": "markdown",
   "id": "56bcbaa6",
   "metadata": {},
   "source": [
    "### *DEBUG*"
   ]
  },
  {
   "cell_type": "code",
   "execution_count": 123,
   "id": "e005b1e3",
   "metadata": {
    "vscode": {
     "languageId": "bat"
    }
   },
   "outputs": [],
   "source": [
    "pod = \"monitoring-grafana-944547fdc-5c2cd\""
   ]
  },
  {
   "cell_type": "code",
   "execution_count": 124,
   "id": "9233f9e2",
   "metadata": {
    "vscode": {
     "languageId": "bat"
    }
   },
   "outputs": [
    {
     "name": "stdout",
     "output_type": "stream",
     "text": [
      "---Logs for monitoring-grafana-944547fdc-5c2cd---\n",
      "logger=settings t=2025-07-23T03:12:38.923450137Z level=info msg=\"Starting Grafana\" version=12.0.2 commit=5bda17e7c1cb313eb96266f2fdda73a6b35c3977 branch=HEAD compiled=2025-07-23T03:12:38Z\n",
      "logger=settings t=2025-07-23T03:12:38.925743094Z level=info msg=\"Config loaded from\" file=/usr/share/grafana/conf/defaults.ini\n",
      "logger=settings t=2025-07-23T03:12:38.925772493Z level=info msg=\"Config loaded from\" file=/etc/grafana/grafana.ini\n",
      "logger=settings t=2025-07-23T03:12:38.925777093Z level=info msg=\"Config overridden from command line\" arg=\"default.paths.data=/var/lib/grafana/\"\n",
      "logger=settings t=2025-07-23T03:12:38.925780893Z level=info msg=\"Config overridden from command line\" arg=\"default.paths.logs=/var/log/grafana\"\n",
      "logger=settings t=2025-07-23T03:12:38.925784093Z level=info msg=\"Config overridden from command line\" arg=\"default.paths.plugins=/var/lib/grafana/plugins\"\n",
      "logger=settings t=2025-07-23T03:12:38.925787493Z level=info msg=\"Config overridden from command line\" arg=\"default.paths.provisioning=/etc/grafana/provisioning\"\n",
      "logger=settings t=2025-07-23T03:12:38.925790993Z level=info msg=\"Config overridden from command line\" arg=\"default.log.mode=console\"\n",
      "logger=settings t=2025-07-23T03:12:38.925794893Z level=info msg=\"Config overridden from Environment variable\" var=\"GF_PATHS_DATA=/var/lib/grafana/\"\n",
      "logger=settings t=2025-07-23T03:12:38.925798593Z level=info msg=\"Config overridden from Environment variable\" var=\"GF_PATHS_LOGS=/var/log/grafana\"\n",
      "logger=settings t=2025-07-23T03:12:38.925801993Z level=info msg=\"Config overridden from Environment variable\" var=\"GF_PATHS_PLUGINS=/var/lib/grafana/plugins\"\n",
      "logger=settings t=2025-07-23T03:12:38.925805193Z level=info msg=\"Config overridden from Environment variable\" var=\"GF_PATHS_PROVISIONING=/etc/grafana/provisioning\"\n",
      "logger=settings t=2025-07-23T03:12:38.925808393Z level=info msg=\"Config overridden from Environment variable\" var=\"GF_SECURITY_ADMIN_USER=admin\"\n",
      "logger=settings t=2025-07-23T03:12:38.925811593Z level=info msg=\"Config overridden from Environment variable\" var=\"GF_SECURITY_ADMIN_PASSWORD=*********\"\n",
      "logger=settings t=2025-07-23T03:12:38.925815193Z level=info msg=Target target=[all]\n",
      "logger=settings t=2025-07-23T03:12:38.925828392Z level=info msg=\"Path Home\" path=/usr/share/grafana\n",
      "logger=settings t=2025-07-23T03:12:38.925831892Z level=info msg=\"Path Data\" path=/var/lib/grafana/\n",
      "logger=settings t=2025-07-23T03:12:38.925834992Z level=info msg=\"Path Logs\" path=/var/log/grafana\n",
      "logger=settings t=2025-07-23T03:12:38.925838192Z level=info msg=\"Path Plugins\" path=/var/lib/grafana/plugins\n",
      "logger=settings t=2025-07-23T03:12:38.925841292Z level=info msg=\"Path Provisioning\" path=/etc/grafana/provisioning\n",
      "logger=settings t=2025-07-23T03:12:38.925844892Z level=info msg=\"App mode production\"\n",
      "logger=featuremgmt t=2025-07-23T03:12:38.926289084Z level=info msg=FeatureToggles tlsMemcached=true dashgpt=true ssoSettingsApi=true externalCorePlugins=true transformationsRedesign=true alertingInsights=true recoveryThreshold=true dashboardSceneSolo=true lokiQueryHints=true kubernetesPlaylists=true alertRuleRestore=true cloudWatchRoundUpEndTime=true lokiStructuredMetadata=true azureMonitorPrometheusExemplars=true logsContextDatasourceUi=true alertingRuleRecoverDeleted=true newPDFRendering=true nestedFolders=true cloudWatchCrossAccountQuerying=true alertingRulePermanentlyDelete=true dataplaneFrontendFallback=true prometheusAzureOverrideAudience=true dashboardScene=true kubernetesClientDashboardsFolders=true influxdbBackendMigration=true unifiedStorageSearchPermissionFiltering=true azureMonitorEnableUserAuth=true publicDashboardsScene=true formatString=true grafanaconThemes=true prometheusUsesCombobox=true preinstallAutoUpdate=true logRowsPopoverMenu=true alertingRuleVersionHistoryRestore=true groupToNestedTableTransformation=true useSessionStorageForRedirection=true newFiltersUI=true alertingApiServer=true dashboardSceneForViewers=true pinNavItems=true logsPanelControls=true correlations=true addFieldFromCalculationStatFunctions=true alertingNotificationsStepMode=true alertingSimplifiedRouting=true cloudWatchNewLabelParsing=true pluginsDetailsRightPanel=true failWrongDSUID=true alertingUIOptimizeReducer=true recordedQueriesMulti=true annotationPermissionUpdate=true panelMonitoring=true reportingUseRawTimeRange=true newDashboardSharingComponent=true lokiLabelNamesQueryApi=true alertingQueryAndExpressionsStepMode=true ssoSettingsSAML=true onPremToCloudMigrations=true unifiedRequestLog=true angularDeprecationUI=true logsExploreTableVisualisation=true lokiQuerySplitting=true promQLScope=true logsInfiniteScrolling=true awsAsyncQueryCaching=true\n",
      "logger=sqlstore t=2025-07-23T03:12:38.92646738Z level=info msg=\"Connecting to DB\" dbtype=sqlite3\n",
      "logger=migrator t=2025-07-23T03:12:39.236845004Z level=info msg=\"Locking database\"\n",
      "logger=migrator t=2025-07-23T03:12:39.237915684Z level=info msg=\"Starting DB migrations\"\n",
      "logger=migrator t=2025-07-23T03:12:39.373529417Z level=info msg=\"migrations completed\" performed=0 skipped=654 duration=4.22642ms\n",
      "logger=migrator t=2025-07-23T03:12:39.385059298Z level=info msg=\"Unlocking database\"\n",
      "logger=secrets t=2025-07-23T03:12:39.412121486Z level=info msg=\"Envelope encryption state\" enabled=true currentprovider=secretKey.v1\n",
      "logger=plugin.angulardetectorsprovider.dynamic t=2025-07-23T03:12:40.207038019Z level=info msg=\"Restored cache from database\" duration=33.709662ms\n",
      "logger=resource-migrator t=2025-07-23T03:12:40.329391603Z level=info msg=\"Locking database\"\n",
      "logger=resource-migrator t=2025-07-23T03:12:40.329621399Z level=info msg=\"Starting DB migrations\"\n",
      "logger=resource-migrator t=2025-07-23T03:12:40.357642668Z level=info msg=\"migrations completed\" performed=0 skipped=26 duration=83.698µs\n",
      "logger=resource-migrator t=2025-07-23T03:12:40.358767047Z level=info msg=\"Unlocking database\"\n",
      "t=2025-07-23T03:12:40.367433083Z level=info caller=logger.go:214 time=2025-07-23T03:12:40.367291086Z msg=\"Using channel notifier\" logger=sql-resource-server\n",
      "logger=plugin.store t=2025-07-23T03:12:40.440367302Z level=info msg=\"Loading plugins...\"\n",
      "logger=plugins.registration t=2025-07-23T03:12:41.787635096Z level=error msg=\"Could not register plugin\" pluginId=table error=\"plugin table is already registered\"\n",
      "logger=plugins.initialization t=2025-07-23T03:12:41.78796499Z level=error msg=\"Could not initialize plugin\" pluginId=table error=\"plugin table is already registered\"\n",
      "logger=plugins.registration t=2025-07-23T03:12:42.021635366Z level=info msg=\"Plugin registered\" pluginId=grafana-exploretraces-app\n",
      "logger=plugins.registration t=2025-07-23T03:12:42.437846986Z level=info msg=\"Plugin registered\" pluginId=grafana-lokiexplore-app\n",
      "logger=plugins.registration t=2025-07-23T03:12:42.629802252Z level=info msg=\"Plugin registered\" pluginId=grafana-metricsdrilldown-app\n",
      "logger=plugins.registration t=2025-07-23T03:12:42.825971238Z level=info msg=\"Plugin registered\" pluginId=grafana-pyroscope-app\n",
      "logger=plugin.store t=2025-07-23T03:12:42.826591026Z level=info msg=\"Plugins loaded\" count=57 duration=2.386228624s\n",
      "logger=query_data t=2025-07-23T03:12:42.963879927Z level=info msg=\"Query Service initialization\"\n",
      "logger=live.push_http t=2025-07-23T03:12:43.022997508Z level=info msg=\"Live Push Gateway initialization\"\n",
      "logger=ngalert.notifier.alertmanager org=1 t=2025-07-23T03:12:43.127408731Z level=info msg=\"Applying new configuration to Alertmanager\" configHash=d2c56faca6af2a5772ff4253222f7386\n",
      "logger=ngalert t=2025-07-23T03:12:43.183013379Z level=info msg=\"Using simple database alert instance store\"\n",
      "logger=ngalert.state.manager.persist t=2025-07-23T03:12:43.184721446Z level=info msg=\"Using sync state persister\"\n",
      "logger=infra.usagestats.collector t=2025-07-23T03:12:43.241511771Z level=info msg=\"registering usage stat providers\" usageStatsProvidersLen=2\n",
      "logger=ngalert.state.manager t=2025-07-23T03:12:43.255729002Z level=info msg=\"Warming state cache for startup\"\n",
      "logger=grafanaStorageLogger t=2025-07-23T03:12:43.269435843Z level=info msg=\"Storage starting\"\n",
      "logger=ngalert.multiorg.alertmanager t=2025-07-23T03:12:43.270997213Z level=info msg=\"Starting MultiOrg Alertmanager\"\n",
      "logger=http.server t=2025-07-23T03:12:43.324027909Z level=info msg=\"HTTP Server Listen\" address=[::]:3000 protocol=http subUrl= socket=\n",
      "logger=ngalert.state.manager t=2025-07-23T03:12:43.324857093Z level=info msg=\"State cache has been initialized\" states=0 duration=69.121891ms\n",
      "logger=ngalert.scheduler t=2025-07-23T03:12:43.324910792Z level=info msg=\"Starting scheduler\" tickInterval=10s maxAttempts=3\n",
      "logger=ticker t=2025-07-23T03:12:43.32503699Z level=info msg=starting first_tick=2025-07-23T03:12:50Z\n",
      "logger=sqlstore.transactions t=2025-07-23T03:12:43.48349259Z level=info msg=\"Database locked, sleeping then retrying\" error=\"database is locked\" retry=0\n",
      "logger=sqlstore.transactions t=2025-07-23T03:12:43.502999921Z level=info msg=\"Database locked, sleeping then retrying\" error=\"database is locked\" retry=1\n",
      "logger=provisioning.alerting t=2025-07-23T03:12:43.542309877Z level=info msg=\"starting to provision alerting\"\n",
      "logger=provisioning.alerting t=2025-07-23T03:12:43.542445574Z level=info msg=\"finished to provision alerting\"\n",
      "logger=provisioning.dashboard t=2025-07-23T03:12:43.546740093Z level=info msg=\"starting to provision dashboards\"\n",
      "logger=grafana-apiserver t=2025-07-23T03:12:44.791291915Z level=info msg=\"Adding GroupVersion featuretoggle.grafana.app v0alpha1 to ResourceManager\"\n",
      "logger=grafana-apiserver t=2025-07-23T03:12:44.820533255Z level=info msg=\"Adding GroupVersion folder.grafana.app v1beta1 to ResourceManager\"\n",
      "logger=grafana-apiserver t=2025-07-23T03:12:44.859535844Z level=info msg=\"Adding GroupVersion iam.grafana.app v0alpha1 to ResourceManager\"\n",
      "logger=grafana-apiserver t=2025-07-23T03:12:44.869186471Z level=info msg=\"Adding GroupVersion notifications.alerting.grafana.app v0alpha1 to ResourceManager\"\n",
      "logger=grafana-apiserver t=2025-07-23T03:12:44.873306436Z level=info msg=\"Adding GroupVersion userstorage.grafana.app v0alpha1 to ResourceManager\"\n",
      "logger=grafana-apiserver t=2025-07-23T03:12:44.877577533Z level=info msg=\"Adding GroupVersion playlist.grafana.app v0alpha1 to ResourceManager\"\n",
      "logger=grafana-apiserver t=2025-07-23T03:12:44.89208978Z level=info msg=\"Adding GroupVersion dashboard.grafana.app v1beta1 to ResourceManager\"\n",
      "logger=grafana-apiserver t=2025-07-23T03:12:44.893110594Z level=info msg=\"Adding GroupVersion dashboard.grafana.app v0alpha1 to ResourceManager\"\n",
      "logger=grafana-apiserver t=2025-07-23T03:12:44.893958872Z level=info msg=\"Adding GroupVersion dashboard.grafana.app v2alpha1 to ResourceManager\"\n",
      "logger=app-registry t=2025-07-23T03:12:45.029660465Z level=info msg=\"app registry initialized\"\n",
      "logger=provisioning.dashboard t=2025-07-23T03:12:45.471765794Z level=info msg=\"finished to provision dashboards\"\n",
      "logger=plugins.update.checker t=2025-07-23T03:12:49.284760864Z level=info msg=\"Update check succeeded\" duration=6.013353359s\n",
      "logger=grafana.update.checker t=2025-07-23T03:12:49.28500166Z level=info msg=\"Update check succeeded\" duration=6.020623622s\n",
      "logger=infra.usagestats t=2025-07-23T03:13:15.372417023Z level=info msg=\"Usage stats are ready to report\"\n",
      "logger=context userId=1 orgId=1 uname=admin t=2025-07-23T03:14:36.721526749Z level=info msg=\"Request Completed\" method=GET path=/api/live/ws status=-1 remote_addr=127.0.0.1 time_ms=46 duration=46.599259ms size=0 referer= handler=/api/live/ws status_source=server\n",
      "logger=tsdb.loki endpoint=checkHealth pluginId=loki dsName=loki dsUID=eesrbdk4fim80e uname=admin fromAlert=false t=2025-07-23T03:15:12.091332516Z level=info msg=\"Prepared request to Loki\" duration=568.547µs queriesLength=1 stage=prepareRequest runInParallel=false\n",
      "logger=tsdb.loki endpoint=checkHealth pluginId=loki dsName=loki dsUID=eesrbdk4fim80e uname=admin fromAlert=false t=2025-07-23T03:15:12.142531193Z level=error msg=\"Error received from Loki\" duration=43.765958ms stage=databaseRequest statusCode=400 contentLength=65 start=1970-01-01T00:00:01Z end=1970-01-01T00:00:04Z step=1s query=vector(1)+vector(1) queryType=instant direction=backward maxLines=0 supportingQueryType=none lokiHost=10.98.134.12:3100 lokiPath=/loki/api/v1/query status=error error=\"parse error at line 1, col 1: syntax error: unexpected IDENTIFIER\" statusSource=downstream\n",
      "logger=tsdb.loki endpoint=checkHealth t=2025-07-23T03:15:12.143173872Z level=error msg=\"Loki health check failed\" error=\"error from loki: parse error at line 1, col 1: syntax error: unexpected IDENTIFIER\"\n",
      "logger=context userId=1 orgId=1 uname=admin t=2025-07-23T03:15:12.144127685Z level=info msg=\"Request Completed\" method=GET path=/api/datasources/uid/eesrbdk4fim80e/health status=400 remote_addr=127.0.0.1 time_ms=86 duration=86.78169ms size=106 referer=http://localhost:8080/connections/datasources/edit/eesrbdk4fim80e handler=/api/datasources/uid/:uid/health status_source=server\n",
      "logger=tsdb.loki endpoint=checkHealth pluginId=loki dsName=loki dsUID=eesrbdk4fim80e uname=admin fromAlert=false t=2025-07-23T03:15:14.327999033Z level=info msg=\"Prepared request to Loki\" duration=20.109µs queriesLength=1 stage=prepareRequest runInParallel=false\n",
      "logger=tsdb.loki endpoint=checkHealth pluginId=loki dsName=loki dsUID=eesrbdk4fim80e uname=admin fromAlert=false t=2025-07-23T03:15:14.336735717Z level=error msg=\"Error received from Loki\" duration=8.433253ms stage=databaseRequest statusCode=400 contentLength=65 start=1970-01-01T00:00:01Z end=1970-01-01T00:00:04Z step=1s query=vector(1)+vector(1) queryType=instant direction=backward maxLines=0 supportingQueryType=none lokiHost=10.98.134.12:3100 lokiPath=/loki/api/v1/query status=error error=\"parse error at line 1, col 1: syntax error: unexpected IDENTIFIER\" statusSource=downstream\n",
      "logger=tsdb.loki endpoint=checkHealth t=2025-07-23T03:15:14.336841563Z level=error msg=\"Loki health check failed\" error=\"error from loki: parse error at line 1, col 1: syntax error: unexpected IDENTIFIER\"\n",
      "logger=context userId=1 orgId=1 uname=admin t=2025-07-23T03:15:14.336952611Z level=info msg=\"Request Completed\" method=GET path=/api/datasources/uid/eesrbdk4fim80e/health status=400 remote_addr=127.0.0.1 time_ms=14 duration=14.712073ms size=106 referer=http://localhost:8080/connections/datasources/edit/eesrbdk4fim80e handler=/api/datasources/uid/:uid/health status_source=server\n",
      "logger=tsdb.loki endpoint=checkHealth pluginId=loki dsName=loki dsUID=eesrbdk4fim80e uname=admin fromAlert=false t=2025-07-23T03:15:17.663993126Z level=info msg=\"Prepared request to Loki\" duration=18.508µs queriesLength=1 stage=prepareRequest runInParallel=false\n",
      "logger=tsdb.loki endpoint=checkHealth pluginId=loki dsName=loki dsUID=eesrbdk4fim80e uname=admin fromAlert=false t=2025-07-23T03:15:17.668275481Z level=error msg=\"Error received from Loki\" duration=3.777737ms stage=databaseRequest statusCode=400 contentLength=65 start=1970-01-01T00:00:01Z end=1970-01-01T00:00:04Z step=1s query=vector(1)+vector(1) queryType=instant direction=backward maxLines=0 supportingQueryType=none lokiHost=10.98.134.12:3100 lokiPath=/loki/api/v1/query status=error error=\"parse error at line 1, col 1: syntax error: unexpected IDENTIFIER\" statusSource=downstream\n",
      "logger=tsdb.loki endpoint=checkHealth t=2025-07-23T03:15:17.668693362Z level=error msg=\"Loki health check failed\" error=\"error from loki: parse error at line 1, col 1: syntax error: unexpected IDENTIFIER\"\n",
      "logger=context userId=1 orgId=1 uname=admin t=2025-07-23T03:15:17.668785502Z level=info msg=\"Request Completed\" method=GET path=/api/datasources/uid/eesrbdk4fim80e/health status=400 remote_addr=127.0.0.1 time_ms=9 duration=9.866873ms size=106 referer=http://localhost:8080/connections/datasources/edit/eesrbdk4fim80e handler=/api/datasources/uid/:uid/health status_source=server\n",
      "logger=tsdb.loki endpoint=checkHealth pluginId=loki dsName=loki dsUID=eesrbdk4fim80e uname=admin fromAlert=false t=2025-07-23T03:17:36.045836341Z level=info msg=\"Prepared request to Loki\" duration=117.499µs queriesLength=1 stage=prepareRequest runInParallel=false\n",
      "logger=tsdb.loki endpoint=checkHealth pluginId=loki dsName=loki dsUID=eesrbdk4fim80e uname=admin fromAlert=false t=2025-07-23T03:17:36.067094856Z level=error msg=\"Error received from Loki\" duration=20.226419ms stage=databaseRequest statusCode=400 contentLength=65 start=1970-01-01T00:00:01Z end=1970-01-01T00:00:04Z step=1s query=vector(1)+vector(1) queryType=instant direction=backward maxLines=0 supportingQueryType=none lokiHost=10.98.134.12:3100 lokiPath=/loki/api/v1/query status=error error=\"parse error at line 1, col 1: syntax error: unexpected IDENTIFIER\" statusSource=downstream\n",
      "logger=tsdb.loki endpoint=checkHealth t=2025-07-23T03:17:36.068422551Z level=error msg=\"Loki health check failed\" error=\"error from loki: parse error at line 1, col 1: syntax error: unexpected IDENTIFIER\"\n",
      "logger=context userId=1 orgId=1 uname=admin t=2025-07-23T03:17:36.069858245Z level=info msg=\"Request Completed\" method=GET path=/api/datasources/uid/eesrbdk4fim80e/health status=400 remote_addr=127.0.0.1 time_ms=36 duration=36.215655ms size=106 referer=http://localhost:8080/connections/datasources/edit/eesrbdk4fim80e handler=/api/datasources/uid/:uid/health status_source=server\n",
      "logger=tsdb.loki endpoint=checkHealth pluginId=loki dsName=loki dsUID=eesrbdk4fim80e uname=admin fromAlert=false t=2025-07-23T03:17:37.260672785Z level=info msg=\"Prepared request to Loki\" duration=43.2µs queriesLength=1 stage=prepareRequest runInParallel=false\n",
      "logger=tsdb.loki endpoint=checkHealth pluginId=loki dsName=loki dsUID=eesrbdk4fim80e uname=admin fromAlert=false t=2025-07-23T03:17:37.265324767Z level=error msg=\"Error received from Loki\" duration=4.280183ms stage=databaseRequest statusCode=400 contentLength=65 start=1970-01-01T00:00:01Z end=1970-01-01T00:00:04Z step=1s query=vector(1)+vector(1) queryType=instant direction=backward maxLines=0 supportingQueryType=none lokiHost=10.98.134.12:3100 lokiPath=/loki/api/v1/query status=error error=\"parse error at line 1, col 1: syntax error: unexpected IDENTIFIER\" statusSource=downstream\n",
      "logger=tsdb.loki endpoint=checkHealth t=2025-07-23T03:17:37.265500966Z level=error msg=\"Loki health check failed\" error=\"error from loki: parse error at line 1, col 1: syntax error: unexpected IDENTIFIER\"\n",
      "logger=context userId=1 orgId=1 uname=admin t=2025-07-23T03:17:37.265588965Z level=info msg=\"Request Completed\" method=GET path=/api/datasources/uid/eesrbdk4fim80e/health status=400 remote_addr=127.0.0.1 time_ms=15 duration=15.404239ms size=106 referer=http://localhost:8080/connections/datasources/edit/eesrbdk4fim80e handler=/api/datasources/uid/:uid/health status_source=server\n",
      "logger=tsdb.loki endpoint=checkHealth pluginId=loki dsName=loki dsUID=eesrbdk4fim80e uname=admin fromAlert=false t=2025-07-23T03:17:53.873737917Z level=info msg=\"Prepared request to Loki\" duration=18.007µs queriesLength=1 stage=prepareRequest runInParallel=false\n",
      "logger=tsdb.loki endpoint=checkHealth pluginId=loki dsName=loki dsUID=eesrbdk4fim80e uname=admin fromAlert=false t=2025-07-23T03:17:53.879362659Z level=error msg=\"Error received from Loki\" duration=4.877084ms stage=databaseRequest statusCode=400 contentLength=65 start=1970-01-01T00:00:01Z end=1970-01-01T00:00:04Z step=1s query=vector(1)+vector(1) queryType=instant direction=backward maxLines=0 supportingQueryType=none lokiHost=10.98.134.12:3100 lokiPath=/loki/api/v1/query status=error error=\"parse error at line 1, col 1: syntax error: unexpected IDENTIFIER\" statusSource=downstream\n",
      "logger=tsdb.loki endpoint=checkHealth t=2025-07-23T03:17:53.880046195Z level=error msg=\"Loki health check failed\" error=\"error from loki: parse error at line 1, col 1: syntax error: unexpected IDENTIFIER\"\n",
      "logger=context userId=1 orgId=1 uname=admin t=2025-07-23T03:17:53.880202249Z level=info msg=\"Request Completed\" method=GET path=/api/datasources/uid/eesrbdk4fim80e/health status=400 remote_addr=127.0.0.1 time_ms=10 duration=10.810032ms size=106 referer=http://localhost:8080/connections/datasources/edit/eesrbdk4fim80e handler=/api/datasources/uid/:uid/health status_source=server\n",
      "logger=tsdb.loki endpoint=checkHealth pluginId=loki dsName=loki dsUID=eesrbdk4fim80e uname=admin fromAlert=false t=2025-07-23T03:17:54.424748172Z level=info msg=\"Prepared request to Loki\" duration=39.814µs queriesLength=1 stage=prepareRequest runInParallel=false\n",
      "logger=tsdb.loki endpoint=checkHealth pluginId=loki dsName=loki dsUID=eesrbdk4fim80e uname=admin fromAlert=false t=2025-07-23T03:17:54.428052913Z level=error msg=\"Error received from Loki\" duration=2.98193ms stage=databaseRequest statusCode=400 contentLength=65 start=1970-01-01T00:00:01Z end=1970-01-01T00:00:04Z step=1s query=vector(1)+vector(1) queryType=instant direction=backward maxLines=0 supportingQueryType=none lokiHost=10.98.134.12:3100 lokiPath=/loki/api/v1/query status=error error=\"parse error at line 1, col 1: syntax error: unexpected IDENTIFIER\" statusSource=downstream\n",
      "logger=tsdb.loki endpoint=checkHealth t=2025-07-23T03:17:54.42862171Z level=error msg=\"Loki health check failed\" error=\"error from loki: parse error at line 1, col 1: syntax error: unexpected IDENTIFIER\"\n",
      "logger=context userId=1 orgId=1 uname=admin t=2025-07-23T03:17:54.42873985Z level=info msg=\"Request Completed\" method=GET path=/api/datasources/uid/eesrbdk4fim80e/health status=400 remote_addr=127.0.0.1 time_ms=11 duration=11.424345ms size=106 referer=http://localhost:8080/connections/datasources/edit/eesrbdk4fim80e handler=/api/datasources/uid/:uid/health status_source=server\n",
      "logger=tsdb.loki endpoint=checkHealth pluginId=loki dsName=loki dsUID=eesrbdk4fim80e uname=admin fromAlert=false t=2025-07-23T03:17:54.92464948Z level=info msg=\"Prepared request to Loki\" duration=23.266934ms queriesLength=1 stage=prepareRequest runInParallel=false\n",
      "logger=tsdb.loki endpoint=checkHealth pluginId=loki dsName=loki dsUID=eesrbdk4fim80e uname=admin fromAlert=false t=2025-07-23T03:17:54.926697187Z level=error msg=\"Error received from Loki\" duration=1.719894ms stage=databaseRequest statusCode=400 contentLength=65 start=1970-01-01T00:00:01Z end=1970-01-01T00:00:04Z step=1s query=vector(1)+vector(1) queryType=instant direction=backward maxLines=0 supportingQueryType=none lokiHost=10.98.134.12:3100 lokiPath=/loki/api/v1/query status=error error=\"parse error at line 1, col 1: syntax error: unexpected IDENTIFIER\" statusSource=downstream\n",
      "logger=tsdb.loki endpoint=checkHealth t=2025-07-23T03:17:54.927565987Z level=error msg=\"Loki health check failed\" error=\"error from loki: parse error at line 1, col 1: syntax error: unexpected IDENTIFIER\"\n",
      "logger=context userId=1 orgId=1 uname=admin t=2025-07-23T03:17:54.927860989Z level=info msg=\"Request Completed\" method=GET path=/api/datasources/uid/eesrbdk4fim80e/health status=400 remote_addr=127.0.0.1 time_ms=34 duration=34.145189ms size=106 referer=http://localhost:8080/connections/datasources/edit/eesrbdk4fim80e handler=/api/datasources/uid/:uid/health status_source=server\n",
      "logger=tsdb.loki endpoint=checkHealth pluginId=loki dsName=loki dsUID=eesrbdk4fim80e uname=admin fromAlert=false t=2025-07-23T03:17:55.513203498Z level=info msg=\"Prepared request to Loki\" duration=42.414µs queriesLength=1 stage=prepareRequest runInParallel=false\n",
      "logger=tsdb.loki endpoint=checkHealth pluginId=loki dsName=loki dsUID=eesrbdk4fim80e uname=admin fromAlert=false t=2025-07-23T03:17:55.524319436Z level=error msg=\"Error received from Loki\" duration=10.400091ms stage=databaseRequest statusCode=400 contentLength=65 start=1970-01-01T00:00:01Z end=1970-01-01T00:00:04Z step=1s query=vector(1)+vector(1) queryType=instant direction=backward maxLines=0 supportingQueryType=none lokiHost=10.98.134.12:3100 lokiPath=/loki/api/v1/query status=error error=\"parse error at line 1, col 1: syntax error: unexpected IDENTIFIER\" statusSource=downstream\n",
      "logger=tsdb.loki endpoint=checkHealth t=2025-07-23T03:17:55.531892551Z level=error msg=\"Loki health check failed\" error=\"error from loki: parse error at line 1, col 1: syntax error: unexpected IDENTIFIER\"\n",
      "logger=context userId=1 orgId=1 uname=admin t=2025-07-23T03:17:55.534171438Z level=info msg=\"Request Completed\" method=GET path=/api/datasources/uid/eesrbdk4fim80e/health status=400 remote_addr=127.0.0.1 time_ms=30 duration=30.180021ms size=106 referer=http://localhost:8080/connections/datasources/edit/eesrbdk4fim80e handler=/api/datasources/uid/:uid/health status_source=server\n",
      "logger=tsdb.loki endpoint=checkHealth pluginId=loki dsName=loki dsUID=eesrbdk4fim80e uname=admin fromAlert=false t=2025-07-23T03:17:55.837419444Z level=info msg=\"Prepared request to Loki\" duration=23.308µs queriesLength=1 stage=prepareRequest runInParallel=false\n",
      "logger=tsdb.loki endpoint=checkHealth pluginId=loki dsName=loki dsUID=eesrbdk4fim80e uname=admin fromAlert=false t=2025-07-23T03:17:55.842652851Z level=error msg=\"Error received from Loki\" duration=4.859378ms stage=databaseRequest statusCode=400 contentLength=65 start=1970-01-01T00:00:01Z end=1970-01-01T00:00:04Z step=1s query=vector(1)+vector(1) queryType=instant direction=backward maxLines=0 supportingQueryType=none lokiHost=10.98.134.12:3100 lokiPath=/loki/api/v1/query status=error error=\"parse error at line 1, col 1: syntax error: unexpected IDENTIFIER\" statusSource=downstream\n",
      "logger=tsdb.loki endpoint=checkHealth t=2025-07-23T03:17:55.844685553Z level=error msg=\"Loki health check failed\" error=\"error from loki: parse error at line 1, col 1: syntax error: unexpected IDENTIFIER\"\n",
      "logger=context userId=1 orgId=1 uname=admin t=2025-07-23T03:17:55.844864115Z level=info msg=\"Request Completed\" method=GET path=/api/datasources/uid/eesrbdk4fim80e/health status=400 remote_addr=127.0.0.1 time_ms=17 duration=17.006673ms size=106 referer=http://localhost:8080/connections/datasources/edit/eesrbdk4fim80e handler=/api/datasources/uid/:uid/health status_source=server\n"
     ]
    }
   ],
   "source": [
    "!echo ---Logs for {pod}---\n",
    "!kubectl logs {pod}"
   ]
  },
  {
   "cell_type": "code",
   "execution_count": 125,
   "id": "80d31d14",
   "metadata": {
    "vscode": {
     "languageId": "bat"
    }
   },
   "outputs": [
    {
     "name": "stdout",
     "output_type": "stream",
     "text": [
      "---Previous logs for monitoring-grafana-944547fdc-5c2cd---\n",
      "failed to try resolving symlinks in path \"/var/log/pods/default_monitoring-grafana-944547fdc-5c2cd_0a2f0fec-7de3-4bf6-9922-7b5af8f28f3b/grafana/0.log\": lstat /var/log/pods/default_monitoring-grafana-944547fdc-5c2cd_0a2f0fec-7de3-4bf6-9922-7b5af8f28f3b/grafana/0.log: no such file or directory\n"
     ]
    }
   ],
   "source": [
    "!echo ---Previous logs for {pod}---\n",
    "!kubectl logs {pod} --previous"
   ]
  },
  {
   "cell_type": "markdown",
   "id": "07421c1d",
   "metadata": {},
   "source": [
    "# **II. FRONTEND**"
   ]
  },
  {
   "cell_type": "markdown",
   "id": "693256b2",
   "metadata": {},
   "source": [
    "## **Web Interface**"
   ]
  },
  {
   "cell_type": "code",
   "execution_count": 128,
   "id": "d4b13ebb",
   "metadata": {
    "vscode": {
     "languageId": "bat"
    }
   },
   "outputs": [
    {
     "name": "stdout",
     "output_type": "stream",
     "text": [
      "---Shutting down web-interface---\n"
     ]
    },
    {
     "name": "stderr",
     "output_type": "stream",
     "text": [
      "Error from server (NotFound): services \"web-interface\" not found\n",
      "Error from server (NotFound): deployments.apps \"web-interface\" not found\n"
     ]
    }
   ],
   "source": [
    "# Shutdown Web Interface Service\n",
    "service = \"web-interface\"\n",
    "!echo ---Shutting down {service}---\n",
    "!kubectl delete service {service}\n",
    "!kubectl delete deployment {service}"
   ]
  },
  {
   "cell_type": "code",
   "execution_count": 129,
   "id": "bcf31296",
   "metadata": {
    "vscode": {
     "languageId": "bat"
    }
   },
   "outputs": [
    {
     "name": "stdout",
     "output_type": "stream",
     "text": [
      "---Building web-interface---\n"
     ]
    },
    {
     "name": "stderr",
     "output_type": "stream",
     "text": [
      "#0 building with \"desktop-linux\" instance using docker driver\n",
      "\n",
      "#1 [internal] load build definition from Dockerfile\n",
      "#1 DONE 0.1s\n",
      "\n",
      "#1 [internal] load build definition from Dockerfile\n",
      "#1 transferring dockerfile:\n",
      "#1 transferring dockerfile: 516B 0.3s done\n",
      "#1 DONE 0.8s\n",
      "\n",
      "#2 [internal] load metadata for docker.io/library/node:18-alpine\n",
      "#2 ERROR: failed to do request: Head \"https://registry-1.docker.io/v2/library/node/manifests/18-alpine\": dialing registry-1.docker.io:443 container via direct connection because static system has no HTTPS proxy: connecting to registry-1.docker.io:443: dial tcp: lookup registry-1.docker.io: no such host\n",
      "\n",
      "#3 [internal] load metadata for docker.io/library/nginx:alpine\n",
      "#3 ERROR: failed to do request: Head \"https://registry-1.docker.io/v2/library/nginx/manifests/alpine\": dialing registry-1.docker.io:443 container via direct connection because static system has no HTTPS proxy: connecting to registry-1.docker.io:443: dial tcp: lookup registry-1.docker.io: no such host\n",
      "------\n",
      " > [internal] load metadata for docker.io/library/node:18-alpine:\n",
      "------\n",
      "------\n",
      " > [internal] load metadata for docker.io/library/nginx:alpine:\n",
      "------\n",
      "Dockerfile:2\n",
      "--------------------\n",
      "   1 |     # --- Build stage ---\n",
      "   2 | >>> FROM node:18-alpine AS build\n",
      "   3 |     WORKDIR /app\n",
      "   4 |     \n",
      "--------------------\n",
      "ERROR: failed to build: failed to run Build function: node:18-alpine: failed to resolve source metadata for docker.io/library/node:18-alpine: failed to do request: Head \"https://registry-1.docker.io/v2/library/node/manifests/18-alpine\": dialing registry-1.docker.io:443 container via direct connection because static system has no HTTPS proxy: connecting to registry-1.docker.io:443: dial tcp: lookup registry-1.docker.io: no such host\n",
      "\n",
      "View build details: docker-desktop://dashboard/build/desktop-linux/desktop-linux/vav39chym2pume5lyl3uccz34\n"
     ]
    }
   ],
   "source": [
    "# Build Web Interface Service\n",
    "service = \"web-interface\"\n",
    "!echo ---Building {service}---\n",
    "!docker build -t {service} C:\\\\Services\\\\{service}\\\\"
   ]
  },
  {
   "cell_type": "code",
   "execution_count": 130,
   "id": "b73d6442",
   "metadata": {
    "vscode": {
     "languageId": "bat"
    }
   },
   "outputs": [
    {
     "name": "stdout",
     "output_type": "stream",
     "text": [
      "---Deploying web-interface---\n",
      "deployment.apps/web-interface created\n",
      "service/web-interface created\n"
     ]
    }
   ],
   "source": [
    "# Deploy Web Interface Service\n",
    "service = \"web-interface\"\n",
    "!echo ---Deploying {service}---\n",
    "!kubectl apply -f C:\\\\Services\\\\{service}\\\\k8s\\\\"
   ]
  },
  {
   "cell_type": "markdown",
   "id": "454e88c7",
   "metadata": {},
   "source": [
    "# **III. BACKEND**"
   ]
  },
  {
   "cell_type": "markdown",
   "id": "ea32684c",
   "metadata": {},
   "source": [
    "## **1. User Service**"
   ]
  },
  {
   "cell_type": "code",
   "execution_count": 58,
   "id": "fb4de299",
   "metadata": {
    "vscode": {
     "languageId": "bat"
    }
   },
   "outputs": [
    {
     "name": "stdout",
     "output_type": "stream",
     "text": [
      "---Shutting down user-service---\n"
     ]
    },
    {
     "name": "stderr",
     "output_type": "stream",
     "text": [
      "Error from server (NotFound): services \"user-service\" not found\n",
      "Error from server (NotFound): deployments.apps \"user-service\" not found\n",
      "Error from server (NotFound): services \"user-service-db\" not found\n",
      "Error from server (NotFound): deployments.apps \"user-service-db\" not found\n"
     ]
    }
   ],
   "source": [
    "# Shutdown User Service\n",
    "service = \"user-service\"\n",
    "service_db = f\"{service}-db\"\n",
    "!echo ---Shutting down {service}---\n",
    "!kubectl delete service {service}\n",
    "!kubectl delete deployment {service}\n",
    "!kubectl delete service {service_db}\n",
    "!kubectl delete deployment {service_db}"
   ]
  },
  {
   "cell_type": "code",
   "execution_count": 59,
   "id": "7823d9d2",
   "metadata": {
    "vscode": {
     "languageId": "bat"
    }
   },
   "outputs": [
    {
     "name": "stdout",
     "output_type": "stream",
     "text": [
      "---Building user-service---\n"
     ]
    },
    {
     "name": "stderr",
     "output_type": "stream",
     "text": [
      "#0 building with \"desktop-linux\" instance using docker driver\n",
      "\n",
      "#1 [internal] load build definition from Dockerfile\n",
      "#1 transferring dockerfile: 335B 0.1s done\n",
      "#1 DONE 0.2s\n",
      "\n",
      "#2 [internal] load metadata for docker.io/library/node:18-alpine\n",
      "#2 DONE 0.5s\n",
      "\n",
      "#3 [internal] load .dockerignore\n",
      "#3 transferring context: 79B 0.0s done\n",
      "#3 DONE 0.1s\n",
      "\n",
      "#4 [internal] load build context\n",
      "#4 DONE 0.0s\n",
      "\n",
      "#5 [1/5] FROM docker.io/library/node:18-alpine@sha256:8d6421d663b4c28fd3ebc498332f249011d118945588d0a35cb9bc4b8ca09d9e\n",
      "#5 ...\n",
      "\n",
      "#4 [internal] load build context\n",
      "#4 transferring context: 1.08kB 0.0s done\n",
      "#4 DONE 0.1s\n",
      "\n",
      "#5 [1/5] FROM docker.io/library/node:18-alpine@sha256:8d6421d663b4c28fd3ebc498332f249011d118945588d0a35cb9bc4b8ca09d9e\n",
      "#5 resolve docker.io/library/node:18-alpine@sha256:8d6421d663b4c28fd3ebc498332f249011d118945588d0a35cb9bc4b8ca09d9e 0.1s done\n",
      "#5 DONE 0.1s\n",
      "\n",
      "#6 [4/5] RUN npm install\n",
      "#6 CACHED\n",
      "\n",
      "#7 [2/5] WORKDIR /app\n",
      "#7 CACHED\n",
      "\n",
      "#8 [3/5] COPY package*.json ./\n",
      "#8 CACHED\n",
      "\n",
      "#9 [5/5] COPY . .\n",
      "#9 CACHED\n",
      "\n",
      "#10 exporting to image\n",
      "#10 exporting layers 0.0s done\n",
      "#10 exporting manifest sha256:3a9607c511bb428fb715311583c7cfa57de296b0b6588c6aaf2cfd65064a15b9 0.0s done\n",
      "#10 exporting config sha256:69e9ae782f037ece3823b611c72d42c6f462a290e95f22516c5aa7de215df762 0.0s done\n",
      "#10 exporting attestation manifest sha256:4af3e44be20da8bdc600b20e2293271fd62e3a37cb9967aeb65d56c908a36e7e\n",
      "#10 exporting attestation manifest sha256:4af3e44be20da8bdc600b20e2293271fd62e3a37cb9967aeb65d56c908a36e7e 0.1s done\n",
      "#10 exporting manifest list sha256:c448fa891d92807528b88b268a8fcb3fdea3949a0e7499941fe66c40d83af560 0.0s done\n",
      "#10 naming to docker.io/library/user-service:latest\n",
      "#10 naming to docker.io/library/user-service:latest done\n",
      "#10 unpacking to docker.io/library/user-service:latest 0.0s done\n",
      "#10 DONE 0.4s\n",
      "\n",
      "View build details: docker-desktop://dashboard/build/desktop-linux/desktop-linux/ejnl7l1vrqfbqwcq5e4tyivko\n"
     ]
    }
   ],
   "source": [
    "# Build User Service\n",
    "service = \"user-service\"\n",
    "!echo ---Building {service}---\n",
    "!docker build -t {service} C:\\\\Services\\\\{service}\\\\"
   ]
  },
  {
   "cell_type": "code",
   "execution_count": 60,
   "id": "dadc16a1",
   "metadata": {
    "vscode": {
     "languageId": "bat"
    }
   },
   "outputs": [
    {
     "name": "stdout",
     "output_type": "stream",
     "text": [
      "---Deploying user-service---\n"
     ]
    },
    {
     "name": "stdout",
     "output_type": "stream",
     "text": [
      "deployment.apps/user-service-db created\n",
      "service/user-service-db created\n",
      "deployment.apps/user-service created\n",
      "service/user-service created\n"
     ]
    }
   ],
   "source": [
    "# Deploy User Service\n",
    "service = \"user-service\"\n",
    "!echo ---Deploying {service}---\n",
    "!kubectl apply -f C:\\\\Services\\\\{service}\\\\k8s\\\\"
   ]
  },
  {
   "cell_type": "markdown",
   "id": "a35c82a6",
   "metadata": {},
   "source": [
    "## **2. Product Service**"
   ]
  },
  {
   "cell_type": "code",
   "execution_count": null,
   "id": "fa506d89",
   "metadata": {
    "vscode": {
     "languageId": "bat"
    }
   },
   "outputs": [
    {
     "name": "stdout",
     "output_type": "stream",
     "text": [
      "---Shutting down product-service---\n",
      "service \"product-service\" deleted\n",
      "deployment.apps \"product-service\" deleted\n",
      "service \"product-service-db\" deleted\n",
      "deployment.apps \"product-service-db\" deleted\n"
     ]
    }
   ],
   "source": [
    "# Shutdown Product Service\n",
    "service = \"product-service\"\n",
    "service_db = f\"{service}-db\"\n",
    "!echo ---Shutting down {service}---\n",
    "!kubectl delete service {service}\n",
    "!kubectl delete deployment {service}\n",
    "!kubectl delete service {service_db}\n",
    "!kubectl delete deployment {service_db}"
   ]
  },
  {
   "cell_type": "code",
   "execution_count": null,
   "id": "2f33470a",
   "metadata": {
    "vscode": {
     "languageId": "bat"
    }
   },
   "outputs": [
    {
     "name": "stdout",
     "output_type": "stream",
     "text": [
      "---Building product-service---\n"
     ]
    },
    {
     "name": "stderr",
     "output_type": "stream",
     "text": [
      "#0 building with \"desktop-linux\" instance using docker driver\n",
      "\n",
      "#1 [internal] load build definition from Dockerfile\n",
      "#1 transferring dockerfile: 337B 0.1s done\n",
      "#1 DONE 0.2s\n",
      "\n",
      "#2 [internal] load metadata for docker.io/library/node:18-alpine\n",
      "#2 ...\n",
      "\n",
      "#3 [auth] library/node:pull token for registry-1.docker.io\n",
      "#3 DONE 0.0s\n",
      "\n",
      "#2 [internal] load metadata for docker.io/library/node:18-alpine\n",
      "#2 DONE 0.7s\n",
      "\n",
      "#4 [internal] load .dockerignore\n",
      "#4 transferring context: 79B 0.0s done\n",
      "#4 DONE 0.2s\n",
      "\n",
      "#5 [internal] load build context\n",
      "#5 transferring context: 1.30kB 0.1s done\n",
      "#5 DONE 0.2s\n",
      "\n",
      "#6 [1/5] FROM docker.io/library/node:18-alpine@sha256:8d6421d663b4c28fd3ebc498332f249011d118945588d0a35cb9bc4b8ca09d9e\n",
      "#6 resolve docker.io/library/node:18-alpine@sha256:8d6421d663b4c28fd3ebc498332f249011d118945588d0a35cb9bc4b8ca09d9e 0.2s done\n",
      "#6 DONE 0.3s\n",
      "\n",
      "#7 [2/5] WORKDIR /app\n",
      "#7 CACHED\n",
      "\n",
      "#8 [3/5] COPY package*.json ./\n",
      "#8 CACHED\n",
      "\n",
      "#9 [4/5] RUN npm install\n",
      "#9 CACHED\n",
      "\n",
      "#10 [5/5] COPY . .\n",
      "#10 DONE 0.2s\n",
      "\n",
      "#11 exporting to image\n",
      "#11 exporting layers\n",
      "#11 exporting layers 0.3s done\n",
      "#11 exporting manifest sha256:436ca37fe7214f49d183524e370947fd444dc45ed5d02eb0882a6f66386da60f 0.1s done\n",
      "#11 exporting config sha256:52545d3862155da62ac37e22f9e31e3947dce4b6943c9306ced8ad696eab6226 0.1s done\n",
      "#11 exporting attestation manifest sha256:f724dbf14b075acd0c99941610f598542827d516d31ba0b40a737264e4466d3d 0.1s done\n",
      "#11 exporting manifest list sha256:501a682f9e1cfb46bd145747be8478c54f633e088515a5a1da520263f8a28aec\n",
      "#11 exporting manifest list sha256:501a682f9e1cfb46bd145747be8478c54f633e088515a5a1da520263f8a28aec 0.1s done\n",
      "#11 naming to docker.io/library/product-service:latest\n",
      "#11 naming to docker.io/library/product-service:latest done\n",
      "#11 unpacking to docker.io/library/product-service:latest\n",
      "#11 unpacking to docker.io/library/product-service:latest 0.2s done\n",
      "#11 DONE 1.7s\n",
      "\n",
      "View build details: docker-desktop://dashboard/build/desktop-linux/desktop-linux/p5khrlurrp6q14eyvjnwmcor1\n"
     ]
    }
   ],
   "source": [
    "# Build Product Service\n",
    "service = \"product-service\"\n",
    "!echo ---Building {service}---\n",
    "!docker build -t {service} C:\\\\Services\\\\{service}\\\\"
   ]
  },
  {
   "cell_type": "code",
   "execution_count": null,
   "id": "68309b39",
   "metadata": {
    "vscode": {
     "languageId": "bat"
    }
   },
   "outputs": [
    {
     "name": "stdout",
     "output_type": "stream",
     "text": [
      "---Deploying product-service---\n",
      "deployment.apps/product-service-db created\n",
      "service/product-service-db created\n",
      "deployment.apps/product-service created\n",
      "service/product-service created\n"
     ]
    }
   ],
   "source": [
    "# Deploy Product Service\n",
    "service = \"product-service\"\n",
    "!echo ---Deploying {service}---\n",
    "!kubectl apply -f C:\\\\Services\\\\{service}\\\\k8s\\\\"
   ]
  },
  {
   "cell_type": "markdown",
   "id": "c832fe94",
   "metadata": {},
   "source": [
    "# **IV. PVC**"
   ]
  },
  {
   "cell_type": "markdown",
   "id": "4716ac07",
   "metadata": {},
   "source": [
    "### **1. User Service**"
   ]
  },
  {
   "cell_type": "code",
   "execution_count": null,
   "id": "1ffaa438",
   "metadata": {
    "vscode": {
     "languageId": "bat"
    }
   },
   "outputs": [
    {
     "name": "stdout",
     "output_type": "stream",
     "text": [
      "---Shutting down PVC for user-service---\n",
      "persistentvolumeclaim \"user-service-db-pvc\" deleted\n"
     ]
    }
   ],
   "source": [
    "# Shutdown PVC for User Service\n",
    "service = \"user-service\"\n",
    "service_pvc = f\"{service}-db-pvc\"\n",
    "!echo ---Shutting down {service_pvc}---\n",
    "!kubectl delete pvc {service_pvc}"
   ]
  },
  {
   "cell_type": "code",
   "execution_count": null,
   "id": "060bf429",
   "metadata": {
    "vscode": {
     "languageId": "bat"
    }
   },
   "outputs": [
    {
     "name": "stdout",
     "output_type": "stream",
     "text": [
      "---Deploying PVC for user-service---\n"
     ]
    },
    {
     "name": "stdout",
     "output_type": "stream",
     "text": [
      "persistentvolumeclaim/user-service-db-pvc created\n"
     ]
    }
   ],
   "source": [
    "# Deploy PVC for User Service\n",
    "service = \"user-service\"\n",
    "!echo ---Deploying PVC for {service}---\n",
    "!kubectl apply -f C:\\\\Services\\\\{service}\\\\k8s\\\\pvc"
   ]
  },
  {
   "cell_type": "markdown",
   "id": "cf2acb8f",
   "metadata": {},
   "source": [
    "### **2. Product Service**"
   ]
  },
  {
   "cell_type": "code",
   "execution_count": 132,
   "id": "efef4e7c",
   "metadata": {
    "vscode": {
     "languageId": "bat"
    }
   },
   "outputs": [
    {
     "name": "stdout",
     "output_type": "stream",
     "text": [
      "---Shutting down product-service-db-pvc---\n",
      "^C\n"
     ]
    }
   ],
   "source": [
    "# Shutdown PVC for Product Service\n",
    "service = \"product-service\"\n",
    "service_pvc = f\"{service}-db-pvc\"\n",
    "!echo ---Shutting down {service_pvc}---\n",
    "!kubectl delete pvc {service_pvc}"
   ]
  },
  {
   "cell_type": "code",
   "execution_count": 12,
   "id": "8602b3af",
   "metadata": {
    "vscode": {
     "languageId": "bat"
    }
   },
   "outputs": [
    {
     "name": "stdout",
     "output_type": "stream",
     "text": [
      "---Deploying PVC---\n",
      "persistentvolumeclaim/product-service-db-pvc created\n"
     ]
    }
   ],
   "source": [
    "# Deploy PVC for Product Service\n",
    "service = \"product-service\"\n",
    "!echo ---Deploying PVC---\n",
    "!kubectl apply -f C:\\\\Services\\\\{service}\\\\k8s\\\\pvc"
   ]
  },
  {
   "cell_type": "markdown",
   "id": "697567e1",
   "metadata": {},
   "source": [
    "# **V. CONFIGURATION**"
   ]
  },
  {
   "cell_type": "markdown",
   "id": "602774bf",
   "metadata": {},
   "source": [
    "## **1. ConfigMaps**"
   ]
  },
  {
   "cell_type": "code",
   "execution_count": 70,
   "id": "fede3f56",
   "metadata": {
    "vscode": {
     "languageId": "bat"
    }
   },
   "outputs": [
    {
     "name": "stdout",
     "output_type": "stream",
     "text": [
      "---Applying configmaps---\n",
      "configmap/auth-messages unchanged\n",
      "configmap/user-service-config unchanged\n",
      "configmap/product-service-config unchanged\n",
      "configmap/web-interface-config unchanged\n"
     ]
    }
   ],
   "source": [
    "# Apply ConfigMaps\n",
    "folder = \"configmaps\"\n",
    "!echo ---Applying {folder}---\n",
    "!kubectl apply -f C:\\\\Services\\\\{folder}\\\\"
   ]
  },
  {
   "cell_type": "markdown",
   "id": "472265c9",
   "metadata": {},
   "source": [
    "## **2. Secrets**"
   ]
  },
  {
   "cell_type": "code",
   "execution_count": 71,
   "id": "d73ca3ef",
   "metadata": {
    "vscode": {
     "languageId": "bat"
    }
   },
   "outputs": [
    {
     "name": "stdout",
     "output_type": "stream",
     "text": [
      "---Applying secrets---\n",
      "secret/user-service-secret configured\n",
      "secret/product-service-secret configured\n",
      "secret/web-interface-secret configured\n"
     ]
    }
   ],
   "source": [
    "# Apply Secrets\n",
    "folder = \"secrets\"\n",
    "!echo ---Applying {folder}---\n",
    "!kubectl apply -f C:\\\\Services\\\\{folder}\\\\"
   ]
  },
  {
   "cell_type": "markdown",
   "id": "ec526888",
   "metadata": {},
   "source": [
    "## **3. Ingress**"
   ]
  },
  {
   "cell_type": "code",
   "execution_count": 72,
   "id": "04923ee3",
   "metadata": {
    "vscode": {
     "languageId": "bat"
    }
   },
   "outputs": [
    {
     "name": "stdout",
     "output_type": "stream",
     "text": [
      "---Applying ingress configuration---\n",
      "ingress.networking.k8s.io/ingress-configuration unchanged\n",
      "service/ingress-nginx-controller unchanged\n"
     ]
    }
   ],
   "source": [
    "# Apply Ingress Configuration\n",
    "folder = \"ingress\"\n",
    "!echo ---Applying {folder} configuration---\n",
    "!kubectl apply -f C:\\\\Services\\\\{folder}\\\\"
   ]
  },
  {
   "cell_type": "code",
   "execution_count": 8,
   "id": "5e9f6ecf",
   "metadata": {
    "vscode": {
     "languageId": "bat"
    }
   },
   "outputs": [
    {
     "name": "stdout",
     "output_type": "stream",
     "text": [
      "---Deploying Ingress Controller---\n",
      "namespace/ingress-nginx created\n",
      "serviceaccount/ingress-nginx created\n",
      "serviceaccount/ingress-nginx-admission created\n",
      "role.rbac.authorization.k8s.io/ingress-nginx created\n",
      "role.rbac.authorization.k8s.io/ingress-nginx-admission created\n",
      "clusterrole.rbac.authorization.k8s.io/ingress-nginx created\n",
      "clusterrole.rbac.authorization.k8s.io/ingress-nginx-admission created\n",
      "rolebinding.rbac.authorization.k8s.io/ingress-nginx created\n",
      "rolebinding.rbac.authorization.k8s.io/ingress-nginx-admission created\n",
      "clusterrolebinding.rbac.authorization.k8s.io/ingress-nginx created\n",
      "clusterrolebinding.rbac.authorization.k8s.io/ingress-nginx-admission created\n",
      "configmap/ingress-nginx-controller created\n",
      "service/ingress-nginx-controller created\n",
      "service/ingress-nginx-controller-admission created\n",
      "deployment.apps/ingress-nginx-controller created\n",
      "job.batch/ingress-nginx-admission-create created\n",
      "job.batch/ingress-nginx-admission-patch created\n",
      "ingressclass.networking.k8s.io/nginx created\n",
      "validatingwebhookconfiguration.admissionregistration.k8s.io/ingress-nginx-admission created\n"
     ]
    }
   ],
   "source": [
    "# Deploy Ingress Controller\n",
    "!echo ---Deploying Ingress Controller---\n",
    "!kubectl apply -f https://raw.githubusercontent.com/kubernetes/ingress-nginx/main/deploy/static/provider/cloud/deploy.yaml"
   ]
  }
 ],
 "metadata": {
  "kernelspec": {
   "display_name": "Python 3",
   "language": "python",
   "name": "python3"
  },
  "language_info": {
   "codemirror_mode": {
    "name": "ipython",
    "version": 3
   },
   "file_extension": ".py",
   "mimetype": "text/x-python",
   "name": "python",
   "nbconvert_exporter": "python",
   "pygments_lexer": "ipython3",
   "version": "3.13.5"
  }
 },
 "nbformat": 4,
 "nbformat_minor": 5
}
