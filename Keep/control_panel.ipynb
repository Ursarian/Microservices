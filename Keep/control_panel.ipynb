{
 "cells": [
  {
   "cell_type": "markdown",
   "id": "fdda6239",
   "metadata": {},
   "source": [
    "# **I. KUBERNETES RESOURCE**"
   ]
  },
  {
   "cell_type": "markdown",
   "id": "bf167768",
   "metadata": {},
   "source": [
    "## **1. Resource Inspection**"
   ]
  },
  {
   "cell_type": "markdown",
   "id": "46353267",
   "metadata": {},
   "source": [
    "### *1.1. Default*"
   ]
  },
  {
   "cell_type": "code",
   "execution_count": 133,
   "id": "dad6afab",
   "metadata": {
    "vscode": {
     "languageId": "bat"
    }
   },
   "outputs": [
    {
     "name": "stdout",
     "output_type": "stream",
     "text": [
      "---Pods---\n"
     ]
    },
    {
     "name": "stdout",
     "output_type": "stream",
     "text": [
      "NAME                                                     READY   STATUS    RESTARTS       AGE   IP           NODE             NOMINATED NODE   READINESS GATES\n",
      "alertmanager-monitoring-kube-prometheus-alertmanager-0   2/2     Running   9 (71m ago)    21h   10.1.0.190   docker-desktop   <none>           <none>\n",
      "monitoring-grafana-944547fdc-5c2cd                       3/3     Running   13 (71m ago)   19h   10.1.0.186   docker-desktop   <none>           <none>\n",
      "monitoring-kube-prometheus-operator-74b5f54dbf-2kj7g     1/1     Running   10 (69m ago)   21h   10.1.0.175   docker-desktop   <none>           <none>\n",
      "monitoring-kube-state-metrics-585b45df98-lf89j           1/1     Running   8 (71m ago)    21h   10.1.0.178   docker-desktop   <none>           <none>\n",
      "prometheus-monitoring-kube-prometheus-prometheus-0       2/2     Running   9 (71m ago)    21h   10.1.0.189   docker-desktop   <none>           <none>\n",
      "---Services---\n",
      "NAME                                      TYPE        CLUSTER-IP       EXTERNAL-IP   PORT(S)                      AGE   SELECTOR\n",
      "alertmanager-operated                     ClusterIP   None             <none>        9093/TCP,9094/TCP,9094/UDP   21h   app.kubernetes.io/name=alertmanager\n",
      "kubernetes                                ClusterIP   10.96.0.1        <none>        443/TCP                      45h   <none>\n",
      "monitoring-grafana                        ClusterIP   10.97.102.3      <none>        80/TCP                       21h   app.kubernetes.io/instance=monitoring,app.kubernetes.io/name=grafana\n",
      "monitoring-kube-prometheus-alertmanager   ClusterIP   10.96.148.136    <none>        9093/TCP,8080/TCP            21h   alertmanager=monitoring-kube-prometheus-alertmanager,app.kubernetes.io/name=alertmanager\n",
      "monitoring-kube-prometheus-operator       ClusterIP   10.101.137.204   <none>        443/TCP                      21h   app=kube-prometheus-stack-operator,release=monitoring\n",
      "monitoring-kube-prometheus-prometheus     ClusterIP   10.108.115.180   <none>        9090/TCP,8080/TCP            21h   app.kubernetes.io/name=prometheus,operator.prometheus.io/name=monitoring-kube-prometheus-prometheus\n",
      "monitoring-kube-state-metrics             ClusterIP   10.101.153.177   <none>        8080/TCP                     21h   app.kubernetes.io/instance=monitoring,app.kubernetes.io/name=kube-state-metrics\n",
      "prometheus-operated                       ClusterIP   None             <none>        9090/TCP                     21h   app.kubernetes.io/name=prometheus\n",
      "---PVC---\n"
     ]
    },
    {
     "name": "stderr",
     "output_type": "stream",
     "text": [
      "No resources found in default namespace.\n"
     ]
    }
   ],
   "source": [
    "# Display all Kubernetes resources in the default namespace\n",
    "namespace = \"default\"\n",
    "!echo ---Pods---\n",
    "!kubectl get pods -o wide -n {namespace}\n",
    "!echo ---Services---\n",
    "!kubectl get svc -o wide -n {namespace}\n",
    "!echo ---PVC---\n",
    "!kubectl get pvc -o wide -n {namespace}"
   ]
  },
  {
   "cell_type": "code",
   "execution_count": 84,
   "id": "5c5f7c3c",
   "metadata": {
    "vscode": {
     "languageId": "bat"
    }
   },
   "outputs": [
    {
     "name": "stdout",
     "output_type": "stream",
     "text": [
      "---Config Maps---\n"
     ]
    },
    {
     "name": "stdout",
     "output_type": "stream",
     "text": [
      "NAME                                                           DATA   AGE\n",
      "kube-root-ca.crt                                               1      44h\n",
      "monitoring-grafana                                             1      20h\n",
      "monitoring-grafana-config-dashboards                           1      20h\n",
      "monitoring-kube-prometheus-alertmanager-overview               1      20h\n",
      "monitoring-kube-prometheus-apiserver                           1      20h\n",
      "monitoring-kube-prometheus-cluster-total                       1      20h\n",
      "monitoring-kube-prometheus-controller-manager                  1      20h\n",
      "monitoring-kube-prometheus-etcd                                1      20h\n",
      "monitoring-kube-prometheus-grafana-datasource                  1      20h\n",
      "monitoring-kube-prometheus-grafana-overview                    1      20h\n",
      "monitoring-kube-prometheus-k8s-coredns                         1      20h\n",
      "monitoring-kube-prometheus-k8s-resources-cluster               1      20h\n",
      "monitoring-kube-prometheus-k8s-resources-multicluster          1      20h\n",
      "monitoring-kube-prometheus-k8s-resources-namespace             1      20h\n",
      "monitoring-kube-prometheus-k8s-resources-node                  1      20h\n",
      "monitoring-kube-prometheus-k8s-resources-pod                   1      20h\n",
      "monitoring-kube-prometheus-k8s-resources-workload              1      20h\n",
      "monitoring-kube-prometheus-k8s-resources-workloads-namespace   1      20h\n",
      "monitoring-kube-prometheus-kubelet                             1      20h\n",
      "monitoring-kube-prometheus-namespace-by-pod                    1      20h\n",
      "monitoring-kube-prometheus-namespace-by-workload               1      20h\n",
      "monitoring-kube-prometheus-persistentvolumesusage              1      20h\n",
      "monitoring-kube-prometheus-pod-total                           1      20h\n",
      "monitoring-kube-prometheus-prometheus                          1      20h\n",
      "monitoring-kube-prometheus-proxy                               1      20h\n",
      "monitoring-kube-prometheus-scheduler                           1      20h\n",
      "monitoring-kube-prometheus-workload-total                      1      20h\n",
      "prometheus-monitoring-kube-prometheus-prometheus-rulefiles-0   35     20h\n",
      "---Secrets---\n",
      "NAME                                                                                  TYPE                 DATA   AGE\n",
      "alertmanager-monitoring-kube-prometheus-alertmanager                                  Opaque               1      20h\n",
      "alertmanager-monitoring-kube-prometheus-alertmanager-cluster-tls-config               Opaque               1      20h\n",
      "alertmanager-monitoring-kube-prometheus-alertmanager-generated                        Opaque               1      20h\n",
      "alertmanager-monitoring-kube-prometheus-alertmanager-tls-assets-0                     Opaque               0      20h\n",
      "alertmanager-monitoring-kube-prometheus-alertmanager-web-config                       Opaque               1      20h\n",
      "monitoring-grafana                                                                    Opaque               3      20h\n",
      "monitoring-kube-prometheus-admission                                                  Opaque               3      20h\n",
      "prometheus-monitoring-kube-prometheus-prometheus                                      Opaque               1      20h\n",
      "prometheus-monitoring-kube-prometheus-prometheus-thanos-prometheus-http-client-file   Opaque               1      20h\n",
      "prometheus-monitoring-kube-prometheus-prometheus-tls-assets-0                         Opaque               1      20h\n",
      "prometheus-monitoring-kube-prometheus-prometheus-web-config                           Opaque               1      20h\n",
      "sh.helm.release.v1.monitoring.v1                                                      helm.sh/release.v1   1      20h\n"
     ]
    }
   ],
   "source": [
    "# Display all config maps and secrets in the default namespace\n",
    "namespace = \"default\"\n",
    "!echo ---Config Maps---\n",
    "!kubectl get configmap -n {namespace}\n",
    "!echo ---Secrets---\n",
    "!kubectl get secret -n {namespace}"
   ]
  },
  {
   "cell_type": "markdown",
   "id": "ae57fc64",
   "metadata": {},
   "source": [
    "### *1.2. My Services*"
   ]
  },
  {
   "cell_type": "code",
   "execution_count": 165,
   "id": "66ad2970",
   "metadata": {
    "vscode": {
     "languageId": "bat"
    }
   },
   "outputs": [
    {
     "name": "stdout",
     "output_type": "stream",
     "text": [
      "---Pods---\n"
     ]
    },
    {
     "name": "stdout",
     "output_type": "stream",
     "text": [
      "NAME                                 READY   STATUS              RESTARTS   AGE   IP          NODE             NOMINATED NODE   READINESS GATES\n",
      "product-service-6646dfc85d-kvmld     1/1     Running             0          14m   10.1.1.76   docker-desktop   <none>           <none>\n",
      "product-service-db-98d6fb46d-pfl7c   1/1     Running             0          14m   10.1.1.75   docker-desktop   <none>           <none>\n",
      "user-service-649848f485-4sffd        1/1     Running             0          17m   10.1.1.74   docker-desktop   <none>           <none>\n",
      "user-service-db-6c74f9b896-bwvxz     1/1     Running             0          17m   10.1.1.73   docker-desktop   <none>           <none>\n",
      "web-interface-5554568658-qxwc4       0/1     ContainerCreating   0          5s    <none>      docker-desktop   <none>           <none>\n",
      "---Services---\n",
      "NAME                 TYPE        CLUSTER-IP       EXTERNAL-IP   PORT(S)           AGE   SELECTOR\n",
      "product-service      NodePort    10.97.139.193    <none>        3001:30001/TCP    14m   app.kubernetes.io/name=product-service\n",
      "product-service-db   NodePort    10.99.193.132    <none>        27017:32018/TCP   14m   app.kubernetes.io/name=product-service-db\n",
      "user-service         NodePort    10.101.99.250    <none>        3000:30000/TCP    17m   app.kubernetes.io/name=user-service\n",
      "user-service-db      NodePort    10.99.76.214     <none>        27017:32017/TCP   17m   app.kubernetes.io/name=user-service-db\n",
      "web-interface        ClusterIP   10.102.186.148   <none>        80/TCP            6s    app.kubernetes.io/name=web-interface\n",
      "---PVC---\n",
      "NAME                     STATUS   VOLUME                                     CAPACITY   ACCESS MODES   STORAGECLASS   VOLUMEATTRIBUTESCLASS   AGE   VOLUMEMODE\n",
      "product-service-db-pvc   Bound    pvc-6468e0db-5d34-4139-aae6-66e15c670830   100Mi      RWO            hostpath       <unset>                 35h   Filesystem\n",
      "user-service-db-pvc      Bound    pvc-5af0d55a-eb31-4ca5-8db4-ac47e9c0c939   100Mi      RWO            hostpath       <unset>                 35h   Filesystem\n"
     ]
    }
   ],
   "source": [
    "# Display Kubernetes resources in the my-services namespace\n",
    "namespace = \"my-services\"\n",
    "!echo ---Pods---\n",
    "!kubectl get pods -o wide -n {namespace}\n",
    "!echo ---Services---\n",
    "!kubectl get svc -o wide -n {namespace}\n",
    "!echo ---PVC---\n",
    "!kubectl get pvc -o wide -n {namespace}"
   ]
  },
  {
   "cell_type": "code",
   "execution_count": 248,
   "id": "419008b6",
   "metadata": {
    "vscode": {
     "languageId": "bat"
    }
   },
   "outputs": [
    {
     "name": "stdout",
     "output_type": "stream",
     "text": [
      "---Config Maps---\n",
      "NAME                     DATA   AGE\n",
      "error-codes              22     114m\n",
      "kube-root-ca.crt         1      13h\n",
      "product-service-config   5      114m\n",
      "user-service-config      5      114m\n",
      "web-interface-config     6      114m\n",
      "---Secrets---\n",
      "NAME                     TYPE     DATA   AGE\n",
      "product-service-secret   Opaque   0      114m\n",
      "user-service-secret      Opaque   1      114m\n",
      "web-interface-secret     Opaque   0      114m\n"
     ]
    }
   ],
   "source": [
    "# Display all config maps and secrets in the my-services namespace\n",
    "namespace = \"my-services\"\n",
    "!echo ---Config Maps---\n",
    "!kubectl get configmap -n {namespace}\n",
    "!echo ---Secrets---\n",
    "!kubectl get secret -n {namespace}"
   ]
  },
  {
   "cell_type": "code",
   "execution_count": 249,
   "id": "07caa1fb",
   "metadata": {
    "vscode": {
     "languageId": "bat"
    }
   },
   "outputs": [
    {
     "name": "stdout",
     "output_type": "stream",
     "text": [
      "---Ingress Configuration Details---\n",
      "Name:             ingress-configuration\n",
      "Labels:           <none>\n",
      "Namespace:        my-services\n",
      "Address:          10.102.231.150\n",
      "Ingress Class:    nginx\n",
      "Default backend:  <default>\n",
      "Rules:\n",
      "  Host        Path  Backends\n",
      "  ----        ----  --------\n",
      "  *           \n",
      "              /api/users      user-service:3000 (10.1.0.232:3000)\n",
      "              /api/products   product-service:3001 (10.1.0.221:3001)\n",
      "              /               web-interface:80 (10.1.0.231:80)\n",
      "Annotations:  kubernetes.io/ingress.class: nginx\n",
      "Events:       <none>\n"
     ]
    }
   ],
   "source": [
    "# Display Ingress configuration details in the my-services namespace\n",
    "namespace = \"my-services\"\n",
    "!echo ---Ingress Configuration Details---\n",
    "!kubectl describe ingress ingress-configuration -n {namespace}"
   ]
  },
  {
   "cell_type": "markdown",
   "id": "3623c065",
   "metadata": {
    "vscode": {
     "languageId": "bat"
    }
   },
   "source": [
    "#### *Logs and Debug*"
   ]
  },
  {
   "cell_type": "code",
   "execution_count": 156,
   "id": "82f2de5f",
   "metadata": {
    "vscode": {
     "languageId": "bat"
    }
   },
   "outputs": [
    {
     "name": "stdout",
     "output_type": "stream",
     "text": [
      "---Logs for user-service-649848f485-4sffd---\n",
      "\n",
      "> user-service@1.0.0 start\n",
      "> node src/index.js\n",
      "\n",
      "[dotenv@17.2.0] injecting env (0) from .env (tip: ⚙️  specify custom .env file path with { path: '/custom/path/.env' })\n",
      "{\"level\":\"info\",\"service\":\"user-service\",\"message\":\"Connected to MongoDB\",\"timestamp\":\"2025-07-25T01:48:15.333Z\"}\n",
      "User service running on port 3000\n",
      "---Previous logs for user-service-649848f485-4sffd---\n"
     ]
    },
    {
     "name": "stderr",
     "output_type": "stream",
     "text": [
      "Error from server (BadRequest): previous terminated container \"user-service\" in pod \"user-service-649848f485-4sffd\" not found\n"
     ]
    }
   ],
   "source": [
    "# Display logs for user-service pods in the my-services namespace\n",
    "import subprocess\n",
    "\n",
    "label = \"user-service\"\n",
    "namespace = \"my-services\"\n",
    "command = f\"kubectl get pods -l app.kubernetes.io/name={label} -n {namespace} -o custom-columns=NAME:.metadata.name --no-headers\"\n",
    "\n",
    "pod = subprocess.check_output(command, shell=True, text=True).strip()\n",
    "\n",
    "!echo ---Logs for {pod}---\n",
    "!kubectl logs {pod} -n {namespace}\n",
    "!echo ---Previous logs for {pod}---\n",
    "!kubectl logs {pod} -n {namespace} --previous"
   ]
  },
  {
   "cell_type": "code",
   "execution_count": 141,
   "id": "a5269ca8",
   "metadata": {
    "vscode": {
     "languageId": "bat"
    }
   },
   "outputs": [
    {
     "name": "stdout",
     "output_type": "stream",
     "text": [
      "---Logs for user-service-db-6c74f9b896-jmljb---\n",
      "{\"t\":{\"$date\":\"2025-07-25T01:16:43.856+00:00\"},\"s\":\"I\",  \"c\":\"CONTROL\",  \"id\":23285,   \"ctx\":\"main\",\"msg\":\"Automatically disabling TLS 1.0, to force-enable TLS 1.0 specify --sslDisabledProtocols 'none'\"}\n",
      "{\"t\":{\"$date\":\"2025-07-25T01:16:43.872+00:00\"},\"s\":\"I\",  \"c\":\"CONTROL\",  \"id\":5945603, \"ctx\":\"main\",\"msg\":\"Multi threading initialized\"}\n",
      "{\"t\":{\"$date\":\"2025-07-25T01:16:43.896+00:00\"},\"s\":\"I\",  \"c\":\"NETWORK\",  \"id\":4648601, \"ctx\":\"main\",\"msg\":\"Implicit TCP FastOpen unavailable. If TCP FastOpen is required, set at least one of the related parameters\",\"attr\":{\"relatedParameters\":[\"tcpFastOpenServer\",\"tcpFastOpenClient\",\"tcpFastOpenQueueSize\"]}}\n",
      "{\"t\":{\"$date\":\"2025-07-25T01:16:43.925+00:00\"},\"s\":\"I\",  \"c\":\"NETWORK\",  \"id\":4915701, \"ctx\":\"main\",\"msg\":\"Initialized wire specification\",\"attr\":{\"spec\":{\"incomingExternalClient\":{\"minWireVersion\":0,\"maxWireVersion\":25},\"incomingInternalClient\":{\"minWireVersion\":0,\"maxWireVersion\":25},\"outgoing\":{\"minWireVersion\":6,\"maxWireVersion\":25},\"isInternalClient\":true}}}\n",
      "{\"t\":{\"$date\":\"2025-07-25T01:16:44.168+00:00\"},\"s\":\"I\",  \"c\":\"TENANT_M\", \"id\":7091600, \"ctx\":\"main\",\"msg\":\"Starting TenantMigrationAccessBlockerRegistry\"}\n",
      "{\"t\":{\"$date\":\"2025-07-25T01:16:44.169+00:00\"},\"s\":\"I\",  \"c\":\"CONTROL\",  \"id\":4615611, \"ctx\":\"initandlisten\",\"msg\":\"MongoDB starting\",\"attr\":{\"pid\":1,\"port\":27017,\"dbPath\":\"/data/db\",\"architecture\":\"64-bit\",\"host\":\"user-service-db-6c74f9b896-jmljb\"}}\n",
      "{\"t\":{\"$date\":\"2025-07-25T01:16:44.170+00:00\"},\"s\":\"I\",  \"c\":\"CONTROL\",  \"id\":23403,   \"ctx\":\"initandlisten\",\"msg\":\"Build Info\",\"attr\":{\"buildInfo\":{\"version\":\"8.0.12\",\"gitVersion\":\"b60fc6875b5fb4b63cc0dbbd8dda0d6d6277921a\",\"openSSLVersion\":\"OpenSSL 3.0.13 30 Jan 2024\",\"modules\":[],\"allocator\":\"tcmalloc-google\",\"environment\":{\"distmod\":\"ubuntu2404\",\"distarch\":\"x86_64\",\"target_arch\":\"x86_64\"}}}}\n",
      "{\"t\":{\"$date\":\"2025-07-25T01:16:44.170+00:00\"},\"s\":\"I\",  \"c\":\"CONTROL\",  \"id\":51765,   \"ctx\":\"initandlisten\",\"msg\":\"Operating System\",\"attr\":{\"os\":{\"name\":\"Ubuntu\",\"version\":\"24.04\"}}}\n",
      "{\"t\":{\"$date\":\"2025-07-25T01:16:44.170+00:00\"},\"s\":\"I\",  \"c\":\"CONTROL\",  \"id\":21951,   \"ctx\":\"initandlisten\",\"msg\":\"Options set by command line\",\"attr\":{\"options\":{\"net\":{\"bindIp\":\"*\"}}}}\n",
      "{\"t\":{\"$date\":\"2025-07-25T01:16:44.213+00:00\"},\"s\":\"I\",  \"c\":\"STORAGE\",  \"id\":22270,   \"ctx\":\"initandlisten\",\"msg\":\"Storage engine to use detected by data files\",\"attr\":{\"dbpath\":\"/data/db\",\"storageEngine\":\"wiredTiger\"}}\n",
      "{\"t\":{\"$date\":\"2025-07-25T01:16:44.218+00:00\"},\"s\":\"I\",  \"c\":\"STORAGE\",  \"id\":22297,   \"ctx\":\"initandlisten\",\"msg\":\"Using the XFS filesystem is strongly recommended with the WiredTiger storage engine. See http://dochub.mongodb.org/core/prodnotes-filesystem\",\"tags\":[\"startupWarnings\"]}\n",
      "{\"t\":{\"$date\":\"2025-07-25T01:16:44.220+00:00\"},\"s\":\"I\",  \"c\":\"STORAGE\",  \"id\":22315,   \"ctx\":\"initandlisten\",\"msg\":\"Opening WiredTiger\",\"attr\":{\"config\":\"create,cache_size=1445M,session_max=33000,eviction=(threads_min=4,threads_max=4),config_base=false,statistics=(fast),log=(enabled=true,remove=true,path=journal,compressor=snappy),builtin_extension_config=(zstd=(compression_level=6)),file_manager=(close_idle_time=600,close_scan_interval=10,close_handle_minimum=2000),statistics_log=(wait=0),json_output=(error,message),verbose=[recovery_progress:1,checkpoint_progress:1,compact_progress:1,backup:0,checkpoint:0,compact:0,evict:0,history_store:0,recovery:0,rts:0,salvage:0,tiered:0,timestamp:0,transaction:0,verify:0,log:0],prefetch=(available=true,default=false),\"}}\n",
      "{\"t\":{\"$date\":\"2025-07-25T01:16:46.688+00:00\"},\"s\":\"I\",  \"c\":\"WTRECOV\",  \"id\":22430,   \"ctx\":\"initandlisten\",\"msg\":\"WiredTiger message\",\"attr\":{\"message\":{\"ts_sec\":1753406206,\"ts_usec\":687796,\"thread\":\"1:0x715b7e8ed680\",\"session_name\":\"txn-recover\",\"category\":\"WT_VERB_RECOVERY_PROGRESS\",\"category_id\":34,\"verbose_level\":\"DEBUG_1\",\"verbose_level_id\":1,\"msg\":\"Recovering log 27 through 28\"}}}\n",
      "{\"t\":{\"$date\":\"2025-07-25T01:16:57.734+00:00\"},\"s\":\"I\",  \"c\":\"WTRECOV\",  \"id\":22430,   \"ctx\":\"initandlisten\",\"msg\":\"WiredTiger message\",\"attr\":{\"message\":{\"ts_sec\":1753406217,\"ts_usec\":725964,\"thread\":\"1:0x715b7e8ed680\",\"session_name\":\"txn-recover\",\"category\":\"WT_VERB_RECOVERY_PROGRESS\",\"category_id\":34,\"verbose_level\":\"DEBUG_1\",\"verbose_level_id\":1,\"msg\":\"Recovering log 28 through 28\"}}}\n",
      "{\"t\":{\"$date\":\"2025-07-25T01:17:04.868+00:00\"},\"s\":\"I\",  \"c\":\"WTRECOV\",  \"id\":22430,   \"ctx\":\"initandlisten\",\"msg\":\"WiredTiger message\",\"attr\":{\"message\":{\"ts_sec\":1753406224,\"ts_usec\":860168,\"thread\":\"1:0x715b7e8ed680\",\"session_name\":\"txn-recover\",\"category\":\"WT_VERB_RECOVERY_PROGRESS\",\"category_id\":34,\"verbose_level\":\"DEBUG_1\",\"verbose_level_id\":1,\"msg\":\"Main recovery loop: starting at 27/22528 to 28/256\"}}}\n",
      "{\"t\":{\"$date\":\"2025-07-25T01:17:06.830+00:00\"},\"s\":\"I\",  \"c\":\"WTRECOV\",  \"id\":22430,   \"ctx\":\"initandlisten\",\"msg\":\"WiredTiger message\",\"attr\":{\"message\":{\"ts_sec\":1753406226,\"ts_usec\":829543,\"thread\":\"1:0x715b7e8ed680\",\"session_name\":\"txn-recover\",\"category\":\"WT_VERB_RECOVERY_PROGRESS\",\"category_id\":34,\"verbose_level\":\"DEBUG_1\",\"verbose_level_id\":1,\"msg\":\"Recovering log 27 through 28\"}}}\n",
      "{\"t\":{\"$date\":\"2025-07-25T01:17:14.899+00:00\"},\"s\":\"I\",  \"c\":\"WTRECOV\",  \"id\":22430,   \"ctx\":\"initandlisten\",\"msg\":\"WiredTiger message\",\"attr\":{\"message\":{\"ts_sec\":1753406234,\"ts_usec\":897797,\"thread\":\"1:0x715b7e8ed680\",\"session_name\":\"txn-recover\",\"category\":\"WT_VERB_RECOVERY_PROGRESS\",\"category_id\":34,\"verbose_level\":\"DEBUG_1\",\"verbose_level_id\":1,\"msg\":\"Recovering log 28 through 28\"}}}\n",
      "{\"t\":{\"$date\":\"2025-07-25T01:17:20.487+00:00\"},\"s\":\"I\",  \"c\":\"WTRECOV\",  \"id\":22430,   \"ctx\":\"initandlisten\",\"msg\":\"WiredTiger message\",\"attr\":{\"message\":{\"ts_sec\":1753406240,\"ts_usec\":478971,\"thread\":\"1:0x715b7e8ed680\",\"session_name\":\"txn-recover\",\"category\":\"WT_VERB_RECOVERY_PROGRESS\",\"category_id\":34,\"verbose_level\":\"DEBUG_1\",\"verbose_level_id\":1,\"msg\":\"recovery log replay has successfully finished and ran for 33794 milliseconds\"}}}\n",
      "{\"t\":{\"$date\":\"2025-07-25T01:17:20.515+00:00\"},\"s\":\"I\",  \"c\":\"WTRECOV\",  \"id\":22430,   \"ctx\":\"initandlisten\",\"msg\":\"WiredTiger message\",\"attr\":{\"message\":{\"ts_sec\":1753406240,\"ts_usec\":506547,\"thread\":\"1:0x715b7e8ed680\",\"session_name\":\"txn-recover\",\"category\":\"WT_VERB_RECOVERY_PROGRESS\",\"category_id\":34,\"verbose_level\":\"DEBUG_1\",\"verbose_level_id\":1,\"msg\":\"Set global recovery timestamp: (0, 0)\"}}}\n",
      "{\"t\":{\"$date\":\"2025-07-25T01:17:20.538+00:00\"},\"s\":\"I\",  \"c\":\"WTRECOV\",  \"id\":22430,   \"ctx\":\"initandlisten\",\"msg\":\"WiredTiger message\",\"attr\":{\"message\":{\"ts_sec\":1753406240,\"ts_usec\":516053,\"thread\":\"1:0x715b7e8ed680\",\"session_name\":\"txn-recover\",\"category\":\"WT_VERB_RECOVERY_PROGRESS\",\"category_id\":34,\"verbose_level\":\"DEBUG_1\",\"verbose_level_id\":1,\"msg\":\"Set global oldest timestamp: (0, 0)\"}}}\n",
      "{\"t\":{\"$date\":\"2025-07-25T01:17:20.622+00:00\"},\"s\":\"I\",  \"c\":\"WTRECOV\",  \"id\":22430,   \"ctx\":\"initandlisten\",\"msg\":\"WiredTiger message\",\"attr\":{\"message\":{\"ts_sec\":1753406240,\"ts_usec\":609398,\"thread\":\"1:0x715b7e8ed680\",\"session_name\":\"txn-recover\",\"category\":\"WT_VERB_RECOVERY_PROGRESS\",\"category_id\":34,\"verbose_level\":\"DEBUG_1\",\"verbose_level_id\":1,\"msg\":\"recovery rollback to stable has successfully finished and ran for 69 milliseconds\"}}}\n",
      "{\"t\":{\"$date\":\"2025-07-25T01:17:20.725+00:00\"},\"s\":\"I\",  \"c\":\"WTCHKPT\",  \"id\":22430,   \"ctx\":\"initandlisten\",\"msg\":\"WiredTiger message\",\"attr\":{\"message\":{\"ts_sec\":1753406240,\"ts_usec\":699867,\"thread\":\"1:0x715b7e8ed680\",\"session_name\":\"WT_SESSION.checkpoint\",\"category\":\"WT_VERB_CHECKPOINT_PROGRESS\",\"category_id\":7,\"verbose_level\":\"DEBUG_1\",\"verbose_level_id\":1,\"msg\":\"saving checkpoint snapshot min: 1, snapshot max: 1 snapshot count: 0, oldest timestamp: (0, 0) , meta checkpoint timestamp: (0, 0) base write gen: 3412\"}}}\n",
      "{\"t\":{\"$date\":\"2025-07-25T01:17:20.951+00:00\"},\"s\":\"I\",  \"c\":\"WTRECOV\",  \"id\":22430,   \"ctx\":\"initandlisten\",\"msg\":\"WiredTiger message\",\"attr\":{\"message\":{\"ts_sec\":1753406240,\"ts_usec\":950950,\"thread\":\"1:0x715b7e8ed680\",\"session_name\":\"txn-recover\",\"category\":\"WT_VERB_RECOVERY_PROGRESS\",\"category_id\":34,\"verbose_level\":\"DEBUG_1\",\"verbose_level_id\":1,\"msg\":\"recovery checkpoint has successfully finished and ran for 320 milliseconds\"}}}\n",
      "{\"t\":{\"$date\":\"2025-07-25T01:17:20.952+00:00\"},\"s\":\"I\",  \"c\":\"WTRECOV\",  \"id\":22430,   \"ctx\":\"initandlisten\",\"msg\":\"WiredTiger message\",\"attr\":{\"message\":{\"ts_sec\":1753406240,\"ts_usec\":952279,\"thread\":\"1:0x715b7e8ed680\",\"session_name\":\"txn-recover\",\"category\":\"WT_VERB_RECOVERY_PROGRESS\",\"category_id\":34,\"verbose_level\":\"DEBUG_1\",\"verbose_level_id\":1,\"msg\":\"recovery was completed successfully and took 34267ms, including 33794ms for the log replay, 69ms for the rollback to stable, and 320ms for the checkpoint.\"}}}\n",
      "{\"t\":{\"$date\":\"2025-07-25T01:17:21.153+00:00\"},\"s\":\"I\",  \"c\":\"STORAGE\",  \"id\":4795906, \"ctx\":\"initandlisten\",\"msg\":\"WiredTiger opened\",\"attr\":{\"durationMillis\":36933}}\n",
      "{\"t\":{\"$date\":\"2025-07-25T01:17:21.171+00:00\"},\"s\":\"I\",  \"c\":\"RECOVERY\", \"id\":23987,   \"ctx\":\"initandlisten\",\"msg\":\"WiredTiger recoveryTimestamp\",\"attr\":{\"recoveryTimestamp\":{\"$timestamp\":{\"t\":0,\"i\":0}}}}\n",
      "{\"t\":{\"$date\":\"2025-07-25T01:17:21.313+00:00\"},\"s\":\"I\",  \"c\":\"STORAGE\",  \"id\":9529901, \"ctx\":\"initandlisten\",\"msg\":\"Initializing durable catalog\",\"attr\":{\"numRecords\":4}}\n",
      "{\"t\":{\"$date\":\"2025-07-25T01:17:21.336+00:00\"},\"s\":\"I\",  \"c\":\"STORAGE\",  \"id\":9529902, \"ctx\":\"initandlisten\",\"msg\":\"Retrieving all idents from storage engine\"}\n",
      "{\"t\":{\"$date\":\"2025-07-25T01:17:21.345+00:00\"},\"s\":\"I\",  \"c\":\"STORAGE\",  \"id\":9529903, \"ctx\":\"initandlisten\",\"msg\":\"Initializing all collections in durable catalog\",\"attr\":{\"numEntries\":4}}\n",
      "{\"t\":{\"$date\":\"2025-07-25T01:17:21.428+00:00\"},\"s\":\"W\",  \"c\":\"CONTROL\",  \"id\":22120,   \"ctx\":\"initandlisten\",\"msg\":\"Access control is not enabled for the database. Read and write access to data and configuration is unrestricted\",\"tags\":[\"startupWarnings\"]}\n",
      "{\"t\":{\"$date\":\"2025-07-25T01:17:21.432+00:00\"},\"s\":\"W\",  \"c\":\"CONTROL\",  \"id\":9068900, \"ctx\":\"initandlisten\",\"msg\":\"For customers running the current memory allocator, we suggest changing the contents of the following sysfsFile\",\"attr\":{\"allocator\":\"tcmalloc-google\",\"sysfsFile\":\"/sys/kernel/mm/transparent_hugepage/enabled\",\"currentValue\":\"never\",\"desiredValue\":\"always\"},\"tags\":[\"startupWarnings\"]}\n",
      "{\"t\":{\"$date\":\"2025-07-25T01:17:21.432+00:00\"},\"s\":\"W\",  \"c\":\"CONTROL\",  \"id\":9068900, \"ctx\":\"initandlisten\",\"msg\":\"For customers running the current memory allocator, we suggest changing the contents of the following sysfsFile\",\"attr\":{\"allocator\":\"tcmalloc-google\",\"sysfsFile\":\"/sys/kernel/mm/transparent_hugepage/defrag\",\"currentValue\":\"madvise\",\"desiredValue\":\"defer+madvise\"},\"tags\":[\"startupWarnings\"]}\n",
      "{\"t\":{\"$date\":\"2025-07-25T01:17:21.432+00:00\"},\"s\":\"W\",  \"c\":\"CONTROL\",  \"id\":8640302, \"ctx\":\"initandlisten\",\"msg\":\"We suggest setting the contents of sysfsFile to 0.\",\"attr\":{\"sysfsFile\":\"/sys/kernel/mm/transparent_hugepage/khugepaged/max_ptes_none\",\"currentValue\":511},\"tags\":[\"startupWarnings\"]}\n",
      "{\"t\":{\"$date\":\"2025-07-25T01:17:21.432+00:00\"},\"s\":\"W\",  \"c\":\"NETWORK\",  \"id\":5123300, \"ctx\":\"initandlisten\",\"msg\":\"vm.max_map_count is too low\",\"attr\":{\"currentValue\":262144,\"recommendedMinimum\":1677720,\"maxConns\":838860},\"tags\":[\"startupWarnings\"]}\n",
      "{\"t\":{\"$date\":\"2025-07-25T01:17:21.434+00:00\"},\"s\":\"W\",  \"c\":\"CONTROL\",  \"id\":8386700, \"ctx\":\"initandlisten\",\"msg\":\"We suggest setting swappiness to 0 or 1, as swapping can cause performance problems.\",\"attr\":{\"sysfsFile\":\"/proc/sys/vm/swappiness\",\"currentValue\":60},\"tags\":[\"startupWarnings\"]}\n",
      "{\"t\":{\"$date\":\"2025-07-25T01:17:21.489+00:00\"},\"s\":\"I\",  \"c\":\"NETWORK\",  \"id\":4915702, \"ctx\":\"initandlisten\",\"msg\":\"Updated wire specification\",\"attr\":{\"oldSpec\":{\"incomingExternalClient\":{\"minWireVersion\":0,\"maxWireVersion\":25},\"incomingInternalClient\":{\"minWireVersion\":0,\"maxWireVersion\":25},\"outgoing\":{\"minWireVersion\":6,\"maxWireVersion\":25},\"isInternalClient\":true},\"newSpec\":{\"incomingExternalClient\":{\"minWireVersion\":0,\"maxWireVersion\":25},\"incomingInternalClient\":{\"minWireVersion\":25,\"maxWireVersion\":25},\"outgoing\":{\"minWireVersion\":25,\"maxWireVersion\":25},\"isInternalClient\":true}}}\n",
      "{\"t\":{\"$date\":\"2025-07-25T01:17:21.489+00:00\"},\"s\":\"I\",  \"c\":\"REPL\",     \"id\":5853300, \"ctx\":\"initandlisten\",\"msg\":\"current featureCompatibilityVersion value\",\"attr\":{\"featureCompatibilityVersion\":\"8.0\",\"context\":\"startup\"}}\n",
      "{\"t\":{\"$date\":\"2025-07-25T01:17:21.491+00:00\"},\"s\":\"I\",  \"c\":\"STORAGE\",  \"id\":5071100, \"ctx\":\"initandlisten\",\"msg\":\"Clearing temp directory\"}\n",
      "{\"t\":{\"$date\":\"2025-07-25T01:17:21.499+00:00\"},\"s\":\"I\",  \"c\":\"CONTROL\",  \"id\":6608200, \"ctx\":\"initandlisten\",\"msg\":\"Initializing cluster server parameters from disk\"}\n",
      "{\"t\":{\"$date\":\"2025-07-25T01:17:21.500+00:00\"},\"s\":\"I\",  \"c\":\"CONTROL\",  \"id\":20536,   \"ctx\":\"initandlisten\",\"msg\":\"Flow Control is enabled on this deployment\"}\n",
      "{\"t\":{\"$date\":\"2025-07-25T01:17:21.515+00:00\"},\"s\":\"I\",  \"c\":\"FTDC\",     \"id\":20625,   \"ctx\":\"initandlisten\",\"msg\":\"Initializing full-time diagnostic data capture\",\"attr\":{\"dataDirectory\":\"/data/db/diagnostic.data\"}}\n",
      "{\"t\":{\"$date\":\"2025-07-25T01:17:21.607+00:00\"},\"s\":\"I\",  \"c\":\"REPL\",     \"id\":6015317, \"ctx\":\"initandlisten\",\"msg\":\"Setting new configuration state\",\"attr\":{\"newState\":\"ConfigReplicationDisabled\",\"oldState\":\"ConfigPreStart\"}}\n",
      "{\"t\":{\"$date\":\"2025-07-25T01:17:21.608+00:00\"},\"s\":\"I\",  \"c\":\"STORAGE\",  \"id\":22262,   \"ctx\":\"initandlisten\",\"msg\":\"Timestamp monitor starting\"}\n",
      "{\"t\":{\"$date\":\"2025-07-25T01:17:21.609+00:00\"},\"s\":\"I\",  \"c\":\"STORAGE\",  \"id\":7333401, \"ctx\":\"initandlisten\",\"msg\":\"Starting the DiskSpaceMonitor\"}\n",
      "{\"t\":{\"$date\":\"2025-07-25T01:17:21.624+00:00\"},\"s\":\"I\",  \"c\":\"NETWORK\",  \"id\":23015,   \"ctx\":\"listener\",\"msg\":\"Listening on\",\"attr\":{\"address\":\"/tmp/mongodb-27017.sock\"}}\n",
      "{\"t\":{\"$date\":\"2025-07-25T01:17:21.625+00:00\"},\"s\":\"I\",  \"c\":\"NETWORK\",  \"id\":23015,   \"ctx\":\"listener\",\"msg\":\"Listening on\",\"attr\":{\"address\":\"0.0.0.0:27017\"}}\n",
      "{\"t\":{\"$date\":\"2025-07-25T01:17:21.625+00:00\"},\"s\":\"I\",  \"c\":\"NETWORK\",  \"id\":23016,   \"ctx\":\"listener\",\"msg\":\"Waiting for connections\",\"attr\":{\"port\":27017,\"ssl\":\"off\"}}\n",
      "{\"t\":{\"$date\":\"2025-07-25T01:17:21.626+00:00\"},\"s\":\"I\",  \"c\":\"CONTROL\",  \"id\":8423403, \"ctx\":\"initandlisten\",\"msg\":\"mongod startup complete\",\"attr\":{\"Summary of time elapsed\":{\"Startup from clean shutdown?\":true,\"Statistics\":{\"Set up periodic runner\":\"0 ms\",\"Set up online certificate status protocol manager\":\"9 ms\",\"Transport layer setup\":\"0 ms\",\"Run initial syncer crash recovery\":\"0 ms\",\"Create storage engine lock file in the data directory\":\"0 ms\",\"Get metadata describing storage engine\":\"0 ms\",\"Validate options in metadata against current startup options\":\"0 ms\",\"Create storage engine\":\"37184 ms\",\"Write current PID to file\":\"20 ms\",\"Initialize FCV before rebuilding indexes\":\"46 ms\",\"Drop abandoned idents and get back indexes that need to be rebuilt or builds that need to be restarted\":\"0 ms\",\"Rebuild indexes for collections\":\"0 ms\",\"Load cluster parameters from disk for a standalone\":\"0 ms\",\"Build user and roles graph\":\"0 ms\",\"Set up the background thread pool responsible for waiting for opTimes to be majority committed\":\"3 ms\",\"Start up the replication coordinator\":\"2 ms\",\"Ensure the change stream collections on startup contain consistent data\":\"0 ms\",\"Write startup options to the audit log\":\"0 ms\",\"Start transport layer\":\"5 ms\",\"_initAndListen total elapsed time\":\"37456 ms\"}}}}\n",
      "{\"t\":{\"$date\":\"2025-07-25T01:17:22.056+00:00\"},\"s\":\"W\",  \"c\":\"CONTROL\",  \"id\":636300,  \"ctx\":\"ftdc\",\"msg\":\"Use of deprecated server parameter name\",\"attr\":{\"deprecatedName\":\"internalQueryCacheSize\",\"canonicalName\":\"internalQueryCacheMaxEntriesPerCollection\"}}\n",
      "{\"t\":{\"$date\":\"2025-07-25T01:17:22.057+00:00\"},\"s\":\"W\",  \"c\":\"CONTROL\",  \"id\":636300,  \"ctx\":\"ftdc\",\"msg\":\"Use of deprecated server parameter name\",\"attr\":{\"deprecatedName\":\"oplogSamplingLogIntervalSeconds\",\"canonicalName\":\"collectionSamplingLogIntervalSeconds\"}}\n",
      "{\"t\":{\"$date\":\"2025-07-25T01:17:22.058+00:00\"},\"s\":\"W\",  \"c\":\"NETWORK\",  \"id\":23803,   \"ctx\":\"ftdc\",\"msg\":\"Use of deprecated server parameter 'sslMode', please use 'tlsMode' instead.\"}\n",
      "{\"t\":{\"$date\":\"2025-07-25T01:17:22.058+00:00\"},\"s\":\"W\",  \"c\":\"CONTROL\",  \"id\":636300,  \"ctx\":\"ftdc\",\"msg\":\"Use of deprecated server parameter name\",\"attr\":{\"deprecatedName\":\"wiredTigerConcurrentReadTransactions\",\"canonicalName\":\"storageEngineConcurrentReadTransactions\"}}\n",
      "{\"t\":{\"$date\":\"2025-07-25T01:17:22.058+00:00\"},\"s\":\"W\",  \"c\":\"CONTROL\",  \"id\":636300,  \"ctx\":\"ftdc\",\"msg\":\"Use of deprecated server parameter name\",\"attr\":{\"deprecatedName\":\"wiredTigerConcurrentWriteTransactions\",\"canonicalName\":\"storageEngineConcurrentWriteTransactions\"}}\n",
      "{\"t\":{\"$date\":\"2025-07-25T01:18:21.476+00:00\"},\"s\":\"I\",  \"c\":\"WTCHKPT\",  \"id\":22430,   \"ctx\":\"Checkpointer\",\"msg\":\"WiredTiger message\",\"attr\":{\"message\":{\"ts_sec\":1753406301,\"ts_usec\":474219,\"thread\":\"1:0x715b700ac6c0\",\"session_name\":\"WT_SESSION.checkpoint\",\"category\":\"WT_VERB_CHECKPOINT_PROGRESS\",\"category_id\":7,\"verbose_level\":\"DEBUG_1\",\"verbose_level_id\":1,\"msg\":\"saving checkpoint snapshot min: 4, snapshot max: 4 snapshot count: 0, oldest timestamp: (0, 0) , meta checkpoint timestamp: (0, 0) base write gen: 3412\"}}}\n",
      "{\"t\":{\"$date\":\"2025-07-25T01:19:21.519+00:00\"},\"s\":\"I\",  \"c\":\"WTCHKPT\",  \"id\":22430,   \"ctx\":\"Checkpointer\",\"msg\":\"WiredTiger message\",\"attr\":{\"message\":{\"ts_sec\":1753406361,\"ts_usec\":517799,\"thread\":\"1:0x715b700ac6c0\",\"session_name\":\"WT_SESSION.checkpoint\",\"category\":\"WT_VERB_CHECKPOINT_PROGRESS\",\"category_id\":7,\"verbose_level\":\"DEBUG_1\",\"verbose_level_id\":1,\"msg\":\"saving checkpoint snapshot min: 5, snapshot max: 5 snapshot count: 0, oldest timestamp: (0, 0) , meta checkpoint timestamp: (0, 0) base write gen: 3412\"}}}\n",
      "{\"t\":{\"$date\":\"2025-07-25T01:20:21.541+00:00\"},\"s\":\"I\",  \"c\":\"WTCHKPT\",  \"id\":22430,   \"ctx\":\"Checkpointer\",\"msg\":\"WiredTiger message\",\"attr\":{\"message\":{\"ts_sec\":1753406421,\"ts_usec\":539622,\"thread\":\"1:0x715b700ac6c0\",\"session_name\":\"WT_SESSION.checkpoint\",\"category\":\"WT_VERB_CHECKPOINT_PROGRESS\",\"category_id\":7,\"verbose_level\":\"DEBUG_1\",\"verbose_level_id\":1,\"msg\":\"saving checkpoint snapshot min: 6, snapshot max: 6 snapshot count: 0, oldest timestamp: (0, 0) , meta checkpoint timestamp: (0, 0) base write gen: 3412\"}}}\n",
      "{\"t\":{\"$date\":\"2025-07-25T01:21:21.539+00:00\"},\"s\":\"I\",  \"c\":\"WTCHKPT\",  \"id\":22430,   \"ctx\":\"Checkpointer\",\"msg\":\"WiredTiger message\",\"attr\":{\"message\":{\"ts_sec\":1753406481,\"ts_usec\":537891,\"thread\":\"1:0x715b700ac6c0\",\"session_name\":\"WT_SESSION.checkpoint\",\"category\":\"WT_VERB_CHECKPOINT_PROGRESS\",\"category_id\":7,\"verbose_level\":\"DEBUG_1\",\"verbose_level_id\":1,\"msg\":\"saving checkpoint snapshot min: 7, snapshot max: 7 snapshot count: 0, oldest timestamp: (0, 0) , meta checkpoint timestamp: (0, 0) base write gen: 3412\"}}}\n",
      "{\"t\":{\"$date\":\"2025-07-25T01:22:21.576+00:00\"},\"s\":\"I\",  \"c\":\"WTCHKPT\",  \"id\":22430,   \"ctx\":\"Checkpointer\",\"msg\":\"WiredTiger message\",\"attr\":{\"message\":{\"ts_sec\":1753406541,\"ts_usec\":573395,\"thread\":\"1:0x715b700ac6c0\",\"session_name\":\"WT_SESSION.checkpoint\",\"category\":\"WT_VERB_CHECKPOINT_PROGRESS\",\"category_id\":7,\"verbose_level\":\"DEBUG_1\",\"verbose_level_id\":1,\"msg\":\"saving checkpoint snapshot min: 8, snapshot max: 8 snapshot count: 0, oldest timestamp: (0, 0) , meta checkpoint timestamp: (0, 0) base write gen: 3412\"}}}\n",
      "{\"t\":{\"$date\":\"2025-07-25T01:23:21.621+00:00\"},\"s\":\"I\",  \"c\":\"WTCHKPT\",  \"id\":22430,   \"ctx\":\"Checkpointer\",\"msg\":\"WiredTiger message\",\"attr\":{\"message\":{\"ts_sec\":1753406601,\"ts_usec\":618860,\"thread\":\"1:0x715b700ac6c0\",\"session_name\":\"WT_SESSION.checkpoint\",\"category\":\"WT_VERB_CHECKPOINT_PROGRESS\",\"category_id\":7,\"verbose_level\":\"DEBUG_1\",\"verbose_level_id\":1,\"msg\":\"saving checkpoint snapshot min: 9, snapshot max: 9 snapshot count: 0, oldest timestamp: (0, 0) , meta checkpoint timestamp: (0, 0) base write gen: 3412\"}}}\n",
      "{\"t\":{\"$date\":\"2025-07-25T01:24:21.649+00:00\"},\"s\":\"I\",  \"c\":\"WTCHKPT\",  \"id\":22430,   \"ctx\":\"Checkpointer\",\"msg\":\"WiredTiger message\",\"attr\":{\"message\":{\"ts_sec\":1753406661,\"ts_usec\":647993,\"thread\":\"1:0x715b700ac6c0\",\"session_name\":\"WT_SESSION.checkpoint\",\"category\":\"WT_VERB_CHECKPOINT_PROGRESS\",\"category_id\":7,\"verbose_level\":\"DEBUG_1\",\"verbose_level_id\":1,\"msg\":\"saving checkpoint snapshot min: 10, snapshot max: 10 snapshot count: 0, oldest timestamp: (0, 0) , meta checkpoint timestamp: (0, 0) base write gen: 3412\"}}}\n",
      "{\"t\":{\"$date\":\"2025-07-25T01:25:21.670+00:00\"},\"s\":\"I\",  \"c\":\"WTCHKPT\",  \"id\":22430,   \"ctx\":\"Checkpointer\",\"msg\":\"WiredTiger message\",\"attr\":{\"message\":{\"ts_sec\":1753406721,\"ts_usec\":669871,\"thread\":\"1:0x715b700ac6c0\",\"session_name\":\"WT_SESSION.checkpoint\",\"category\":\"WT_VERB_CHECKPOINT_PROGRESS\",\"category_id\":7,\"verbose_level\":\"DEBUG_1\",\"verbose_level_id\":1,\"msg\":\"saving checkpoint snapshot min: 11, snapshot max: 11 snapshot count: 0, oldest timestamp: (0, 0) , meta checkpoint timestamp: (0, 0) base write gen: 3412\"}}}\n",
      "{\"t\":{\"$date\":\"2025-07-25T01:26:21.694+00:00\"},\"s\":\"I\",  \"c\":\"WTCHKPT\",  \"id\":22430,   \"ctx\":\"Checkpointer\",\"msg\":\"WiredTiger message\",\"attr\":{\"message\":{\"ts_sec\":1753406781,\"ts_usec\":693162,\"thread\":\"1:0x715b700ac6c0\",\"session_name\":\"WT_SESSION.checkpoint\",\"category\":\"WT_VERB_CHECKPOINT_PROGRESS\",\"category_id\":7,\"verbose_level\":\"DEBUG_1\",\"verbose_level_id\":1,\"msg\":\"saving checkpoint snapshot min: 12, snapshot max: 12 snapshot count: 0, oldest timestamp: (0, 0) , meta checkpoint timestamp: (0, 0) base write gen: 3412\"}}}\n",
      "{\"t\":{\"$date\":\"2025-07-25T01:27:21.727+00:00\"},\"s\":\"I\",  \"c\":\"WTCHKPT\",  \"id\":22430,   \"ctx\":\"Checkpointer\",\"msg\":\"WiredTiger message\",\"attr\":{\"message\":{\"ts_sec\":1753406841,\"ts_usec\":725369,\"thread\":\"1:0x715b700ac6c0\",\"session_name\":\"WT_SESSION.checkpoint\",\"category\":\"WT_VERB_CHECKPOINT_PROGRESS\",\"category_id\":7,\"verbose_level\":\"DEBUG_1\",\"verbose_level_id\":1,\"msg\":\"saving checkpoint snapshot min: 13, snapshot max: 13 snapshot count: 0, oldest timestamp: (0, 0) , meta checkpoint timestamp: (0, 0) base write gen: 3412\"}}}\n",
      "{\"t\":{\"$date\":\"2025-07-25T01:28:21.822+00:00\"},\"s\":\"I\",  \"c\":\"WTCHKPT\",  \"id\":22430,   \"ctx\":\"Checkpointer\",\"msg\":\"WiredTiger message\",\"attr\":{\"message\":{\"ts_sec\":1753406901,\"ts_usec\":820773,\"thread\":\"1:0x715b700ac6c0\",\"session_name\":\"WT_SESSION.checkpoint\",\"category\":\"WT_VERB_CHECKPOINT_PROGRESS\",\"category_id\":7,\"verbose_level\":\"DEBUG_1\",\"verbose_level_id\":1,\"msg\":\"saving checkpoint snapshot min: 14, snapshot max: 14 snapshot count: 0, oldest timestamp: (0, 0) , meta checkpoint timestamp: (0, 0) base write gen: 3412\"}}}\n",
      "---Previous logs for user-service-db-6c74f9b896-jmljb---\n"
     ]
    },
    {
     "name": "stderr",
     "output_type": "stream",
     "text": [
      "Error from server (BadRequest): previous terminated container \"user-service-db\" in pod \"user-service-db-6c74f9b896-jmljb\" not found\n"
     ]
    }
   ],
   "source": [
    "# Display logs for user-service-db pods in the my-services namespace\n",
    "import subprocess\n",
    "\n",
    "label = \"user-service-db\"\n",
    "namespace = \"my-services\"\n",
    "command = f\"kubectl get pods -l app.kubernetes.io/name={label} -n {namespace} -o custom-columns=NAME:.metadata.name --no-headers\"\n",
    "\n",
    "pod = subprocess.check_output(command, shell=True, text=True).strip()\n",
    "\n",
    "!echo ---Logs for {pod}---\n",
    "!kubectl logs {pod} -n {namespace}\n",
    "!echo ---Previous logs for {pod}---\n",
    "!kubectl logs {pod} -n {namespace} --previous"
   ]
  },
  {
   "cell_type": "code",
   "execution_count": 157,
   "id": "cfc893e7",
   "metadata": {
    "vscode": {
     "languageId": "bat"
    }
   },
   "outputs": [
    {
     "name": "stdout",
     "output_type": "stream",
     "text": [
      "---Logs for product-service-6646dfc85d-9tg7w---\n",
      "\n",
      "> product-service@1.0.0 start\n",
      "> node src/index.js\n",
      "\n",
      "[dotenv@17.2.0] injecting env (0) from .env (tip: ⚙️  suppress all logs with { quiet: true })\n",
      "{\"level\":\"error\",\"service\":\"product-service\",\"message\":\"MongoDB connection error:\",\"timestamp\":\"2025-07-25T01:17:19.977Z\",\"error\":\"connect ECONNREFUSED 10.105.105.223:27017\"}\n",
      "Product service running on port 3001\n",
      "---Previous logs for product-service-6646dfc85d-9tg7w---\n"
     ]
    },
    {
     "name": "stderr",
     "output_type": "stream",
     "text": [
      "Error from server (BadRequest): previous terminated container \"product-service\" in pod \"product-service-6646dfc85d-9tg7w\" not found\n"
     ]
    }
   ],
   "source": [
    "# Display logs for product-service pods in the my-services namespace\n",
    "import subprocess\n",
    "\n",
    "label = \"product-service\"\n",
    "namespace = \"my-services\"\n",
    "command = f\"kubectl get pods -l app.kubernetes.io/name={label} -n {namespace} -o custom-columns=NAME:.metadata.name --no-headers\"\n",
    "\n",
    "pod = subprocess.check_output(command, shell=True, text=True).strip()\n",
    "\n",
    "!echo ---Logs for {pod}---\n",
    "!kubectl logs {pod} -n {namespace}\n",
    "!echo ---Previous logs for {pod}---\n",
    "!kubectl logs {pod} -n {namespace} --previous"
   ]
  },
  {
   "cell_type": "code",
   "execution_count": 143,
   "id": "06c3b5ed",
   "metadata": {
    "vscode": {
     "languageId": "bat"
    }
   },
   "outputs": [
    {
     "name": "stdout",
     "output_type": "stream",
     "text": [
      "---Logs for product-service-db-98d6fb46d-m54d7---\n",
      "{\"t\":{\"$date\":\"2025-07-25T01:16:44.361+00:00\"},\"s\":\"I\",  \"c\":\"CONTROL\",  \"id\":23285,   \"ctx\":\"main\",\"msg\":\"Automatically disabling TLS 1.0, to force-enable TLS 1.0 specify --sslDisabledProtocols 'none'\"}\n",
      "{\"t\":{\"$date\":\"2025-07-25T01:16:44.370+00:00\"},\"s\":\"I\",  \"c\":\"CONTROL\",  \"id\":5945603, \"ctx\":\"main\",\"msg\":\"Multi threading initialized\"}\n",
      "{\"t\":{\"$date\":\"2025-07-25T01:16:44.371+00:00\"},\"s\":\"I\",  \"c\":\"NETWORK\",  \"id\":4648601, \"ctx\":\"main\",\"msg\":\"Implicit TCP FastOpen unavailable. If TCP FastOpen is required, set at least one of the related parameters\",\"attr\":{\"relatedParameters\":[\"tcpFastOpenServer\",\"tcpFastOpenClient\",\"tcpFastOpenQueueSize\"]}}\n",
      "{\"t\":{\"$date\":\"2025-07-25T01:16:44.372+00:00\"},\"s\":\"I\",  \"c\":\"NETWORK\",  \"id\":4915701, \"ctx\":\"main\",\"msg\":\"Initialized wire specification\",\"attr\":{\"spec\":{\"incomingExternalClient\":{\"minWireVersion\":0,\"maxWireVersion\":25},\"incomingInternalClient\":{\"minWireVersion\":0,\"maxWireVersion\":25},\"outgoing\":{\"minWireVersion\":6,\"maxWireVersion\":25},\"isInternalClient\":true}}}\n",
      "{\"t\":{\"$date\":\"2025-07-25T01:16:44.382+00:00\"},\"s\":\"I\",  \"c\":\"TENANT_M\", \"id\":7091600, \"ctx\":\"main\",\"msg\":\"Starting TenantMigrationAccessBlockerRegistry\"}\n",
      "{\"t\":{\"$date\":\"2025-07-25T01:16:44.383+00:00\"},\"s\":\"I\",  \"c\":\"CONTROL\",  \"id\":4615611, \"ctx\":\"initandlisten\",\"msg\":\"MongoDB starting\",\"attr\":{\"pid\":1,\"port\":27017,\"dbPath\":\"/data/db\",\"architecture\":\"64-bit\",\"host\":\"product-service-db-98d6fb46d-m54d7\"}}\n",
      "{\"t\":{\"$date\":\"2025-07-25T01:16:44.383+00:00\"},\"s\":\"I\",  \"c\":\"CONTROL\",  \"id\":23403,   \"ctx\":\"initandlisten\",\"msg\":\"Build Info\",\"attr\":{\"buildInfo\":{\"version\":\"8.0.12\",\"gitVersion\":\"b60fc6875b5fb4b63cc0dbbd8dda0d6d6277921a\",\"openSSLVersion\":\"OpenSSL 3.0.13 30 Jan 2024\",\"modules\":[],\"allocator\":\"tcmalloc-google\",\"environment\":{\"distmod\":\"ubuntu2404\",\"distarch\":\"x86_64\",\"target_arch\":\"x86_64\"}}}}\n",
      "{\"t\":{\"$date\":\"2025-07-25T01:16:44.383+00:00\"},\"s\":\"I\",  \"c\":\"CONTROL\",  \"id\":51765,   \"ctx\":\"initandlisten\",\"msg\":\"Operating System\",\"attr\":{\"os\":{\"name\":\"Ubuntu\",\"version\":\"24.04\"}}}\n",
      "{\"t\":{\"$date\":\"2025-07-25T01:16:44.383+00:00\"},\"s\":\"I\",  \"c\":\"CONTROL\",  \"id\":21951,   \"ctx\":\"initandlisten\",\"msg\":\"Options set by command line\",\"attr\":{\"options\":{\"net\":{\"bindIp\":\"*\"}}}}\n",
      "{\"t\":{\"$date\":\"2025-07-25T01:16:44.416+00:00\"},\"s\":\"I\",  \"c\":\"STORAGE\",  \"id\":22270,   \"ctx\":\"initandlisten\",\"msg\":\"Storage engine to use detected by data files\",\"attr\":{\"dbpath\":\"/data/db\",\"storageEngine\":\"wiredTiger\"}}\n",
      "{\"t\":{\"$date\":\"2025-07-25T01:16:44.417+00:00\"},\"s\":\"I\",  \"c\":\"STORAGE\",  \"id\":22297,   \"ctx\":\"initandlisten\",\"msg\":\"Using the XFS filesystem is strongly recommended with the WiredTiger storage engine. See http://dochub.mongodb.org/core/prodnotes-filesystem\",\"tags\":[\"startupWarnings\"]}\n",
      "{\"t\":{\"$date\":\"2025-07-25T01:16:44.417+00:00\"},\"s\":\"I\",  \"c\":\"STORAGE\",  \"id\":22315,   \"ctx\":\"initandlisten\",\"msg\":\"Opening WiredTiger\",\"attr\":{\"config\":\"create,cache_size=1445M,session_max=33000,eviction=(threads_min=4,threads_max=4),config_base=false,statistics=(fast),log=(enabled=true,remove=true,path=journal,compressor=snappy),builtin_extension_config=(zstd=(compression_level=6)),file_manager=(close_idle_time=600,close_scan_interval=10,close_handle_minimum=2000),statistics_log=(wait=0),json_output=(error,message),verbose=[recovery_progress:1,checkpoint_progress:1,compact_progress:1,backup:0,checkpoint:0,compact:0,evict:0,history_store:0,recovery:0,rts:0,salvage:0,tiered:0,timestamp:0,transaction:0,verify:0,log:0],prefetch=(available=true,default=false),\"}}\n",
      "{\"t\":{\"$date\":\"2025-07-25T01:16:48.627+00:00\"},\"s\":\"I\",  \"c\":\"WTRECOV\",  \"id\":22430,   \"ctx\":\"initandlisten\",\"msg\":\"WiredTiger message\",\"attr\":{\"message\":{\"ts_sec\":1753406208,\"ts_usec\":625659,\"thread\":\"1:0x7030449c3680\",\"session_name\":\"txn-recover\",\"category\":\"WT_VERB_RECOVERY_PROGRESS\",\"category_id\":34,\"verbose_level\":\"DEBUG_1\",\"verbose_level_id\":1,\"msg\":\"Recovering log 18 through 19\"}}}\n",
      "{\"t\":{\"$date\":\"2025-07-25T01:17:02.662+00:00\"},\"s\":\"I\",  \"c\":\"WTRECOV\",  \"id\":22430,   \"ctx\":\"initandlisten\",\"msg\":\"WiredTiger message\",\"attr\":{\"message\":{\"ts_sec\":1753406222,\"ts_usec\":652497,\"thread\":\"1:0x7030449c3680\",\"session_name\":\"txn-recover\",\"category\":\"WT_VERB_RECOVERY_PROGRESS\",\"category_id\":34,\"verbose_level\":\"DEBUG_1\",\"verbose_level_id\":1,\"msg\":\"Recovering log 19 through 19\"}}}\n",
      "{\"t\":{\"$date\":\"2025-07-25T01:17:11.648+00:00\"},\"s\":\"I\",  \"c\":\"WTRECOV\",  \"id\":22430,   \"ctx\":\"initandlisten\",\"msg\":\"WiredTiger message\",\"attr\":{\"message\":{\"ts_sec\":1753406231,\"ts_usec\":447629,\"thread\":\"1:0x7030449c3680\",\"session_name\":\"txn-recover\",\"category\":\"WT_VERB_RECOVERY_PROGRESS\",\"category_id\":34,\"verbose_level\":\"DEBUG_1\",\"verbose_level_id\":1,\"msg\":\"Main recovery loop: starting at 18/20992 to 19/256\"}}}\n",
      "{\"t\":{\"$date\":\"2025-07-25T01:17:21.132+00:00\"},\"s\":\"I\",  \"c\":\"WTRECOV\",  \"id\":22430,   \"ctx\":\"initandlisten\",\"msg\":\"WiredTiger message\",\"attr\":{\"message\":{\"ts_sec\":1753406241,\"ts_usec\":129979,\"thread\":\"1:0x7030449c3680\",\"session_name\":\"txn-recover\",\"category\":\"WT_VERB_RECOVERY_PROGRESS\",\"category_id\":34,\"verbose_level\":\"DEBUG_1\",\"verbose_level_id\":1,\"msg\":\"Recovering log 18 through 19\"}}}\n",
      "{\"t\":{\"$date\":\"2025-07-25T01:17:21.422+00:00\"},\"s\":\"I\",  \"c\":\"WTRECOV\",  \"id\":22430,   \"ctx\":\"initandlisten\",\"msg\":\"WiredTiger message\",\"attr\":{\"message\":{\"ts_sec\":1753406241,\"ts_usec\":422236,\"thread\":\"1:0x7030449c3680\",\"session_name\":\"txn-recover\",\"category\":\"WT_VERB_RECOVERY_PROGRESS\",\"category_id\":34,\"verbose_level\":\"DEBUG_1\",\"verbose_level_id\":1,\"msg\":\"Recovering log 19 through 19\"}}}\n",
      "{\"t\":{\"$date\":\"2025-07-25T01:17:21.495+00:00\"},\"s\":\"I\",  \"c\":\"WTRECOV\",  \"id\":22430,   \"ctx\":\"initandlisten\",\"msg\":\"WiredTiger message\",\"attr\":{\"message\":{\"ts_sec\":1753406241,\"ts_usec\":495129,\"thread\":\"1:0x7030449c3680\",\"session_name\":\"txn-recover\",\"category\":\"WT_VERB_RECOVERY_PROGRESS\",\"category_id\":34,\"verbose_level\":\"DEBUG_1\",\"verbose_level_id\":1,\"msg\":\"recovery log replay has successfully finished and ran for 32910 milliseconds\"}}}\n",
      "{\"t\":{\"$date\":\"2025-07-25T01:17:21.495+00:00\"},\"s\":\"I\",  \"c\":\"WTRECOV\",  \"id\":22430,   \"ctx\":\"initandlisten\",\"msg\":\"WiredTiger message\",\"attr\":{\"message\":{\"ts_sec\":1753406241,\"ts_usec\":495634,\"thread\":\"1:0x7030449c3680\",\"session_name\":\"txn-recover\",\"category\":\"WT_VERB_RECOVERY_PROGRESS\",\"category_id\":34,\"verbose_level\":\"DEBUG_1\",\"verbose_level_id\":1,\"msg\":\"Set global recovery timestamp: (0, 0)\"}}}\n",
      "{\"t\":{\"$date\":\"2025-07-25T01:17:21.495+00:00\"},\"s\":\"I\",  \"c\":\"WTRECOV\",  \"id\":22430,   \"ctx\":\"initandlisten\",\"msg\":\"WiredTiger message\",\"attr\":{\"message\":{\"ts_sec\":1753406241,\"ts_usec\":495731,\"thread\":\"1:0x7030449c3680\",\"session_name\":\"txn-recover\",\"category\":\"WT_VERB_RECOVERY_PROGRESS\",\"category_id\":34,\"verbose_level\":\"DEBUG_1\",\"verbose_level_id\":1,\"msg\":\"Set global oldest timestamp: (0, 0)\"}}}\n",
      "{\"t\":{\"$date\":\"2025-07-25T01:17:21.502+00:00\"},\"s\":\"I\",  \"c\":\"WTRECOV\",  \"id\":22430,   \"ctx\":\"initandlisten\",\"msg\":\"WiredTiger message\",\"attr\":{\"message\":{\"ts_sec\":1753406241,\"ts_usec\":501912,\"thread\":\"1:0x7030449c3680\",\"session_name\":\"txn-recover\",\"category\":\"WT_VERB_RECOVERY_PROGRESS\",\"category_id\":34,\"verbose_level\":\"DEBUG_1\",\"verbose_level_id\":1,\"msg\":\"recovery rollback to stable has successfully finished and ran for 5 milliseconds\"}}}\n",
      "{\"t\":{\"$date\":\"2025-07-25T01:17:21.510+00:00\"},\"s\":\"I\",  \"c\":\"WTCHKPT\",  \"id\":22430,   \"ctx\":\"initandlisten\",\"msg\":\"WiredTiger message\",\"attr\":{\"message\":{\"ts_sec\":1753406241,\"ts_usec\":510390,\"thread\":\"1:0x7030449c3680\",\"session_name\":\"WT_SESSION.checkpoint\",\"category\":\"WT_VERB_CHECKPOINT_PROGRESS\",\"category_id\":7,\"verbose_level\":\"DEBUG_1\",\"verbose_level_id\":1,\"msg\":\"saving checkpoint snapshot min: 1, snapshot max: 1 snapshot count: 0, oldest timestamp: (0, 0) , meta checkpoint timestamp: (0, 0) base write gen: 3373\"}}}\n",
      "{\"t\":{\"$date\":\"2025-07-25T01:17:21.548+00:00\"},\"s\":\"I\",  \"c\":\"WTRECOV\",  \"id\":22430,   \"ctx\":\"initandlisten\",\"msg\":\"WiredTiger message\",\"attr\":{\"message\":{\"ts_sec\":1753406241,\"ts_usec\":548449,\"thread\":\"1:0x7030449c3680\",\"session_name\":\"txn-recover\",\"category\":\"WT_VERB_RECOVERY_PROGRESS\",\"category_id\":34,\"verbose_level\":\"DEBUG_1\",\"verbose_level_id\":1,\"msg\":\"recovery checkpoint has successfully finished and ran for 44 milliseconds\"}}}\n",
      "{\"t\":{\"$date\":\"2025-07-25T01:17:21.548+00:00\"},\"s\":\"I\",  \"c\":\"WTRECOV\",  \"id\":22430,   \"ctx\":\"initandlisten\",\"msg\":\"WiredTiger message\",\"attr\":{\"message\":{\"ts_sec\":1753406241,\"ts_usec\":548734,\"thread\":\"1:0x7030449c3680\",\"session_name\":\"txn-recover\",\"category\":\"WT_VERB_RECOVERY_PROGRESS\",\"category_id\":34,\"verbose_level\":\"DEBUG_1\",\"verbose_level_id\":1,\"msg\":\"recovery was completed successfully and took 32964ms, including 32910ms for the log replay, 5ms for the rollback to stable, and 44ms for the checkpoint.\"}}}\n",
      "{\"t\":{\"$date\":\"2025-07-25T01:17:21.566+00:00\"},\"s\":\"I\",  \"c\":\"STORAGE\",  \"id\":4795906, \"ctx\":\"initandlisten\",\"msg\":\"WiredTiger opened\",\"attr\":{\"durationMillis\":37149}}\n",
      "{\"t\":{\"$date\":\"2025-07-25T01:17:21.566+00:00\"},\"s\":\"I\",  \"c\":\"RECOVERY\", \"id\":23987,   \"ctx\":\"initandlisten\",\"msg\":\"WiredTiger recoveryTimestamp\",\"attr\":{\"recoveryTimestamp\":{\"$timestamp\":{\"t\":0,\"i\":0}}}}\n",
      "{\"t\":{\"$date\":\"2025-07-25T01:17:21.574+00:00\"},\"s\":\"I\",  \"c\":\"STORAGE\",  \"id\":9529901, \"ctx\":\"initandlisten\",\"msg\":\"Initializing durable catalog\",\"attr\":{\"numRecords\":4}}\n",
      "{\"t\":{\"$date\":\"2025-07-25T01:17:21.579+00:00\"},\"s\":\"I\",  \"c\":\"STORAGE\",  \"id\":9529902, \"ctx\":\"initandlisten\",\"msg\":\"Retrieving all idents from storage engine\"}\n",
      "{\"t\":{\"$date\":\"2025-07-25T01:17:21.580+00:00\"},\"s\":\"I\",  \"c\":\"STORAGE\",  \"id\":9529903, \"ctx\":\"initandlisten\",\"msg\":\"Initializing all collections in durable catalog\",\"attr\":{\"numEntries\":4}}\n",
      "{\"t\":{\"$date\":\"2025-07-25T01:17:21.607+00:00\"},\"s\":\"W\",  \"c\":\"CONTROL\",  \"id\":22120,   \"ctx\":\"initandlisten\",\"msg\":\"Access control is not enabled for the database. Read and write access to data and configuration is unrestricted\",\"tags\":[\"startupWarnings\"]}\n",
      "{\"t\":{\"$date\":\"2025-07-25T01:17:21.608+00:00\"},\"s\":\"W\",  \"c\":\"CONTROL\",  \"id\":9068900, \"ctx\":\"initandlisten\",\"msg\":\"For customers running the current memory allocator, we suggest changing the contents of the following sysfsFile\",\"attr\":{\"allocator\":\"tcmalloc-google\",\"sysfsFile\":\"/sys/kernel/mm/transparent_hugepage/enabled\",\"currentValue\":\"never\",\"desiredValue\":\"always\"},\"tags\":[\"startupWarnings\"]}\n",
      "{\"t\":{\"$date\":\"2025-07-25T01:17:21.608+00:00\"},\"s\":\"W\",  \"c\":\"CONTROL\",  \"id\":9068900, \"ctx\":\"initandlisten\",\"msg\":\"For customers running the current memory allocator, we suggest changing the contents of the following sysfsFile\",\"attr\":{\"allocator\":\"tcmalloc-google\",\"sysfsFile\":\"/sys/kernel/mm/transparent_hugepage/defrag\",\"currentValue\":\"madvise\",\"desiredValue\":\"defer+madvise\"},\"tags\":[\"startupWarnings\"]}\n",
      "{\"t\":{\"$date\":\"2025-07-25T01:17:21.608+00:00\"},\"s\":\"W\",  \"c\":\"CONTROL\",  \"id\":8640302, \"ctx\":\"initandlisten\",\"msg\":\"We suggest setting the contents of sysfsFile to 0.\",\"attr\":{\"sysfsFile\":\"/sys/kernel/mm/transparent_hugepage/khugepaged/max_ptes_none\",\"currentValue\":511},\"tags\":[\"startupWarnings\"]}\n",
      "{\"t\":{\"$date\":\"2025-07-25T01:17:21.608+00:00\"},\"s\":\"W\",  \"c\":\"NETWORK\",  \"id\":5123300, \"ctx\":\"initandlisten\",\"msg\":\"vm.max_map_count is too low\",\"attr\":{\"currentValue\":262144,\"recommendedMinimum\":1677720,\"maxConns\":838860},\"tags\":[\"startupWarnings\"]}\n",
      "{\"t\":{\"$date\":\"2025-07-25T01:17:21.608+00:00\"},\"s\":\"W\",  \"c\":\"CONTROL\",  \"id\":8386700, \"ctx\":\"initandlisten\",\"msg\":\"We suggest setting swappiness to 0 or 1, as swapping can cause performance problems.\",\"attr\":{\"sysfsFile\":\"/proc/sys/vm/swappiness\",\"currentValue\":60},\"tags\":[\"startupWarnings\"]}\n",
      "{\"t\":{\"$date\":\"2025-07-25T01:17:21.616+00:00\"},\"s\":\"I\",  \"c\":\"NETWORK\",  \"id\":4915702, \"ctx\":\"initandlisten\",\"msg\":\"Updated wire specification\",\"attr\":{\"oldSpec\":{\"incomingExternalClient\":{\"minWireVersion\":0,\"maxWireVersion\":25},\"incomingInternalClient\":{\"minWireVersion\":0,\"maxWireVersion\":25},\"outgoing\":{\"minWireVersion\":6,\"maxWireVersion\":25},\"isInternalClient\":true},\"newSpec\":{\"incomingExternalClient\":{\"minWireVersion\":0,\"maxWireVersion\":25},\"incomingInternalClient\":{\"minWireVersion\":25,\"maxWireVersion\":25},\"outgoing\":{\"minWireVersion\":25,\"maxWireVersion\":25},\"isInternalClient\":true}}}\n",
      "{\"t\":{\"$date\":\"2025-07-25T01:17:21.616+00:00\"},\"s\":\"I\",  \"c\":\"REPL\",     \"id\":5853300, \"ctx\":\"initandlisten\",\"msg\":\"current featureCompatibilityVersion value\",\"attr\":{\"featureCompatibilityVersion\":\"8.0\",\"context\":\"startup\"}}\n",
      "{\"t\":{\"$date\":\"2025-07-25T01:17:21.617+00:00\"},\"s\":\"I\",  \"c\":\"STORAGE\",  \"id\":5071100, \"ctx\":\"initandlisten\",\"msg\":\"Clearing temp directory\"}\n",
      "{\"t\":{\"$date\":\"2025-07-25T01:17:21.619+00:00\"},\"s\":\"I\",  \"c\":\"CONTROL\",  \"id\":6608200, \"ctx\":\"initandlisten\",\"msg\":\"Initializing cluster server parameters from disk\"}\n",
      "{\"t\":{\"$date\":\"2025-07-25T01:17:21.620+00:00\"},\"s\":\"I\",  \"c\":\"CONTROL\",  \"id\":20536,   \"ctx\":\"initandlisten\",\"msg\":\"Flow Control is enabled on this deployment\"}\n",
      "{\"t\":{\"$date\":\"2025-07-25T01:17:21.623+00:00\"},\"s\":\"I\",  \"c\":\"FTDC\",     \"id\":20625,   \"ctx\":\"initandlisten\",\"msg\":\"Initializing full-time diagnostic data capture\",\"attr\":{\"dataDirectory\":\"/data/db/diagnostic.data\"}}\n",
      "{\"t\":{\"$date\":\"2025-07-25T01:17:21.637+00:00\"},\"s\":\"I\",  \"c\":\"REPL\",     \"id\":6015317, \"ctx\":\"initandlisten\",\"msg\":\"Setting new configuration state\",\"attr\":{\"newState\":\"ConfigReplicationDisabled\",\"oldState\":\"ConfigPreStart\"}}\n",
      "{\"t\":{\"$date\":\"2025-07-25T01:17:21.639+00:00\"},\"s\":\"I\",  \"c\":\"STORAGE\",  \"id\":22262,   \"ctx\":\"initandlisten\",\"msg\":\"Timestamp monitor starting\"}\n",
      "{\"t\":{\"$date\":\"2025-07-25T01:17:21.645+00:00\"},\"s\":\"I\",  \"c\":\"STORAGE\",  \"id\":7333401, \"ctx\":\"initandlisten\",\"msg\":\"Starting the DiskSpaceMonitor\"}\n",
      "{\"t\":{\"$date\":\"2025-07-25T01:17:21.705+00:00\"},\"s\":\"I\",  \"c\":\"NETWORK\",  \"id\":23015,   \"ctx\":\"listener\",\"msg\":\"Listening on\",\"attr\":{\"address\":\"/tmp/mongodb-27017.sock\"}}\n",
      "{\"t\":{\"$date\":\"2025-07-25T01:17:21.705+00:00\"},\"s\":\"I\",  \"c\":\"NETWORK\",  \"id\":23015,   \"ctx\":\"listener\",\"msg\":\"Listening on\",\"attr\":{\"address\":\"0.0.0.0:27017\"}}\n",
      "{\"t\":{\"$date\":\"2025-07-25T01:17:21.705+00:00\"},\"s\":\"I\",  \"c\":\"NETWORK\",  \"id\":23016,   \"ctx\":\"listener\",\"msg\":\"Waiting for connections\",\"attr\":{\"port\":27017,\"ssl\":\"off\"}}\n",
      "{\"t\":{\"$date\":\"2025-07-25T01:17:21.706+00:00\"},\"s\":\"I\",  \"c\":\"CONTROL\",  \"id\":8423403, \"ctx\":\"initandlisten\",\"msg\":\"mongod startup complete\",\"attr\":{\"Summary of time elapsed\":{\"Startup from clean shutdown?\":true,\"Statistics\":{\"Set up periodic runner\":\"0 ms\",\"Set up online certificate status protocol manager\":\"0 ms\",\"Transport layer setup\":\"0 ms\",\"Run initial syncer crash recovery\":\"0 ms\",\"Create storage engine lock file in the data directory\":\"0 ms\",\"Get metadata describing storage engine\":\"0 ms\",\"Validate options in metadata against current startup options\":\"0 ms\",\"Create storage engine\":\"37165 ms\",\"Write current PID to file\":\"25 ms\",\"Initialize FCV before rebuilding indexes\":\"8 ms\",\"Drop abandoned idents and get back indexes that need to be rebuilt or builds that need to be restarted\":\"1 ms\",\"Rebuild indexes for collections\":\"0 ms\",\"Load cluster parameters from disk for a standalone\":\"1 ms\",\"Build user and roles graph\":\"0 ms\",\"Set up the background thread pool responsible for waiting for opTimes to be majority committed\":\"1 ms\",\"Start up the replication coordinator\":\"0 ms\",\"Ensure the change stream collections on startup contain consistent data\":\"0 ms\",\"Write startup options to the audit log\":\"0 ms\",\"Start transport layer\":\"4 ms\",\"_initAndListen total elapsed time\":\"37322 ms\"}}}}\n",
      "{\"t\":{\"$date\":\"2025-07-25T01:17:22.056+00:00\"},\"s\":\"W\",  \"c\":\"CONTROL\",  \"id\":636300,  \"ctx\":\"ftdc\",\"msg\":\"Use of deprecated server parameter name\",\"attr\":{\"deprecatedName\":\"internalQueryCacheSize\",\"canonicalName\":\"internalQueryCacheMaxEntriesPerCollection\"}}\n",
      "{\"t\":{\"$date\":\"2025-07-25T01:17:22.057+00:00\"},\"s\":\"W\",  \"c\":\"CONTROL\",  \"id\":636300,  \"ctx\":\"ftdc\",\"msg\":\"Use of deprecated server parameter name\",\"attr\":{\"deprecatedName\":\"oplogSamplingLogIntervalSeconds\",\"canonicalName\":\"collectionSamplingLogIntervalSeconds\"}}\n",
      "{\"t\":{\"$date\":\"2025-07-25T01:17:22.058+00:00\"},\"s\":\"W\",  \"c\":\"NETWORK\",  \"id\":23803,   \"ctx\":\"ftdc\",\"msg\":\"Use of deprecated server parameter 'sslMode', please use 'tlsMode' instead.\"}\n",
      "{\"t\":{\"$date\":\"2025-07-25T01:17:22.058+00:00\"},\"s\":\"W\",  \"c\":\"CONTROL\",  \"id\":636300,  \"ctx\":\"ftdc\",\"msg\":\"Use of deprecated server parameter name\",\"attr\":{\"deprecatedName\":\"wiredTigerConcurrentReadTransactions\",\"canonicalName\":\"storageEngineConcurrentReadTransactions\"}}\n",
      "{\"t\":{\"$date\":\"2025-07-25T01:17:22.058+00:00\"},\"s\":\"W\",  \"c\":\"CONTROL\",  \"id\":636300,  \"ctx\":\"ftdc\",\"msg\":\"Use of deprecated server parameter name\",\"attr\":{\"deprecatedName\":\"wiredTigerConcurrentWriteTransactions\",\"canonicalName\":\"storageEngineConcurrentWriteTransactions\"}}\n",
      "{\"t\":{\"$date\":\"2025-07-25T01:18:21.665+00:00\"},\"s\":\"I\",  \"c\":\"WTCHKPT\",  \"id\":22430,   \"ctx\":\"Checkpointer\",\"msg\":\"WiredTiger message\",\"attr\":{\"message\":{\"ts_sec\":1753406301,\"ts_usec\":664677,\"thread\":\"1:0x7030361826c0\",\"session_name\":\"WT_SESSION.checkpoint\",\"category\":\"WT_VERB_CHECKPOINT_PROGRESS\",\"category_id\":7,\"verbose_level\":\"DEBUG_1\",\"verbose_level_id\":1,\"msg\":\"saving checkpoint snapshot min: 4, snapshot max: 4 snapshot count: 0, oldest timestamp: (0, 0) , meta checkpoint timestamp: (0, 0) base write gen: 3373\"}}}\n",
      "{\"t\":{\"$date\":\"2025-07-25T01:19:21.732+00:00\"},\"s\":\"I\",  \"c\":\"WTCHKPT\",  \"id\":22430,   \"ctx\":\"Checkpointer\",\"msg\":\"WiredTiger message\",\"attr\":{\"message\":{\"ts_sec\":1753406361,\"ts_usec\":735957,\"thread\":\"1:0x7030361826c0\",\"session_name\":\"WT_SESSION.checkpoint\",\"category\":\"WT_VERB_CHECKPOINT_PROGRESS\",\"category_id\":7,\"verbose_level\":\"DEBUG_1\",\"verbose_level_id\":1,\"msg\":\"saving checkpoint snapshot min: 5, snapshot max: 5 snapshot count: 0, oldest timestamp: (0, 0) , meta checkpoint timestamp: (0, 0) base write gen: 3373\"}}}\n",
      "{\"t\":{\"$date\":\"2025-07-25T01:20:21.760+00:00\"},\"s\":\"I\",  \"c\":\"WTCHKPT\",  \"id\":22430,   \"ctx\":\"Checkpointer\",\"msg\":\"WiredTiger message\",\"attr\":{\"message\":{\"ts_sec\":1753406421,\"ts_usec\":759504,\"thread\":\"1:0x7030361826c0\",\"session_name\":\"WT_SESSION.checkpoint\",\"category\":\"WT_VERB_CHECKPOINT_PROGRESS\",\"category_id\":7,\"verbose_level\":\"DEBUG_1\",\"verbose_level_id\":1,\"msg\":\"saving checkpoint snapshot min: 6, snapshot max: 6 snapshot count: 0, oldest timestamp: (0, 0) , meta checkpoint timestamp: (0, 0) base write gen: 3373\"}}}\n",
      "{\"t\":{\"$date\":\"2025-07-25T01:21:21.768+00:00\"},\"s\":\"I\",  \"c\":\"WTCHKPT\",  \"id\":22430,   \"ctx\":\"Checkpointer\",\"msg\":\"WiredTiger message\",\"attr\":{\"message\":{\"ts_sec\":1753406481,\"ts_usec\":767264,\"thread\":\"1:0x7030361826c0\",\"session_name\":\"WT_SESSION.checkpoint\",\"category\":\"WT_VERB_CHECKPOINT_PROGRESS\",\"category_id\":7,\"verbose_level\":\"DEBUG_1\",\"verbose_level_id\":1,\"msg\":\"saving checkpoint snapshot min: 7, snapshot max: 7 snapshot count: 0, oldest timestamp: (0, 0) , meta checkpoint timestamp: (0, 0) base write gen: 3373\"}}}\n",
      "{\"t\":{\"$date\":\"2025-07-25T01:22:21.794+00:00\"},\"s\":\"I\",  \"c\":\"WTCHKPT\",  \"id\":22430,   \"ctx\":\"Checkpointer\",\"msg\":\"WiredTiger message\",\"attr\":{\"message\":{\"ts_sec\":1753406541,\"ts_usec\":791132,\"thread\":\"1:0x7030361826c0\",\"session_name\":\"WT_SESSION.checkpoint\",\"category\":\"WT_VERB_CHECKPOINT_PROGRESS\",\"category_id\":7,\"verbose_level\":\"DEBUG_1\",\"verbose_level_id\":1,\"msg\":\"saving checkpoint snapshot min: 8, snapshot max: 8 snapshot count: 0, oldest timestamp: (0, 0) , meta checkpoint timestamp: (0, 0) base write gen: 3373\"}}}\n",
      "{\"t\":{\"$date\":\"2025-07-25T01:23:21.838+00:00\"},\"s\":\"I\",  \"c\":\"WTCHKPT\",  \"id\":22430,   \"ctx\":\"Checkpointer\",\"msg\":\"WiredTiger message\",\"attr\":{\"message\":{\"ts_sec\":1753406601,\"ts_usec\":830845,\"thread\":\"1:0x7030361826c0\",\"session_name\":\"WT_SESSION.checkpoint\",\"category\":\"WT_VERB_CHECKPOINT_PROGRESS\",\"category_id\":7,\"verbose_level\":\"DEBUG_1\",\"verbose_level_id\":1,\"msg\":\"saving checkpoint snapshot min: 9, snapshot max: 9 snapshot count: 0, oldest timestamp: (0, 0) , meta checkpoint timestamp: (0, 0) base write gen: 3373\"}}}\n",
      "{\"t\":{\"$date\":\"2025-07-25T01:24:21.886+00:00\"},\"s\":\"I\",  \"c\":\"WTCHKPT\",  \"id\":22430,   \"ctx\":\"Checkpointer\",\"msg\":\"WiredTiger message\",\"attr\":{\"message\":{\"ts_sec\":1753406661,\"ts_usec\":885783,\"thread\":\"1:0x7030361826c0\",\"session_name\":\"WT_SESSION.checkpoint\",\"category\":\"WT_VERB_CHECKPOINT_PROGRESS\",\"category_id\":7,\"verbose_level\":\"DEBUG_1\",\"verbose_level_id\":1,\"msg\":\"saving checkpoint snapshot min: 10, snapshot max: 10 snapshot count: 0, oldest timestamp: (0, 0) , meta checkpoint timestamp: (0, 0) base write gen: 3373\"}}}\n",
      "{\"t\":{\"$date\":\"2025-07-25T01:25:21.919+00:00\"},\"s\":\"I\",  \"c\":\"WTCHKPT\",  \"id\":22430,   \"ctx\":\"Checkpointer\",\"msg\":\"WiredTiger message\",\"attr\":{\"message\":{\"ts_sec\":1753406721,\"ts_usec\":918967,\"thread\":\"1:0x7030361826c0\",\"session_name\":\"WT_SESSION.checkpoint\",\"category\":\"WT_VERB_CHECKPOINT_PROGRESS\",\"category_id\":7,\"verbose_level\":\"DEBUG_1\",\"verbose_level_id\":1,\"msg\":\"saving checkpoint snapshot min: 11, snapshot max: 11 snapshot count: 0, oldest timestamp: (0, 0) , meta checkpoint timestamp: (0, 0) base write gen: 3373\"}}}\n",
      "{\"t\":{\"$date\":\"2025-07-25T01:26:21.946+00:00\"},\"s\":\"I\",  \"c\":\"WTCHKPT\",  \"id\":22430,   \"ctx\":\"Checkpointer\",\"msg\":\"WiredTiger message\",\"attr\":{\"message\":{\"ts_sec\":1753406781,\"ts_usec\":945705,\"thread\":\"1:0x7030361826c0\",\"session_name\":\"WT_SESSION.checkpoint\",\"category\":\"WT_VERB_CHECKPOINT_PROGRESS\",\"category_id\":7,\"verbose_level\":\"DEBUG_1\",\"verbose_level_id\":1,\"msg\":\"saving checkpoint snapshot min: 12, snapshot max: 12 snapshot count: 0, oldest timestamp: (0, 0) , meta checkpoint timestamp: (0, 0) base write gen: 3373\"}}}\n",
      "{\"t\":{\"$date\":\"2025-07-25T01:27:21.973+00:00\"},\"s\":\"I\",  \"c\":\"WTCHKPT\",  \"id\":22430,   \"ctx\":\"Checkpointer\",\"msg\":\"WiredTiger message\",\"attr\":{\"message\":{\"ts_sec\":1753406841,\"ts_usec\":971221,\"thread\":\"1:0x7030361826c0\",\"session_name\":\"WT_SESSION.checkpoint\",\"category\":\"WT_VERB_CHECKPOINT_PROGRESS\",\"category_id\":7,\"verbose_level\":\"DEBUG_1\",\"verbose_level_id\":1,\"msg\":\"saving checkpoint snapshot min: 13, snapshot max: 13 snapshot count: 0, oldest timestamp: (0, 0) , meta checkpoint timestamp: (0, 0) base write gen: 3373\"}}}\n",
      "{\"t\":{\"$date\":\"2025-07-25T01:28:21.739+00:00\"},\"s\":\"I\",  \"c\":\"COMMAND\",  \"id\":23099,   \"ctx\":\"PeriodicTaskRunner\",\"msg\":\"Task finished\",\"attr\":{\"taskName\":\"UnusedLockCleaner\",\"durationMillis\":137}}\n",
      "{\"t\":{\"$date\":\"2025-07-25T01:28:22.151+00:00\"},\"s\":\"I\",  \"c\":\"WTCHKPT\",  \"id\":22430,   \"ctx\":\"Checkpointer\",\"msg\":\"WiredTiger message\",\"attr\":{\"message\":{\"ts_sec\":1753406902,\"ts_usec\":144377,\"thread\":\"1:0x7030361826c0\",\"session_name\":\"WT_SESSION.checkpoint\",\"category\":\"WT_VERB_CHECKPOINT_PROGRESS\",\"category_id\":7,\"verbose_level\":\"DEBUG_1\",\"verbose_level_id\":1,\"msg\":\"saving checkpoint snapshot min: 14, snapshot max: 14 snapshot count: 0, oldest timestamp: (0, 0) , meta checkpoint timestamp: (0, 0) base write gen: 3373\"}}}\n",
      "---Previous logs for product-service-db-98d6fb46d-m54d7---\n"
     ]
    },
    {
     "name": "stderr",
     "output_type": "stream",
     "text": [
      "Error from server (BadRequest): previous terminated container \"product-service-db\" in pod \"product-service-db-98d6fb46d-m54d7\" not found\n"
     ]
    }
   ],
   "source": [
    "# Display logs for product-service-db pods in the my-services namespace\n",
    "import subprocess\n",
    "\n",
    "label = \"product-service-db\"\n",
    "namespace = \"my-services\"\n",
    "command = f\"kubectl get pods -l app.kubernetes.io/name={label} -n {namespace} -o custom-columns=NAME:.metadata.name --no-headers\"\n",
    "\n",
    "pod = subprocess.check_output(command, shell=True, text=True).strip()\n",
    "\n",
    "!echo ---Logs for {pod}---\n",
    "!kubectl logs {pod} -n {namespace}\n",
    "!echo ---Previous logs for {pod}---\n",
    "!kubectl logs {pod} -n {namespace} --previous"
   ]
  },
  {
   "cell_type": "code",
   "execution_count": 147,
   "id": "ba97aac4",
   "metadata": {
    "vscode": {
     "languageId": "bat"
    }
   },
   "outputs": [
    {
     "name": "stdout",
     "output_type": "stream",
     "text": [
      "---Logs for web-interface-7c494cc897-4cncs---\n",
      "/docker-entrypoint.sh: /docker-entrypoint.d/ is not empty, will attempt to perform configuration\n",
      "/docker-entrypoint.sh: Looking for shell scripts in /docker-entrypoint.d/\n",
      "/docker-entrypoint.sh: Launching /docker-entrypoint.d/10-listen-on-ipv6-by-default.sh\n",
      "10-listen-on-ipv6-by-default.sh: info: Getting the checksum of /etc/nginx/conf.d/default.conf\n",
      "10-listen-on-ipv6-by-default.sh: info: /etc/nginx/conf.d/default.conf differs from the packaged version\n",
      "/docker-entrypoint.sh: Sourcing /docker-entrypoint.d/15-local-resolvers.envsh\n",
      "/docker-entrypoint.sh: Launching /docker-entrypoint.d/20-envsubst-on-templates.sh\n",
      "/docker-entrypoint.sh: Launching /docker-entrypoint.d/30-tune-worker-processes.sh\n",
      "/docker-entrypoint.sh: Configuration complete; ready for start up\n",
      "2025/07/25 01:15:57 [notice] 1#1: using the \"epoll\" event method\n",
      "2025/07/25 01:15:57 [notice] 1#1: nginx/1.29.0\n",
      "2025/07/25 01:15:57 [notice] 1#1: built by gcc 14.2.0 (Alpine 14.2.0) \n",
      "2025/07/25 01:15:57 [notice] 1#1: OS: Linux 6.6.87.2-microsoft-standard-WSL2\n",
      "2025/07/25 01:15:57 [notice] 1#1: getrlimit(RLIMIT_NOFILE): 1048576:1048576\n",
      "2025/07/25 01:15:57 [notice] 1#1: start worker processes\n",
      "2025/07/25 01:15:57 [notice] 1#1: start worker process 28\n",
      "2025/07/25 01:15:57 [notice] 1#1: start worker process 29\n",
      "2025/07/25 01:15:57 [notice] 1#1: start worker process 30\n",
      "2025/07/25 01:15:57 [notice] 1#1: start worker process 31\n",
      "2025/07/25 01:15:57 [notice] 1#1: start worker process 32\n",
      "2025/07/25 01:15:57 [notice] 1#1: start worker process 33\n",
      "2025/07/25 01:15:57 [notice] 1#1: start worker process 34\n",
      "2025/07/25 01:15:57 [notice] 1#1: start worker process 35\n",
      "10.1.1.34 - - [25/Jul/2025:01:17:11 +0000] \"GET /login HTTP/1.1\" 200 644 \"-\" \"Mozilla/5.0 (Windows NT 10.0; Win64; x64) AppleWebKit/537.36 (KHTML, like Gecko) Chrome/138.0.0.0 Safari/537.36 Edg/138.0.0.0\" \"192.168.65.3\"\n",
      "10.1.1.34 - - [25/Jul/2025:01:17:11 +0000] \"GET /static/css/main.f855e6bc.css HTTP/1.1\" 200 779 \"http://localhost:32000/login\" \"Mozilla/5.0 (Windows NT 10.0; Win64; x64) AppleWebKit/537.36 (KHTML, like Gecko) Chrome/138.0.0.0 Safari/537.36 Edg/138.0.0.0\" \"192.168.65.3\"\n",
      "10.1.1.34 - - [25/Jul/2025:01:17:11 +0000] \"GET /static/js/main.b2b75e46.js HTTP/1.1\" 200 268827 \"http://localhost:32000/login\" \"Mozilla/5.0 (Windows NT 10.0; Win64; x64) AppleWebKit/537.36 (KHTML, like Gecko) Chrome/138.0.0.0 Safari/537.36 Edg/138.0.0.0\" \"192.168.65.3\"\n",
      "10.1.1.34 - - [25/Jul/2025:01:17:12 +0000] \"GET /.well-known/appspecific/com.chrome.devtools.json HTTP/1.1\" 200 644 \"-\" \"Mozilla/5.0 (Windows NT 10.0; Win64; x64) AppleWebKit/537.36 (KHTML, like Gecko) Chrome/138.0.0.0 Safari/537.36 Edg/138.0.0.0\" \"192.168.65.3\"\n",
      "10.1.1.34 - - [25/Jul/2025:01:17:14 +0000] \"GET /static/css/main.f855e6bc.css.map HTTP/1.1\" 200 1427 \"-\" \"Mozilla/5.0 (Windows NT 10.0; Win64; x64) AppleWebKit/537.36 (KHTML, like Gecko) Chrome/138.0.0.0 Safari/537.36 Edg/138.0.0.0\" \"192.168.65.3\"\n",
      "10.1.1.34 - - [25/Jul/2025:01:17:14 +0000] \"POST /api/v1/users/login HTTP/1.1\" 405 559 \"http://localhost:32000/login\" \"Mozilla/5.0 (Windows NT 10.0; Win64; x64) AppleWebKit/537.36 (KHTML, like Gecko) Chrome/138.0.0.0 Safari/537.36 Edg/138.0.0.0\" \"192.168.65.3\"\n",
      "10.1.1.34 - - [25/Jul/2025:01:17:12 +0000] \"GET /static/js/main.b2b75e46.js.map HTTP/1.1\" 200 1465363 \"-\" \"Mozilla/5.0 (Windows NT 10.0; Win64; x64) AppleWebKit/537.36 (KHTML, like Gecko) Chrome/138.0.0.0 Safari/537.36 Edg/138.0.0.0\" \"192.168.65.3\"\n",
      "10.1.1.34 - - [25/Jul/2025:01:17:14 +0000] \"GET /manifest.json HTTP/1.1\" 200 492 \"http://localhost:32000/login\" \"Mozilla/5.0 (Windows NT 10.0; Win64; x64) AppleWebKit/537.36 (KHTML, like Gecko) Chrome/138.0.0.0 Safari/537.36 Edg/138.0.0.0\" \"192.168.65.3\"\n",
      "10.1.1.34 - - [25/Jul/2025:01:17:14 +0000] \"GET /favicon.ico HTTP/1.1\" 200 3870 \"http://localhost:32000/login\" \"Mozilla/5.0 (Windows NT 10.0; Win64; x64) AppleWebKit/537.36 (KHTML, like Gecko) Chrome/138.0.0.0 Safari/537.36 Edg/138.0.0.0\" \"192.168.65.3\"\n",
      "10.1.1.34 - - [25/Jul/2025:01:17:14 +0000] \"GET /logo192.png HTTP/1.1\" 200 5347 \"http://localhost:32000/login\" \"Mozilla/5.0 (Windows NT 10.0; Win64; x64) AppleWebKit/537.36 (KHTML, like Gecko) Chrome/138.0.0.0 Safari/537.36 Edg/138.0.0.0\" \"192.168.65.3\"\n",
      "10.1.1.34 - - [25/Jul/2025:01:28:28 +0000] \"GET /login HTTP/1.1\" 304 0 \"-\" \"Mozilla/5.0 (Windows NT 10.0; Win64; x64) AppleWebKit/537.36 (KHTML, like Gecko) Chrome/138.0.0.0 Safari/537.36 Edg/138.0.0.0\" \"192.168.65.3\"\n",
      "10.1.1.34 - - [25/Jul/2025:01:28:28 +0000] \"GET /static/js/main.b2b75e46.js HTTP/1.1\" 304 0 \"http://localhost:32000/login\" \"Mozilla/5.0 (Windows NT 10.0; Win64; x64) AppleWebKit/537.36 (KHTML, like Gecko) Chrome/138.0.0.0 Safari/537.36 Edg/138.0.0.0\" \"192.168.65.3\"\n",
      "10.1.1.34 - - [25/Jul/2025:01:28:28 +0000] \"GET /static/css/main.f855e6bc.css HTTP/1.1\" 304 0 \"http://localhost:32000/login\" \"Mozilla/5.0 (Windows NT 10.0; Win64; x64) AppleWebKit/537.36 (KHTML, like Gecko) Chrome/138.0.0.0 Safari/537.36 Edg/138.0.0.0\" \"192.168.65.3\"\n",
      "10.1.1.34 - - [25/Jul/2025:01:28:28 +0000] \"GET /.well-known/appspecific/com.chrome.devtools.json HTTP/1.1\" 304 0 \"-\" \"Mozilla/5.0 (Windows NT 10.0; Win64; x64) AppleWebKit/537.36 (KHTML, like Gecko) Chrome/138.0.0.0 Safari/537.36 Edg/138.0.0.0\" \"192.168.65.3\"\n",
      "10.1.1.34 - - [25/Jul/2025:01:28:28 +0000] \"GET /static/css/main.f855e6bc.css.map HTTP/1.1\" 304 0 \"-\" \"Mozilla/5.0 (Windows NT 10.0; Win64; x64) AppleWebKit/537.36 (KHTML, like Gecko) Chrome/138.0.0.0 Safari/537.36 Edg/138.0.0.0\" \"192.168.65.3\"\n",
      "10.1.1.34 - - [25/Jul/2025:01:28:28 +0000] \"GET /favicon.ico HTTP/1.1\" 304 0 \"http://localhost:32000/login\" \"Mozilla/5.0 (Windows NT 10.0; Win64; x64) AppleWebKit/537.36 (KHTML, like Gecko) Chrome/138.0.0.0 Safari/537.36 Edg/138.0.0.0\" \"192.168.65.3\"\n",
      "10.1.1.34 - - [25/Jul/2025:01:28:28 +0000] \"GET /static/js/main.b2b75e46.js.map HTTP/1.1\" 304 0 \"-\" \"Mozilla/5.0 (Windows NT 10.0; Win64; x64) AppleWebKit/537.36 (KHTML, like Gecko) Chrome/138.0.0.0 Safari/537.36 Edg/138.0.0.0\" \"192.168.65.3\"\n",
      "10.1.1.34 - - [25/Jul/2025:01:28:29 +0000] \"GET /manifest.json HTTP/1.1\" 304 0 \"http://localhost:32000/login\" \"Mozilla/5.0 (Windows NT 10.0; Win64; x64) AppleWebKit/537.36 (KHTML, like Gecko) Chrome/138.0.0.0 Safari/537.36 Edg/138.0.0.0\" \"192.168.65.3\"\n",
      "10.1.1.34 - - [25/Jul/2025:01:28:29 +0000] \"GET /logo192.png HTTP/1.1\" 304 0 \"http://localhost:32000/login\" \"Mozilla/5.0 (Windows NT 10.0; Win64; x64) AppleWebKit/537.36 (KHTML, like Gecko) Chrome/138.0.0.0 Safari/537.36 Edg/138.0.0.0\" \"192.168.65.3\"\n",
      "10.1.1.34 - - [25/Jul/2025:01:29:49 +0000] \"GET /login HTTP/1.1\" 304 0 \"-\" \"Mozilla/5.0 (Windows NT 10.0; Win64; x64) AppleWebKit/537.36 (KHTML, like Gecko) Chrome/138.0.0.0 Safari/537.36 Edg/138.0.0.0\" \"192.168.65.3\"\n",
      "10.1.1.34 - - [25/Jul/2025:01:29:49 +0000] \"GET /static/js/main.b2b75e46.js HTTP/1.1\" 304 0 \"http://localhost:32000/login\" \"Mozilla/5.0 (Windows NT 10.0; Win64; x64) AppleWebKit/537.36 (KHTML, like Gecko) Chrome/138.0.0.0 Safari/537.36 Edg/138.0.0.0\" \"192.168.65.3\"\n",
      "10.1.1.34 - - [25/Jul/2025:01:29:49 +0000] \"GET /.well-known/appspecific/com.chrome.devtools.json HTTP/1.1\" 304 0 \"-\" \"Mozilla/5.0 (Windows NT 10.0; Win64; x64) AppleWebKit/537.36 (KHTML, like Gecko) Chrome/138.0.0.0 Safari/537.36 Edg/138.0.0.0\" \"192.168.65.3\"\n",
      "10.1.1.34 - - [25/Jul/2025:01:29:49 +0000] \"GET /static/css/main.f855e6bc.css HTTP/1.1\" 304 0 \"http://localhost:32000/login\" \"Mozilla/5.0 (Windows NT 10.0; Win64; x64) AppleWebKit/537.36 (KHTML, like Gecko) Chrome/138.0.0.0 Safari/537.36 Edg/138.0.0.0\" \"192.168.65.3\"\n",
      "10.1.1.34 - - [25/Jul/2025:01:29:49 +0000] \"GET /static/css/main.f855e6bc.css.map HTTP/1.1\" 304 0 \"-\" \"Mozilla/5.0 (Windows NT 10.0; Win64; x64) AppleWebKit/537.36 (KHTML, like Gecko) Chrome/138.0.0.0 Safari/537.36 Edg/138.0.0.0\" \"192.168.65.3\"\n",
      "10.1.1.34 - - [25/Jul/2025:01:29:49 +0000] \"GET /static/js/main.b2b75e46.js.map HTTP/1.1\" 304 0 \"-\" \"Mozilla/5.0 (Windows NT 10.0; Win64; x64) AppleWebKit/537.36 (KHTML, like Gecko) Chrome/138.0.0.0 Safari/537.36 Edg/138.0.0.0\" \"192.168.65.3\"\n",
      "10.1.1.34 - - [25/Jul/2025:01:29:49 +0000] \"GET /login HTTP/1.1\" 304 0 \"-\" \"Mozilla/5.0 (Windows NT 10.0; Win64; x64) AppleWebKit/537.36 (KHTML, like Gecko) Chrome/138.0.0.0 Safari/537.36 Edg/138.0.0.0\" \"192.168.65.3\"\n",
      "10.1.1.34 - - [25/Jul/2025:01:29:49 +0000] \"GET /login HTTP/1.1\" 304 0 \"-\" \"Mozilla/5.0 (Windows NT 10.0; Win64; x64) AppleWebKit/537.36 (KHTML, like Gecko) Chrome/138.0.0.0 Safari/537.36 Edg/138.0.0.0\" \"192.168.65.3\"\n",
      "10.1.1.34 - - [25/Jul/2025:01:29:50 +0000] \"GET /login HTTP/1.1\" 304 0 \"-\" \"Mozilla/5.0 (Windows NT 10.0; Win64; x64) AppleWebKit/537.36 (KHTML, like Gecko) Chrome/138.0.0.0 Safari/537.36 Edg/138.0.0.0\" \"192.168.65.3\"\n",
      "10.1.1.34 - - [25/Jul/2025:01:29:50 +0000] \"GET /login HTTP/1.1\" 304 0 \"-\" \"Mozilla/5.0 (Windows NT 10.0; Win64; x64) AppleWebKit/537.36 (KHTML, like Gecko) Chrome/138.0.0.0 Safari/537.36 Edg/138.0.0.0\" \"192.168.65.3\"\n",
      "---Previous logs for web-interface-7c494cc897-4cncs---\n"
     ]
    },
    {
     "name": "stderr",
     "output_type": "stream",
     "text": [
      "Error from server (BadRequest): previous terminated container \"web-interface\" in pod \"web-interface-7c494cc897-4cncs\" not found\n"
     ]
    }
   ],
   "source": [
    "# Display logs for web-interface pods in the my-services namespace\n",
    "import subprocess\n",
    "\n",
    "label = \"web-interface\"\n",
    "namespace = \"my-services\"\n",
    "command = f\"kubectl get pods -l app.kubernetes.io/name={label} -n {namespace} -o custom-columns=NAME:.metadata.name --no-headers\"\n",
    "\n",
    "pod = subprocess.check_output(command, shell=True, text=True).strip()\n",
    "\n",
    "!echo ---Logs for {pod}---\n",
    "!kubectl logs {pod} -n {namespace}\n",
    "!echo ---Previous logs for {pod}---\n",
    "!kubectl logs {pod} -n {namespace} --previous"
   ]
  },
  {
   "cell_type": "markdown",
   "id": "77144391",
   "metadata": {},
   "source": [
    "### *1.3. Monitoring*"
   ]
  },
  {
   "cell_type": "code",
   "execution_count": 130,
   "id": "c13ccad4",
   "metadata": {
    "vscode": {
     "languageId": "bat"
    }
   },
   "outputs": [
    {
     "name": "stdout",
     "output_type": "stream",
     "text": [
      "---Pods---\n",
      "NAME                        READY   STATUS    RESTARTS      AGE\n",
      "loki-stack-0                1/1     Running   5 (70m ago)   19h\n",
      "loki-stack-promtail-5swr4   1/1     Running   0             10m\n",
      "---Services---\n",
      "NAME                    TYPE        CLUSTER-IP     EXTERNAL-IP   PORT(S)    AGE\n",
      "loki-stack              ClusterIP   10.98.134.12   <none>        3100/TCP   19h\n",
      "loki-stack-headless     ClusterIP   None           <none>        3100/TCP   19h\n",
      "loki-stack-memberlist   ClusterIP   None           <none>        7946/TCP   19h\n"
     ]
    }
   ],
   "source": [
    "# Display all pods and services in the monitoring namespace\n",
    "namespace = \"monitoring\"\n",
    "!echo ---Pods---\n",
    "!kubectl get pods -n {namespace}\n",
    "!echo ---Services---\n",
    "!kubectl get svc -n {namespace}"
   ]
  },
  {
   "cell_type": "code",
   "execution_count": 20,
   "id": "096dd3bb",
   "metadata": {
    "vscode": {
     "languageId": "bat"
    }
   },
   "outputs": [
    {
     "name": "stdout",
     "output_type": "stream",
     "text": [
      "---Config Maps---\n"
     ]
    },
    {
     "name": "stdout",
     "output_type": "stream",
     "text": [
      "NAME               DATA   AGE\n",
      "kube-root-ca.crt   1      18h\n",
      "loki-stack         1      17h\n",
      "loki-stack-test    1      17h\n",
      "---Secrets---\n",
      "NAME                               TYPE                 DATA   AGE\n",
      "loki-stack                         Opaque               1      17h\n",
      "loki-stack-promtail                Opaque               1      17h\n",
      "sh.helm.release.v1.loki-stack.v1   helm.sh/release.v1   1      17h\n"
     ]
    }
   ],
   "source": [
    "# Display all config maps and secrets in the monitoring namespace\n",
    "namespace = \"monitoring\"\n",
    "!echo ---Config Maps---\n",
    "!kubectl get configmap -n {namespace}\n",
    "!echo ---Secrets---\n",
    "!kubectl get secret -n {namespace}"
   ]
  },
  {
   "cell_type": "code",
   "execution_count": null,
   "id": "97980088",
   "metadata": {
    "vscode": {
     "languageId": "bat"
    }
   },
   "outputs": [
    {
     "name": "stdout",
     "output_type": "stream",
     "text": [
      "---Loki Stack Values---\n"
     ]
    },
    {
     "name": "stdout",
     "output_type": "stream",
     "text": [
      "USER-SUPPLIED VALUES:\n",
      "promtail:\n",
      "  config:\n",
      "    snippets:\n",
      "      pipelineStages:\n",
      "      - docker: {}\n",
      "      - json:\n",
      "          expressions:\n",
      "            level: level\n",
      "            message: message\n",
      "            service: service\n",
      "            timestamp: timestamp\n",
      "      - timestamp:\n",
      "          format: RFC3339\n",
      "          source: timestamp\n",
      "      - labels:\n",
      "          level: level\n",
      "          service: service\n",
      "  enabled: true\n"
     ]
    }
   ],
   "source": [
    "# Display Promtail values in the monitoring namespace\n",
    "service = \"loki-stack\"\n",
    "namespace = \"monitoring\"\n",
    "!echo ---Promtail Values---\n",
    "!helm get values {service} -n {namespace}"
   ]
  },
  {
   "cell_type": "markdown",
   "id": "630f2733",
   "metadata": {},
   "source": [
    "### *1.4. Universal*"
   ]
  },
  {
   "cell_type": "code",
   "execution_count": 132,
   "id": "c05815d2",
   "metadata": {
    "vscode": {
     "languageId": "bat"
    }
   },
   "outputs": [
    {
     "name": "stdout",
     "output_type": "stream",
     "text": [
      "---Namespaces---\n"
     ]
    },
    {
     "name": "stdout",
     "output_type": "stream",
     "text": [
      "NAME              STATUS   AGE\n",
      "default           Active   45h\n",
      "ingress-nginx     Active   45h\n",
      "kube-node-lease   Active   45h\n",
      "kube-public       Active   45h\n",
      "kube-system       Active   45h\n",
      "monitoring        Active   20h\n",
      "my-services       Active   7h33m\n"
     ]
    }
   ],
   "source": [
    "# Display all namespaces in the cluster\n",
    "!echo ---Namespaces---\n",
    "!kubectl get ns"
   ]
  },
  {
   "cell_type": "code",
   "execution_count": 91,
   "id": "3b0aa93e",
   "metadata": {
    "vscode": {
     "languageId": "bat"
    }
   },
   "outputs": [
    {
     "name": "stdout",
     "output_type": "stream",
     "text": [
      "---Nodes---\n"
     ]
    },
    {
     "name": "stdout",
     "output_type": "stream",
     "text": [
      "NAME             STATUS   ROLES           AGE   VERSION   INTERNAL-IP    EXTERNAL-IP   OS-IMAGE         KERNEL-VERSION                     CONTAINER-RUNTIME\n",
      "docker-desktop   Ready    control-plane   40h   v1.32.2   192.168.65.3   <none>        Docker Desktop   6.6.87.2-microsoft-standard-WSL2   docker://28.3.0\n"
     ]
    }
   ],
   "source": [
    "# Display all nodes in the cluster\n",
    "!echo ---Nodes---\n",
    "!kubectl get nodes -o wide"
   ]
  },
  {
   "cell_type": "code",
   "execution_count": 92,
   "id": "076bdeb5",
   "metadata": {
    "vscode": {
     "languageId": "bat"
    }
   },
   "outputs": [
    {
     "name": "stdout",
     "output_type": "stream",
     "text": [
      "---Storage Classes---\n"
     ]
    },
    {
     "name": "stdout",
     "output_type": "stream",
     "text": [
      "NAME                 PROVISIONER          RECLAIMPOLICY   VOLUMEBINDINGMODE   ALLOWVOLUMEEXPANSION   AGE\n",
      "hostpath (default)   docker.io/hostpath   Delete          Immediate           false                  40h\n"
     ]
    }
   ],
   "source": [
    "# Display all storage classes in the cluster\n",
    "!echo ---Storage Classes---\n",
    "!kubectl get storageclass"
   ]
  },
  {
   "cell_type": "code",
   "execution_count": 3,
   "id": "850e6d69",
   "metadata": {
    "vscode": {
     "languageId": "bat"
    }
   },
   "outputs": [
    {
     "name": "stdout",
     "output_type": "stream",
     "text": [
      "---Ingress Controller Pods---\n",
      "NAME                                       READY   STATUS    RESTARTS       AGE\n",
      "ingress-nginx-controller-675c4bf49-dk2kj   1/1     Running   17 (91m ago)   41h\n",
      "---Ingress Controller Services---\n",
      "NAME                                 TYPE        CLUSTER-IP     EXTERNAL-IP   PORT(S)        AGE\n",
      "ingress-nginx-controller             NodePort    10.96.60.73    <none>        80:32000/TCP   145m\n",
      "ingress-nginx-controller-admission   ClusterIP   10.111.71.82   <none>        443/TCP        41h\n",
      "---All Ingress Resources---\n",
      "NAMESPACE     NAME                    CLASS   HOSTS   ADDRESS       PORTS   AGE\n",
      "my-services   ingress-configuration   nginx   *       10.96.60.73   80      145m\n"
     ]
    }
   ],
   "source": [
    "# Display Ingress controller details and Ingress resources\n",
    "namespace = \"ingress-nginx\"\n",
    "!echo ---Ingress Controller Pods---\n",
    "!kubectl get pods -n {namespace}\n",
    "!echo ---Ingress Controller Services---\n",
    "!kubectl get svc -n {namespace}\n",
    "!echo ---All Ingress Resources---\n",
    "!kubectl get ingress --all-namespaces"
   ]
  },
  {
   "cell_type": "markdown",
   "id": "56bcbaa6",
   "metadata": {},
   "source": [
    "## **2. Logs**"
   ]
  },
  {
   "cell_type": "code",
   "execution_count": null,
   "id": "e005b1e3",
   "metadata": {
    "vscode": {
     "languageId": "bat"
    }
   },
   "outputs": [],
   "source": [
    "pod = \"product-service-7bddd5f79c-thtnp\""
   ]
  },
  {
   "cell_type": "code",
   "execution_count": 2,
   "id": "9233f9e2",
   "metadata": {
    "vscode": {
     "languageId": "bat"
    }
   },
   "outputs": [
    {
     "name": "stdout",
     "output_type": "stream",
     "text": [
      "---Logs for product-service-7bddd5f79c-thtnp---\n",
      "^C\n"
     ]
    },
    {
     "name": "stdout",
     "output_type": "stream",
     "text": [
      "\n",
      "> product-service@1.0.0 start\n",
      "> node src/index.js\n",
      "\n",
      "[dotenv@17.2.0] injecting env (0) from .env (tip: ⚙️  suppress all logs with { quiet: true })\n",
      "Connected to MongoDB\n",
      "Product service running on port 3001\n"
     ]
    }
   ],
   "source": [
    "!echo ---Logs for {pod}---\n",
    "!kubectl logs {pod} -n my-services"
   ]
  },
  {
   "cell_type": "code",
   "execution_count": null,
   "id": "80d31d14",
   "metadata": {
    "vscode": {
     "languageId": "bat"
    }
   },
   "outputs": [
    {
     "name": "stdout",
     "output_type": "stream",
     "text": [
      "---Previous logs for product-service-7bddd5f79c-thtnp---\n"
     ]
    },
    {
     "name": "stderr",
     "output_type": "stream",
     "text": [
      "error: error from server (NotFound): pods \"product-service-7bddd5f79c-thtnp\" not found in namespace \"default\"\n"
     ]
    }
   ],
   "source": [
    "!echo ---Previous logs for {pod}---\n",
    "!kubectl logs {pod} --previous"
   ]
  },
  {
   "cell_type": "markdown",
   "id": "07421c1d",
   "metadata": {},
   "source": [
    "# **II. FRONTEND**"
   ]
  },
  {
   "cell_type": "markdown",
   "id": "693256b2",
   "metadata": {},
   "source": [
    "## **Web Interface**"
   ]
  },
  {
   "cell_type": "code",
   "execution_count": 161,
   "id": "d4b13ebb",
   "metadata": {
    "vscode": {
     "languageId": "bat"
    }
   },
   "outputs": [
    {
     "name": "stdout",
     "output_type": "stream",
     "text": [
      "---Shutting down web-interface---\n",
      "service \"web-interface\" deleted\n",
      "deployment.apps \"web-interface\" deleted\n"
     ]
    }
   ],
   "source": [
    "# Shutdown Web Interface Service\n",
    "service = \"web-interface\"\n",
    "namespace = \"my-services\"\n",
    "!echo ---Shutting down {service}---\n",
    "!kubectl delete service {service} -n {namespace}\n",
    "!kubectl delete deployment {service} -n {namespace}"
   ]
  },
  {
   "cell_type": "code",
   "execution_count": 162,
   "id": "bcf31296",
   "metadata": {
    "vscode": {
     "languageId": "bat"
    }
   },
   "outputs": [
    {
     "name": "stdout",
     "output_type": "stream",
     "text": [
      "---Building web-interface---\n"
     ]
    },
    {
     "name": "stderr",
     "output_type": "stream",
     "text": [
      "#0 building with \"desktop-linux\" instance using docker driver\n",
      "\n",
      "#1 [internal] load build definition from Dockerfile\n",
      "#1 transferring dockerfile:\n",
      "#1 transferring dockerfile: 516B 0.1s done\n",
      "#1 DONE 0.3s\n",
      "\n",
      "#2 [internal] load metadata for docker.io/library/node:18-alpine\n",
      "#2 ...\n",
      "\n",
      "#3 [auth] library/node:pull token for registry-1.docker.io\n",
      "#3 DONE 0.0s\n",
      "\n",
      "#4 [internal] load metadata for docker.io/library/nginx:alpine\n",
      "#4 ...\n",
      "\n",
      "#5 [auth] library/nginx:pull token for registry-1.docker.io\n",
      "#5 DONE 0.0s\n",
      "\n",
      "#2 [internal] load metadata for docker.io/library/node:18-alpine\n",
      "#2 DONE 2.3s\n",
      "\n",
      "#4 [internal] load metadata for docker.io/library/nginx:alpine\n",
      "#4 DONE 2.4s\n",
      "\n",
      "#6 [internal] load .dockerignore\n",
      "#6 transferring context: 32B 0.1s\n",
      "#6 transferring context: 80B 0.3s done\n",
      "#6 DONE 0.8s\n",
      "\n",
      "#7 [internal] load build context\n",
      "#7 DONE 0.0s\n",
      "\n",
      "#8 [stage-1 1/3] FROM docker.io/library/nginx:alpine@sha256:d67ea0d64d518b1bb04acde3b00f722ac3e9764b3209a9b0a98924ba35e4b779\n",
      "#8 resolve docker.io/library/nginx:alpine@sha256:d67ea0d64d518b1bb04acde3b00f722ac3e9764b3209a9b0a98924ba35e4b779\n",
      "#8 resolve docker.io/library/nginx:alpine@sha256:d67ea0d64d518b1bb04acde3b00f722ac3e9764b3209a9b0a98924ba35e4b779 0.8s done\n",
      "#8 DONE 0.9s\n",
      "\n",
      "#9 [build 1/6] FROM docker.io/library/node:18-alpine@sha256:8d6421d663b4c28fd3ebc498332f249011d118945588d0a35cb9bc4b8ca09d9e\n",
      "#9 resolve docker.io/library/node:18-alpine@sha256:8d6421d663b4c28fd3ebc498332f249011d118945588d0a35cb9bc4b8ca09d9e\n",
      "#9 resolve docker.io/library/node:18-alpine@sha256:8d6421d663b4c28fd3ebc498332f249011d118945588d0a35cb9bc4b8ca09d9e 0.7s done\n",
      "#9 DONE 0.9s\n",
      "\n",
      "#7 [internal] load build context\n",
      "#7 transferring context: 5.44kB 0.2s done\n",
      "#7 DONE 0.5s\n",
      "\n",
      "#10 [build 3/6] COPY package*.json ./\n",
      "#10 CACHED\n",
      "\n",
      "#11 [build 2/6] WORKDIR /app\n",
      "#11 CACHED\n",
      "\n",
      "#12 [build 4/6] RUN npm install\n",
      "#12 CACHED\n",
      "\n",
      "#13 [build 5/6] COPY . .\n",
      "#13 DONE 0.8s\n",
      "\n",
      "#14 [build 6/6] RUN npm run build\n",
      "#14 9.094 \n",
      "#14 9.094 > web-interface@0.1.0 build\n",
      "#14 9.094 > react-scripts build\n",
      "#14 9.094 \n",
      "#14 33.69 Creating an optimized production build...\n",
      "#14 108.3 Compiled with warnings.\n",
      "#14 108.3 \n",
      "#14 108.3 [eslint] \n",
      "#14 108.3 src/App.js\n",
      "#14 108.3   Line 2:8:  'Navbar' is defined but never used  no-unused-vars\n",
      "#14 108.3 \n",
      "#14 108.3 src/pages/Login.js\n",
      "#14 108.3   Line 1:27:  'useEffect' is defined but never used  no-unused-vars\n",
      "#14 108.3 \n",
      "#14 108.3 src/pages/Profile.js\n",
      "#14 108.3   Line 8:11:  'navigate' is assigned a value but never used  no-unused-vars\n",
      "#14 108.3 \n",
      "#14 108.3 Search for the keywords to learn more about each warning.\n",
      "#14 108.3 To ignore, add // eslint-disable-next-line to the line before.\n",
      "#14 108.3 \n",
      "#14 108.3 File sizes after gzip:\n",
      "#14 108.3 \n",
      "#14 108.4   86.88 kB  build/static/js/main.7114421d.js\n",
      "#14 108.4   1.77 kB   build/static/js/453.71002c84.chunk.js\n",
      "#14 108.4   513 B     build/static/css/main.f855e6bc.css\n",
      "#14 108.4 \n",
      "#14 108.4 The project was built assuming it is hosted at /.\n",
      "#14 108.4 You can control this with the homepage field in your package.json.\n",
      "#14 108.4 \n",
      "#14 108.4 The build folder is ready to be deployed.\n",
      "#14 108.4 You may serve it with a static server:\n",
      "#14 108.4 \n",
      "#14 108.4   npm install -g serve\n",
      "#14 108.4   serve -s build\n",
      "#14 108.4 \n",
      "#14 108.4 Find out more about deployment here:\n",
      "#14 108.4 \n",
      "#14 108.4   https://cra.link/deployment\n",
      "#14 108.4 \n",
      "#14 DONE 109.7s\n",
      "\n",
      "#15 [stage-1 2/3] COPY nginx.conf /etc/nginx/conf.d/default.conf\n",
      "#15 CACHED\n",
      "\n",
      "#16 [stage-1 3/3] COPY --from=build /app/build /usr/share/nginx/html\n",
      "#16 DONE 0.3s\n",
      "\n",
      "#17 exporting to image\n",
      "#17 exporting layers\n",
      "#17 exporting layers 0.6s done\n",
      "#17 exporting manifest sha256:50185b61fc460ac789b102460c27224187f38ba7db4a22472ca99af4438de650 0.1s done\n",
      "#17 exporting config sha256:f82aebd4c550df5070af143007109bc5a38ac3fbbd42096d22f23aabb822be36 0.0s done\n",
      "#17 exporting attestation manifest sha256:c763d5ea6c01ca1fa118f27df42410e28998e0b9f8e0f8d5fc53df2c011f9d4a\n",
      "#17 exporting attestation manifest sha256:c763d5ea6c01ca1fa118f27df42410e28998e0b9f8e0f8d5fc53df2c011f9d4a 0.1s done\n",
      "#17 exporting manifest list sha256:27ab2ac628c7be02340bed1e9c77396f23db66749e8874079f8fc639cd1ef02d 0.0s done\n",
      "#17 naming to docker.io/library/web-interface:latest\n",
      "#17 naming to docker.io/library/web-interface:latest 0.0s done\n",
      "#17 unpacking to docker.io/library/web-interface:latest\n",
      "#17 unpacking to docker.io/library/web-interface:latest 0.3s done\n",
      "#17 DONE 1.5s\n",
      "\n",
      "View build details: docker-desktop://dashboard/build/desktop-linux/desktop-linux/gw4muyqgh2tek5o9dq22gg9tj\n"
     ]
    }
   ],
   "source": [
    "# Build Web Interface Service\n",
    "service = \"web-interface\"\n",
    "!echo ---Building {service}---\n",
    "!docker build -t {service} C:\\\\Services\\\\{service}\\\\"
   ]
  },
  {
   "cell_type": "code",
   "execution_count": 163,
   "id": "b73d6442",
   "metadata": {
    "vscode": {
     "languageId": "bat"
    }
   },
   "outputs": [
    {
     "name": "stdout",
     "output_type": "stream",
     "text": [
      "---Deploying web-interface---\n",
      "deployment.apps/web-interface created\n",
      "service/web-interface created\n"
     ]
    }
   ],
   "source": [
    "# Deploy Web Interface Service\n",
    "service = \"web-interface\"\n",
    "!echo ---Deploying {service}---\n",
    "!kubectl apply -f C:\\\\Services\\\\{service}\\\\k8s\\\\"
   ]
  },
  {
   "cell_type": "markdown",
   "id": "454e88c7",
   "metadata": {},
   "source": [
    "# **III. BACKEND**"
   ]
  },
  {
   "cell_type": "markdown",
   "id": "ea32684c",
   "metadata": {},
   "source": [
    "## **1. User Service**"
   ]
  },
  {
   "cell_type": "code",
   "execution_count": 151,
   "id": "fb4de299",
   "metadata": {
    "vscode": {
     "languageId": "bat"
    }
   },
   "outputs": [
    {
     "name": "stdout",
     "output_type": "stream",
     "text": [
      "---Shutting down user-service---\n",
      "service \"user-service\" deleted\n",
      "deployment.apps \"user-service\" deleted\n",
      "service \"user-service-db\" deleted\n",
      "deployment.apps \"user-service-db\" deleted\n"
     ]
    }
   ],
   "source": [
    "# Shutdown User Service\n",
    "service = \"user-service\"\n",
    "service_db = f\"{service}-db\"\n",
    "namespace = \"my-services\"\n",
    "!echo ---Shutting down {service}---\n",
    "!kubectl delete service {service} -n {namespace}\n",
    "!kubectl delete deployment {service} -n {namespace}\n",
    "!kubectl delete service {service_db} -n {namespace}\n",
    "!kubectl delete deployment {service_db} -n {namespace}"
   ]
  },
  {
   "cell_type": "code",
   "execution_count": 152,
   "id": "7823d9d2",
   "metadata": {
    "vscode": {
     "languageId": "bat"
    }
   },
   "outputs": [
    {
     "name": "stdout",
     "output_type": "stream",
     "text": [
      "---Building user-service---\n"
     ]
    },
    {
     "name": "stderr",
     "output_type": "stream",
     "text": [
      "#0 building with \"desktop-linux\" instance using docker driver\n",
      "\n",
      "#1 [internal] load build definition from Dockerfile\n",
      "#1 transferring dockerfile:\n",
      "#1 transferring dockerfile: 335B 0.3s done\n",
      "#1 DONE 1.0s\n",
      "\n",
      "#2 [internal] load metadata for docker.io/library/node:18-alpine\n",
      "#2 ...\n",
      "\n",
      "#3 [auth] library/node:pull token for registry-1.docker.io\n",
      "#3 DONE 0.0s\n",
      "\n",
      "#2 [internal] load metadata for docker.io/library/node:18-alpine\n",
      "#2 DONE 3.5s\n",
      "\n",
      "#4 [internal] load .dockerignore\n",
      "#4 transferring context: 80B 0.1s done\n",
      "#4 DONE 0.2s\n",
      "\n",
      "#5 [internal] load build context\n",
      "#5 transferring context: 1.26kB 0.1s done\n",
      "#5 DONE 0.1s\n",
      "\n",
      "#6 [1/5] FROM docker.io/library/node:18-alpine@sha256:8d6421d663b4c28fd3ebc498332f249011d118945588d0a35cb9bc4b8ca09d9e\n",
      "#6 resolve docker.io/library/node:18-alpine@sha256:8d6421d663b4c28fd3ebc498332f249011d118945588d0a35cb9bc4b8ca09d9e 0.2s done\n",
      "#6 DONE 0.3s\n",
      "\n",
      "#7 [2/5] WORKDIR /app\n",
      "#7 CACHED\n",
      "\n",
      "#8 [3/5] COPY package*.json ./\n",
      "#8 CACHED\n",
      "\n",
      "#9 [4/5] RUN npm install\n",
      "#9 CACHED\n",
      "\n",
      "#10 [5/5] COPY . .\n",
      "#10 CACHED\n",
      "\n",
      "#11 exporting to image\n",
      "#11 exporting layers\n",
      "#11 exporting layers 0.1s done\n",
      "#11 exporting manifest sha256:a942c97b8528bde36c32d2383aacb2e5e5018cc4e1203b47108b5d3ca3cb1775 0.0s done\n",
      "#11 exporting config sha256:3e682bdc8cc646aa6aca77e02ff1c838d275d13f12b215e09bcf5adf029662ba 0.0s done\n",
      "#11 exporting attestation manifest sha256:790f993533afd5b9ddd28fc74e0f63f22dcccc7d764933d32bcbea1f252e7504\n",
      "#11 exporting attestation manifest sha256:790f993533afd5b9ddd28fc74e0f63f22dcccc7d764933d32bcbea1f252e7504 0.2s done\n",
      "#11 exporting manifest list sha256:257bb90833a83a8c02c696f31a420e5c03459714bb82fa7a03e0d259318349d9\n",
      "#11 exporting manifest list sha256:257bb90833a83a8c02c696f31a420e5c03459714bb82fa7a03e0d259318349d9 0.2s done\n",
      "#11 naming to docker.io/library/user-service:latest 0.0s done\n",
      "#11 unpacking to docker.io/library/user-service:latest 0.1s done\n",
      "#11 DONE 1.3s\n",
      "\n",
      "View build details: docker-desktop://dashboard/build/desktop-linux/desktop-linux/7flzwnc1s78eeukb9hghs4hi7\n"
     ]
    }
   ],
   "source": [
    "# Build User Service\n",
    "service = \"user-service\"\n",
    "!echo ---Building {service}---\n",
    "!docker build -t {service} C:\\\\Services\\\\{service}\\\\"
   ]
  },
  {
   "cell_type": "code",
   "execution_count": 153,
   "id": "dadc16a1",
   "metadata": {
    "vscode": {
     "languageId": "bat"
    }
   },
   "outputs": [
    {
     "name": "stdout",
     "output_type": "stream",
     "text": [
      "---Deploying user-service---\n",
      "deployment.apps/user-service-db created\n",
      "service/user-service-db created\n",
      "deployment.apps/user-service created\n",
      "service/user-service created\n"
     ]
    }
   ],
   "source": [
    "# Deploy User Service\n",
    "service = \"user-service\"\n",
    "!echo ---Deploying {service}---\n",
    "!kubectl apply -f C:\\\\Services\\\\{service}\\\\k8s\\\\"
   ]
  },
  {
   "cell_type": "markdown",
   "id": "a35c82a6",
   "metadata": {},
   "source": [
    "## **2. Product Service**"
   ]
  },
  {
   "cell_type": "code",
   "execution_count": 158,
   "id": "fa506d89",
   "metadata": {
    "vscode": {
     "languageId": "bat"
    }
   },
   "outputs": [
    {
     "name": "stdout",
     "output_type": "stream",
     "text": [
      "---Shutting down product-service---\n",
      "service \"product-service\" deleted\n",
      "deployment.apps \"product-service\" deleted\n",
      "service \"product-service-db\" deleted\n",
      "deployment.apps \"product-service-db\" deleted\n"
     ]
    }
   ],
   "source": [
    "# Shutdown Product Service\n",
    "service = \"product-service\"\n",
    "service_db = f\"{service}-db\"\n",
    "namespace = \"my-services\"\n",
    "!echo ---Shutting down {service}---\n",
    "!kubectl delete service {service} -n {namespace}\n",
    "!kubectl delete deployment {service} -n {namespace}\n",
    "!kubectl delete service {service_db} -n {namespace}\n",
    "!kubectl delete deployment {service_db} -n {namespace}"
   ]
  },
  {
   "cell_type": "code",
   "execution_count": 159,
   "id": "2f33470a",
   "metadata": {
    "vscode": {
     "languageId": "bat"
    }
   },
   "outputs": [
    {
     "name": "stdout",
     "output_type": "stream",
     "text": [
      "---Building product-service---\n"
     ]
    },
    {
     "name": "stderr",
     "output_type": "stream",
     "text": [
      "#0 building with \"desktop-linux\" instance using docker driver\n",
      "\n",
      "#1 [internal] load build definition from Dockerfile\n",
      "#1 transferring dockerfile: 337B 0.1s done\n",
      "#1 DONE 0.2s\n",
      "\n",
      "#2 [internal] load metadata for docker.io/library/node:18-alpine\n",
      "#2 DONE 1.0s\n",
      "\n",
      "#3 [internal] load .dockerignore\n",
      "#3 transferring context: 80B 0.0s done\n",
      "#3 DONE 0.1s\n",
      "\n",
      "#4 [internal] load build context\n",
      "#4 transferring context: 1.16kB 0.1s done\n",
      "#4 DONE 0.2s\n",
      "\n",
      "#5 [1/5] FROM docker.io/library/node:18-alpine@sha256:8d6421d663b4c28fd3ebc498332f249011d118945588d0a35cb9bc4b8ca09d9e\n",
      "#5 resolve docker.io/library/node:18-alpine@sha256:8d6421d663b4c28fd3ebc498332f249011d118945588d0a35cb9bc4b8ca09d9e\n",
      "#5 resolve docker.io/library/node:18-alpine@sha256:8d6421d663b4c28fd3ebc498332f249011d118945588d0a35cb9bc4b8ca09d9e 0.9s done\n",
      "#5 DONE 0.9s\n",
      "\n",
      "#6 [3/5] COPY package*.json ./\n",
      "#6 CACHED\n",
      "\n",
      "#7 [4/5] RUN npm install\n",
      "#7 CACHED\n",
      "\n",
      "#8 [2/5] WORKDIR /app\n",
      "#8 CACHED\n",
      "\n",
      "#9 [5/5] COPY . .\n",
      "#9 CACHED\n",
      "\n",
      "#10 exporting to image\n",
      "#10 exporting layers 0.0s done\n",
      "#10 exporting manifest sha256:e96875c5cdad73f060bf3d90cb90e729759798856bd77a1064693a12901191f2\n",
      "#10 exporting manifest sha256:e96875c5cdad73f060bf3d90cb90e729759798856bd77a1064693a12901191f2 0.0s done\n",
      "#10 exporting config sha256:a3e1a07ce228cb52fa8ae5e83dfb9c801f65b277ea0b8758605d3497a58c88c8 0.0s done\n",
      "#10 exporting attestation manifest sha256:3b39101614126afaf3e58399ea72d502bbd8b9cfc9b295d571a9ec8fd0f9aa57\n",
      "#10 exporting attestation manifest sha256:3b39101614126afaf3e58399ea72d502bbd8b9cfc9b295d571a9ec8fd0f9aa57 0.2s done\n",
      "#10 exporting manifest list sha256:94a8a8ef9c1d050c96ed5c527b5e4bf91d16388491e365733908dd4786f51ced\n",
      "#10 exporting manifest list sha256:94a8a8ef9c1d050c96ed5c527b5e4bf91d16388491e365733908dd4786f51ced 0.1s done\n",
      "#10 naming to docker.io/library/product-service:latest 0.0s done\n",
      "#10 unpacking to docker.io/library/product-service:latest 0.1s done\n",
      "#10 DONE 0.9s\n",
      "\n",
      "View build details: docker-desktop://dashboard/build/desktop-linux/desktop-linux/sitqcsnduk28nn8br3dlqu5ol\n"
     ]
    }
   ],
   "source": [
    "# Build Product Service\n",
    "service = \"product-service\"\n",
    "!echo ---Building {service}---\n",
    "!docker build -t {service} C:\\\\Services\\\\{service}\\\\"
   ]
  },
  {
   "cell_type": "code",
   "execution_count": 160,
   "id": "68309b39",
   "metadata": {
    "vscode": {
     "languageId": "bat"
    }
   },
   "outputs": [
    {
     "name": "stdout",
     "output_type": "stream",
     "text": [
      "---Deploying product-service---\n",
      "deployment.apps/product-service-db created\n",
      "service/product-service-db created\n",
      "deployment.apps/product-service created\n",
      "service/product-service created\n"
     ]
    }
   ],
   "source": [
    "# Deploy Product Service\n",
    "service = \"product-service\"\n",
    "!echo ---Deploying {service}---\n",
    "!kubectl apply -f C:\\\\Services\\\\{service}\\\\k8s\\\\"
   ]
  },
  {
   "cell_type": "markdown",
   "id": "c832fe94",
   "metadata": {},
   "source": [
    "# **IV. PVC**"
   ]
  },
  {
   "cell_type": "markdown",
   "id": "4716ac07",
   "metadata": {},
   "source": [
    "### **1. User Service**"
   ]
  },
  {
   "cell_type": "code",
   "execution_count": null,
   "id": "1ffaa438",
   "metadata": {
    "vscode": {
     "languageId": "bat"
    }
   },
   "outputs": [
    {
     "name": "stdout",
     "output_type": "stream",
     "text": [
      "---Shutting down user-service-db-pvc---\n"
     ]
    },
    {
     "name": "stderr",
     "output_type": "stream",
     "text": [
      "Error from server (NotFound): persistentvolumeclaims \"user-service-db-pvc\" not found\n"
     ]
    }
   ],
   "source": [
    "# Shutdown PVC for User Service\n",
    "service = \"user-service\"\n",
    "service_pvc = f\"{service}-db-pvc\"\n",
    "namespace = \"my-services\"\n",
    "!echo ---Shutting down {service_pvc}---\n",
    "!kubectl delete pvc {service_pvc} -n {namespace}"
   ]
  },
  {
   "cell_type": "code",
   "execution_count": 25,
   "id": "060bf429",
   "metadata": {
    "vscode": {
     "languageId": "bat"
    }
   },
   "outputs": [
    {
     "name": "stdout",
     "output_type": "stream",
     "text": [
      "---Deploying PVC for user-service---\n",
      "persistentvolumeclaim/user-service-db-pvc created\n"
     ]
    }
   ],
   "source": [
    "# Deploy PVC for User Service\n",
    "service = \"user-service\"\n",
    "!echo ---Deploying PVC for {service}---\n",
    "!kubectl apply -f C:\\\\Services\\\\{service}\\\\k8s\\\\pvc"
   ]
  },
  {
   "cell_type": "markdown",
   "id": "cf2acb8f",
   "metadata": {},
   "source": [
    "### **2. Product Service**"
   ]
  },
  {
   "cell_type": "code",
   "execution_count": null,
   "id": "efef4e7c",
   "metadata": {
    "vscode": {
     "languageId": "bat"
    }
   },
   "outputs": [
    {
     "name": "stdout",
     "output_type": "stream",
     "text": [
      "---Shutting down product-service-db-pvc---\n"
     ]
    },
    {
     "name": "stderr",
     "output_type": "stream",
     "text": [
      "Error from server (NotFound): persistentvolumeclaims \"product-service-db-pvc\" not found\n"
     ]
    }
   ],
   "source": [
    "# Shutdown PVC for Product Service\n",
    "service = \"product-service\"\n",
    "service_pvc = f\"{service}-db-pvc\"\n",
    "namespace = \"my-services\"\n",
    "!echo ---Shutting down {service_pvc}---\n",
    "!kubectl delete pvc {service_pvc} -n {namespace}"
   ]
  },
  {
   "cell_type": "code",
   "execution_count": 27,
   "id": "8602b3af",
   "metadata": {
    "vscode": {
     "languageId": "bat"
    }
   },
   "outputs": [
    {
     "name": "stdout",
     "output_type": "stream",
     "text": [
      "---Deploying PVC---\n",
      "persistentvolumeclaim/product-service-db-pvc created\n"
     ]
    }
   ],
   "source": [
    "# Deploy PVC for Product Service\n",
    "service = \"product-service\"\n",
    "!echo ---Deploying PVC---\n",
    "!kubectl apply -f C:\\\\Services\\\\{service}\\\\k8s\\\\pvc"
   ]
  },
  {
   "cell_type": "markdown",
   "id": "697567e1",
   "metadata": {},
   "source": [
    "# **V. CONFIGURATION**"
   ]
  },
  {
   "cell_type": "markdown",
   "id": "602774bf",
   "metadata": {},
   "source": [
    "## **1. Config Maps**"
   ]
  },
  {
   "cell_type": "code",
   "execution_count": 129,
   "id": "fede3f56",
   "metadata": {
    "vscode": {
     "languageId": "bat"
    }
   },
   "outputs": [
    {
     "name": "stdout",
     "output_type": "stream",
     "text": [
      "---Deleting configmaps---\n",
      "configmap \"error-codes\" deleted\n",
      "configmap \"user-service-config\" deleted\n",
      "configmap \"product-service-config\" deleted\n",
      "configmap \"web-interface-config\" deleted\n"
     ]
    }
   ],
   "source": [
    "# Delete ConfigMaps\n",
    "folder = \"configmaps\"\n",
    "!echo ---Deleting {folder}---\n",
    "!kubectl delete -f C:\\\\Services\\\\{folder}\\\\"
   ]
  },
  {
   "cell_type": "code",
   "execution_count": 130,
   "id": "cfed7cba",
   "metadata": {
    "vscode": {
     "languageId": "bat"
    }
   },
   "outputs": [
    {
     "name": "stdout",
     "output_type": "stream",
     "text": [
      "---Applying configmaps---\n",
      "configmap/error-codes created\n",
      "configmap/user-service-config created\n",
      "configmap/product-service-config created\n",
      "configmap/web-interface-config created\n"
     ]
    }
   ],
   "source": [
    "# Apply ConfigMaps\n",
    "folder = \"configmaps\"\n",
    "!echo ---Applying {folder}---\n",
    "!kubectl apply -f C:\\\\Services\\\\{folder}\\\\"
   ]
  },
  {
   "cell_type": "markdown",
   "id": "472265c9",
   "metadata": {},
   "source": [
    "## **2. Secrets**"
   ]
  },
  {
   "cell_type": "code",
   "execution_count": 131,
   "id": "d73ca3ef",
   "metadata": {
    "vscode": {
     "languageId": "bat"
    }
   },
   "outputs": [
    {
     "name": "stdout",
     "output_type": "stream",
     "text": [
      "---Deleting secrets---\n"
     ]
    },
    {
     "name": "stdout",
     "output_type": "stream",
     "text": [
      "secret \"user-service-secret\" deleted\n",
      "secret \"product-service-secret\" deleted\n",
      "secret \"web-interface-secret\" deleted\n"
     ]
    }
   ],
   "source": [
    "# Delete Secrets\n",
    "folder = \"secrets\"\n",
    "!echo ---Deleting {folder}---\n",
    "!kubectl delete -f C:\\\\Services\\\\{folder}\\\\"
   ]
  },
  {
   "cell_type": "code",
   "execution_count": 132,
   "id": "3eddfb1d",
   "metadata": {
    "vscode": {
     "languageId": "bat"
    }
   },
   "outputs": [
    {
     "name": "stdout",
     "output_type": "stream",
     "text": [
      "---Applying secrets---\n",
      "secret/user-service-secret created\n",
      "secret/product-service-secret created\n",
      "secret/web-interface-secret created\n"
     ]
    }
   ],
   "source": [
    "# Apply Secrets\n",
    "folder = \"secrets\"\n",
    "!echo ---Applying {folder}---\n",
    "!kubectl apply -f C:\\\\Services\\\\{folder}\\\\"
   ]
  },
  {
   "cell_type": "markdown",
   "id": "ec526888",
   "metadata": {},
   "source": [
    "## **3. Ingress**"
   ]
  },
  {
   "cell_type": "code",
   "execution_count": 138,
   "id": "04923ee3",
   "metadata": {
    "vscode": {
     "languageId": "bat"
    }
   },
   "outputs": [
    {
     "name": "stdout",
     "output_type": "stream",
     "text": [
      "---Deleting ingress configuration---\n",
      "ingress.networking.k8s.io \"ingress-configuration\" deleted\n",
      "service \"ingress-nginx-controller\" deleted\n"
     ]
    }
   ],
   "source": [
    "# Delete Ingress Configuration\n",
    "folder = \"ingress\"\n",
    "!echo ---Deleting {folder} configuration---\n",
    "!kubectl delete -f C:\\\\Services\\\\{folder}\\\\"
   ]
  },
  {
   "cell_type": "code",
   "execution_count": 139,
   "id": "6f2d3f16",
   "metadata": {
    "vscode": {
     "languageId": "bat"
    }
   },
   "outputs": [
    {
     "name": "stdout",
     "output_type": "stream",
     "text": [
      "---Applying ingress configuration---\n"
     ]
    },
    {
     "name": "stdout",
     "output_type": "stream",
     "text": [
      "ingress.networking.k8s.io/ingress-configuration created\n",
      "service/ingress-nginx-controller created\n"
     ]
    }
   ],
   "source": [
    "# Apply Ingress Configuration\n",
    "folder = \"ingress\"\n",
    "!echo ---Applying {folder} configuration---\n",
    "!kubectl apply -f C:\\\\Services\\\\{folder}\\\\"
   ]
  },
  {
   "cell_type": "markdown",
   "id": "0e46e005",
   "metadata": {},
   "source": [
    "## **4. Custom**"
   ]
  },
  {
   "cell_type": "markdown",
   "id": "1e766fd7",
   "metadata": {},
   "source": [
    "### *4.1. Promtail*"
   ]
  },
  {
   "cell_type": "code",
   "execution_count": 135,
   "id": "590f6bad",
   "metadata": {
    "vscode": {
     "languageId": "bat"
    }
   },
   "outputs": [
    {
     "name": "stdout",
     "output_type": "stream",
     "text": [
      "---Applying promtail-values.yaml configuration---\n",
      "Release \"loki-stack\" has been upgraded. Happy Helming!\n",
      "NAME: loki-stack\n",
      "LAST DEPLOYED: Thu Jul 24 21:16:36 2025\n",
      "NAMESPACE: monitoring\n",
      "STATUS: deployed\n",
      "REVISION: 13\n",
      "NOTES:\n",
      "The Loki stack has been deployed to your cluster. Loki can now be added as a datasource in Grafana.\n",
      "\n",
      "See http://docs.grafana.org/features/datasources/loki/ for more detail.\n",
      "daemonset.apps/loki-stack-promtail restarted\n"
     ]
    }
   ],
   "source": [
    "# Apply Promtail Configuration\n",
    "folder = \"custom\"\n",
    "file = \"promtail-values.yaml\"\n",
    "!echo ---Applying {file} configuration---\n",
    "!helm upgrade loki-stack grafana/loki-stack -n monitoring -f C:\\\\Services\\\\{folder}\\\\{file}\n",
    "!kubectl rollout restart daemonset loki-stack-promtail -n monitoring"
   ]
  },
  {
   "cell_type": "raw",
   "id": "a7b51ffd",
   "metadata": {
    "vscode": {
     "languageId": "raw"
    }
   },
   "source": [
    "# Default values for Promtail\n",
    "\n",
    "promtail:\n",
    "  enabled: true"
   ]
  },
  {
   "cell_type": "markdown",
   "id": "95f1fc3e",
   "metadata": {},
   "source": [
    "# **VI. SETUP**"
   ]
  },
  {
   "cell_type": "markdown",
   "id": "33e82e8a",
   "metadata": {},
   "source": [
    "## **1. Namespaces**"
   ]
  },
  {
   "cell_type": "code",
   "execution_count": null,
   "id": "15a533d7",
   "metadata": {
    "vscode": {
     "languageId": "bat"
    }
   },
   "outputs": [
    {
     "name": "stdout",
     "output_type": "stream",
     "text": [
      "---Creating namespace my-services---\n"
     ]
    },
    {
     "name": "stderr",
     "output_type": "stream",
     "text": [
      "Error from server (AlreadyExists): namespaces \"my-services\" already exists\n"
     ]
    }
   ],
   "source": [
    "# Create a namespace for services\n",
    "namespace = \"my-services\"\n",
    "!echo ---Creating namespace {namespace}---\n",
    "!kubectl create namespace {namespace}"
   ]
  },
  {
   "cell_type": "markdown",
   "id": "83bfb8ea",
   "metadata": {},
   "source": [
    "## **2. Ingress**"
   ]
  },
  {
   "cell_type": "code",
   "execution_count": null,
   "id": "754fa97e",
   "metadata": {
    "vscode": {
     "languageId": "bat"
    }
   },
   "outputs": [
    {
     "name": "stdout",
     "output_type": "stream",
     "text": [
      "---Deploying Ingress Controller---\n",
      "namespace/ingress-nginx created\n",
      "serviceaccount/ingress-nginx created\n",
      "serviceaccount/ingress-nginx-admission created\n",
      "role.rbac.authorization.k8s.io/ingress-nginx created\n",
      "role.rbac.authorization.k8s.io/ingress-nginx-admission created\n",
      "clusterrole.rbac.authorization.k8s.io/ingress-nginx created\n",
      "clusterrole.rbac.authorization.k8s.io/ingress-nginx-admission created\n",
      "rolebinding.rbac.authorization.k8s.io/ingress-nginx created\n",
      "rolebinding.rbac.authorization.k8s.io/ingress-nginx-admission created\n",
      "clusterrolebinding.rbac.authorization.k8s.io/ingress-nginx created\n",
      "clusterrolebinding.rbac.authorization.k8s.io/ingress-nginx-admission created\n",
      "configmap/ingress-nginx-controller created\n",
      "service/ingress-nginx-controller created\n",
      "service/ingress-nginx-controller-admission created\n",
      "deployment.apps/ingress-nginx-controller created\n",
      "job.batch/ingress-nginx-admission-create created\n",
      "job.batch/ingress-nginx-admission-patch created\n",
      "ingressclass.networking.k8s.io/nginx created\n",
      "validatingwebhookconfiguration.admissionregistration.k8s.io/ingress-nginx-admission created\n"
     ]
    }
   ],
   "source": [
    "# Deploy Ingress Controller\n",
    "!echo ---Deploying Ingress Controller---\n",
    "!kubectl apply -f https://raw.githubusercontent.com/kubernetes/ingress-nginx/main/deploy/static/provider/cloud/deploy.yaml"
   ]
  }
 ],
 "metadata": {
  "kernelspec": {
   "display_name": "Python 3",
   "language": "python",
   "name": "python3"
  },
  "language_info": {
   "codemirror_mode": {
    "name": "ipython",
    "version": 3
   },
   "file_extension": ".py",
   "mimetype": "text/x-python",
   "name": "python",
   "nbconvert_exporter": "python",
   "pygments_lexer": "ipython3",
   "version": "3.13.5"
  }
 },
 "nbformat": 4,
 "nbformat_minor": 5
}
