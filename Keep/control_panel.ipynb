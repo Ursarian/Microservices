{
 "cells": [
  {
   "cell_type": "markdown",
   "id": "fdda6239",
   "metadata": {},
   "source": [
    "# **KUBERNETES INFOS**"
   ]
  },
  {
   "cell_type": "code",
   "execution_count": null,
   "id": "df80c317",
   "metadata": {
    "vscode": {
     "languageId": "bat"
    }
   },
   "outputs": [],
   "source": [
    "# Display all nodes in the cluster\n",
    "!echo ---Nodes---\n",
    "!kubectl get nodes"
   ]
  },
  {
   "cell_type": "code",
   "execution_count": 21,
   "id": "d7bf17ec",
   "metadata": {
    "vscode": {
     "languageId": "bat"
    }
   },
   "outputs": [
    {
     "name": "stdout",
     "output_type": "stream",
     "text": [
      "---Pods---\n",
      "NAME                                       READY   STATUS    RESTARTS      AGE\n",
      "ingress-nginx-controller-675c4bf49-chxp7   1/1     Running   1 (53m ago)   62m\n",
      "---Services---\n",
      "NAME                                 TYPE        CLUSTER-IP      EXTERNAL-IP   PORT(S)        AGE\n",
      "ingress-nginx-controller             NodePort    10.105.236.34   <none>        80:32000/TCP   62m\n",
      "ingress-nginx-controller-admission   ClusterIP   10.108.50.12    <none>        443/TCP        62m\n"
     ]
    }
   ],
   "source": [
    "# Display Ingress controller pods\n",
    "!echo ---Pods---\n",
    "!kubectl get pods -n ingress-nginx\n",
    "!echo ---Services---\n",
    "!kubectl get svc -n ingress-nginx"
   ]
  },
  {
   "cell_type": "code",
   "execution_count": null,
   "id": "1db2277a",
   "metadata": {
    "vscode": {
     "languageId": "bat"
    }
   },
   "outputs": [],
   "source": [
    "# Display all storage classes in the cluster\n",
    "!kubectl get storageclass"
   ]
  },
  {
   "cell_type": "code",
   "execution_count": 22,
   "id": "dad6afab",
   "metadata": {
    "vscode": {
     "languageId": "bat"
    }
   },
   "outputs": [
    {
     "name": "stdout",
     "output_type": "stream",
     "text": [
      "---Pods---\n",
      "NAME                                  READY   STATUS    RESTARTS   AGE   IP           NODE             NOMINATED NODE   READINESS GATES\n",
      "product-service-76558f8d4c-5lhzv      1/1     Running   0          69m   10.1.1.95    docker-desktop   <none>           <none>\n",
      "product-service-db-78878c664b-kmr5f   1/1     Running   1          69m   10.1.1.98    docker-desktop   <none>           <none>\n",
      "user-service-5cf45896b4-l65t6         1/1     Running   0          47m   10.1.1.101   docker-desktop   <none>           <none>\n",
      "user-service-db-9c7c5d6c4-kcxsk       1/1     Running   0          47m   10.1.1.102   docker-desktop   <none>           <none>\n",
      "web-interface-64b9776647-7t9hc        1/1     Running   0          13m   10.1.1.103   docker-desktop   <none>           <none>\n",
      "---Services---\n",
      "NAME                 TYPE        CLUSTER-IP      EXTERNAL-IP   PORT(S)           AGE\n",
      "kubernetes           ClusterIP   10.96.0.1       <none>        443/TCP           72m\n",
      "product-service      ClusterIP   10.97.175.47    <none>        3001/TCP          69m\n",
      "product-service-db   NodePort    10.110.121.24   <none>        27017:32018/TCP   69m\n",
      "user-service         ClusterIP   10.103.60.250   <none>        3000/TCP          47m\n",
      "user-service-db      NodePort    10.104.89.170   <none>        27017:32017/TCP   47m\n",
      "web-interface        ClusterIP   10.105.114.45   <none>        80/TCP            13m\n",
      "---PVC---\n",
      "NAME                     STATUS   VOLUME                                     CAPACITY   ACCESS MODES   STORAGECLASS   VOLUMEATTRIBUTESCLASS   AGE\n",
      "product-service-db-pvc   Bound    pvc-b62abb70-3bd8-4663-9f06-db42ed3a3995   100Mi      RWO            hostpath       <unset>                 67m\n",
      "user-service-db-pvc      Bound    pvc-9f47f0a8-e464-4122-9f0a-a02950b89a54   100Mi      RWO            hostpath       <unset>                 67m\n"
     ]
    }
   ],
   "source": [
    "# Display all pods and services in the cluster\n",
    "!echo ---Pods---\n",
    "!kubectl get pods -o wide\n",
    "!echo ---Services---\n",
    "!kubectl get svc\n",
    "!echo ---PVC---\n",
    "!kubectl get pvc"
   ]
  },
  {
   "cell_type": "code",
   "execution_count": 44,
   "id": "e005b1e3",
   "metadata": {
    "vscode": {
     "languageId": "bat"
    }
   },
   "outputs": [
    {
     "name": "stdout",
     "output_type": "stream",
     "text": [
      "{\"t\":{\"$date\":\"2025-07-21T00:24:39.161+00:00\"},\"s\":\"I\",  \"c\":\"CONTROL\",  \"id\":23285,   \"ctx\":\"main\",\"msg\":\"Automatically disabling TLS 1.0, to force-enable TLS 1.0 specify --sslDisabledProtocols 'none'\"}\n",
      "{\"t\":{\"$date\":\"2025-07-21T00:24:39.362+00:00\"},\"s\":\"I\",  \"c\":\"CONTROL\",  \"id\":5945603, \"ctx\":\"main\",\"msg\":\"Multi threading initialized\"}\n",
      "{\"t\":{\"$date\":\"2025-07-21T00:24:39.608+00:00\"},\"s\":\"I\",  \"c\":\"NETWORK\",  \"id\":4648601, \"ctx\":\"main\",\"msg\":\"Implicit TCP FastOpen unavailable. If TCP FastOpen is required, set at least one of the related parameters\",\"attr\":{\"relatedParameters\":[\"tcpFastOpenServer\",\"tcpFastOpenClient\",\"tcpFastOpenQueueSize\"]}}\n",
      "{\"t\":{\"$date\":\"2025-07-21T00:24:39.848+00:00\"},\"s\":\"I\",  \"c\":\"NETWORK\",  \"id\":4915701, \"ctx\":\"main\",\"msg\":\"Initialized wire specification\",\"attr\":{\"spec\":{\"incomingExternalClient\":{\"minWireVersion\":0,\"maxWireVersion\":25},\"incomingInternalClient\":{\"minWireVersion\":0,\"maxWireVersion\":25},\"outgoing\":{\"minWireVersion\":6,\"maxWireVersion\":25},\"isInternalClient\":true}}}\n",
      "{\"t\":{\"$date\":\"2025-07-21T00:24:40.135+00:00\"},\"s\":\"I\",  \"c\":\"TENANT_M\", \"id\":7091600, \"ctx\":\"main\",\"msg\":\"Starting TenantMigrationAccessBlockerRegistry\"}\n",
      "{\"t\":{\"$date\":\"2025-07-21T00:24:40.288+00:00\"},\"s\":\"I\",  \"c\":\"CONTROL\",  \"id\":4615611, \"ctx\":\"initandlisten\",\"msg\":\"MongoDB starting\",\"attr\":{\"pid\":1,\"port\":27017,\"dbPath\":\"/data/db\",\"architecture\":\"64-bit\",\"host\":\"product-service-db-78878c664b-s68zz\"}}\n",
      "{\"t\":{\"$date\":\"2025-07-21T00:24:40.319+00:00\"},\"s\":\"I\",  \"c\":\"CONTROL\",  \"id\":23403,   \"ctx\":\"initandlisten\",\"msg\":\"Build Info\",\"attr\":{\"buildInfo\":{\"version\":\"8.0.11\",\"gitVersion\":\"bed99f699da6cb2b74262aa6d473446c41476643\",\"openSSLVersion\":\"OpenSSL 3.0.13 30 Jan 2024\",\"modules\":[],\"allocator\":\"tcmalloc-google\",\"environment\":{\"distmod\":\"ubuntu2404\",\"distarch\":\"x86_64\",\"target_arch\":\"x86_64\"}}}}\n",
      "{\"t\":{\"$date\":\"2025-07-21T00:24:40.320+00:00\"},\"s\":\"I\",  \"c\":\"CONTROL\",  \"id\":51765,   \"ctx\":\"initandlisten\",\"msg\":\"Operating System\",\"attr\":{\"os\":{\"name\":\"Ubuntu\",\"version\":\"24.04\"}}}\n",
      "{\"t\":{\"$date\":\"2025-07-21T00:24:40.320+00:00\"},\"s\":\"I\",  \"c\":\"CONTROL\",  \"id\":21951,   \"ctx\":\"initandlisten\",\"msg\":\"Options set by command line\",\"attr\":{\"options\":{\"net\":{\"bindIp\":\"*\"}}}}\n",
      "{\"t\":{\"$date\":\"2025-07-21T00:24:40.678+00:00\"},\"s\":\"I\",  \"c\":\"STORAGE\",  \"id\":22270,   \"ctx\":\"initandlisten\",\"msg\":\"Storage engine to use detected by data files\",\"attr\":{\"dbpath\":\"/data/db\",\"storageEngine\":\"wiredTiger\"}}\n",
      "{\"t\":{\"$date\":\"2025-07-21T00:24:40.678+00:00\"},\"s\":\"I\",  \"c\":\"STORAGE\",  \"id\":22297,   \"ctx\":\"initandlisten\",\"msg\":\"Using the XFS filesystem is strongly recommended with the WiredTiger storage engine. See http://dochub.mongodb.org/core/prodnotes-filesystem\",\"tags\":[\"startupWarnings\"]}\n",
      "{\"t\":{\"$date\":\"2025-07-21T00:24:40.679+00:00\"},\"s\":\"I\",  \"c\":\"STORAGE\",  \"id\":22315,   \"ctx\":\"initandlisten\",\"msg\":\"Opening WiredTiger\",\"attr\":{\"config\":\"create,cache_size=439M,session_max=33000,eviction=(threads_min=4,threads_max=4),config_base=false,statistics=(fast),log=(enabled=true,remove=true,path=journal,compressor=snappy),builtin_extension_config=(zstd=(compression_level=6)),file_manager=(close_idle_time=600,close_scan_interval=10,close_handle_minimum=2000),statistics_log=(wait=0),json_output=(error,message),verbose=[recovery_progress:1,checkpoint_progress:1,compact_progress:1,backup:0,checkpoint:0,compact:0,evict:0,history_store:0,recovery:0,rts:0,salvage:0,tiered:0,timestamp:0,transaction:0,verify:0,log:0],prefetch=(available=true,default=false),\"}}\n"
     ]
    }
   ],
   "source": [
    "!kubectl logs product-service-db-78878c664b-s68zz"
   ]
  },
  {
   "cell_type": "code",
   "execution_count": 35,
   "id": "5d8c677b",
   "metadata": {
    "vscode": {
     "languageId": "bat"
    }
   },
   "outputs": [
    {
     "name": "stdout",
     "output_type": "stream",
     "text": [
      "\n",
      "> product-service@1.0.0 start\n",
      "> node src/index.js\n",
      "\n",
      "[dotenv@17.2.0] injecting env (0) from .env (tip: ⚙️  override existing env vars with { override: true })\n",
      "Product service running on port 3001\n",
      "(node:17) [MONGODB DRIVER] Warning: useNewUrlParser is a deprecated option: useNewUrlParser has no effect since Node.js Driver version 4.0.0 and will be removed in the next major version\n",
      "(Use `node --trace-warnings ...` to show where the warning was created)\n",
      "(node:17) [MONGODB DRIVER] Warning: useUnifiedTopology is a deprecated option: useUnifiedTopology has no effect since Node.js Driver version 4.0.0 and will be removed in the next major version\n",
      "MongoDB error: MongoServerSelectionError: getaddrinfo EAI_AGAIN product-service-db\n",
      "    at Topology.selectServer (/app/node_modules/mongodb/lib/sdam/topology.js:326:38)\n",
      "    at async Topology._connect (/app/node_modules/mongodb/lib/sdam/topology.js:200:28)\n",
      "    at async Topology.connect (/app/node_modules/mongodb/lib/sdam/topology.js:152:13)\n",
      "    at async topologyConnect (/app/node_modules/mongodb/lib/mongo_client.js:246:17)\n",
      "    at async MongoClient._connect (/app/node_modules/mongodb/lib/mongo_client.js:259:13)\n",
      "    at async MongoClient.connect (/app/node_modules/mongodb/lib/mongo_client.js:184:13)\n",
      "    at async NativeConnection.createClient (/app/node_modules/mongoose/lib/drivers/node-mongodb-native/connection.js:351:3) {\n",
      "  errorLabelSet: Set(0) {},\n",
      "  reason: TopologyDescription {\n",
      "    type: 'Unknown',\n",
      "    servers: Map(1) { 'product-service-db:27017' => [ServerDescription] },\n",
      "    stale: false,\n",
      "    compatible: true,\n",
      "    heartbeatFrequencyMS: 10000,\n",
      "    localThresholdMS: 15,\n",
      "    setName: null,\n",
      "    maxElectionId: null,\n",
      "    maxSetVersion: null,\n",
      "    commonWireVersion: 0,\n",
      "    logicalSessionTimeoutMinutes: null\n",
      "  },\n",
      "  code: undefined,\n",
      "  [cause]: MongoNetworkError: getaddrinfo EAI_AGAIN product-service-db\n",
      "      at Socket.<anonymous> (/app/node_modules/mongodb/lib/cmap/connect.js:286:44)\n",
      "      at Object.onceWrapper (node:events:632:26)\n",
      "      at Socket.emit (node:events:517:28)\n",
      "      at emitErrorNT (node:internal/streams/destroy:151:8)\n",
      "      at emitErrorCloseNT (node:internal/streams/destroy:116:3)\n",
      "      at process.processTicksAndRejections (node:internal/process/task_queues:82:21) {\n",
      "    errorLabelSet: Set(1) { 'ResetPool' },\n",
      "    beforeHandshake: false,\n",
      "    [cause]: Error: getaddrinfo EAI_AGAIN product-service-db\n",
      "        at GetAddrInfoReqWrap.onlookupall [as oncomplete] (node:dns:118:26) {\n",
      "      errno: -3001,\n",
      "      code: 'EAI_AGAIN',\n",
      "      syscall: 'getaddrinfo',\n",
      "      hostname: 'product-service-db'\n",
      "    }\n",
      "  }\n",
      "}\n",
      "/app/node_modules/mongoose/lib/connection.js:1165\n",
      "    err = new ServerSelectionError();\n",
      "          ^\n",
      "\n",
      "MongooseServerSelectionError: getaddrinfo EAI_AGAIN product-service-db\n",
      "    at _handleConnectionErrors (/app/node_modules/mongoose/lib/connection.js:1165:11)\n",
      "    at NativeConnection.openUri (/app/node_modules/mongoose/lib/connection.js:1096:11) {\n",
      "  errorLabelSet: Set(0) {},\n",
      "  reason: TopologyDescription {\n",
      "    type: 'Unknown',\n",
      "    servers: Map(1) {\n",
      "      'product-service-db:27017' => ServerDescription {\n",
      "        address: 'product-service-db:27017',\n",
      "        type: 'Unknown',\n",
      "        hosts: [],\n",
      "        passives: [],\n",
      "        arbiters: [],\n",
      "        tags: {},\n",
      "        minWireVersion: 0,\n",
      "        maxWireVersion: 0,\n",
      "        roundTripTime: -1,\n",
      "        minRoundTripTime: 0,\n",
      "        lastUpdateTime: 10439536,\n",
      "        lastWriteDate: 0,\n",
      "        error: MongoNetworkError: getaddrinfo EAI_AGAIN product-service-db\n",
      "            at Socket.<anonymous> (/app/node_modules/mongodb/lib/cmap/connect.js:286:44)\n",
      "            at Object.onceWrapper (node:events:632:26)\n",
      "            at Socket.emit (node:events:517:28)\n",
      "            at emitErrorNT (node:internal/streams/destroy:151:8)\n",
      "            at emitErrorCloseNT (node:internal/streams/destroy:116:3)\n",
      "            at process.processTicksAndRejections (node:internal/process/task_queues:82:21) {\n",
      "          errorLabelSet: Set(1) { 'ResetPool' },\n",
      "          beforeHandshake: false,\n",
      "          [cause]: Error: getaddrinfo EAI_AGAIN product-service-db\n",
      "              at GetAddrInfoReqWrap.onlookupall [as oncomplete] (node:dns:118:26) {\n",
      "            errno: -3001,\n",
      "            code: 'EAI_AGAIN',\n",
      "            syscall: 'getaddrinfo',\n",
      "            hostname: 'product-service-db'\n",
      "          }\n",
      "        },\n",
      "        topologyVersion: null,\n",
      "        setName: null,\n",
      "        setVersion: null,\n",
      "        electionId: null,\n",
      "        logicalSessionTimeoutMinutes: null,\n",
      "        maxMessageSizeBytes: null,\n",
      "        maxWriteBatchSize: null,\n",
      "        maxBsonObjectSize: null,\n",
      "        primary: null,\n",
      "        me: null,\n",
      "        '$clusterTime': null,\n",
      "        iscryptd: false\n",
      "      }\n",
      "    },\n",
      "    stale: false,\n",
      "    compatible: true,\n",
      "    heartbeatFrequencyMS: 10000,\n",
      "    localThresholdMS: 15,\n",
      "    setName: null,\n",
      "    maxElectionId: null,\n",
      "    maxSetVersion: null,\n",
      "    commonWireVersion: 0,\n",
      "    logicalSessionTimeoutMinutes: null\n",
      "  },\n",
      "  code: undefined,\n",
      "  cause: TopologyDescription {\n",
      "    type: 'Unknown',\n",
      "    servers: Map(1) {\n",
      "      'product-service-db:27017' => ServerDescription {\n",
      "        address: 'product-service-db:27017',\n",
      "        type: 'Unknown',\n",
      "        hosts: [],\n",
      "        passives: [],\n",
      "        arbiters: [],\n",
      "        tags: {},\n",
      "        minWireVersion: 0,\n",
      "        maxWireVersion: 0,\n",
      "        roundTripTime: -1,\n",
      "        minRoundTripTime: 0,\n",
      "        lastUpdateTime: 10439536,\n",
      "        lastWriteDate: 0,\n",
      "        error: MongoNetworkError: getaddrinfo EAI_AGAIN product-service-db\n",
      "            at Socket.<anonymous> (/app/node_modules/mongodb/lib/cmap/connect.js:286:44)\n",
      "            at Object.onceWrapper (node:events:632:26)\n",
      "            at Socket.emit (node:events:517:28)\n",
      "            at emitErrorNT (node:internal/streams/destroy:151:8)\n",
      "            at emitErrorCloseNT (node:internal/streams/destroy:116:3)\n",
      "            at process.processTicksAndRejections (node:internal/process/task_queues:82:21) {\n",
      "          errorLabelSet: Set(1) { 'ResetPool' },\n",
      "          beforeHandshake: false,\n",
      "          [cause]: Error: getaddrinfo EAI_AGAIN product-service-db\n",
      "              at GetAddrInfoReqWrap.onlookupall [as oncomplete] (node:dns:118:26) {\n",
      "            errno: -3001,\n",
      "            code: 'EAI_AGAIN',\n",
      "            syscall: 'getaddrinfo',\n",
      "            hostname: 'product-service-db'\n",
      "          }\n",
      "        },\n",
      "        topologyVersion: null,\n",
      "        setName: null,\n",
      "        setVersion: null,\n",
      "        electionId: null,\n",
      "        logicalSessionTimeoutMinutes: null,\n",
      "        maxMessageSizeBytes: null,\n",
      "        maxWriteBatchSize: null,\n",
      "        maxBsonObjectSize: null,\n",
      "        primary: null,\n",
      "        me: null,\n",
      "        '$clusterTime': null,\n",
      "        iscryptd: false\n",
      "      }\n",
      "    },\n",
      "    stale: false,\n",
      "    compatible: true,\n",
      "    heartbeatFrequencyMS: 10000,\n",
      "    localThresholdMS: 15,\n",
      "    setName: null,\n",
      "    maxElectionId: null,\n",
      "    maxSetVersion: null,\n",
      "    commonWireVersion: 0,\n",
      "    logicalSessionTimeoutMinutes: null\n",
      "  }\n",
      "}\n",
      "\n",
      "Node.js v18.20.8\n"
     ]
    }
   ],
   "source": [
    "!kubectl logs product-service-76558f8d4c-dlmr2 --previous"
   ]
  },
  {
   "cell_type": "code",
   "execution_count": null,
   "id": "8ea1a4de",
   "metadata": {
    "vscode": {
     "languageId": "bat"
    }
   },
   "outputs": [],
   "source": [
    "!kubectl describe pvc user-service-db-pvc"
   ]
  },
  {
   "cell_type": "code",
   "execution_count": null,
   "id": "f1b9e16a",
   "metadata": {
    "vscode": {
     "languageId": "bat"
    }
   },
   "outputs": [],
   "source": [
    "!kubectl describe pvc product-service-db-pvc"
   ]
  },
  {
   "cell_type": "markdown",
   "id": "07421c1d",
   "metadata": {},
   "source": [
    "# **WEB INTERFACE**"
   ]
  },
  {
   "cell_type": "code",
   "execution_count": null,
   "id": "bcf31296",
   "metadata": {
    "vscode": {
     "languageId": "bat"
    }
   },
   "outputs": [],
   "source": [
    "# Build Web Interface Service\n",
    "service = \"web-interface\"\n",
    "!echo ---Building {service}---\n",
    "!docker build -t {service} C:\\\\Services\\\\{service}\\\\"
   ]
  },
  {
   "cell_type": "code",
   "execution_count": 20,
   "id": "b73d6442",
   "metadata": {
    "vscode": {
     "languageId": "bat"
    }
   },
   "outputs": [
    {
     "name": "stdout",
     "output_type": "stream",
     "text": [
      "---Deploying web-interface---\n",
      "deployment.apps/web-interface created\n",
      "service/web-interface created\n"
     ]
    }
   ],
   "source": [
    "# Deploy Web Interface Service\n",
    "service = \"web-interface\"\n",
    "!echo ---Deploying {service}---\n",
    "!kubectl apply -f C:\\\\Services\\\\{service}\\\\k8s\\\\"
   ]
  },
  {
   "cell_type": "code",
   "execution_count": 18,
   "id": "d4b13ebb",
   "metadata": {
    "vscode": {
     "languageId": "bat"
    }
   },
   "outputs": [
    {
     "name": "stdout",
     "output_type": "stream",
     "text": [
      "---Shutting down web-interface---\n",
      "service \"web-interface\" deleted\n",
      "deployment.apps \"web-interface\" deleted\n"
     ]
    }
   ],
   "source": [
    "# Shutdown Web Interface Service\n",
    "service = \"web-interface\"\n",
    "!echo ---Shutting down {service}---\n",
    "!kubectl delete service {service}\n",
    "!kubectl delete deployment {service}"
   ]
  },
  {
   "cell_type": "markdown",
   "id": "454e88c7",
   "metadata": {},
   "source": [
    "# **USER SERVICE**"
   ]
  },
  {
   "cell_type": "code",
   "execution_count": null,
   "id": "7823d9d2",
   "metadata": {
    "vscode": {
     "languageId": "bat"
    }
   },
   "outputs": [],
   "source": [
    "# Build User Service\n",
    "service = \"user-service\"\n",
    "!echo ---Building {service}---\n",
    "!docker build -t {service} C:\\\\Services\\\\{service}\\\\"
   ]
  },
  {
   "cell_type": "code",
   "execution_count": 14,
   "id": "dadc16a1",
   "metadata": {
    "vscode": {
     "languageId": "bat"
    }
   },
   "outputs": [
    {
     "name": "stdout",
     "output_type": "stream",
     "text": [
      "---Deploying user-service---\n",
      "deployment.apps/user-service-db created\n",
      "service/user-service-db created\n",
      "deployment.apps/user-service created\n",
      "service/user-service created\n"
     ]
    }
   ],
   "source": [
    "# Deploy User Service\n",
    "service = \"user-service\"\n",
    "!echo ---Deploying {service}---\n",
    "!kubectl apply -f C:\\\\Services\\\\{service}\\\\k8s\\\\"
   ]
  },
  {
   "cell_type": "code",
   "execution_count": 53,
   "id": "fb4de299",
   "metadata": {
    "vscode": {
     "languageId": "bat"
    }
   },
   "outputs": [
    {
     "name": "stdout",
     "output_type": "stream",
     "text": [
      "---Shutting down user-service---\n",
      "service \"user-service\" deleted\n",
      "deployment.apps \"user-service\" deleted\n",
      "service \"user-service-db\" deleted\n",
      "deployment.apps \"user-service-db\" deleted\n"
     ]
    }
   ],
   "source": [
    "# Shutdown User Service\n",
    "service = \"user-service\"\n",
    "service_db = f\"{service}-db\"\n",
    "!echo ---Shutting down {service}---\n",
    "!kubectl delete service {service}\n",
    "!kubectl delete deployment {service}\n",
    "!kubectl delete service {service_db}\n",
    "!kubectl delete deployment {service_db}"
   ]
  },
  {
   "cell_type": "code",
   "execution_count": 116,
   "id": "060bf429",
   "metadata": {
    "vscode": {
     "languageId": "bat"
    }
   },
   "outputs": [
    {
     "name": "stdout",
     "output_type": "stream",
     "text": [
      "---Deploying PVC for user-service---\n",
      "persistentvolumeclaim/user-service-db-pvc created\n"
     ]
    }
   ],
   "source": [
    "# Deploy PVC for User Service\n",
    "service = \"user-service\"\n",
    "!echo ---Deploying PVC for {service}---\n",
    "!kubectl apply -f C:\\\\Services\\\\{service}\\\\k8s\\\\pvc"
   ]
  },
  {
   "cell_type": "code",
   "execution_count": null,
   "id": "1ffaa438",
   "metadata": {
    "vscode": {
     "languageId": "bat"
    }
   },
   "outputs": [
    {
     "name": "stdout",
     "output_type": "stream",
     "text": [
      "---Shutting down PVC---\n",
      "persistentvolumeclaim \"user-service-db-pvc\" deleted\n"
     ]
    }
   ],
   "source": [
    "# Shutdown PVC for User Service\n",
    "service = \"user-service\"\n",
    "service_pvc = f\"{service}-db-pvc\"\n",
    "!echo ---Shutting down PVC for {service}---\n",
    "!kubectl delete pvc {service_pvc}"
   ]
  },
  {
   "cell_type": "markdown",
   "id": "a35c82a6",
   "metadata": {},
   "source": [
    "# **PRODUCT SERVICE**"
   ]
  },
  {
   "cell_type": "code",
   "execution_count": null,
   "id": "2f33470a",
   "metadata": {
    "vscode": {
     "languageId": "bat"
    }
   },
   "outputs": [
    {
     "name": "stdout",
     "output_type": "stream",
     "text": [
      "---Building product-service---\n",
      "^C\n"
     ]
    },
    {
     "name": "stderr",
     "output_type": "stream",
     "text": [
      "#0 building with \"desktop-linux\" instance using docker driver\n",
      "\n",
      "#1 [internal] load build definition from Dockerfile\n",
      "#1 transferring dockerfile: 337B 0.1s done\n",
      "#1 DONE 0.2s\n",
      "\n",
      "#2 [internal] load metadata for docker.io/library/node:18-alpine\n",
      "#2 DONE 1.4s\n",
      "\n",
      "#3 [internal] load .dockerignore\n",
      "#3 transferring context: 79B 0.1s done\n",
      "#3 DONE 0.1s\n",
      "\n",
      "#4 [internal] load build context\n",
      "#4 transferring context: 867B 0.1s done\n",
      "#4 DONE 0.2s\n",
      "\n",
      "#5 [1/5] FROM docker.io/library/node:18-alpine@sha256:8d6421d663b4c28fd3ebc498332f249011d118945588d0a35cb9bc4b8ca09d9e\n",
      "#5 resolve docker.io/library/node:18-alpine@sha256:8d6421d663b4c28fd3ebc498332f249011d118945588d0a35cb9bc4b8ca09d9e\n",
      "#5 resolve docker.io/library/node:18-alpine@sha256:8d6421d663b4c28fd3ebc498332f249011d118945588d0a35cb9bc4b8ca09d9e 0.4s done\n",
      "#5 DONE 0.4s\n",
      "\n",
      "#6 [2/5] WORKDIR /app\n",
      "#6 CACHED\n",
      "\n",
      "#7 [3/5] COPY package*.json ./\n",
      "#7 CACHED\n",
      "\n",
      "#8 [4/5] RUN npm install\n",
      "#8 CACHED\n",
      "\n",
      "#9 [5/5] COPY . .\n",
      "#9 CACHED\n",
      "\n",
      "#10 exporting to image\n",
      "#10 exporting layers\n",
      "#10 exporting layers 0.0s done\n",
      "#10 exporting manifest sha256:e7b4b9924bb7c09ae3c81dbd4b6cb07199e6e08440270d2dfccc04fdf54fdfbe 0.0s done\n",
      "#10 exporting config sha256:15164e1c710b8600eb0e514e2705894973ba1b66a3ac9869f391d2fec4efac1b 0.1s done\n",
      "#10 exporting attestation manifest sha256:b6a79d260414ed16e7e6d1fc9a370453d84c1750277ab26195c62272d645641b 0.1s done\n",
      "#10 exporting manifest list sha256:6e7d0ba9fb6f63c0a5079eb39d558deddf95befde1a3d45247792fa8936fd509\n",
      "#10 exporting manifest list sha256:6e7d0ba9fb6f63c0a5079eb39d558deddf95befde1a3d45247792fa8936fd509 0.1s done\n",
      "#10 naming to docker.io/library/product-service:latest done\n",
      "#10 unpacking to docker.io/library/product-service:latest 0.1s done\n",
      "#10 DONE 0.9s\n",
      "\n",
      "View build details: docker-desktop://dashboard/build/desktop-linux/desktop-linux/g9f9qw8utcuuk6lm2i8vx0g5d\n"
     ]
    }
   ],
   "source": [
    "# Build Product Service\n",
    "service = \"product-service\"\n",
    "!echo ---Building {service}---\n",
    "!docker build -t {service} C:\\\\Services\\\\{service}\\\\"
   ]
  },
  {
   "cell_type": "code",
   "execution_count": 108,
   "id": "68309b39",
   "metadata": {
    "vscode": {
     "languageId": "bat"
    }
   },
   "outputs": [
    {
     "name": "stdout",
     "output_type": "stream",
     "text": [
      "---Deploying product-service---\n"
     ]
    },
    {
     "name": "stdout",
     "output_type": "stream",
     "text": [
      "deployment.apps/product-service-db created\n",
      "service/product-service-db created\n",
      "deployment.apps/product-service created\n",
      "service/product-service created\n"
     ]
    }
   ],
   "source": [
    "# Deploy Product Service\n",
    "service = \"product-service\"\n",
    "!echo ---Deploying {service}---\n",
    "!kubectl apply -f C:\\\\Services\\\\{service}\\\\k8s\\\\"
   ]
  },
  {
   "cell_type": "code",
   "execution_count": 55,
   "id": "fa506d89",
   "metadata": {
    "vscode": {
     "languageId": "bat"
    }
   },
   "outputs": [
    {
     "name": "stdout",
     "output_type": "stream",
     "text": [
      "---Shutting down product-service---\n",
      "service \"product-service\" deleted\n",
      "deployment.apps \"product-service\" deleted\n",
      "service \"product-service-db\" deleted\n",
      "deployment.apps \"product-service-db\" deleted\n"
     ]
    }
   ],
   "source": [
    "# Shutdown Product Service\n",
    "service = \"product-service\"\n",
    "service_db = f\"{service}-db\"\n",
    "!echo ---Shutting down {service}---\n",
    "!kubectl delete service {service}\n",
    "!kubectl delete deployment {service}\n",
    "!kubectl delete service {service_db}\n",
    "!kubectl delete deployment {service_db}"
   ]
  },
  {
   "cell_type": "code",
   "execution_count": 117,
   "id": "8602b3af",
   "metadata": {
    "vscode": {
     "languageId": "bat"
    }
   },
   "outputs": [
    {
     "name": "stdout",
     "output_type": "stream",
     "text": [
      "---Deploying PVC---\n",
      "persistentvolumeclaim/product-service-db-pvc created\n"
     ]
    }
   ],
   "source": [
    "# Deploy PVC for Product Service\n",
    "service = \"product-service\"\n",
    "!echo ---Deploying PVC---\n",
    "!kubectl apply -f C:\\\\Services\\\\{service}\\\\k8s\\\\pvc"
   ]
  },
  {
   "cell_type": "code",
   "execution_count": null,
   "id": "efef4e7c",
   "metadata": {
    "vscode": {
     "languageId": "bat"
    }
   },
   "outputs": [
    {
     "name": "stdout",
     "output_type": "stream",
     "text": [
      "---Shutting down PVC---\n",
      "persistentvolumeclaim \"product-service-db-pvc\" deleted\n"
     ]
    }
   ],
   "source": [
    "# Shutdown PVC for Product Service\n",
    "service = \"product-service\"\n",
    "service_pvc = f\"{service}-db-pvc\"\n",
    "!echo ---Shutting down PVC---\n",
    "!kubectl delete pvc {service_pvc}"
   ]
  },
  {
   "cell_type": "markdown",
   "id": "697567e1",
   "metadata": {},
   "source": [
    "# **ConfigMaps**"
   ]
  },
  {
   "cell_type": "code",
   "execution_count": 7,
   "id": "fede3f56",
   "metadata": {
    "vscode": {
     "languageId": "bat"
    }
   },
   "outputs": [
    {
     "name": "stdout",
     "output_type": "stream",
     "text": [
      "---Applying configmaps---\n",
      "configmap/auth-messages created\n",
      "configmap/user-service-config created\n",
      "configmap/product-service-config created\n",
      "configmap/web-interface-config created\n"
     ]
    }
   ],
   "source": [
    "# Apply ConfigMaps\n",
    "folder = \"configmaps\"\n",
    "!echo ---Applying {folder}---\n",
    "!kubectl apply -f C:\\\\Services\\\\{folder}\\\\"
   ]
  },
  {
   "cell_type": "markdown",
   "id": "472265c9",
   "metadata": {},
   "source": [
    "# **Secrets**"
   ]
  },
  {
   "cell_type": "code",
   "execution_count": 8,
   "id": "d73ca3ef",
   "metadata": {
    "vscode": {
     "languageId": "bat"
    }
   },
   "outputs": [
    {
     "name": "stdout",
     "output_type": "stream",
     "text": [
      "---Applying secrets---\n",
      "secret/user-service-secret created\n",
      "secret/product-service-secret created\n",
      "secret/web-interface-secret created\n"
     ]
    }
   ],
   "source": [
    "# Apply Secrets\n",
    "folder = \"secrets\"\n",
    "!echo ---Applying {folder}---\n",
    "!kubectl apply -f C:\\\\Services\\\\{folder}\\\\"
   ]
  },
  {
   "cell_type": "markdown",
   "id": "ec526888",
   "metadata": {},
   "source": [
    "# **Ingress**"
   ]
  },
  {
   "cell_type": "code",
   "execution_count": null,
   "id": "5e9f6ecf",
   "metadata": {
    "vscode": {
     "languageId": "bat"
    }
   },
   "outputs": [],
   "source": [
    "# Deploy Ingress Controller\n",
    "!echo ---Deploying Ingress Controller---\n",
    "!kubectl apply -f https://raw.githubusercontent.com/kubernetes/ingress-nginx/main/deploy/static/provider/cloud/deploy.yaml"
   ]
  },
  {
   "cell_type": "code",
   "execution_count": 19,
   "id": "04923ee3",
   "metadata": {
    "vscode": {
     "languageId": "bat"
    }
   },
   "outputs": [
    {
     "name": "stdout",
     "output_type": "stream",
     "text": [
      "---Applying ingress configuration---\n"
     ]
    }
   ],
   "source": [
    "# Apply Ingress Configuration\n",
    "folder = \"ingress\"\n",
    "!echo ---Applying {folder} configuration---\n",
    "!kubectl apply -f C:\\\\Services\\\\{folder}\\\\"
   ]
  },
  {
   "cell_type": "markdown",
   "id": "acd44afc",
   "metadata": {},
   "source": [
    "# **Ports**"
   ]
  },
  {
   "cell_type": "code",
   "execution_count": 5,
   "id": "b9e80886",
   "metadata": {
    "vscode": {
     "languageId": "bat"
    }
   },
   "outputs": [
    {
     "name": "stderr",
     "output_type": "stream",
     "text": [
      "System error 5 has occurred.\n",
      "\n",
      "Access is denied.\n",
      "\n"
     ]
    }
   ],
   "source": [
    "# Shutdown Local MongoDB\n",
    "!net stop MongoDB"
   ]
  },
  {
   "cell_type": "code",
   "execution_count": null,
   "id": "267d3131",
   "metadata": {
    "vscode": {
     "languageId": "bat"
    }
   },
   "outputs": [
    {
     "name": "stdout",
     "output_type": "stream",
     "text": [
      "---Portforwarding MongoDB---\n",
      "^C\n"
     ]
    }
   ],
   "source": [
    "# Portforwarding MongoDB\n",
    "!echo ---Portforwarding MongoDB---\n",
    "!kubectl port-forward svc/user-service-db 27017:27017\n",
    "!kubectl port-forward svc/product-service-db 27018:27017"
   ]
  }
 ],
 "metadata": {
  "kernelspec": {
   "display_name": "Python 3",
   "language": "python",
   "name": "python3"
  },
  "language_info": {
   "codemirror_mode": {
    "name": "ipython",
    "version": 3
   },
   "file_extension": ".py",
   "mimetype": "text/x-python",
   "name": "python",
   "nbconvert_exporter": "python",
   "pygments_lexer": "ipython3",
   "version": "3.13.5"
  }
 },
 "nbformat": 4,
 "nbformat_minor": 5
}
