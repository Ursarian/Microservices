{
 "cells": [
  {
   "cell_type": "markdown",
   "id": "fdda6239",
   "metadata": {},
   "source": [
    "# **I. KUBERNETES INFO**"
   ]
  },
  {
   "cell_type": "code",
   "execution_count": 64,
   "id": "dad6afab",
   "metadata": {
    "vscode": {
     "languageId": "bat"
    }
   },
   "outputs": [
    {
     "name": "stdout",
     "output_type": "stream",
     "text": [
      "---Pods---\n"
     ]
    },
    {
     "name": "stdout",
     "output_type": "stream",
     "text": [
      "NAME                                 READY   STATUS    RESTARTS   AGE    IP          NODE             NOMINATED NODE   READINESS GATES\n",
      "product-service-7bddd5f79c-zd9vv     1/1     Running   0          29m    10.1.0.77   docker-desktop   <none>           <none>\n",
      "product-service-db-98d6fb46d-kb6pj   1/1     Running   0          29m    10.1.0.78   docker-desktop   <none>           <none>\n",
      "user-service-bd464cd9d-5mmcd         1/1     Running   0          11m    10.1.0.82   docker-desktop   <none>           <none>\n",
      "user-service-db-6c74f9b896-2hl7k     1/1     Running   0          11m    10.1.0.83   docker-desktop   <none>           <none>\n",
      "web-interface-7c494cc897-9z868       1/1     Running   0          2m2s   10.1.0.84   docker-desktop   <none>           <none>\n",
      "---Services---\n",
      "NAME                 TYPE        CLUSTER-IP       EXTERNAL-IP   PORT(S)           AGE\n",
      "kubernetes           ClusterIP   10.96.0.1        <none>        443/TCP           19h\n",
      "product-service      ClusterIP   10.96.42.139     <none>        3001/TCP          29m\n",
      "product-service-db   NodePort    10.99.119.86     <none>        27017:32018/TCP   29m\n",
      "user-service         ClusterIP   10.96.76.191     <none>        3000/TCP          11m\n",
      "user-service-db      NodePort    10.111.166.166   <none>        27017:32017/TCP   11m\n",
      "web-interface        ClusterIP   10.96.101.194    <none>        80/TCP            2m2s\n",
      "---PVC---\n",
      "NAME                     STATUS   VOLUME                                     CAPACITY   ACCESS MODES   STORAGECLASS   VOLUMEATTRIBUTESCLASS   AGE\n",
      "product-service-db-pvc   Bound    pvc-e4b73123-c431-4da4-b986-c591c8a351d7   100Mi      RWO            hostpath       <unset>                 18h\n",
      "user-service-db-pvc      Bound    pvc-07d54536-7f1c-4839-8624-36d67fc8cd50   100Mi      RWO            hostpath       <unset>                 12h\n"
     ]
    }
   ],
   "source": [
    "# Display all pods and services in the cluster\n",
    "!echo ---Pods---\n",
    "!kubectl get pods -o wide\n",
    "!echo ---Services---\n",
    "!kubectl get svc\n",
    "!echo ---PVC---\n",
    "!kubectl get pvc"
   ]
  },
  {
   "cell_type": "code",
   "execution_count": 25,
   "id": "bd727816",
   "metadata": {
    "vscode": {
     "languageId": "bat"
    }
   },
   "outputs": [
    {
     "name": "stdout",
     "output_type": "stream",
     "text": [
      "---Namespaces---\n"
     ]
    },
    {
     "name": "stdout",
     "output_type": "stream",
     "text": [
      "NAME              STATUS   AGE\n",
      "default           Active   18h\n",
      "ingress-nginx     Active   17h\n",
      "kube-node-lease   Active   18h\n",
      "kube-public       Active   18h\n",
      "kube-system       Active   18h\n"
     ]
    }
   ],
   "source": [
    "# Display all namespaces in the cluster\n",
    "!echo ---Namespaces---\n",
    "!kubectl get ns"
   ]
  },
  {
   "cell_type": "code",
   "execution_count": null,
   "id": "df80c317",
   "metadata": {
    "vscode": {
     "languageId": "bat"
    }
   },
   "outputs": [],
   "source": [
    "# Display all nodes in the cluster\n",
    "!echo ---Nodes---\n",
    "!kubectl get nodes"
   ]
  },
  {
   "cell_type": "code",
   "execution_count": 17,
   "id": "1db2277a",
   "metadata": {
    "vscode": {
     "languageId": "bat"
    }
   },
   "outputs": [
    {
     "name": "stdout",
     "output_type": "stream",
     "text": [
      "---Storage Classes---\n",
      "NAME                 PROVISIONER          RECLAIMPOLICY   VOLUMEBINDINGMODE   ALLOWVOLUMEEXPANSION   AGE\n",
      "hostpath (default)   docker.io/hostpath   Delete          Immediate           false                  41m\n"
     ]
    }
   ],
   "source": [
    "# Display all storage classes in the cluster\n",
    "!echo ---Storage Classes---\n",
    "!kubectl get storageclass"
   ]
  },
  {
   "cell_type": "code",
   "execution_count": 18,
   "id": "419008b6",
   "metadata": {
    "vscode": {
     "languageId": "bat"
    }
   },
   "outputs": [
    {
     "name": "stdout",
     "output_type": "stream",
     "text": [
      "---Config Maps---\n",
      "NAME                     DATA   AGE\n",
      "auth-messages            2      86s\n",
      "kube-root-ca.crt         1      41m\n",
      "product-service-config   2      85s\n",
      "user-service-config      2      85s\n",
      "web-interface-config     2      85s\n"
     ]
    }
   ],
   "source": [
    "# Display all config maps in the cluster\n",
    "!echo ---Config Maps---\n",
    "!kubectl get configmap"
   ]
  },
  {
   "cell_type": "code",
   "execution_count": 19,
   "id": "d457dac4",
   "metadata": {
    "vscode": {
     "languageId": "bat"
    }
   },
   "outputs": [
    {
     "name": "stdout",
     "output_type": "stream",
     "text": [
      "---Secrets---\n",
      "NAME                     TYPE     DATA   AGE\n",
      "product-service-secret   Opaque   0      89s\n",
      "user-service-secret      Opaque   1      89s\n",
      "web-interface-secret     Opaque   0      89s\n"
     ]
    }
   ],
   "source": [
    "# Display all secrets in the cluster\n",
    "!echo ---Secrets---\n",
    "!kubectl get secret"
   ]
  },
  {
   "cell_type": "code",
   "execution_count": 57,
   "id": "d7bf17ec",
   "metadata": {
    "vscode": {
     "languageId": "bat"
    }
   },
   "outputs": [
    {
     "name": "stdout",
     "output_type": "stream",
     "text": [
      "---Ingress Controller Pods---\n"
     ]
    },
    {
     "name": "stdout",
     "output_type": "stream",
     "text": [
      "NAME                                       READY   STATUS    RESTARTS      AGE\n",
      "ingress-nginx-controller-675c4bf49-dk2kj   1/1     Running   9 (51s ago)   5h46m\n",
      "---Ingress Services---\n",
      "NAME                                 TYPE        CLUSTER-IP     EXTERNAL-IP   PORT(S)        AGE\n",
      "ingress-nginx-controller             NodePort    10.99.7.203    <none>        80:32000/TCP   5h46m\n",
      "ingress-nginx-controller-admission   ClusterIP   10.111.71.82   <none>        443/TCP        5h46m\n",
      "---Ingress---\n",
      "NAMESPACE   NAME                    CLASS   HOSTS   ADDRESS       PORTS   AGE\n",
      "default     ingress-configuration   nginx   *       10.99.7.203   80      5h44m\n"
     ]
    }
   ],
   "source": [
    "# Display Ingress controller details and Ingress resources\n",
    "!echo ---Ingress Controller Pods---\n",
    "!kubectl get pods -n ingress-nginx\n",
    "!echo ---Ingress Services---\n",
    "!kubectl get svc -n ingress-nginx\n",
    "!echo ---Ingress---\n",
    "!kubectl get ingress --all-namespaces"
   ]
  },
  {
   "cell_type": "code",
   "execution_count": 62,
   "id": "8ea1a4de",
   "metadata": {
    "vscode": {
     "languageId": "bat"
    }
   },
   "outputs": [
    {
     "name": "stdout",
     "output_type": "stream",
     "text": [
      "Name:             ingress-configuration\n",
      "Labels:           <none>\n",
      "Namespace:        default\n",
      "Address:          10.99.7.203\n",
      "Ingress Class:    nginx\n",
      "Default backend:  <default>\n",
      "Rules:\n",
      "  Host        Path  Backends\n",
      "  ----        ----  --------\n",
      "  *           \n",
      "              /api/users      user-service:3000 (10.1.0.46:3000)\n",
      "              /api/products   product-service:3001 (10.1.0.45:3001)\n",
      "              /               web-interface:80 (10.1.0.48:80)\n",
      "Annotations:  kubernetes.io/ingress.class: nginx\n",
      "Events:\n",
      "  Type    Reason  Age                    From                      Message\n",
      "  ----    ------  ----                   ----                      -------\n",
      "  Normal  Sync    3h25m (x2 over 3h25m)  nginx-ingress-controller  Scheduled for sync\n",
      "  Normal  Sync    3h2m                   nginx-ingress-controller  Scheduled for sync\n",
      "  Normal  Sync    148m                   nginx-ingress-controller  Scheduled for sync\n",
      "  Normal  Sync    120m                   nginx-ingress-controller  Scheduled for sync\n",
      "  Normal  Sync    104m (x2 over 104m)    nginx-ingress-controller  Scheduled for sync\n",
      "  Normal  Sync    59m (x2 over 59m)      nginx-ingress-controller  Scheduled for sync\n",
      "  Normal  Sync    11m (x2 over 17m)      nginx-ingress-controller  Scheduled for sync\n",
      "  Normal  Sync    95s                    nginx-ingress-controller  Scheduled for sync\n"
     ]
    }
   ],
   "source": [
    "!kubectl describe ingress ingress-configuration"
   ]
  },
  {
   "cell_type": "markdown",
   "id": "56bcbaa6",
   "metadata": {},
   "source": [
    "### *DEBUG*"
   ]
  },
  {
   "cell_type": "code",
   "execution_count": 45,
   "id": "e005b1e3",
   "metadata": {
    "vscode": {
     "languageId": "bat"
    }
   },
   "outputs": [],
   "source": [
    "pod = \"user-service-bd464cd9d-ngnkg\""
   ]
  },
  {
   "cell_type": "code",
   "execution_count": 46,
   "id": "9233f9e2",
   "metadata": {
    "vscode": {
     "languageId": "bat"
    }
   },
   "outputs": [
    {
     "name": "stdout",
     "output_type": "stream",
     "text": [
      "---Logs for user-service-bd464cd9d-ngnkg---\n",
      "\n",
      "> user-service@1.0.0 start\n",
      "> node index.js\n",
      "\n",
      "node:internal/modules/cjs/loader:1143\n",
      "  throw err;\n",
      "  ^\n",
      "\n",
      "Error: Cannot find module '/app/index.js'\n",
      "    at Module._resolveFilename (node:internal/modules/cjs/loader:1140:15)\n",
      "    at Module._load (node:internal/modules/cjs/loader:981:27)\n",
      "    at Function.executeUserEntryPoint [as runMain] (node:internal/modules/run_main:128:12)\n",
      "    at node:internal/main/run_main_module:28:49 {\n",
      "  code: 'MODULE_NOT_FOUND',\n",
      "  requireStack: []\n",
      "}\n",
      "\n",
      "Node.js v18.20.8\n"
     ]
    }
   ],
   "source": [
    "!echo ---Logs for {pod}---\n",
    "!kubectl logs {pod}"
   ]
  },
  {
   "cell_type": "code",
   "execution_count": 47,
   "id": "80d31d14",
   "metadata": {
    "vscode": {
     "languageId": "bat"
    }
   },
   "outputs": [
    {
     "name": "stdout",
     "output_type": "stream",
     "text": [
      "---Previous logs for user-service-bd464cd9d-ngnkg---\n",
      "\n",
      "> user-service@1.0.0 start\n",
      "> node index.js\n",
      "\n",
      "node:internal/modules/cjs/loader:1143\n",
      "  throw err;\n",
      "  ^\n",
      "\n",
      "Error: Cannot find module '/app/index.js'\n",
      "    at Module._resolveFilename (node:internal/modules/cjs/loader:1140:15)\n",
      "    at Module._load (node:internal/modules/cjs/loader:981:27)\n",
      "    at Function.executeUserEntryPoint [as runMain] (node:internal/modules/run_main:128:12)\n",
      "    at node:internal/main/run_main_module:28:49 {\n",
      "  code: 'MODULE_NOT_FOUND',\n",
      "  requireStack: []\n",
      "}\n",
      "\n",
      "Node.js v18.20.8\n"
     ]
    }
   ],
   "source": [
    "!echo ---Previous logs for {pod}---\n",
    "!kubectl logs {pod} --previous"
   ]
  },
  {
   "cell_type": "markdown",
   "id": "07421c1d",
   "metadata": {},
   "source": [
    "# **II. FRONTEND**"
   ]
  },
  {
   "cell_type": "markdown",
   "id": "693256b2",
   "metadata": {},
   "source": [
    "## **Web Interface**"
   ]
  },
  {
   "cell_type": "code",
   "execution_count": 61,
   "id": "d4b13ebb",
   "metadata": {
    "vscode": {
     "languageId": "bat"
    }
   },
   "outputs": [
    {
     "name": "stdout",
     "output_type": "stream",
     "text": [
      "---Shutting down web-interface---\n",
      "service \"web-interface\" deleted\n",
      "deployment.apps \"web-interface\" deleted\n"
     ]
    }
   ],
   "source": [
    "# Shutdown Web Interface Service\n",
    "service = \"web-interface\"\n",
    "!echo ---Shutting down {service}---\n",
    "!kubectl delete service {service}\n",
    "!kubectl delete deployment {service}"
   ]
  },
  {
   "cell_type": "code",
   "execution_count": 62,
   "id": "bcf31296",
   "metadata": {
    "vscode": {
     "languageId": "bat"
    }
   },
   "outputs": [
    {
     "name": "stdout",
     "output_type": "stream",
     "text": [
      "---Building web-interface---\n"
     ]
    },
    {
     "name": "stderr",
     "output_type": "stream",
     "text": [
      "#0 building with \"desktop-linux\" instance using docker driver\n",
      "\n",
      "#1 [internal] load build definition from Dockerfile\n",
      "#1 transferring dockerfile: 516B 0.1s done\n",
      "#1 DONE 0.2s\n",
      "\n",
      "#2 [internal] load metadata for docker.io/library/nginx:alpine\n",
      "#2 ...\n",
      "\n",
      "#3 [auth] library/node:pull token for registry-1.docker.io\n",
      "#3 DONE 0.0s\n",
      "\n",
      "#4 [auth] library/nginx:pull token for registry-1.docker.io\n",
      "#4 DONE 0.0s\n",
      "\n",
      "#5 [internal] load metadata for docker.io/library/node:18-alpine\n",
      "#5 DONE 0.8s\n",
      "\n",
      "#2 [internal] load metadata for docker.io/library/nginx:alpine\n",
      "#2 DONE 0.8s\n",
      "\n",
      "#6 [internal] load .dockerignore\n",
      "#6 transferring context: 81B 0.0s done\n",
      "#6 DONE 0.1s\n",
      "\n",
      "#7 [stage-1 1/3] FROM docker.io/library/nginx:alpine@sha256:d67ea0d64d518b1bb04acde3b00f722ac3e9764b3209a9b0a98924ba35e4b779\n",
      "#7 resolve docker.io/library/nginx:alpine@sha256:d67ea0d64d518b1bb04acde3b00f722ac3e9764b3209a9b0a98924ba35e4b779 0.1s done\n",
      "#7 DONE 0.1s\n",
      "\n",
      "#8 [internal] load build context\n",
      "#8 transferring context: 1.57kB 0.0s done\n",
      "#8 DONE 0.0s\n",
      "\n",
      "#9 [build 1/6] FROM docker.io/library/node:18-alpine@sha256:8d6421d663b4c28fd3ebc498332f249011d118945588d0a35cb9bc4b8ca09d9e\n",
      "#9 resolve docker.io/library/node:18-alpine@sha256:8d6421d663b4c28fd3ebc498332f249011d118945588d0a35cb9bc4b8ca09d9e 0.1s done\n",
      "#9 DONE 0.1s\n",
      "\n",
      "#10 [build 2/6] WORKDIR /app\n",
      "#10 CACHED\n",
      "\n",
      "#11 [build 3/6] COPY package*.json ./\n",
      "#11 CACHED\n",
      "\n",
      "#12 [build 4/6] RUN npm install\n",
      "#12 CACHED\n",
      "\n",
      "#13 [build 5/6] COPY . .\n",
      "#13 CACHED\n",
      "\n",
      "#14 [build 6/6] RUN npm run build\n",
      "#14 3.031 \n",
      "#14 3.031 > web-interface@0.1.0 build\n",
      "#14 3.031 > react-scripts build\n",
      "#14 3.031 \n",
      "#14 8.659 Creating an optimized production build...\n",
      "#14 17.36 Failed to compile.\n",
      "#14 17.36 \n",
      "#14 17.36 Module not found: Error: Can't resolve './api/userAPI' in '/app/src/pages'\n",
      "#14 17.36 \n",
      "#14 17.36 \n",
      "#14 ERROR: process \"/bin/sh -c npm run build\" did not complete successfully: exit code: 1\n",
      "------\n",
      " > [build 6/6] RUN npm run build:\n",
      "3.031 \n",
      "3.031 > web-interface@0.1.0 build\n",
      "3.031 > react-scripts build\n",
      "3.031 \n",
      "8.659 Creating an optimized production build...\n",
      "17.36 Failed to compile.\n",
      "17.36 \n",
      "17.36 Module not found: Error: Can't resolve './api/userAPI' in '/app/src/pages'\n",
      "17.36 \n",
      "17.36 \n",
      "------\n",
      "Dockerfile:9\n",
      "--------------------\n",
      "   7 |     RUN npm install\n",
      "   8 |     COPY . .\n",
      "   9 | >>> RUN npm run build\n",
      "  10 |     \n",
      "  11 |     # --- Run stage ---\n",
      "--------------------\n",
      "ERROR: failed to build: failed to solve: process \"/bin/sh -c npm run build\" did not complete successfully: exit code: 1\n",
      "\n",
      "View build details: docker-desktop://dashboard/build/desktop-linux/desktop-linux/z7ezygokx9o730dpzlw4fjp1s\n"
     ]
    }
   ],
   "source": [
    "# Build Web Interface Service\n",
    "service = \"web-interface\"\n",
    "!echo ---Building {service}---\n",
    "!docker build -t {service} C:\\\\Services\\\\{service}\\\\"
   ]
  },
  {
   "cell_type": "code",
   "execution_count": 63,
   "id": "b73d6442",
   "metadata": {
    "vscode": {
     "languageId": "bat"
    }
   },
   "outputs": [
    {
     "name": "stdout",
     "output_type": "stream",
     "text": [
      "---Deploying web-interface---\n"
     ]
    },
    {
     "name": "stdout",
     "output_type": "stream",
     "text": [
      "deployment.apps/web-interface created\n",
      "service/web-interface created\n"
     ]
    }
   ],
   "source": [
    "# Deploy Web Interface Service\n",
    "service = \"web-interface\"\n",
    "!echo ---Deploying {service}---\n",
    "!kubectl apply -f C:\\\\Services\\\\{service}\\\\k8s\\\\"
   ]
  },
  {
   "cell_type": "markdown",
   "id": "454e88c7",
   "metadata": {},
   "source": [
    "# **III. BACKEND**"
   ]
  },
  {
   "cell_type": "markdown",
   "id": "ea32684c",
   "metadata": {},
   "source": [
    "## **1. User Service**"
   ]
  },
  {
   "cell_type": "code",
   "execution_count": 58,
   "id": "fb4de299",
   "metadata": {
    "vscode": {
     "languageId": "bat"
    }
   },
   "outputs": [
    {
     "name": "stdout",
     "output_type": "stream",
     "text": [
      "---Shutting down user-service---\n"
     ]
    },
    {
     "name": "stderr",
     "output_type": "stream",
     "text": [
      "Error from server (NotFound): services \"user-service\" not found\n",
      "Error from server (NotFound): deployments.apps \"user-service\" not found\n",
      "Error from server (NotFound): services \"user-service-db\" not found\n",
      "Error from server (NotFound): deployments.apps \"user-service-db\" not found\n"
     ]
    }
   ],
   "source": [
    "# Shutdown User Service\n",
    "service = \"user-service\"\n",
    "service_db = f\"{service}-db\"\n",
    "!echo ---Shutting down {service}---\n",
    "!kubectl delete service {service}\n",
    "!kubectl delete deployment {service}\n",
    "!kubectl delete service {service_db}\n",
    "!kubectl delete deployment {service_db}"
   ]
  },
  {
   "cell_type": "code",
   "execution_count": 59,
   "id": "7823d9d2",
   "metadata": {
    "vscode": {
     "languageId": "bat"
    }
   },
   "outputs": [
    {
     "name": "stdout",
     "output_type": "stream",
     "text": [
      "---Building user-service---\n"
     ]
    },
    {
     "name": "stderr",
     "output_type": "stream",
     "text": [
      "#0 building with \"desktop-linux\" instance using docker driver\n",
      "\n",
      "#1 [internal] load build definition from Dockerfile\n",
      "#1 transferring dockerfile: 335B 0.1s done\n",
      "#1 DONE 0.2s\n",
      "\n",
      "#2 [internal] load metadata for docker.io/library/node:18-alpine\n",
      "#2 DONE 0.5s\n",
      "\n",
      "#3 [internal] load .dockerignore\n",
      "#3 transferring context: 79B 0.0s done\n",
      "#3 DONE 0.1s\n",
      "\n",
      "#4 [internal] load build context\n",
      "#4 DONE 0.0s\n",
      "\n",
      "#5 [1/5] FROM docker.io/library/node:18-alpine@sha256:8d6421d663b4c28fd3ebc498332f249011d118945588d0a35cb9bc4b8ca09d9e\n",
      "#5 ...\n",
      "\n",
      "#4 [internal] load build context\n",
      "#4 transferring context: 1.08kB 0.0s done\n",
      "#4 DONE 0.1s\n",
      "\n",
      "#5 [1/5] FROM docker.io/library/node:18-alpine@sha256:8d6421d663b4c28fd3ebc498332f249011d118945588d0a35cb9bc4b8ca09d9e\n",
      "#5 resolve docker.io/library/node:18-alpine@sha256:8d6421d663b4c28fd3ebc498332f249011d118945588d0a35cb9bc4b8ca09d9e 0.1s done\n",
      "#5 DONE 0.1s\n",
      "\n",
      "#6 [4/5] RUN npm install\n",
      "#6 CACHED\n",
      "\n",
      "#7 [2/5] WORKDIR /app\n",
      "#7 CACHED\n",
      "\n",
      "#8 [3/5] COPY package*.json ./\n",
      "#8 CACHED\n",
      "\n",
      "#9 [5/5] COPY . .\n",
      "#9 CACHED\n",
      "\n",
      "#10 exporting to image\n",
      "#10 exporting layers 0.0s done\n",
      "#10 exporting manifest sha256:3a9607c511bb428fb715311583c7cfa57de296b0b6588c6aaf2cfd65064a15b9 0.0s done\n",
      "#10 exporting config sha256:69e9ae782f037ece3823b611c72d42c6f462a290e95f22516c5aa7de215df762 0.0s done\n",
      "#10 exporting attestation manifest sha256:4af3e44be20da8bdc600b20e2293271fd62e3a37cb9967aeb65d56c908a36e7e\n",
      "#10 exporting attestation manifest sha256:4af3e44be20da8bdc600b20e2293271fd62e3a37cb9967aeb65d56c908a36e7e 0.1s done\n",
      "#10 exporting manifest list sha256:c448fa891d92807528b88b268a8fcb3fdea3949a0e7499941fe66c40d83af560 0.0s done\n",
      "#10 naming to docker.io/library/user-service:latest\n",
      "#10 naming to docker.io/library/user-service:latest done\n",
      "#10 unpacking to docker.io/library/user-service:latest 0.0s done\n",
      "#10 DONE 0.4s\n",
      "\n",
      "View build details: docker-desktop://dashboard/build/desktop-linux/desktop-linux/ejnl7l1vrqfbqwcq5e4tyivko\n"
     ]
    }
   ],
   "source": [
    "# Build User Service\n",
    "service = \"user-service\"\n",
    "!echo ---Building {service}---\n",
    "!docker build -t {service} C:\\\\Services\\\\{service}\\\\"
   ]
  },
  {
   "cell_type": "code",
   "execution_count": 60,
   "id": "dadc16a1",
   "metadata": {
    "vscode": {
     "languageId": "bat"
    }
   },
   "outputs": [
    {
     "name": "stdout",
     "output_type": "stream",
     "text": [
      "---Deploying user-service---\n"
     ]
    },
    {
     "name": "stdout",
     "output_type": "stream",
     "text": [
      "deployment.apps/user-service-db created\n",
      "service/user-service-db created\n",
      "deployment.apps/user-service created\n",
      "service/user-service created\n"
     ]
    }
   ],
   "source": [
    "# Deploy User Service\n",
    "service = \"user-service\"\n",
    "!echo ---Deploying {service}---\n",
    "!kubectl apply -f C:\\\\Services\\\\{service}\\\\k8s\\\\"
   ]
  },
  {
   "cell_type": "markdown",
   "id": "a35c82a6",
   "metadata": {},
   "source": [
    "## **2. Product Service**"
   ]
  },
  {
   "cell_type": "code",
   "execution_count": 34,
   "id": "fa506d89",
   "metadata": {
    "vscode": {
     "languageId": "bat"
    }
   },
   "outputs": [
    {
     "name": "stdout",
     "output_type": "stream",
     "text": [
      "---Shutting down product-service---\n",
      "service \"product-service\" deleted\n",
      "deployment.apps \"product-service\" deleted\n",
      "service \"product-service-db\" deleted\n",
      "deployment.apps \"product-service-db\" deleted\n"
     ]
    }
   ],
   "source": [
    "# Shutdown Product Service\n",
    "service = \"product-service\"\n",
    "service_db = f\"{service}-db\"\n",
    "!echo ---Shutting down {service}---\n",
    "!kubectl delete service {service}\n",
    "!kubectl delete deployment {service}\n",
    "!kubectl delete service {service_db}\n",
    "!kubectl delete deployment {service_db}"
   ]
  },
  {
   "cell_type": "code",
   "execution_count": 35,
   "id": "2f33470a",
   "metadata": {
    "vscode": {
     "languageId": "bat"
    }
   },
   "outputs": [
    {
     "name": "stdout",
     "output_type": "stream",
     "text": [
      "---Building product-service---\n"
     ]
    },
    {
     "name": "stderr",
     "output_type": "stream",
     "text": [
      "#0 building with \"desktop-linux\" instance using docker driver\n",
      "\n",
      "#1 [internal] load build definition from Dockerfile\n",
      "#1 transferring dockerfile: 337B 0.1s done\n",
      "#1 DONE 0.2s\n",
      "\n",
      "#2 [internal] load metadata for docker.io/library/node:18-alpine\n",
      "#2 ...\n",
      "\n",
      "#3 [auth] library/node:pull token for registry-1.docker.io\n",
      "#3 DONE 0.0s\n",
      "\n",
      "#2 [internal] load metadata for docker.io/library/node:18-alpine\n",
      "#2 DONE 0.7s\n",
      "\n",
      "#4 [internal] load .dockerignore\n",
      "#4 transferring context: 79B 0.0s done\n",
      "#4 DONE 0.2s\n",
      "\n",
      "#5 [internal] load build context\n",
      "#5 transferring context: 1.30kB 0.1s done\n",
      "#5 DONE 0.2s\n",
      "\n",
      "#6 [1/5] FROM docker.io/library/node:18-alpine@sha256:8d6421d663b4c28fd3ebc498332f249011d118945588d0a35cb9bc4b8ca09d9e\n",
      "#6 resolve docker.io/library/node:18-alpine@sha256:8d6421d663b4c28fd3ebc498332f249011d118945588d0a35cb9bc4b8ca09d9e 0.2s done\n",
      "#6 DONE 0.3s\n",
      "\n",
      "#7 [2/5] WORKDIR /app\n",
      "#7 CACHED\n",
      "\n",
      "#8 [3/5] COPY package*.json ./\n",
      "#8 CACHED\n",
      "\n",
      "#9 [4/5] RUN npm install\n",
      "#9 CACHED\n",
      "\n",
      "#10 [5/5] COPY . .\n",
      "#10 DONE 0.2s\n",
      "\n",
      "#11 exporting to image\n",
      "#11 exporting layers\n",
      "#11 exporting layers 0.3s done\n",
      "#11 exporting manifest sha256:436ca37fe7214f49d183524e370947fd444dc45ed5d02eb0882a6f66386da60f 0.1s done\n",
      "#11 exporting config sha256:52545d3862155da62ac37e22f9e31e3947dce4b6943c9306ced8ad696eab6226 0.1s done\n",
      "#11 exporting attestation manifest sha256:f724dbf14b075acd0c99941610f598542827d516d31ba0b40a737264e4466d3d 0.1s done\n",
      "#11 exporting manifest list sha256:501a682f9e1cfb46bd145747be8478c54f633e088515a5a1da520263f8a28aec\n",
      "#11 exporting manifest list sha256:501a682f9e1cfb46bd145747be8478c54f633e088515a5a1da520263f8a28aec 0.1s done\n",
      "#11 naming to docker.io/library/product-service:latest\n",
      "#11 naming to docker.io/library/product-service:latest done\n",
      "#11 unpacking to docker.io/library/product-service:latest\n",
      "#11 unpacking to docker.io/library/product-service:latest 0.2s done\n",
      "#11 DONE 1.7s\n",
      "\n",
      "View build details: docker-desktop://dashboard/build/desktop-linux/desktop-linux/p5khrlurrp6q14eyvjnwmcor1\n"
     ]
    }
   ],
   "source": [
    "# Build Product Service\n",
    "service = \"product-service\"\n",
    "!echo ---Building {service}---\n",
    "!docker build -t {service} C:\\\\Services\\\\{service}\\\\"
   ]
  },
  {
   "cell_type": "code",
   "execution_count": 36,
   "id": "68309b39",
   "metadata": {
    "vscode": {
     "languageId": "bat"
    }
   },
   "outputs": [
    {
     "name": "stdout",
     "output_type": "stream",
     "text": [
      "---Deploying product-service---\n",
      "deployment.apps/product-service-db created\n",
      "service/product-service-db created\n",
      "deployment.apps/product-service created\n",
      "service/product-service created\n"
     ]
    }
   ],
   "source": [
    "# Deploy Product Service\n",
    "service = \"product-service\"\n",
    "!echo ---Deploying {service}---\n",
    "!kubectl apply -f C:\\\\Services\\\\{service}\\\\k8s\\\\"
   ]
  },
  {
   "cell_type": "markdown",
   "id": "c832fe94",
   "metadata": {},
   "source": [
    "# **IV. PVC**"
   ]
  },
  {
   "cell_type": "markdown",
   "id": "4716ac07",
   "metadata": {},
   "source": [
    "### **1. User Service**"
   ]
  },
  {
   "cell_type": "code",
   "execution_count": null,
   "id": "1ffaa438",
   "metadata": {
    "vscode": {
     "languageId": "bat"
    }
   },
   "outputs": [
    {
     "name": "stdout",
     "output_type": "stream",
     "text": [
      "---Shutting down PVC for user-service---\n",
      "persistentvolumeclaim \"user-service-db-pvc\" deleted\n"
     ]
    }
   ],
   "source": [
    "# Shutdown PVC for User Service\n",
    "service = \"user-service\"\n",
    "service_pvc = f\"{service}-db-pvc\"\n",
    "!echo ---Shutting down PVC for {service}---\n",
    "!kubectl delete pvc {service_pvc}"
   ]
  },
  {
   "cell_type": "code",
   "execution_count": null,
   "id": "060bf429",
   "metadata": {
    "vscode": {
     "languageId": "bat"
    }
   },
   "outputs": [
    {
     "name": "stdout",
     "output_type": "stream",
     "text": [
      "---Deploying PVC for user-service---\n"
     ]
    },
    {
     "name": "stdout",
     "output_type": "stream",
     "text": [
      "persistentvolumeclaim/user-service-db-pvc created\n"
     ]
    }
   ],
   "source": [
    "# Deploy PVC for User Service\n",
    "service = \"user-service\"\n",
    "!echo ---Deploying PVC for {service}---\n",
    "!kubectl apply -f C:\\\\Services\\\\{service}\\\\k8s\\\\pvc"
   ]
  },
  {
   "cell_type": "markdown",
   "id": "cf2acb8f",
   "metadata": {},
   "source": [
    "### **2. Product Service**"
   ]
  },
  {
   "cell_type": "code",
   "execution_count": null,
   "id": "efef4e7c",
   "metadata": {
    "vscode": {
     "languageId": "bat"
    }
   },
   "outputs": [
    {
     "name": "stdout",
     "output_type": "stream",
     "text": [
      "---Shutting down PVC---\n",
      "persistentvolumeclaim \"product-service-db-pvc\" deleted\n"
     ]
    }
   ],
   "source": [
    "# Shutdown PVC for Product Service\n",
    "service = \"product-service\"\n",
    "service_pvc = f\"{service}-db-pvc\"\n",
    "!echo ---Shutting down PVC---\n",
    "!kubectl delete pvc {service_pvc}"
   ]
  },
  {
   "cell_type": "code",
   "execution_count": 12,
   "id": "8602b3af",
   "metadata": {
    "vscode": {
     "languageId": "bat"
    }
   },
   "outputs": [
    {
     "name": "stdout",
     "output_type": "stream",
     "text": [
      "---Deploying PVC---\n",
      "persistentvolumeclaim/product-service-db-pvc created\n"
     ]
    }
   ],
   "source": [
    "# Deploy PVC for Product Service\n",
    "service = \"product-service\"\n",
    "!echo ---Deploying PVC---\n",
    "!kubectl apply -f C:\\\\Services\\\\{service}\\\\k8s\\\\pvc"
   ]
  },
  {
   "cell_type": "markdown",
   "id": "697567e1",
   "metadata": {},
   "source": [
    "# **V. CONFIGURATION**"
   ]
  },
  {
   "cell_type": "markdown",
   "id": "602774bf",
   "metadata": {},
   "source": [
    "## **1. ConfigMaps**"
   ]
  },
  {
   "cell_type": "code",
   "execution_count": 70,
   "id": "fede3f56",
   "metadata": {
    "vscode": {
     "languageId": "bat"
    }
   },
   "outputs": [
    {
     "name": "stdout",
     "output_type": "stream",
     "text": [
      "---Applying configmaps---\n",
      "configmap/auth-messages unchanged\n",
      "configmap/user-service-config unchanged\n",
      "configmap/product-service-config unchanged\n",
      "configmap/web-interface-config unchanged\n"
     ]
    }
   ],
   "source": [
    "# Apply ConfigMaps\n",
    "folder = \"configmaps\"\n",
    "!echo ---Applying {folder}---\n",
    "!kubectl apply -f C:\\\\Services\\\\{folder}\\\\"
   ]
  },
  {
   "cell_type": "markdown",
   "id": "472265c9",
   "metadata": {},
   "source": [
    "## **2. Secrets**"
   ]
  },
  {
   "cell_type": "code",
   "execution_count": 71,
   "id": "d73ca3ef",
   "metadata": {
    "vscode": {
     "languageId": "bat"
    }
   },
   "outputs": [
    {
     "name": "stdout",
     "output_type": "stream",
     "text": [
      "---Applying secrets---\n",
      "secret/user-service-secret configured\n",
      "secret/product-service-secret configured\n",
      "secret/web-interface-secret configured\n"
     ]
    }
   ],
   "source": [
    "# Apply Secrets\n",
    "folder = \"secrets\"\n",
    "!echo ---Applying {folder}---\n",
    "!kubectl apply -f C:\\\\Services\\\\{folder}\\\\"
   ]
  },
  {
   "cell_type": "markdown",
   "id": "ec526888",
   "metadata": {},
   "source": [
    "## **3. Ingress**"
   ]
  },
  {
   "cell_type": "code",
   "execution_count": 72,
   "id": "04923ee3",
   "metadata": {
    "vscode": {
     "languageId": "bat"
    }
   },
   "outputs": [
    {
     "name": "stdout",
     "output_type": "stream",
     "text": [
      "---Applying ingress configuration---\n",
      "ingress.networking.k8s.io/ingress-configuration unchanged\n",
      "service/ingress-nginx-controller unchanged\n"
     ]
    }
   ],
   "source": [
    "# Apply Ingress Configuration\n",
    "folder = \"ingress\"\n",
    "!echo ---Applying {folder} configuration---\n",
    "!kubectl apply -f C:\\\\Services\\\\{folder}\\\\"
   ]
  },
  {
   "cell_type": "code",
   "execution_count": 8,
   "id": "5e9f6ecf",
   "metadata": {
    "vscode": {
     "languageId": "bat"
    }
   },
   "outputs": [
    {
     "name": "stdout",
     "output_type": "stream",
     "text": [
      "---Deploying Ingress Controller---\n",
      "namespace/ingress-nginx created\n",
      "serviceaccount/ingress-nginx created\n",
      "serviceaccount/ingress-nginx-admission created\n",
      "role.rbac.authorization.k8s.io/ingress-nginx created\n",
      "role.rbac.authorization.k8s.io/ingress-nginx-admission created\n",
      "clusterrole.rbac.authorization.k8s.io/ingress-nginx created\n",
      "clusterrole.rbac.authorization.k8s.io/ingress-nginx-admission created\n",
      "rolebinding.rbac.authorization.k8s.io/ingress-nginx created\n",
      "rolebinding.rbac.authorization.k8s.io/ingress-nginx-admission created\n",
      "clusterrolebinding.rbac.authorization.k8s.io/ingress-nginx created\n",
      "clusterrolebinding.rbac.authorization.k8s.io/ingress-nginx-admission created\n",
      "configmap/ingress-nginx-controller created\n",
      "service/ingress-nginx-controller created\n",
      "service/ingress-nginx-controller-admission created\n",
      "deployment.apps/ingress-nginx-controller created\n",
      "job.batch/ingress-nginx-admission-create created\n",
      "job.batch/ingress-nginx-admission-patch created\n",
      "ingressclass.networking.k8s.io/nginx created\n",
      "validatingwebhookconfiguration.admissionregistration.k8s.io/ingress-nginx-admission created\n"
     ]
    }
   ],
   "source": [
    "# Deploy Ingress Controller\n",
    "!echo ---Deploying Ingress Controller---\n",
    "!kubectl apply -f https://raw.githubusercontent.com/kubernetes/ingress-nginx/main/deploy/static/provider/cloud/deploy.yaml"
   ]
  }
 ],
 "metadata": {
  "kernelspec": {
   "display_name": "Python 3",
   "language": "python",
   "name": "python3"
  },
  "language_info": {
   "codemirror_mode": {
    "name": "ipython",
    "version": 3
   },
   "file_extension": ".py",
   "mimetype": "text/x-python",
   "name": "python",
   "nbconvert_exporter": "python",
   "pygments_lexer": "ipython3",
   "version": "3.13.5"
  }
 },
 "nbformat": 4,
 "nbformat_minor": 5
}
