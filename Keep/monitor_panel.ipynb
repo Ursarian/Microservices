{
 "cells": [
  {
   "cell_type": "markdown",
   "id": "23baaf8d",
   "metadata": {},
   "source": [
    "# **I. KUBERNETES INFOS**"
   ]
  },
  {
   "cell_type": "code",
   "execution_count": 8,
   "id": "dad6afab",
   "metadata": {
    "vscode": {
     "languageId": "bat"
    }
   },
   "outputs": [
    {
     "name": "stdout",
     "output_type": "stream",
     "text": [
      "--- Pods ---\n",
      "NAME                                  READY   STATUS    RESTARTS   AGE    IP           NODE             NOMINATED NODE   READINESS GATES\n",
      "product-service-75c5fbfbb7-k5wbq      1/1     Running   0          17m    10.1.0.253   docker-desktop   <none>           <none>\n",
      "product-service-db-6b8f5c5ff5-89zbg   1/1     Running   0          18m    10.1.0.252   docker-desktop   <none>           <none>\n",
      "user-service-6575cbc976-9l8j7         1/1     Running   0          19m    10.1.0.250   docker-desktop   <none>           <none>\n",
      "user-service-db-c6d4bf8fc-rpvnb       1/1     Running   0          19m    10.1.0.251   docker-desktop   <none>           <none>\n",
      "web-interface-558f8f4b47-9tfxx        1/1     Running   0          110m   10.1.0.241   docker-desktop   <none>           <none>\n",
      "\n",
      "\n",
      "--- Services ---\n",
      "NAME                 TYPE        CLUSTER-IP       EXTERNAL-IP   PORT(S)          AGE\n",
      "kubernetes           ClusterIP   10.96.0.1        <none>        443/TCP          25h\n",
      "product-service      NodePort    10.107.177.44    <none>        3001:31001/TCP   17m\n",
      "product-service-db   ClusterIP   10.111.182.60    <none>        27017/TCP        18m\n",
      "user-service         NodePort    10.107.80.16     <none>        3000:31000/TCP   19m\n",
      "user-service-db      ClusterIP   10.105.35.49     <none>        27017/TCP        19m\n",
      "web-interface        NodePort    10.108.205.120   <none>        80:32000/TCP     110m\n",
      "\n",
      "Stopped watching.\n"
     ]
    }
   ],
   "source": [
    "# Monitor all pods and services in the cluster\n",
    "from IPython.display import clear_output\n",
    "import subprocess, time\n",
    "\n",
    "try:\n",
    "    while True:\n",
    "        clear_output(wait=True)\n",
    "        print('--- Pods ---')\n",
    "        # capture stdout/stderr, decode to text\n",
    "        pods = subprocess.run(\n",
    "            ['kubectl','get','pods','-o','wide'],\n",
    "            stdout=subprocess.PIPE,\n",
    "            stderr=subprocess.PIPE,\n",
    "            text=True\n",
    "        )\n",
    "        if pods.stdout:\n",
    "            print(pods.stdout)\n",
    "        if pods.stderr:\n",
    "            print(\"ERROR (pods):\", pods.stderr)\n",
    "\n",
    "        print('\\n--- Services ---')\n",
    "        svcs = subprocess.run(\n",
    "            ['kubectl','get','svc'],\n",
    "            stdout=subprocess.PIPE,\n",
    "            stderr=subprocess.PIPE,\n",
    "            text=True\n",
    "        )\n",
    "        if svcs.stdout:\n",
    "            print(svcs.stdout)\n",
    "        if svcs.stderr:\n",
    "            print(\"ERROR (svc):\", svcs.stderr)\n",
    "\n",
    "        time.sleep(10)\n",
    "except KeyboardInterrupt:\n",
    "    print(\"Stopped watching.\")\n",
    "\n"
   ]
  },
  {
   "cell_type": "code",
   "execution_count": 59,
   "id": "4b3f0bea",
   "metadata": {
    "vscode": {
     "languageId": "bat"
    }
   },
   "outputs": [
    {
     "name": "stdout",
     "output_type": "stream",
     "text": [
      "^C\n"
     ]
    },
    {
     "name": "stderr",
     "output_type": "stream",
     "text": [
      "Unable to use a TTY - input is not a terminal or the right kind of file\n",
      "command terminated with exit code 137\n"
     ]
    }
   ],
   "source": [
    "!kubectl exec -it deploy/monitoring-grafana -- sh"
   ]
  },
  {
   "cell_type": "markdown",
   "id": "e64d59c0",
   "metadata": {},
   "source": [
    "# **II. FRONTEND**"
   ]
  },
  {
   "cell_type": "code",
   "execution_count": 61,
   "id": "38821c49",
   "metadata": {
    "vscode": {
     "languageId": "bat"
    }
   },
   "outputs": [
    {
     "name": "stdout",
     "output_type": "stream",
     "text": [
      "deployment.apps/monitoring-grafana restarted\n"
     ]
    }
   ],
   "source": [
    "!kubectl rollout restart deployment monitoring-grafana"
   ]
  },
  {
   "cell_type": "markdown",
   "id": "ee05212b",
   "metadata": {},
   "source": [
    "## **Web Interface**"
   ]
  },
  {
   "cell_type": "code",
   "execution_count": null,
   "id": "450232f0",
   "metadata": {
    "vscode": {
     "languageId": "bat"
    }
   },
   "outputs": [
    {
     "name": "stdout",
     "output_type": "stream",
     "text": [
      "---Running tests for user-service---\n",
      "\n",
      "> user-service@1.0.0 test\n",
      "> jest\n",
      "\n"
     ]
    }
   ],
   "source": [
    "# Running tests for Web Interface Service\n",
    "service = \"web-interface\"\n",
    "!echo ---Running tests for {service}---\n",
    "!cd C:\\Services\\{service} && npm test"
   ]
  },
  {
   "cell_type": "markdown",
   "id": "5a68dbe2",
   "metadata": {},
   "source": [
    "# **III. BACKEND**"
   ]
  },
  {
   "cell_type": "markdown",
   "id": "20954bd2",
   "metadata": {},
   "source": [
    "## **1. User Service**"
   ]
  },
  {
   "cell_type": "code",
   "execution_count": null,
   "id": "a6db751b",
   "metadata": {
    "vscode": {
     "languageId": "bat"
    }
   },
   "outputs": [
    {
     "name": "stdout",
     "output_type": "stream",
     "text": [
      "---Running tests for user-service---\n",
      "\n",
      "> user-service@1.0.0 test\n",
      "> jest --coverage\n",
      "\n"
     ]
    },
    {
     "name": "stderr",
     "output_type": "stream",
     "text": [
      "'jest' is not recognized as an internal or external command,\n",
      "operable program or batch file.\n"
     ]
    }
   ],
   "source": [
    "# Running tests for User Service\n",
    "service = \"user-service\"\n",
    "!echo ---Running tests for {service}---\n",
    "!cd C:\\Services\\{service} && npm test"
   ]
  },
  {
   "cell_type": "markdown",
   "id": "fb5f8ffa",
   "metadata": {},
   "source": [
    "## **2. Product Service**"
   ]
  },
  {
   "cell_type": "code",
   "execution_count": 3,
   "id": "4ecb4cc0",
   "metadata": {
    "vscode": {
     "languageId": "bat"
    }
   },
   "outputs": [
    {
     "name": "stdout",
     "output_type": "stream",
     "text": [
      "---Running tests for product-service---\n"
     ]
    },
    {
     "name": "stdout",
     "output_type": "stream",
     "text": [
      "\n",
      "> product-service@1.0.0 test\n",
      "> cross-env NODE_ENV=test jest --coverage\n",
      "\n"
     ]
    },
    {
     "name": "stderr",
     "output_type": "stream",
     "text": [
      "'cross-env' is not recognized as an internal or external command,\n",
      "operable program or batch file.\n"
     ]
    }
   ],
   "source": [
    "# Running tests for Product Service\n",
    "service = \"product-service\"\n",
    "!echo ---Running tests for {service}---\n",
    "!cd C:\\Services\\{service} && npm test"
   ]
  },
  {
   "cell_type": "markdown",
   "id": "3ed5bc07",
   "metadata": {},
   "source": [
    "# **IV. MONITORING**"
   ]
  },
  {
   "cell_type": "markdown",
   "id": "acd44afc",
   "metadata": {},
   "source": [
    "## **Portforward**"
   ]
  },
  {
   "cell_type": "code",
   "execution_count": 5,
   "id": "b9e80886",
   "metadata": {
    "vscode": {
     "languageId": "bat"
    }
   },
   "outputs": [
    {
     "name": "stderr",
     "output_type": "stream",
     "text": [
      "System error 5 has occurred.\n",
      "\n",
      "Access is denied.\n",
      "\n"
     ]
    }
   ],
   "source": [
    "# Shutdown Local MongoDB\n",
    "!net stop MongoDB"
   ]
  },
  {
   "cell_type": "code",
   "execution_count": null,
   "id": "267d3131",
   "metadata": {
    "vscode": {
     "languageId": "bat"
    }
   },
   "outputs": [
    {
     "name": "stdout",
     "output_type": "stream",
     "text": [
      "---Portforwarding MongoDB---\n"
     ]
    },
    {
     "name": "stderr",
     "output_type": "stream",
     "text": [
      "Unable to listen on port 27017: Listeners failed to create with the following errors: [unable to create listener: Error listen tcp4 127.0.0.1:27017: bind: Only one usage of each socket address (protocol/network address/port) is normally permitted. unable to create listener: Error listen tcp6 [::1]:27017: bind: Only one usage of each socket address (protocol/network address/port) is normally permitted.]\n",
      "error: unable to listen on any of the requested ports: [{27017 27017}]\n"
     ]
    },
    {
     "name": "stdout",
     "output_type": "stream",
     "text": [
      "^C\n"
     ]
    },
    {
     "name": "stderr",
     "output_type": "stream",
     "text": [
      "error: lost connection to pod\n"
     ]
    },
    {
     "name": "stdout",
     "output_type": "stream",
     "text": [
      "Forwarding from 127.0.0.1:27018 -> 27017\n",
      "Forwarding from [::1]:27018 -> 27017\n",
      "Handling connection for 27018\n",
      "Handling connection for 27018\n",
      "Handling connection for 27018\n",
      "Handling connection for 27018\n",
      "Handling connection for 27018\n",
      "Handling connection for 27018\n",
      "Handling connection for 27018\n",
      "Handling connection for 27018\n",
      "Handling connection for 27018\n",
      "Handling connection for 27018\n"
     ]
    }
   ],
   "source": [
    "# Portforwarding MongoDB for User Service\n",
    "service = \"user-service\"\n",
    "service_db = f\"{service}-db\"\n",
    "port = 27017\n",
    "!echo ---Portforwarding MongoDB for {service}---\n",
    "!kubectl port-forward svc/{service_db} {port}:27017"
   ]
  },
  {
   "cell_type": "code",
   "execution_count": 40,
   "id": "2fb2b8ce",
   "metadata": {
    "vscode": {
     "languageId": "bat"
    }
   },
   "outputs": [
    {
     "name": "stdout",
     "output_type": "stream",
     "text": [
      "---Portforwarding MongoDB for product-service---\n",
      "^C\n"
     ]
    },
    {
     "name": "stderr",
     "output_type": "stream",
     "text": [
      "error: lost connection to pod\n"
     ]
    },
    {
     "name": "stdout",
     "output_type": "stream",
     "text": [
      "Forwarding from 127.0.0.1:27018 -> 27017\n",
      "Forwarding from [::1]:27018 -> 27017\n"
     ]
    }
   ],
   "source": [
    "# Portforwarding MongoDB for Product Service\n",
    "service = \"product-service\"\n",
    "service_db = f\"{service}-db\"\n",
    "port = 27018\n",
    "!echo ---Portforwarding MongoDB for {service}---\n",
    "!kubectl port-forward svc/{service_db} {port}:27017"
   ]
  },
  {
   "cell_type": "markdown",
   "id": "fa6cfd77",
   "metadata": {},
   "source": [
    "# **V. INSTALLATION**"
   ]
  },
  {
   "cell_type": "code",
   "execution_count": 4,
   "id": "c6435ead",
   "metadata": {
    "vscode": {
     "languageId": "bat"
    }
   },
   "outputs": [
    {
     "name": "stdout",
     "output_type": "stream",
     "text": [
      "---Navigating to web-interface---\n",
      "Current directory: C:\\Services\\web-interface\n",
      "Running command in web-interface\n",
      "---Navigating to user-service---\n",
      "Current directory: C:\\Services\\user-service\n",
      "Running command in user-service\n",
      "Installing Jest and Supertest for testing\n",
      "\n",
      "added 317 packages, and audited 426 packages in 55s\n",
      "\n",
      "64 packages are looking for funding\n",
      "  run `npm fund` for details\n",
      "\n",
      "found 0 vulnerabilities\n"
     ]
    },
    {
     "name": "stderr",
     "output_type": "stream",
     "text": [
      "npm warn deprecated inflight@1.0.6: This module is not supported, and leaks memory. Do not use it. Check out lru-cache if you want a good and tested way to coalesce async requests by a key value, which is much more comprehensive and powerful.\n",
      "npm warn deprecated glob@7.2.3: Glob versions prior to v9 are no longer supported\n"
     ]
    },
    {
     "name": "stdout",
     "output_type": "stream",
     "text": [
      "---Navigating to product-service---\n",
      "Current directory: C:\\Services\\product-service\n",
      "Running command in product-service\n",
      "Installing Jest and Supertest for testing\n",
      "\n",
      "added 313 packages, and audited 401 packages in 44s\n",
      "\n",
      "64 packages are looking for funding\n",
      "  run `npm fund` for details\n",
      "\n",
      "found 0 vulnerabilities\n"
     ]
    },
    {
     "name": "stderr",
     "output_type": "stream",
     "text": [
      "npm warn deprecated inflight@1.0.6: This module is not supported, and leaks memory. Do not use it. Check out lru-cache if you want a good and tested way to coalesce async requests by a key value, which is much more comprehensive and powerful.\n",
      "npm warn deprecated glob@7.2.3: Glob versions prior to v9 are no longer supported\n"
     ]
    }
   ],
   "source": [
    "# CMD in Services\n",
    "service = \"web-interface\"\n",
    "!echo ---Navigating to {service}---\n",
    "import os\n",
    "os.chdir(rf\"C:\\Services\\{service}\")\n",
    "print(f\"Current directory: {os.getcwd()}\")\n",
    "!echo Running command in {service}\n",
    "# Command to run in the service directory\n",
    "\n",
    "\n",
    "\n",
    "\n",
    "\n",
    "service = \"user-service\"\n",
    "!echo ---Navigating to {service}---\n",
    "import os\n",
    "os.chdir(rf\"C:\\Services\\{service}\")\n",
    "print(f\"Current directory: {os.getcwd()}\")\n",
    "!echo Running command in {service}\n",
    "# Command to run in the service directory\n",
    "\n",
    "\n",
    "# Installing Jest and Supertest for testing\n",
    "!echo Installing Jest and Supertest for testing\n",
    "!npm install --save-dev jest supertest\n",
    "\n",
    "\n",
    "service = \"product-service\"\n",
    "!echo ---Navigating to {service}---\n",
    "import os\n",
    "os.chdir(rf\"C:\\Services\\{service}\")\n",
    "print(f\"Current directory: {os.getcwd()}\")\n",
    "!echo Running command in {service}\n",
    "# Command to run in the service directory\n",
    "\n",
    "\n",
    "# Installing Jest and Supertest for testing\n",
    "!echo Installing Jest and Supertest for testing\n",
    "!npm install --save-dev jest supertest\n",
    "\n"
   ]
  },
  {
   "cell_type": "raw",
   "id": "7f7ccfe0",
   "metadata": {
    "vscode": {
     "languageId": "raw"
    }
   },
   "source": [
    "## Command Storage\n",
    "# Installing Jest and Supertest for testing\n",
    "!echo Installing Jest and Supertest for testing\n",
    "!npm install --save-dev jest supertest\n",
    "\n",
    "# Installing Cross-Env for environment variable management\n",
    "!echo Installing Cross-Env for environment variable management\n",
    "!npm install --save-dev cross-env\n"
   ]
  }
 ],
 "metadata": {
  "kernelspec": {
   "display_name": "Python 3",
   "language": "python",
   "name": "python3"
  },
  "language_info": {
   "codemirror_mode": {
    "name": "ipython",
    "version": 3
   },
   "file_extension": ".py",
   "mimetype": "text/x-python",
   "name": "python",
   "nbconvert_exporter": "python",
   "pygments_lexer": "ipython3",
   "version": "3.13.5"
  }
 },
 "nbformat": 4,
 "nbformat_minor": 5
}
