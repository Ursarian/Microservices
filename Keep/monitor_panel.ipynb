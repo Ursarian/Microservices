{
 "cells": [
  {
   "cell_type": "markdown",
   "id": "23baaf8d",
   "metadata": {},
   "source": [
    "# **I. KUBERNETES INFOS**"
   ]
  },
  {
   "cell_type": "code",
   "execution_count": 8,
   "id": "dad6afab",
   "metadata": {
    "vscode": {
     "languageId": "bat"
    }
   },
   "outputs": [
    {
     "name": "stdout",
     "output_type": "stream",
     "text": [
      "--- Pods ---\n",
      "NAME                                  READY   STATUS    RESTARTS   AGE    IP           NODE             NOMINATED NODE   READINESS GATES\n",
      "product-service-75c5fbfbb7-k5wbq      1/1     Running   0          17m    10.1.0.253   docker-desktop   <none>           <none>\n",
      "product-service-db-6b8f5c5ff5-89zbg   1/1     Running   0          18m    10.1.0.252   docker-desktop   <none>           <none>\n",
      "user-service-6575cbc976-9l8j7         1/1     Running   0          19m    10.1.0.250   docker-desktop   <none>           <none>\n",
      "user-service-db-c6d4bf8fc-rpvnb       1/1     Running   0          19m    10.1.0.251   docker-desktop   <none>           <none>\n",
      "web-interface-558f8f4b47-9tfxx        1/1     Running   0          110m   10.1.0.241   docker-desktop   <none>           <none>\n",
      "\n",
      "\n",
      "--- Services ---\n",
      "NAME                 TYPE        CLUSTER-IP       EXTERNAL-IP   PORT(S)          AGE\n",
      "kubernetes           ClusterIP   10.96.0.1        <none>        443/TCP          25h\n",
      "product-service      NodePort    10.107.177.44    <none>        3001:31001/TCP   17m\n",
      "product-service-db   ClusterIP   10.111.182.60    <none>        27017/TCP        18m\n",
      "user-service         NodePort    10.107.80.16     <none>        3000:31000/TCP   19m\n",
      "user-service-db      ClusterIP   10.105.35.49     <none>        27017/TCP        19m\n",
      "web-interface        NodePort    10.108.205.120   <none>        80:32000/TCP     110m\n",
      "\n",
      "Stopped watching.\n"
     ]
    }
   ],
   "source": [
    "# Monitor all pods and services in the cluster\n",
    "from IPython.display import clear_output\n",
    "import subprocess, time\n",
    "\n",
    "try:\n",
    "    while True:\n",
    "        clear_output(wait=True)\n",
    "        print('--- Pods ---')\n",
    "        # capture stdout/stderr, decode to text\n",
    "        pods = subprocess.run(\n",
    "            ['kubectl','get','pods','-o','wide'],\n",
    "            stdout=subprocess.PIPE,\n",
    "            stderr=subprocess.PIPE,\n",
    "            text=True\n",
    "        )\n",
    "        if pods.stdout:\n",
    "            print(pods.stdout)\n",
    "        if pods.stderr:\n",
    "            print(\"ERROR (pods):\", pods.stderr)\n",
    "\n",
    "        print('\\n--- Services ---')\n",
    "        svcs = subprocess.run(\n",
    "            ['kubectl','get','svc'],\n",
    "            stdout=subprocess.PIPE,\n",
    "            stderr=subprocess.PIPE,\n",
    "            text=True\n",
    "        )\n",
    "        if svcs.stdout:\n",
    "            print(svcs.stdout)\n",
    "        if svcs.stderr:\n",
    "            print(\"ERROR (svc):\", svcs.stderr)\n",
    "\n",
    "        time.sleep(10)\n",
    "except KeyboardInterrupt:\n",
    "    print(\"Stopped watching.\")\n",
    "\n"
   ]
  },
  {
   "cell_type": "code",
   "execution_count": 59,
   "id": "4b3f0bea",
   "metadata": {
    "vscode": {
     "languageId": "bat"
    }
   },
   "outputs": [
    {
     "name": "stdout",
     "output_type": "stream",
     "text": [
      "^C\n"
     ]
    },
    {
     "name": "stderr",
     "output_type": "stream",
     "text": [
      "Unable to use a TTY - input is not a terminal or the right kind of file\n",
      "command terminated with exit code 137\n"
     ]
    }
   ],
   "source": [
    "!kubectl exec -it deploy/monitoring-grafana -- sh"
   ]
  },
  {
   "cell_type": "markdown",
   "id": "e64d59c0",
   "metadata": {},
   "source": [
    "# **II. FRONTEND**"
   ]
  },
  {
   "cell_type": "code",
   "execution_count": 61,
   "id": "38821c49",
   "metadata": {
    "vscode": {
     "languageId": "bat"
    }
   },
   "outputs": [
    {
     "name": "stdout",
     "output_type": "stream",
     "text": [
      "deployment.apps/monitoring-grafana restarted\n"
     ]
    }
   ],
   "source": [
    "!kubectl rollout restart deployment monitoring-grafana"
   ]
  },
  {
   "cell_type": "markdown",
   "id": "ee05212b",
   "metadata": {},
   "source": [
    "## **Web Interface**"
   ]
  },
  {
   "cell_type": "code",
   "execution_count": null,
   "id": "450232f0",
   "metadata": {
    "vscode": {
     "languageId": "bat"
    }
   },
   "outputs": [
    {
     "name": "stdout",
     "output_type": "stream",
     "text": [
      "---Running tests for user-service---\n",
      "\n",
      "> user-service@1.0.0 test\n",
      "> jest\n",
      "\n"
     ]
    }
   ],
   "source": [
    "# Running tests for Web Interface Service\n",
    "service = \"web-interface\"\n",
    "!echo ---Running tests for {service}---\n",
    "!cd C:\\Services\\{service} && npm test"
   ]
  },
  {
   "cell_type": "markdown",
   "id": "5a68dbe2",
   "metadata": {},
   "source": [
    "# **III. BACKEND**"
   ]
  },
  {
   "cell_type": "markdown",
   "id": "20954bd2",
   "metadata": {},
   "source": [
    "## **1. User Service**"
   ]
  },
  {
   "cell_type": "code",
   "execution_count": 56,
   "id": "a6db751b",
   "metadata": {
    "vscode": {
     "languageId": "bat"
    }
   },
   "outputs": [
    {
     "name": "stdout",
     "output_type": "stream",
     "text": [
      "---Running tests for user-service---\n"
     ]
    },
    {
     "name": "stdout",
     "output_type": "stream",
     "text": [
      "\n",
      "> user-service@1.0.0 test\n",
      "> jest --coverage\n",
      "\n",
      "----------------|---------|----------|---------|---------|-------------------\n",
      "File            | % Stmts | % Branch | % Funcs | % Lines | Uncovered Line #s \n",
      "----------------|---------|----------|---------|---------|-------------------\n",
      "\u001b[33;1mAll files      \u001b[0m | \u001b[33;1m     52\u001b[0m | \u001b[31;1m      20\u001b[0m | \u001b[31;1m     25\u001b[0m | \u001b[33;1m     52\u001b[0m | \u001b[31;1m                 \u001b[0m \n",
      "\u001b[32;1m src           \u001b[0m | \u001b[32;1m    100\u001b[0m | \u001b[32;1m     100\u001b[0m | \u001b[32;1m    100\u001b[0m | \u001b[32;1m    100\u001b[0m | \u001b[33;1m                 \u001b[0m \n",
      "\u001b[32;1m  app.js       \u001b[0m | \u001b[32;1m    100\u001b[0m | \u001b[32;1m     100\u001b[0m | \u001b[32;1m    100\u001b[0m | \u001b[32;1m    100\u001b[0m | \u001b[33;1m                 \u001b[0m \n",
      "\u001b[31;1m src/middleware\u001b[0m | \u001b[31;1m  45.45\u001b[0m | \u001b[33;1m      50\u001b[0m | \u001b[32;1m    100\u001b[0m | \u001b[31;1m  45.45\u001b[0m | \u001b[31;1m                 \u001b[0m \n",
      "\u001b[31;1m  auth.js      \u001b[0m | \u001b[31;1m  45.45\u001b[0m | \u001b[33;1m      50\u001b[0m | \u001b[32;1m    100\u001b[0m | \u001b[31;1m  45.45\u001b[0m | \u001b[31;1m11-18            \u001b[0m \n",
      "\u001b[32;1m src/models    \u001b[0m | \u001b[32;1m    100\u001b[0m | \u001b[32;1m     100\u001b[0m | \u001b[32;1m    100\u001b[0m | \u001b[32;1m    100\u001b[0m | \u001b[33;1m                 \u001b[0m \n",
      "\u001b[32;1m  user.js      \u001b[0m | \u001b[32;1m    100\u001b[0m | \u001b[32;1m     100\u001b[0m | \u001b[32;1m    100\u001b[0m | \u001b[32;1m    100\u001b[0m | \u001b[33;1m                 \u001b[0m \n",
      "\u001b[31;1m src/routes    \u001b[0m | \u001b[31;1m  35.71\u001b[0m | \u001b[31;1m       0\u001b[0m | \u001b[31;1m      0\u001b[0m | \u001b[31;1m  35.71\u001b[0m | \u001b[31;1m                 \u001b[0m \n",
      "\u001b[31;1m  Users.js     \u001b[0m | \u001b[31;1m  35.71\u001b[0m | \u001b[31;1m       0\u001b[0m | \u001b[31;1m      0\u001b[0m | \u001b[31;1m  35.71\u001b[0m | \u001b[31;1m11-26,31-48,60   \u001b[0m \n",
      "----------------|---------|----------|---------|---------|-------------------\n"
     ]
    },
    {
     "name": "stderr",
     "output_type": "stream",
     "text": [
      "\u001b[0m\u001b[7m\u001b[1m\u001b[32m PASS \u001b[39m\u001b[22m\u001b[27m\u001b[0m \u001b[2m__tests__/\u001b[22m\u001b[1mauth.test.js\u001b[22m\n",
      "\u001b[0m\u001b[7m\u001b[1m\u001b[32m PASS \u001b[39m\u001b[22m\u001b[27m\u001b[0m \u001b[2m__tests__/\u001b[22m\u001b[1muserRoutes.test.js\u001b[22m (\u001b[0m\u001b[1m\u001b[41m7.869 s\u001b[49m\u001b[22m\u001b[0m)\n",
      "  \u001b[1m● \u001b[22mConsole\n",
      "\n",
      "    \u001b[2mconsole.log\u001b[22m\n",
      "      []\n",
      "\u001b[2m\u001b[22m\n",
      "\u001b[2m      \u001b[2mat Object.log (\u001b[22m\u001b[2m\u001b[0m\u001b[36m__tests__/userRoutes.test.js\u001b[39m\u001b[0m\u001b[2m:6:17)\u001b[22m\u001b[2m\u001b[22m\n",
      "\n",
      "\n",
      "\u001b[1mTest Suites: \u001b[22m\u001b[1m\u001b[32m2 passed\u001b[39m\u001b[22m, 2 total\n",
      "\u001b[1mTests:       \u001b[22m\u001b[1m\u001b[32m2 passed\u001b[39m\u001b[22m, 2 total\n",
      "\u001b[1mSnapshots:   \u001b[22m0 total\n",
      "\u001b[1mTime:\u001b[22m        \u001b[1m\u001b[33m9.074 s\u001b[39m\u001b[22m\n",
      "\u001b[2mRan all test suites\u001b[22m\u001b[2m.\u001b[22m\n"
     ]
    }
   ],
   "source": [
    "# Running tests for User Service\n",
    "service = \"user-service\"\n",
    "!echo ---Running tests for {service}---\n",
    "!cd C:\\Services\\{service} && npm test"
   ]
  },
  {
   "cell_type": "markdown",
   "id": "fb5f8ffa",
   "metadata": {},
   "source": [
    "## **2. Product Service**"
   ]
  },
  {
   "cell_type": "code",
   "execution_count": 55,
   "id": "4ecb4cc0",
   "metadata": {
    "vscode": {
     "languageId": "bat"
    }
   },
   "outputs": [
    {
     "name": "stdout",
     "output_type": "stream",
     "text": [
      "---Running tests for product-service---\n"
     ]
    },
    {
     "name": "stdout",
     "output_type": "stream",
     "text": [
      "\n",
      "> product-service@1.0.0 test\n",
      "> cross-env NODE_ENV=test jest --coverage\n",
      "\n",
      "  \u001b[2mconsole.log\u001b[22m\n",
      "    [dotenv@17.2.0] injecting env (2) from .env.test (tip: ⚙️  specify custom .env file path with { path: '/custom/path/.env' })\n",
      "\u001b[2m\u001b[22m\n",
      "\u001b[2m      \u001b[2mat _log (\u001b[22m\u001b[2mnode_modules/dotenv/lib/main.js\u001b[2m:136:11)\u001b[22m\u001b[2m\u001b[22m\n",
      "\n",
      "  \u001b[2mconsole.log\u001b[22m\n",
      "    Connected to MongoDB\n",
      "\u001b[2m\u001b[22m\n",
      "\u001b[2m      \u001b[2mat log (\u001b[22m\u001b[2msrc/db.js\u001b[2m:6:29)\u001b[22m\u001b[2m\u001b[22m\n",
      "\n",
      "--------------|---------|----------|---------|---------|-------------------\n",
      "File          | % Stmts | % Branch | % Funcs | % Lines | Uncovered Line #s \n",
      "--------------|---------|----------|---------|---------|-------------------\n",
      "\u001b[33;1mAll files    \u001b[0m | \u001b[33;1m  70.58\u001b[0m | \u001b[31;1m       0\u001b[0m | \u001b[33;1m     50\u001b[0m | \u001b[33;1m  72.72\u001b[0m | \u001b[31;1m                 \u001b[0m \n",
      "\u001b[32;1m src         \u001b[0m | \u001b[32;1m   92.3\u001b[0m | \u001b[32;1m     100\u001b[0m | \u001b[33;1m  66.66\u001b[0m | \u001b[32;1m   92.3\u001b[0m | \u001b[31;1m                 \u001b[0m \n",
      "\u001b[32;1m  app.js     \u001b[0m | \u001b[32;1m    100\u001b[0m | \u001b[32;1m     100\u001b[0m | \u001b[32;1m    100\u001b[0m | \u001b[32;1m    100\u001b[0m | \u001b[33;1m                 \u001b[0m \n",
      "\u001b[32;1m  db.js      \u001b[0m | \u001b[32;1m     80\u001b[0m | \u001b[32;1m     100\u001b[0m | \u001b[33;1m  66.66\u001b[0m | \u001b[32;1m     80\u001b[0m | \u001b[31;1m7                \u001b[0m \n",
      "\u001b[32;1m src/models  \u001b[0m | \u001b[32;1m    100\u001b[0m | \u001b[32;1m     100\u001b[0m | \u001b[32;1m    100\u001b[0m | \u001b[32;1m    100\u001b[0m | \u001b[33;1m                 \u001b[0m \n",
      "\u001b[32;1m  product.js \u001b[0m | \u001b[32;1m    100\u001b[0m | \u001b[32;1m     100\u001b[0m | \u001b[32;1m    100\u001b[0m | \u001b[32;1m    100\u001b[0m | \u001b[33;1m                 \u001b[0m \n",
      "\u001b[33;1m src/routes  \u001b[0m | \u001b[33;1m     50\u001b[0m | \u001b[31;1m       0\u001b[0m | \u001b[31;1m  33.33\u001b[0m | \u001b[33;1m  52.94\u001b[0m | \u001b[31;1m                 \u001b[0m \n",
      "\u001b[33;1m  Products.js\u001b[0m | \u001b[33;1m     50\u001b[0m | \u001b[31;1m       0\u001b[0m | \u001b[31;1m  33.33\u001b[0m | \u001b[33;1m  52.94\u001b[0m | \u001b[31;1m14-16,21-26      \u001b[0m \n",
      "--------------|---------|----------|---------|---------|-------------------\n"
     ]
    },
    {
     "name": "stderr",
     "output_type": "stream",
     "text": [
      "\u001b[0m\u001b[7m\u001b[1m\u001b[32m PASS \u001b[39m\u001b[22m\u001b[27m\u001b[0m \u001b[2m__tests__/\u001b[22m\u001b[1mproductRoutes.test.js\u001b[22m\n",
      "  Product API\n",
      "    \u001b[32m√\u001b[39m \u001b[2mGET /api/products/all should return products (272 ms)\u001b[22m\n",
      "\n",
      "\u001b[1mTest Suites: \u001b[22m\u001b[1m\u001b[32m1 passed\u001b[39m\u001b[22m, 1 total\n",
      "\u001b[1mTests:       \u001b[22m\u001b[1m\u001b[32m1 passed\u001b[39m\u001b[22m, 1 total\n",
      "\u001b[1mSnapshots:   \u001b[22m0 total\n",
      "\u001b[1mTime:\u001b[22m        3.218 s\n",
      "\u001b[2mRan all test suites\u001b[22m\u001b[2m.\u001b[22m\n"
     ]
    }
   ],
   "source": [
    "# Running tests for Product Service\n",
    "service = \"product-service\"\n",
    "!echo ---Running tests for {service}---\n",
    "!cd C:\\Services\\{service} && npm test"
   ]
  },
  {
   "cell_type": "markdown",
   "id": "3ed5bc07",
   "metadata": {},
   "source": [
    "# **IV. MONITORING**"
   ]
  },
  {
   "cell_type": "markdown",
   "id": "acd44afc",
   "metadata": {},
   "source": [
    "## **Portforward**"
   ]
  },
  {
   "cell_type": "code",
   "execution_count": 5,
   "id": "b9e80886",
   "metadata": {
    "vscode": {
     "languageId": "bat"
    }
   },
   "outputs": [
    {
     "name": "stderr",
     "output_type": "stream",
     "text": [
      "System error 5 has occurred.\n",
      "\n",
      "Access is denied.\n",
      "\n"
     ]
    }
   ],
   "source": [
    "# Shutdown Local MongoDB\n",
    "!net stop MongoDB"
   ]
  },
  {
   "cell_type": "code",
   "execution_count": null,
   "id": "267d3131",
   "metadata": {
    "vscode": {
     "languageId": "bat"
    }
   },
   "outputs": [
    {
     "name": "stdout",
     "output_type": "stream",
     "text": [
      "---Portforwarding MongoDB---\n"
     ]
    },
    {
     "name": "stderr",
     "output_type": "stream",
     "text": [
      "Unable to listen on port 27017: Listeners failed to create with the following errors: [unable to create listener: Error listen tcp4 127.0.0.1:27017: bind: Only one usage of each socket address (protocol/network address/port) is normally permitted. unable to create listener: Error listen tcp6 [::1]:27017: bind: Only one usage of each socket address (protocol/network address/port) is normally permitted.]\n",
      "error: unable to listen on any of the requested ports: [{27017 27017}]\n"
     ]
    },
    {
     "name": "stdout",
     "output_type": "stream",
     "text": [
      "^C\n"
     ]
    },
    {
     "name": "stderr",
     "output_type": "stream",
     "text": [
      "error: lost connection to pod\n"
     ]
    },
    {
     "name": "stdout",
     "output_type": "stream",
     "text": [
      "Forwarding from 127.0.0.1:27018 -> 27017\n",
      "Forwarding from [::1]:27018 -> 27017\n",
      "Handling connection for 27018\n",
      "Handling connection for 27018\n",
      "Handling connection for 27018\n",
      "Handling connection for 27018\n",
      "Handling connection for 27018\n",
      "Handling connection for 27018\n",
      "Handling connection for 27018\n",
      "Handling connection for 27018\n",
      "Handling connection for 27018\n",
      "Handling connection for 27018\n"
     ]
    }
   ],
   "source": [
    "# Portforwarding MongoDB for User Service\n",
    "service = \"user-service\"\n",
    "service_db = f\"{service}-db\"\n",
    "port = 27017\n",
    "!echo ---Portforwarding MongoDB for {service}---\n",
    "!kubectl port-forward svc/{service_db} {port}:27017"
   ]
  },
  {
   "cell_type": "code",
   "execution_count": 40,
   "id": "2fb2b8ce",
   "metadata": {
    "vscode": {
     "languageId": "bat"
    }
   },
   "outputs": [
    {
     "name": "stdout",
     "output_type": "stream",
     "text": [
      "---Portforwarding MongoDB for product-service---\n",
      "^C\n"
     ]
    },
    {
     "name": "stderr",
     "output_type": "stream",
     "text": [
      "error: lost connection to pod\n"
     ]
    },
    {
     "name": "stdout",
     "output_type": "stream",
     "text": [
      "Forwarding from 127.0.0.1:27018 -> 27017\n",
      "Forwarding from [::1]:27018 -> 27017\n"
     ]
    }
   ],
   "source": [
    "# Portforwarding MongoDB for Product Service\n",
    "service = \"product-service\"\n",
    "service_db = f\"{service}-db\"\n",
    "port = 27018\n",
    "!echo ---Portforwarding MongoDB for {service}---\n",
    "!kubectl port-forward svc/{service_db} {port}:27017"
   ]
  },
  {
   "cell_type": "markdown",
   "id": "fa6cfd77",
   "metadata": {},
   "source": [
    "# **V. INSTALLATION**"
   ]
  },
  {
   "cell_type": "code",
   "execution_count": null,
   "id": "c6435ead",
   "metadata": {
    "vscode": {
     "languageId": "bat"
    }
   },
   "outputs": [
    {
     "name": "stdout",
     "output_type": "stream",
     "text": [
      "---Navigating to web-interface---\n",
      "Current directory: C:\\Services\\web-interface\n",
      "Running command in web-interface\n",
      "\n",
      "up to date, audited 1349 packages in 56s\n",
      "\n",
      "270 packages are looking for funding\n",
      "  run `npm fund` for details\n",
      "\n",
      "13 vulnerabilities (2 low, 3 moderate, 7 high, 1 critical)\n",
      "\n",
      "To address issues that do not require attention, run:\n",
      "  npm audit fix\n",
      "\n",
      "To address all issues (including breaking changes), run:\n",
      "  npm audit fix --force\n",
      "\n",
      "Run `npm audit` for details.\n",
      "---Navigating to user-service---\n",
      "Current directory: C:\\Services\\user-service\n",
      "Running command in user-service\n",
      "---Navigating to product-service---\n",
      "Current directory: C:\\Services\\product-service\n",
      "Running command in product-service\n"
     ]
    }
   ],
   "source": [
    "# CMD in Services\n",
    "service = \"web-interface\"\n",
    "!echo ---Navigating to {service}---\n",
    "import os\n",
    "os.chdir(rf\"C:\\Services\\{service}\")\n",
    "print(f\"Current directory: {os.getcwd()}\")\n",
    "!echo Running command in {service}\n",
    "# Command to run in the service directory\n",
    "\n",
    "\n",
    "\n",
    "\n",
    "\n",
    "service = \"user-service\"\n",
    "!echo ---Navigating to {service}---\n",
    "import os\n",
    "os.chdir(rf\"C:\\Services\\{service}\")\n",
    "print(f\"Current directory: {os.getcwd()}\")\n",
    "!echo Running command in {service}\n",
    "# Command to run in the service directory\n",
    "\n",
    "\n",
    "\n",
    "\n",
    "\n",
    "service = \"product-service\"\n",
    "!echo ---Navigating to {service}---\n",
    "import os\n",
    "os.chdir(rf\"C:\\Services\\{service}\")\n",
    "print(f\"Current directory: {os.getcwd()}\")\n",
    "!echo Running command in {service}\n",
    "# Command to run in the service directory\n",
    "\n",
    "\n",
    "\n",
    "\n"
   ]
  },
  {
   "cell_type": "raw",
   "id": "7f7ccfe0",
   "metadata": {
    "vscode": {
     "languageId": "raw"
    }
   },
   "source": [
    "## Command Storage\n",
    "# Installing Jest and Supertest for testing\n",
    "!echo Installing Jest and Supertest for testing\n",
    "!npm install --save-dev jest supertest\n",
    "\n",
    "# Installing Cross-Env for environment variable management\n",
    "!echo Installing Cross-Env for environment variable management\n",
    "!npm install --save-dev cross-env\n"
   ]
  }
 ],
 "metadata": {
  "kernelspec": {
   "display_name": "Python 3",
   "language": "python",
   "name": "python3"
  },
  "language_info": {
   "codemirror_mode": {
    "name": "ipython",
    "version": 3
   },
   "file_extension": ".py",
   "mimetype": "text/x-python",
   "name": "python",
   "nbconvert_exporter": "python",
   "pygments_lexer": "ipython3",
   "version": "3.13.5"
  }
 },
 "nbformat": 4,
 "nbformat_minor": 5
}
