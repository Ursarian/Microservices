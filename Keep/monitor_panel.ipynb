{
 "cells": [
  {
   "cell_type": "markdown",
   "id": "fdda6239",
   "metadata": {},
   "source": [
    "# **KUBERNETES INFOS**"
   ]
  },
  {
   "cell_type": "code",
   "execution_count": 8,
   "id": "dad6afab",
   "metadata": {
    "vscode": {
     "languageId": "bat"
    }
   },
   "outputs": [
    {
     "name": "stdout",
     "output_type": "stream",
     "text": [
      "--- Pods ---\n",
      "NAME                                  READY   STATUS    RESTARTS   AGE    IP           NODE             NOMINATED NODE   READINESS GATES\n",
      "product-service-75c5fbfbb7-k5wbq      1/1     Running   0          17m    10.1.0.253   docker-desktop   <none>           <none>\n",
      "product-service-db-6b8f5c5ff5-89zbg   1/1     Running   0          18m    10.1.0.252   docker-desktop   <none>           <none>\n",
      "user-service-6575cbc976-9l8j7         1/1     Running   0          19m    10.1.0.250   docker-desktop   <none>           <none>\n",
      "user-service-db-c6d4bf8fc-rpvnb       1/1     Running   0          19m    10.1.0.251   docker-desktop   <none>           <none>\n",
      "web-interface-558f8f4b47-9tfxx        1/1     Running   0          110m   10.1.0.241   docker-desktop   <none>           <none>\n",
      "\n",
      "\n",
      "--- Services ---\n",
      "NAME                 TYPE        CLUSTER-IP       EXTERNAL-IP   PORT(S)          AGE\n",
      "kubernetes           ClusterIP   10.96.0.1        <none>        443/TCP          25h\n",
      "product-service      NodePort    10.107.177.44    <none>        3001:31001/TCP   17m\n",
      "product-service-db   ClusterIP   10.111.182.60    <none>        27017/TCP        18m\n",
      "user-service         NodePort    10.107.80.16     <none>        3000:31000/TCP   19m\n",
      "user-service-db      ClusterIP   10.105.35.49     <none>        27017/TCP        19m\n",
      "web-interface        NodePort    10.108.205.120   <none>        80:32000/TCP     110m\n",
      "\n",
      "Stopped watching.\n"
     ]
    }
   ],
   "source": [
    "# Monitor all pods and services in the cluster\n",
    "from IPython.display import clear_output\n",
    "import subprocess, time\n",
    "\n",
    "try:\n",
    "    while True:\n",
    "        clear_output(wait=True)\n",
    "        print('--- Pods ---')\n",
    "        # capture stdout/stderr, decode to text\n",
    "        pods = subprocess.run(\n",
    "            ['kubectl','get','pods','-o','wide'],\n",
    "            stdout=subprocess.PIPE,\n",
    "            stderr=subprocess.PIPE,\n",
    "            text=True\n",
    "        )\n",
    "        if pods.stdout:\n",
    "            print(pods.stdout)\n",
    "        if pods.stderr:\n",
    "            print(\"ERROR (pods):\", pods.stderr)\n",
    "\n",
    "        print('\\n--- Services ---')\n",
    "        svcs = subprocess.run(\n",
    "            ['kubectl','get','svc'],\n",
    "            stdout=subprocess.PIPE,\n",
    "            stderr=subprocess.PIPE,\n",
    "            text=True\n",
    "        )\n",
    "        if svcs.stdout:\n",
    "            print(svcs.stdout)\n",
    "        if svcs.stderr:\n",
    "            print(\"ERROR (svc):\", svcs.stderr)\n",
    "\n",
    "        time.sleep(10)\n",
    "except KeyboardInterrupt:\n",
    "    print(\"Stopped watching.\")\n",
    "\n"
   ]
  },
  {
   "cell_type": "markdown",
   "id": "acd44afc",
   "metadata": {},
   "source": [
    "# **Ports**"
   ]
  },
  {
   "cell_type": "code",
   "execution_count": 5,
   "id": "b9e80886",
   "metadata": {
    "vscode": {
     "languageId": "bat"
    }
   },
   "outputs": [
    {
     "name": "stderr",
     "output_type": "stream",
     "text": [
      "System error 5 has occurred.\n",
      "\n",
      "Access is denied.\n",
      "\n"
     ]
    }
   ],
   "source": [
    "# Shutdown Local MongoDB\n",
    "!net stop MongoDB"
   ]
  },
  {
   "cell_type": "code",
   "execution_count": 1,
   "id": "267d3131",
   "metadata": {
    "vscode": {
     "languageId": "bat"
    }
   },
   "outputs": [
    {
     "name": "stdout",
     "output_type": "stream",
     "text": [
      "---Portforwarding MongoDB---\n"
     ]
    },
    {
     "name": "stderr",
     "output_type": "stream",
     "text": [
      "Unable to listen on port 27017: Listeners failed to create with the following errors: [unable to create listener: Error listen tcp4 127.0.0.1:27017: bind: Only one usage of each socket address (protocol/network address/port) is normally permitted. unable to create listener: Error listen tcp6 [::1]:27017: bind: Only one usage of each socket address (protocol/network address/port) is normally permitted.]\n",
      "error: unable to listen on any of the requested ports: [{27017 27017}]\n"
     ]
    },
    {
     "name": "stdout",
     "output_type": "stream",
     "text": [
      "^C\n"
     ]
    },
    {
     "name": "stderr",
     "output_type": "stream",
     "text": [
      "error: lost connection to pod\n"
     ]
    },
    {
     "name": "stdout",
     "output_type": "stream",
     "text": [
      "Forwarding from 127.0.0.1:27018 -> 27017\n",
      "Forwarding from [::1]:27018 -> 27017\n",
      "Handling connection for 27018\n",
      "Handling connection for 27018\n",
      "Handling connection for 27018\n",
      "Handling connection for 27018\n",
      "Handling connection for 27018\n",
      "Handling connection for 27018\n",
      "Handling connection for 27018\n",
      "Handling connection for 27018\n",
      "Handling connection for 27018\n",
      "Handling connection for 27018\n"
     ]
    }
   ],
   "source": [
    "# Portforwarding MongoDB\n",
    "!echo ---Portforwarding MongoDB---\n",
    "!kubectl port-forward svc/user-service-db 27017:27017\n",
    "!kubectl port-forward svc/product-service-db 27018:27017"
   ]
  }
 ],
 "metadata": {
  "kernelspec": {
   "display_name": "Python 3",
   "language": "python",
   "name": "python3"
  },
  "language_info": {
   "codemirror_mode": {
    "name": "ipython",
    "version": 3
   },
   "file_extension": ".py",
   "mimetype": "text/x-python",
   "name": "python",
   "nbconvert_exporter": "python",
   "pygments_lexer": "ipython3",
   "version": "3.13.5"
  }
 },
 "nbformat": 4,
 "nbformat_minor": 5
}
